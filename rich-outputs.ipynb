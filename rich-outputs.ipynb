{
  "cells": [
    {
      "cell_type": "code",
      "source": [
        "%pip install rich\n",
        "import IPython\n",
        "import ipywidgets as widgets\n",
        "import time"
      ],
      "outputs": [
        {
          "output_type": "stream",
          "name": "stdout",
          "text": [
            "Requirement already satisfied: rich in ./.tox/cast/lib/python3.8/site-packages (9.13.0)\n",
            "Requirement already satisfied: typing-extensions<4.0.0,>=3.7.4 in ./.tox/cast/lib/python3.8/site-packages (from rich) (3.7.4.3)\n",
            "Requirement already satisfied: colorama<0.5.0,>=0.4.0 in ./.tox/cast/lib/python3.8/site-packages (from rich) (0.4.4)\n",
            "Requirement already satisfied: commonmark<0.10.0,>=0.9.0 in ./.tox/cast/lib/python3.8/site-packages (from rich) (0.9.1)\n",
            "Requirement already satisfied: pygments<3.0.0,>=2.6.0 in ./.tox/cast/lib/python3.8/site-packages (from rich) (2.7.4)\n",
            "Note: you may need to restart the kernel to use updated packages.\n"
          ]
        }
      ],
      "execution_count": 1,
      "metadata": {
        "execution": {
          "iopub.status.busy": "2021-03-06T22:00:31.986Z",
          "iopub.execute_input": "2021-03-06T22:00:32.123Z",
          "iopub.status.idle": "2021-03-06T22:00:33.204Z",
          "shell.execute_reply": "2021-03-06T22:00:33.350Z"
        }
      },
      "id": "mobile-distributor"
    },
    {
      "cell_type": "code",
      "source": [
        "from rich.console import Console\n",
        "from rich.text import Text\n",
        "\n",
        "console = Console()\n",
        "text = Text(\"Hello, World!\")\n",
        "console.print(text)"
      ],
      "outputs": [
        {
          "output_type": "display_data",
          "data": {
            "text/plain": "<rich.jupyter.JupyterRenderable at 0x7f97dd5414f0>",
            "text/html": "<pre style=\"white-space:pre;overflow-x:auto;line-height:normal;font-family:Menlo,'DejaVu Sans Mono',consolas,'Courier New',monospace\">Hello, World!\n</pre>\n"
          },
          "metadata": {}
        }
      ],
      "execution_count": 8,
      "metadata": {
        "collapsed": true,
        "jupyter": {
          "source_hidden": false,
          "outputs_hidden": false
        },
        "nteract": {
          "transient": {
            "deleting": false
          }
        },
        "execution": {
          "iopub.status.busy": "2021-03-06T22:03:58.515Z",
          "iopub.execute_input": "2021-03-06T22:03:58.641Z",
          "iopub.status.idle": "2021-03-06T22:03:59.020Z",
          "shell.execute_reply": "2021-03-06T22:03:58.841Z"
        }
      },
      "id": "37794b64-cf53-42c1-8761-79fcf5628a56"
    },
    {
      "cell_type": "code",
      "source": [
        "out = widgets.Output()\n",
        "out"
      ],
      "outputs": [
        {
          "output_type": "display_data",
          "data": {
            "text/plain": "Output()",
            "application/vnd.jupyter.widget-view+json": {
              "version_major": 2,
              "version_minor": 0,
              "model_id": "96a7d4f777f04d0292d7af022bcd9ddb"
            }
          },
          "metadata": {}
        }
      ],
      "execution_count": 11,
      "metadata": {
        "collapsed": true,
        "jupyter": {
          "source_hidden": false,
          "outputs_hidden": false
        },
        "nteract": {
          "transient": {
            "deleting": false
          }
        },
        "execution": {
          "iopub.status.busy": "2021-03-06T22:05:31.933Z",
          "iopub.execute_input": "2021-03-06T22:05:32.055Z",
          "shell.execute_reply": "2021-03-06T22:05:32.294Z",
          "iopub.status.idle": "2021-03-06T22:05:32.557Z"
        }
      },
      "id": "22c0b31e-e4c6-4f00-9a43-4e1ea2c78c1d"
    },
    {
      "cell_type": "code",
      "source": [
        "from rich.progress import Progress\n",
        "progress = Progress()\n",
        "\n",
        "text = Text(\"Hello, World!\")\n",
        "with out:\n",
        "    display(text)"
      ],
      "outputs": [],
      "execution_count": 12,
      "metadata": {
        "collapsed": true,
        "jupyter": {
          "source_hidden": false,
          "outputs_hidden": false
        },
        "nteract": {
          "transient": {
            "deleting": false
          }
        },
        "execution": {
          "iopub.status.busy": "2021-03-06T22:05:33.845Z",
          "iopub.execute_input": "2021-03-06T22:05:33.966Z",
          "iopub.status.idle": "2021-03-06T22:05:34.428Z",
          "shell.execute_reply": "2021-03-06T22:05:34.248Z"
        }
      },
      "id": "f6c2926b-7f72-4aa0-bdd3-d8820c65a575"
    }
  ],
  "metadata": {
    "language_info": {
      "name": "python",
      "version": "3.8.0",
      "mimetype": "text/x-python",
      "codemirror_mode": {
        "name": "ipython",
        "version": 3
      },
      "pygments_lexer": "ipython3",
      "nbconvert_exporter": "python",
      "file_extension": ".py"
    },
    "kernelspec": {
      "name": "python3",
      "language": "python",
      "display_name": "Python 3"
    },
    "kernel_info": {
      "name": "python3"
    },
    "nteract": {
      "version": "noteable@1.4.1"
    }
  },
  "nbformat": 4,
  "nbformat_minor": 5
}