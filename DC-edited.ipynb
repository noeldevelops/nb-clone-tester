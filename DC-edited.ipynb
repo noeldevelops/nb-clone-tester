{
  "cells": [
    {
      "cell_type": "markdown",
      "source": [
        "# Answer the basic questions posed"
      ],
      "metadata": {
        "noteable": {
          "cell_type": "markdown"
        }
      },
      "id": "8eb0d7ae-7e38-4068-81b3-3e9f5740a342"
    },
    {
      "cell_type": "code",
      "source": [
        "# Fix the darn connection -- driver isn't baked into the kernel. Sigh.\n",
        "%pip install psycopg2-binary\n",
        "from noteable_magics.datasources import bootstrap_datasources\n",
        "bootstrap_datasources()"
      ],
      "outputs": [
        {
          "output_type": "stream",
          "name": "stdout",
          "text": [
            "Requirement already satisfied: psycopg2-binary in /opt/conda/lib/python3.9/site-packages (2.9.3)\r\n"
          ]
        },
        {
          "output_type": "stream",
          "name": "stdout",
          "text": [
            "Note: you may need to restart the kernel to use updated packages.\n"
          ]
        }
      ],
      "execution_count": null,
      "metadata": {
        "noteable": {},
        "jupyter": {
          "source_hidden": true,
          "outputs_hidden": true
        }
      },
      "id": "21854c9e"
    },
    {
      "cell_type": "code",
      "source": [
        "%%sql @2b38d1248d17413982b2e98f93c4c20e\n",
        "select donor,\n",
        "    sum(amount) as total_donations\n",
        "from donations\n",
        "group by 1\n",
        "order by 2 desc\n",
        "limit 15"
      ],
      "outputs": [
        {
          "output_type": "execute_result",
          "execution_count": 1,
          "data": {
            "application/vnd.dataresource+json": {
              "schema": {
                "fields": [
                  {
                    "name": "index",
                    "type": "integer"
                  },
                  {
                    "name": "donor",
                    "type": "string"
                  },
                  {
                    "name": "total_donations",
                    "type": "number"
                  }
                ],
                "primaryKey": [
                  "index"
                ],
                "pandas_version": "1.4.0"
              },
              "data": [
                {
                  "index": 0,
                  "donor": "California Real Estate PAC (CREPAC)",
                  "total_donations": 3000
                },
                {
                  "index": 1,
                  "donor": "Janelle McGuire",
                  "total_donations": 2700
                },
                {
                  "index": 2,
                  "donor": "Elizabeth Conlan",
                  "total_donations": 2145
                },
                {
                  "index": 3,
                  "donor": "Karl Rice",
                  "total_donations": 1700
                },
                {
                  "index": 4,
                  "donor": "Pipe Trades District Council PAC #36",
                  "total_donations": 1700
                },
                {
                  "index": 5,
                  "donor": "Alicia Kuhl",
                  "total_donations": 1678
                },
                {
                  "index": 6,
                  "donor": "Democratic Womens Club of Santa Cruz County",
                  "total_donations": 1650
                },
                {
                  "index": 7,
                  "donor": "Reggie Meisler",
                  "total_donations": 1600
                },
                {
                  "index": 8,
                  "donor": "IBEW Local 234 PAC",
                  "total_donations": 1468
                },
                {
                  "index": 9,
                  "donor": "Robert Morgan",
                  "total_donations": 1460
                },
                {
                  "index": 10,
                  "donor": "Mark Mesiti-Miller",
                  "total_donations": 1358
                },
                {
                  "index": 11,
                  "donor": "Northern California Carpenters Regional Council Small Contributor Committee",
                  "total_donations": 1300
                },
                {
                  "index": 12,
                  "donor": "Manuel Prado",
                  "total_donations": 1200
                },
                {
                  "index": 13,
                  "donor": "Peoples Democratic Club of Santa Cruz",
                  "total_donations": 1200
                },
                {
                  "index": 14,
                  "donor": "Dana Morgan",
                  "total_donations": 1200
                }
              ]
            }
          },
          "metadata": {}
        }
      ],
      "execution_count": null,
      "metadata": {
        "noteable": {
          "cell_type": "sql",
          "db_connection": "@2b38d1248d17413982b2e98f93c4c20e"
        },
        "dx": {
          "dashboard": {
            "multiViews": []
          },
          "decoration": {},
          "fieldMetadata": {
            "donor": {
              "columnPosition": 3
            },
            "index": {
              "columnPosition": 1
            },
            "total_donations": {
              "columnPosition": 2
            }
          },
          "mode": "exploration",
          "sampling": {
            "sampleSeed": 898926027204,
            "sampleSize": 10000,
            "sampleStrategy": "none"
          },
          "simpleTable": false,
          "styles": {
            "colors": [
              "#000",
              "white"
            ]
          },
          "updated": 1675973201646,
          "views": [
            {
              "annotationRules": [],
              "bookmark": true,
              "chart": {
                "adjacencyList": "donor",
                "areaType": "hexbin",
                "barGrouping": "Clustered",
                "barProjection": "horizontal",
                "barSubcategory": "none",
                "baseLayer": "world",
                "baseLayerFill": "#FFFFFF",
                "baseLayerStroke": "#000000",
                "bgColor": "none",
                "boundingSettings": {
                  "index": {
                    "lowerBoundingMetric": "none",
                    "upperBoundingMetric": "none"
                  },
                  "total_donations": {
                    "lowerBoundingMetric": "none",
                    "upperBoundingMetric": "none"
                  }
                },
                "boundingType": "absolute",
                "boxplotOutliers": false,
                "candleClose": "total_donations",
                "candleHigh": "total_donations",
                "candleLow": "total_donations",
                "candleOpen": "total_donations",
                "candlestickMode": false,
                "combinationMode": "AVG",
                "deselectedKeysHash": {},
                "dim1": "donor",
                "dim2": "donor",
                "dim3": "none",
                "edgeMode": "edge list",
                "facetMetrics": [],
                "filteredDataOnly": "All Data",
                "formulaDisplay": "none",
                "funnelData": "metric",
                "funnelMetricOrder": [
                  "index",
                  "total_donations"
                ],
                "funnelMode": "bar",
                "hierarchyType": "dendrogram",
                "layerSettings": [],
                "lineSmoothing": "none",
                "lineType": "line",
                "mapMode": "choro",
                "mapZoom": "basemap",
                "marginalGraphics": "none",
                "metric1": "total_donations",
                "metric2": "total_donations",
                "metric3": "none",
                "metric4": "none",
                "networkLabel": "none",
                "networkType": "force",
                "parCoordsColor": "none",
                "pieLabelContents": "percent",
                "pieLabelType": "center",
                "pieceType": "bar",
                "pointBarMode": "bar",
                "primaryKey": [],
                "proBarMode": "Combined",
                "scatterplotColor": "none",
                "secondBarMetric": "none",
                "selectedDimensions": [
                  "index"
                ],
                "selectedMetrics": [],
                "showContours": false,
                "showTotal": false,
                "sortColumnsBy": "desc-val",
                "sparkchart": "none",
                "splitLinesBy": "none",
                "splomMode": "correlation",
                "summaryBins": 30,
                "summaryType": "scatter",
                "surveyResponses": {
                  "negative": [],
                  "neutral": [],
                  "positive": []
                },
                "timeseriesSort": "none",
                "tokenMetric": "total_donations",
                "trendLine": "none",
                "violinIQR": false
              },
              "chartMode": "bar",
              "confoRules": [
                {
                  "colorOpts": {
                    "color": null,
                    "cond": null,
                    "gradient": null,
                    "max": 3000,
                    "min": 1200,
                    "mode": "threshold",
                    "thresholdColors": "blues5",
                    "thresholdValues": [
                      1560,
                      1920,
                      2280,
                      2640
                    ]
                  },
                  "columnType": "Metric",
                  "fieldName": "total_donations",
                  "id": "544d9719-5d7a-488a-96a3-6f27c2832eb3"
                },
                {
                  "colorOpts": {
                    "color": null,
                    "cond": null,
                    "gradient": "Viridis",
                    "max": 3000,
                    "min": 1200,
                    "mode": "gradient",
                    "scale": "Linear",
                    "thresholdColors": "blues5",
                    "thresholdValues": [
                      1560,
                      1920,
                      2280,
                      2640
                    ]
                  },
                  "columnType": "Metric",
                  "fieldName": "total_donations",
                  "id": "fb80cecb-d5dc-4a65-b061-fe3c41ea42e3",
                  "index": 0,
                  "name": ""
                },
                {
                  "colorOpts": {
                    "color": null,
                    "colorsHash": {
                      "Alicia Kuhl": "#27552d",
                      "California Real Estate PAC (CREPAC)": "#005066",
                      "Dana Morgan": "#f5e0b7",
                      "Democratic Womens Club of Santa Cruz County": "#e46538",
                      "Elizabeth Conlan": "#b6a756",
                      "IBEW Local 234 PAC": "#e5e36e",
                      "Janelle McGuire": "#b3331d",
                      "Karl Rice": "#122753",
                      "Manuel Prado": "#f62150",
                      "Mark Mesiti-Miller": "#159eb7",
                      "Northern California Carpenters Regional Council Small Contributor Committee": "#827abf",
                      "Peoples Democratic Club of Santa Cruz": "#6f89b6",
                      "Pipe Trades District Council PAC #36": "#b86117",
                      "Reggie Meisler": "#96bb77",
                      "Robert Morgan": "#e6a19f"
                    },
                    "cond": null,
                    "gradient": "Viridis",
                    "max": "Dana Morgan",
                    "min": "California Real Estate PAC (CREPAC)",
                    "mode": "categorical",
                    "scale": "Linear",
                    "thresholdColors": "blues5"
                  },
                  "columnType": "Dimension",
                  "fieldName": "donor",
                  "id": "4916f250-05a5-48a6-95bf-05f3dc57e22a",
                  "index": 0,
                  "name": ""
                },
                {
                  "columnType": "Metric",
                  "fieldName": "total_donations",
                  "colorOpts": {
                    "min": 1700,
                    "max": 3000,
                    "mode": "functional",
                    "color": "#f71305",
                    "cond": "=",
                    "gradient": null,
                    "thresholdColors": null,
                    "thresholdValues": null
                  },
                  "id": "126f0d4f-29ad-4890-9e3e-4b171c392659"
                },
                {
                  "columnType": "Dimension",
                  "fieldName": "donor",
                  "colorOpts": {
                    "min": "California Real Estate PAC (CREPAC)",
                    "max": "Robert Morgan",
                    "colorsHash": {
                      "Alicia Kuhl": "#1F77B4",
                      "California Real Estate PAC (CREPAC)": "#FF7F0E",
                      "Dana Morgan": "#2CA02C",
                      "Democratic Womens Club of Santa Cruz County": "#D62728",
                      "Elizabeth Conlan": "#9467BD",
                      "IBEW Local 234 PAC": "#8C564B",
                      "Janelle McGuire": "#E377C2",
                      "Karl Rice": "#7F7F7F",
                      "Manuel Prado": "#BCBD22",
                      "Mark Mesiti-Miller": "#17BECF"
                    },
                    "mode": "functional",
                    "color": "#6aff74",
                    "cond": "=",
                    "gradient": null,
                    "thresholdColors": null,
                    "thresholdValues": null
                  },
                  "id": "dd820c18-e609-423e-b0aa-da2050d05f33"
                }
              ],
              "decoration": {
                "footer": "",
                "subtitle": "",
                "title": "Who donated the most?"
              },
              "filterSettings": {
                "SHOW_FILTER_PANEL": false,
                "filters": []
              },
              "id": "first-view",
              "isComment": false,
              "isDefault": true,
              "isTransitory": false,
              "size": {
                "height": 469,
                "width": 469
              },
              "type": "public",
              "userID": ""
            }
          ]
        },
        "jupyter": {
          "source_hidden": false,
          "outputs_hidden": false
        }
      },
      "id": "d14c2aa1-c4af-4dde-b468-33e019d0d000"
    },
    {
      "cell_type": "markdown",
      "source": [
        "# Individual vs Corp or PAC donations by Race"
      ],
      "metadata": {
        "noteable": {
          "cell_type": "markdown"
        }
      },
      "id": "150c26a2-0b76-433e-90a5-8e3064908d0a"
    },
    {
      "cell_type": "code",
      "source": [
        "%%sql @2b38d1248d17413982b2e98f93c4c20e\n",
        "select\n",
        "    race,\n",
        "    case\n",
        "        when donor_is_individual_person_or_family then 'Individual'\n",
        "        else 'Corp/PAC'\n",
        "    end as individual_donor,\n",
        "    sum(amount) as total_donations\n",
        "from donations\n",
        "group by 1, 2\n",
        "order by 1, 3 desc"
      ],
      "outputs": [
        {
          "output_type": "execute_result",
          "execution_count": 2,
          "data": {
            "application/vnd.dataresource+json": {
              "schema": {
                "fields": [
                  {
                    "name": "index",
                    "type": "integer"
                  },
                  {
                    "name": "race",
                    "type": "string"
                  },
                  {
                    "name": "individual_donor",
                    "type": "string"
                  },
                  {
                    "name": "total_donations",
                    "type": "number"
                  }
                ],
                "primaryKey": [
                  "index"
                ],
                "pandas_version": "1.4.0"
              },
              "data": [
                {
                  "index": 0,
                  "race": "Capitola City Council",
                  "individual_donor": "Individual",
                  "total_donations": 6749
                },
                {
                  "index": 1,
                  "race": "Capitola City Council",
                  "individual_donor": "Corp/PAC",
                  "total_donations": 500
                },
                {
                  "index": 2,
                  "race": "County supervisor District 1",
                  "individual_donor": "Individual",
                  "total_donations": 122363.52
                },
                {
                  "index": 3,
                  "race": "County supervisor District 1",
                  "individual_donor": "Corp/PAC",
                  "total_donations": 4184
                },
                {
                  "index": 4,
                  "race": "Santa Cruz City Council",
                  "individual_donor": "Individual",
                  "total_donations": 141398.0099999999
                },
                {
                  "index": 5,
                  "race": "Santa Cruz City Council",
                  "individual_donor": "Corp/PAC",
                  "total_donations": 13177.57
                },
                {
                  "index": 6,
                  "race": "Scotts Valley City Council",
                  "individual_donor": "Individual",
                  "total_donations": 5700
                },
                {
                  "index": 7,
                  "race": "Scotts Valley City Council",
                  "individual_donor": "Corp/PAC",
                  "total_donations": 700
                },
                {
                  "index": 8,
                  "race": "Watsonville City Council",
                  "individual_donor": "Individual",
                  "total_donations": 18000
                },
                {
                  "index": 9,
                  "race": "Watsonville City Council",
                  "individual_donor": "Corp/PAC",
                  "total_donations": 3568
                }
              ]
            }
          },
          "metadata": {}
        }
      ],
      "execution_count": null,
      "metadata": {
        "noteable": {
          "cell_type": "sql",
          "db_connection": "@2b38d1248d17413982b2e98f93c4c20e"
        },
        "dx": {
          "annotationsRulesByID": {
            "first-view": [],
            "transitory": {
              "first-view": []
            }
          },
          "dashboard": {
            "multiViews": []
          },
          "decoration": {},
          "fieldMetadata": {
            "index": {
              "columnPosition": 1
            },
            "individual_donor": {
              "columnPosition": 3
            },
            "race": {
              "columnPosition": 4
            },
            "sum": {
              "columnPosition": 2
            },
            "total_donations": {
              "columnPosition": 2
            }
          },
          "mode": "exploration",
          "sampling": {
            "sampleSeed": 533982377786,
            "sampleSize": 10000,
            "sampleStrategy": "none"
          },
          "simpleTable": false,
          "styles": {
            "colors": []
          },
          "updated": 1657145087559,
          "views": [
            {
              "annotationRules": [],
              "chart": {
                "adjacencyList": "race",
                "areaType": "hexbin",
                "barGrouping": "Clustered",
                "barProjection": "vertical",
                "barSubcategory": "none",
                "baseLayer": "world",
                "baseLayerFill": "#FFFFFF",
                "baseLayerStroke": "#000000",
                "bgColor": "none",
                "boundingSettings": {
                  "index": {
                    "lowerBoundingMetric": "none",
                    "upperBoundingMetric": "none"
                  },
                  "sum": {
                    "lowerBoundingMetric": "none",
                    "upperBoundingMetric": "none"
                  }
                },
                "boundingType": "absolute",
                "boxplotOutliers": false,
                "candleClose": "sum",
                "candleHigh": "sum",
                "candleLow": "sum",
                "candleOpen": "sum",
                "candlestickMode": false,
                "combinationMode": "AVG",
                "deselectedKeysHash": {},
                "dim1": "index",
                "dim2": "race",
                "dim3": "none",
                "edgeMode": "edge list",
                "facetMetrics": [],
                "filteredDataOnly": "All Data",
                "funnelData": "metric",
                "funnelMetricOrder": [
                  "index",
                  "sum"
                ],
                "funnelMode": "bar",
                "hierarchyType": "dendrogram",
                "layerSettings": [],
                "lineSmoothing": "none",
                "lineType": "line",
                "mapMode": "choro",
                "mapZoom": "basemap",
                "marginalGraphics": "none",
                "metric1": "index",
                "metric2": "sum",
                "metric3": "none",
                "metric4": "none",
                "networkLabel": "none",
                "networkType": "force",
                "parCoordsColor": "none",
                "pieceType": "bar",
                "pointBarMode": "bar",
                "primaryKey": [],
                "proBarMode": "Combined",
                "scatterplotColor": "none",
                "secondBarMetric": "none",
                "selectedDimensions": [
                  "individual_donor"
                ],
                "selectedMetrics": [],
                "showContours": false,
                "showTotal": true,
                "sortColumnsBy": "asc-val",
                "sparkchart": "none",
                "splitLinesBy": "none",
                "splomMode": "correlation",
                "summaryBins": 30,
                "summaryType": "violin",
                "surveyResponses": {
                  "negative": [],
                  "neutral": [],
                  "positive": []
                },
                "timeseriesSort": "none",
                "tokenMetric": "sum",
                "trendLine": "none",
                "violinIQR": false
              },
              "chartMode": "grid",
              "decoration": {
                "footer": "",
                "subtitle": "",
                "title": "Table"
              },
              "filterSettings": {
                "SHOW_FILTER_PANEL": true,
                "filters": []
              },
              "id": "first-view",
              "isDefault": true,
              "type": "public",
              "userID": ""
            },
            {
              "annotationRules": [],
              "chart": {
                "adjacencyList": "race",
                "areaType": "hexbin",
                "barGrouping": "Clustered",
                "barProjection": "vertical",
                "barSubcategory": "none",
                "baseLayer": "world",
                "baseLayerFill": "#FFFFFF",
                "baseLayerStroke": "#000000",
                "bgColor": "none",
                "boundingSettings": {
                  "index": {
                    "lowerBoundingMetric": "none",
                    "upperBoundingMetric": "none"
                  },
                  "sum": {
                    "lowerBoundingMetric": "none",
                    "upperBoundingMetric": "none"
                  }
                },
                "boundingType": "absolute",
                "boxplotOutliers": false,
                "candleClose": "sum",
                "candleHigh": "sum",
                "candleLow": "sum",
                "candleOpen": "sum",
                "candlestickMode": false,
                "combinationMode": "AVG",
                "deselectedKeysHash": {},
                "dim1": "individual_donor",
                "dim2": "race",
                "dim3": "none",
                "edgeMode": "edge list",
                "facetMetrics": [],
                "facets": [
                  {
                    "filtering": {
                      "filter": {
                        "column": "race",
                        "predicate": "in",
                        "type": "DIMENSION_FILTER",
                        "value": [
                          "Capitola City Council"
                        ]
                      }
                    },
                    "name": "race",
                    "title": "race: Capitola City Council"
                  },
                  {
                    "filtering": {
                      "filter": {
                        "column": "race",
                        "predicate": "in",
                        "type": "DIMENSION_FILTER",
                        "value": [
                          "County supervisor District 1"
                        ]
                      }
                    },
                    "name": "race",
                    "title": "race: County supervisor District 1"
                  },
                  {
                    "filtering": {
                      "filter": {
                        "column": "race",
                        "predicate": "in",
                        "type": "DIMENSION_FILTER",
                        "value": [
                          "Santa Cruz City Council"
                        ]
                      }
                    },
                    "name": "race",
                    "title": "race: Santa Cruz City Council"
                  },
                  {
                    "filtering": {
                      "filter": {
                        "column": "race",
                        "predicate": "in",
                        "type": "DIMENSION_FILTER",
                        "value": [
                          "Scotts Valley City Council"
                        ]
                      }
                    },
                    "name": "race",
                    "title": "race: Scotts Valley City Council"
                  },
                  {
                    "filtering": {
                      "filter": {
                        "column": "race",
                        "predicate": "in",
                        "type": "DIMENSION_FILTER",
                        "value": [
                          "Watsonville City Council"
                        ]
                      }
                    },
                    "name": "race",
                    "title": "race: Watsonville City Council"
                  }
                ],
                "filteredDataOnly": "All Data",
                "funnelData": "metric",
                "funnelMetricOrder": [
                  "index",
                  "sum"
                ],
                "funnelMode": "bar",
                "hierarchyType": "dendrogram",
                "layerSettings": [],
                "lineSmoothing": "none",
                "lineType": "line",
                "mapMode": "choro",
                "mapZoom": "basemap",
                "marginalGraphics": "none",
                "metric1": "total_donations",
                "metric2": "sum",
                "metric3": "none",
                "metric4": "none",
                "networkLabel": "none",
                "networkType": "force",
                "parCoordsColor": "none",
                "pieceType": "bar",
                "pointBarMode": "bar",
                "primaryKey": [],
                "proBarMode": "Combined",
                "scatterplotColor": "none",
                "secondBarMetric": "none",
                "selectedDimensions": [
                  "individual_donor"
                ],
                "selectedMetrics": [],
                "showContours": false,
                "showTotal": true,
                "sortColumnsBy": "desc-val",
                "sparkchart": "none",
                "splitLinesBy": "none",
                "splomMode": "correlation",
                "summaryBins": 30,
                "summaryType": "scatter",
                "surveyResponses": {
                  "negative": [],
                  "neutral": [],
                  "positive": []
                },
                "timeseriesSort": "none",
                "tokenMetric": "sum",
                "trendLine": "none",
                "violinIQR": false
              },
              "chartMode": "bar",
              "confoRules": [
                {
                  "colorOpts": {
                    "color": null,
                    "colorsHash": null,
                    "cond": null,
                    "gradient": "Turbo",
                    "max": 141398.0099999999,
                    "min": 500,
                    "mode": "gradient",
                    "scale": "Linear",
                    "thresholdColors": null,
                    "thresholdValues": null
                  },
                  "columnType": "Metric",
                  "fieldName": "total_donations",
                  "id": "38299fbd-7935-4315-a451-0d05225e18c1",
                  "index": 0,
                  "name": ""
                }
              ],
              "decoration": {
                "footer": "",
                "subtitle": "",
                "title": "Table"
              },
              "filterSettings": {
                "SHOW_FILTER_PANEL": false,
                "filters": []
              },
              "id": "first-view",
              "isComment": false,
              "isDefault": true,
              "isTransitory": true,
              "type": "public",
              "userID": ""
            }
          ]
        },
        "jupyter": {
          "source_hidden": true
        }
      },
      "id": "7c53d477-3a55-4107-8bd1-0b9b371141b3"
    },
    {
      "cell_type": "markdown",
      "source": [
        "## In-state / Out-of-state By Race"
      ],
      "metadata": {
        "noteable": {
          "cell_type": "markdown"
        }
      },
      "id": "d85ea0d9-c590-4788-92ca-8ea9e9d468e4"
    },
    {
      "cell_type": "code",
      "source": [
        "%%sql @2b38d1248d17413982b2e98f93c4c20e\n",
        "select\n",
        "    race,\n",
        "    case\n",
        "        when donor_state = 'CA' then 'In State'\n",
        "        else 'Out of State'\n",
        "    end as \"Donor State\",\n",
        "    sum(amount) as \"Amount Donated\"\n",
        "from\n",
        "    donations\n",
        "group by 1, 2\n",
        "order by 1, 2"
      ],
      "outputs": [
        {
          "output_type": "execute_result",
          "execution_count": 32,
          "data": {
            "application/vnd.dataresource+json": {
              "schema": {
                "fields": [
                  {
                    "name": "index",
                    "type": "integer"
                  },
                  {
                    "name": "race",
                    "type": "string"
                  },
                  {
                    "name": "Donor State",
                    "type": "string"
                  },
                  {
                    "name": "Amount Donated",
                    "type": "number"
                  }
                ],
                "primaryKey": [
                  "index"
                ],
                "pandas_version": "1.4.0"
              },
              "data": [
                {
                  "index": 0,
                  "race": "Capitola City Council",
                  "Donor State": "In State",
                  "Amount Donated": 6649
                },
                {
                  "index": 1,
                  "race": "Capitola City Council",
                  "Donor State": "Out of State",
                  "Amount Donated": 600
                },
                {
                  "index": 2,
                  "race": "County supervisor District 1",
                  "Donor State": "In State",
                  "Amount Donated": 122897.52
                },
                {
                  "index": 3,
                  "race": "County supervisor District 1",
                  "Donor State": "Out of State",
                  "Amount Donated": 3650
                },
                {
                  "index": 4,
                  "race": "Santa Cruz City Council",
                  "Donor State": "In State",
                  "Amount Donated": 146931.5899999999
                },
                {
                  "index": 5,
                  "race": "Santa Cruz City Council",
                  "Donor State": "Out of State",
                  "Amount Donated": 7643.99
                },
                {
                  "index": 6,
                  "race": "Scotts Valley City Council",
                  "Donor State": "In State",
                  "Amount Donated": 6000
                },
                {
                  "index": 7,
                  "race": "Scotts Valley City Council",
                  "Donor State": "Out of State",
                  "Amount Donated": 400
                },
                {
                  "index": 8,
                  "race": "Watsonville City Council",
                  "Donor State": "In State",
                  "Amount Donated": 21268
                },
                {
                  "index": 9,
                  "race": "Watsonville City Council",
                  "Donor State": "Out of State",
                  "Amount Donated": 300
                }
              ]
            }
          },
          "metadata": {}
        }
      ],
      "execution_count": null,
      "metadata": {
        "noteable": {
          "cell_type": "sql",
          "db_connection": "@2b38d1248d17413982b2e98f93c4c20e"
        },
        "dx": {
          "annotationsRulesByID": {
            "first-view": [],
            "transitory": {
              "first-view": []
            }
          },
          "dashboard": {
            "multiViews": []
          },
          "decoration": {},
          "fieldMetadata": {
            "Amount Donated": {
              "columnPosition": 2
            },
            "Donor State": {
              "columnPosition": 3
            },
            "index": {
              "columnPosition": 1
            },
            "race": {
              "columnPosition": 4
            }
          },
          "mode": "exploration",
          "sampling": {
            "sampleSeed": 1012079558288,
            "sampleSize": 10000,
            "sampleStrategy": "none"
          },
          "simpleTable": false,
          "styles": {
            "colors": []
          },
          "updated": 1655608855512,
          "views": [
            {
              "chart": {
                "adjacencyList": "race",
                "areaType": "hexbin",
                "barGrouping": "Clustered",
                "barProjection": "vertical",
                "barSubcategory": "none",
                "baseLayer": "world",
                "baseLayerFill": "#FFFFFF",
                "baseLayerStroke": "#000000",
                "bgColor": "none",
                "boundingSettings": {
                  "Amount Donated": {
                    "lowerBoundingMetric": "none",
                    "upperBoundingMetric": "none"
                  },
                  "index": {
                    "lowerBoundingMetric": "none",
                    "upperBoundingMetric": "none"
                  }
                },
                "boundingType": "absolute",
                "boxplotOutliers": false,
                "candleClose": "Amount Donated",
                "candleHigh": "Amount Donated",
                "candleLow": "Amount Donated",
                "candleOpen": "Amount Donated",
                "candlestickMode": false,
                "combinationMode": "AVG",
                "deselectedKeysHash": {},
                "dim1": "index",
                "dim2": "race",
                "dim3": "none",
                "edgeMode": "edge list",
                "facetMetrics": [],
                "filteredDataOnly": "All Data",
                "funnelData": "metric",
                "funnelMetricOrder": [
                  "index",
                  "Amount Donated"
                ],
                "funnelMode": "bar",
                "hierarchyType": "dendrogram",
                "layerSettings": [],
                "lineSmoothing": "none",
                "lineType": "line",
                "mapMode": "choro",
                "mapZoom": "basemap",
                "marginalGraphics": "none",
                "metric1": "index",
                "metric2": "Amount Donated",
                "metric3": "none",
                "metric4": "none",
                "networkLabel": "none",
                "networkType": "force",
                "parCoordsColor": "none",
                "pieceType": "bar",
                "pointBarMode": "bar",
                "primaryKey": [],
                "proBarMode": "Combined",
                "scatterplotColor": "none",
                "secondBarMetric": "none",
                "selectedDimensions": [
                  "Donor State"
                ],
                "selectedMetrics": [],
                "showContours": false,
                "showTotal": true,
                "sortColumnsBy": "asc-val",
                "sparkchart": "none",
                "splitLinesBy": "none",
                "splomMode": "correlation",
                "summaryBins": 30,
                "summaryType": "violin",
                "surveyResponses": {
                  "negative": [],
                  "neutral": [],
                  "positive": []
                },
                "timeseriesSort": "none",
                "tokenMetric": "Amount Donated",
                "trendLine": "none",
                "violinIQR": false
              },
              "chartMode": "grid",
              "decoration": {
                "footer": "",
                "subtitle": "",
                "title": "Table"
              },
              "filterSettings": {
                "SHOW_FILTER_PANEL": true,
                "filters": []
              },
              "id": "first-view",
              "isDefault": true,
              "type": "public",
              "userID": ""
            },
            {
              "annotationRules": [],
              "chart": {
                "adjacencyList": "race",
                "areaType": "hexbin",
                "barGrouping": "Clustered",
                "barProjection": "vertical",
                "barSubcategory": "none",
                "baseLayer": "world",
                "baseLayerFill": "#FFFFFF",
                "baseLayerStroke": "#000000",
                "bgColor": "none",
                "boundingSettings": {
                  "Amount Donated": {
                    "lowerBoundingMetric": "none",
                    "upperBoundingMetric": "none"
                  },
                  "index": {
                    "lowerBoundingMetric": "none",
                    "upperBoundingMetric": "none"
                  }
                },
                "boundingType": "absolute",
                "boxplotOutliers": false,
                "candleClose": "Amount Donated",
                "candleHigh": "Amount Donated",
                "candleLow": "Amount Donated",
                "candleOpen": "Amount Donated",
                "candlestickMode": false,
                "combinationMode": "AVG",
                "deselectedKeysHash": {},
                "dim1": "Donor State",
                "dim2": "race",
                "dim3": "none",
                "edgeMode": "edge list",
                "facetMetrics": [],
                "facets": [
                  {
                    "filtering": {
                      "filter": {
                        "column": "race",
                        "predicate": "in",
                        "type": "DIMENSION_FILTER",
                        "value": [
                          "Watsonville City Council"
                        ]
                      }
                    },
                    "name": "race",
                    "title": "race: Watsonville City Council"
                  },
                  {
                    "filtering": {
                      "filter": {
                        "column": "race",
                        "predicate": "in",
                        "type": "DIMENSION_FILTER",
                        "value": [
                          "Scotts Valley City Council"
                        ]
                      }
                    },
                    "name": "race",
                    "title": "race: Scotts Valley City Council"
                  },
                  {
                    "filtering": {
                      "filter": {
                        "column": "race",
                        "predicate": "in",
                        "type": "DIMENSION_FILTER",
                        "value": [
                          "Santa Cruz City Council"
                        ]
                      }
                    },
                    "name": "race",
                    "title": "race: Santa Cruz City Council"
                  },
                  {
                    "filtering": {
                      "filter": {
                        "column": "race",
                        "predicate": "in",
                        "type": "DIMENSION_FILTER",
                        "value": [
                          "County supervisor District 1"
                        ]
                      }
                    },
                    "name": "race",
                    "title": "race: County supervisor District 1"
                  },
                  {
                    "filtering": {
                      "filter": {
                        "column": "race",
                        "predicate": "in",
                        "type": "DIMENSION_FILTER",
                        "value": [
                          "Capitola City Council"
                        ]
                      }
                    },
                    "name": "race",
                    "title": "race: Capitola City Council"
                  }
                ],
                "filteredDataOnly": "All Data",
                "funnelData": "metric",
                "funnelMetricOrder": [
                  "index",
                  "Amount Donated"
                ],
                "funnelMode": "bar",
                "hierarchyType": "dendrogram",
                "layerSettings": [],
                "lineSmoothing": "none",
                "lineType": "line",
                "mapMode": "choro",
                "mapZoom": "basemap",
                "marginalGraphics": "none",
                "metric1": "Amount Donated",
                "metric2": "Amount Donated",
                "metric3": "none",
                "metric4": "none",
                "networkLabel": "none",
                "networkType": "force",
                "parCoordsColor": "none",
                "pieceType": "bar",
                "pointBarMode": "bar",
                "primaryKey": [],
                "proBarMode": "Combined",
                "scatterplotColor": "none",
                "secondBarMetric": "none",
                "selectedDimensions": [
                  "Donor State"
                ],
                "selectedMetrics": [],
                "showContours": false,
                "showTotal": true,
                "sortColumnsBy": "desc-val",
                "sparkchart": "none",
                "splitLinesBy": "none",
                "splomMode": "correlation",
                "summaryBins": 30,
                "summaryType": "scatter",
                "surveyResponses": {
                  "negative": [],
                  "neutral": [],
                  "positive": []
                },
                "timeseriesSort": "none",
                "tokenMetric": "Amount Donated",
                "trendLine": "none",
                "violinIQR": false
              },
              "chartMode": "bar",
              "confoRules": [
                {
                  "colorOpts": {
                    "color": null,
                    "colorsHash": null,
                    "cond": null,
                    "gradient": "Turbo",
                    "max": 146931.5899999999,
                    "min": 300,
                    "mode": "gradient",
                    "scale": "Linear",
                    "thresholdColors": null,
                    "thresholdValues": null
                  },
                  "columnType": "Metric",
                  "fieldName": "Amount Donated",
                  "id": "5e82677d-343d-47e5-838f-5976d08c8035",
                  "index": 0,
                  "name": ""
                }
              ],
              "decoration": {
                "footer": "",
                "subtitle": "",
                "title": "Table"
              },
              "filterSettings": {
                "SHOW_FILTER_PANEL": true,
                "filters": []
              },
              "id": "first-view",
              "isDefault": true,
              "isTransitory": true,
              "type": "public",
              "userID": ""
            }
          ]
        },
        "jupyter": {
          "source_hidden": true
        }
      },
      "id": "eba4a47e-90f6-4265-8c52-5d84a408a069"
    },
    {
      "cell_type": "code",
      "source": [
        "%%sql @2b38d1248d17413982b2e98f93c4c20e\n"
      ],
      "outputs": [],
      "execution_count": null,
      "metadata": {
        "noteable": {
          "cell_type": "sql",
          "db_connection": "@2b38d1248d17413982b2e98f93c4c20e"
        }
      },
      "id": "45723228-d583-4fe3-b0f8-ff76fe5f028b"
    },
    {
      "cell_type": "markdown",
      "source": [
        "## In/Out of state vs Individual/Corporate donations Rollup Matrix"
      ],
      "metadata": {
        "noteable": {
          "cell_type": "markdown"
        }
      },
      "id": "37078169-f1b3-4f61-a74c-28ee6cc5b123"
    },
    {
      "cell_type": "code",
      "source": [
        "%%sql @2b38d1248d17413982b2e98f93c4c20e\n",
        "select\n",
        "    case\n",
        "        when donor_state = 'CA' then 'In State'\n",
        "        else 'Out of State'\n",
        "    end as \"In/Out of State\",\n",
        "    \n",
        "    case\n",
        "        when donor_is_individual_person_or_family then 'Individual'\n",
        "        else 'Corp/PAC'\n",
        "    end as \"Individual or PAC/Corp Donor\",\n",
        "    \n",
        "    sum(amount)::numeric(10,3) as \"Amount Donated\"\n",
        "    \n",
        "from donations\n",
        "group by rollup(1, 2)\n",
        "order by \"Amount Donated\" desc"
      ],
      "outputs": [
        {
          "output_type": "execute_result",
          "execution_count": 2,
          "data": {
            "application/vnd.dataresource+json": {
              "schema": {
                "fields": [
                  {
                    "name": "index",
                    "type": "integer"
                  },
                  {
                    "name": "In/Out of State",
                    "type": "string"
                  },
                  {
                    "name": "Individual or PAC/Corp Donor",
                    "type": "string"
                  },
                  {
                    "name": "Amount Donated",
                    "type": "string"
                  }
                ],
                "primaryKey": [
                  "index"
                ],
                "pandas_version": "1.4.0"
              },
              "data": [
                {
                  "index": 0,
                  "In/Out of State": null,
                  "Individual or PAC/Corp Donor": null,
                  "Amount Donated": 316340.1
                },
                {
                  "index": 1,
                  "In/Out of State": "In State",
                  "Individual or PAC/Corp Donor": null,
                  "Amount Donated": 303746.11
                },
                {
                  "index": 2,
                  "In/Out of State": "In State",
                  "Individual or PAC/Corp Donor": "Individual",
                  "Amount Donated": 282216.54
                },
                {
                  "index": 3,
                  "In/Out of State": "In State",
                  "Individual or PAC/Corp Donor": "Corp/PAC",
                  "Amount Donated": 21529.57
                },
                {
                  "index": 4,
                  "In/Out of State": "Out of State",
                  "Individual or PAC/Corp Donor": null,
                  "Amount Donated": 12593.99
                },
                {
                  "index": 5,
                  "In/Out of State": "Out of State",
                  "Individual or PAC/Corp Donor": "Individual",
                  "Amount Donated": 11993.99
                },
                {
                  "index": 6,
                  "In/Out of State": "Out of State",
                  "Individual or PAC/Corp Donor": "Corp/PAC",
                  "Amount Donated": 600
                }
              ]
            }
          },
          "metadata": {}
        }
      ],
      "execution_count": null,
      "metadata": {
        "noteable": {
          "cell_type": "sql",
          "db_connection": "@2b38d1248d17413982b2e98f93c4c20e"
        },
        "jupyter": {
          "source_hidden": false,
          "outputs_hidden": true
        }
      },
      "id": "bd9f9836-6874-4bca-9289-7d0f959c91c0"
    },
    {
      "cell_type": "code",
      "source": [
        "rollup = _\n",
        "rollup = rollup.fillna(\"Total\")\n",
        "rollup"
      ],
      "outputs": [
        {
          "output_type": "execute_result",
          "execution_count": 3,
          "data": {
            "application/vnd.dataresource+json": {
              "schema": {
                "fields": [
                  {
                    "name": "index",
                    "type": "integer"
                  },
                  {
                    "name": "In/Out of State",
                    "type": "string"
                  },
                  {
                    "name": "Individual or PAC/Corp Donor",
                    "type": "string"
                  },
                  {
                    "name": "Amount Donated",
                    "type": "string"
                  }
                ],
                "primaryKey": [
                  "index"
                ],
                "pandas_version": "1.4.0"
              },
              "data": [
                {
                  "index": 0,
                  "In/Out of State": "Total",
                  "Individual or PAC/Corp Donor": "Total",
                  "Amount Donated": 316340.1
                },
                {
                  "index": 1,
                  "In/Out of State": "In State",
                  "Individual or PAC/Corp Donor": "Total",
                  "Amount Donated": 303746.11
                },
                {
                  "index": 2,
                  "In/Out of State": "In State",
                  "Individual or PAC/Corp Donor": "Individual",
                  "Amount Donated": 282216.54
                },
                {
                  "index": 3,
                  "In/Out of State": "In State",
                  "Individual or PAC/Corp Donor": "Corp/PAC",
                  "Amount Donated": 21529.57
                },
                {
                  "index": 4,
                  "In/Out of State": "Out of State",
                  "Individual or PAC/Corp Donor": "Total",
                  "Amount Donated": 12593.99
                },
                {
                  "index": 5,
                  "In/Out of State": "Out of State",
                  "Individual or PAC/Corp Donor": "Individual",
                  "Amount Donated": 11993.99
                },
                {
                  "index": 6,
                  "In/Out of State": "Out of State",
                  "Individual or PAC/Corp Donor": "Corp/PAC",
                  "Amount Donated": 600
                }
              ]
            }
          },
          "metadata": {}
        }
      ],
      "execution_count": null,
      "metadata": {
        "noteable": {
          "cell_type": "python"
        },
        "jupyter": {
          "source_hidden": false
        },
        "dx": {
          "annotationsRulesByID": {
            "first-view": [],
            "transitory": {
              "first-view": []
            }
          },
          "dashboard": {
            "multiViews": []
          },
          "decoration": {},
          "fieldMetadata": {
            "Amount Donated": {
              "columnPosition": 2
            },
            "In/Out of State": {
              "columnPosition": 4
            },
            "Individual or PAC/Corp Donor": {
              "columnPosition": 3
            },
            "index": {
              "columnPosition": 1
            }
          },
          "mode": "exploration",
          "sampling": {
            "sampleSeed": 919193096968,
            "sampleSize": 10000,
            "sampleStrategy": "none"
          },
          "simpleTable": true,
          "styles": {
            "colors": []
          },
          "updated": 1655827072186,
          "views": [
            {
              "chart": {
                "adjacencyList": "In/Out of State",
                "areaType": "hexbin",
                "barGrouping": "Clustered",
                "barProjection": "vertical",
                "barSubcategory": "none",
                "baseLayer": "world",
                "baseLayerFill": "#FFFFFF",
                "baseLayerStroke": "#000000",
                "bgColor": "none",
                "boundingSettings": {
                  "index": {
                    "lowerBoundingMetric": "none",
                    "upperBoundingMetric": "none"
                  }
                },
                "boundingType": "absolute",
                "boxplotOutliers": false,
                "candleClose": "none",
                "candleHigh": "none",
                "candleLow": "none",
                "candleOpen": "none",
                "candlestickMode": false,
                "combinationMode": "AVG",
                "deselectedKeysHash": {},
                "dim1": "index",
                "dim2": "In/Out of State",
                "dim3": "none",
                "edgeMode": "edge list",
                "facetMetrics": [],
                "filteredDataOnly": "All Data",
                "funnelData": "metric",
                "funnelMetricOrder": [
                  "index"
                ],
                "funnelMode": "bar",
                "hierarchyType": "dendrogram",
                "layerSettings": [],
                "lineSmoothing": "none",
                "lineType": "line",
                "mapMode": "choro",
                "mapZoom": "basemap",
                "marginalGraphics": "none",
                "metric1": "index",
                "metric2": "none",
                "metric3": "none",
                "metric4": "none",
                "networkLabel": "none",
                "networkType": "force",
                "parCoordsColor": "none",
                "pieceType": "bar",
                "pointBarMode": "bar",
                "primaryKey": [],
                "proBarMode": "Combined",
                "scatterplotColor": "none",
                "secondBarMetric": "none",
                "selectedDimensions": [
                  "In/Out of State"
                ],
                "selectedMetrics": [],
                "showContours": false,
                "showTotal": true,
                "sortColumnsBy": "asc-val",
                "sparkchart": "none",
                "splitLinesBy": "none",
                "splomMode": "correlation",
                "summaryBins": 30,
                "summaryType": "violin",
                "surveyResponses": {
                  "negative": [],
                  "neutral": [],
                  "positive": []
                },
                "timeseriesSort": "none",
                "trendLine": "none",
                "violinIQR": false
              },
              "chartMode": "grid",
              "decoration": {
                "footer": "",
                "subtitle": "",
                "title": "Table"
              },
              "filterSettings": {
                "SHOW_FILTER_PANEL": true,
                "filters": []
              },
              "id": "first-view",
              "isDefault": true,
              "type": "public",
              "userID": ""
            },
            {
              "annotationRules": [],
              "chart": {
                "adjacencyList": "In/Out of State",
                "areaType": "hexbin",
                "barGrouping": "Clustered",
                "barProjection": "vertical",
                "barSubcategory": "none",
                "baseLayer": "world",
                "baseLayerFill": "#FFFFFF",
                "baseLayerStroke": "#000000",
                "bgColor": "none",
                "boundingSettings": {
                  "index": {
                    "lowerBoundingMetric": "none",
                    "upperBoundingMetric": "none"
                  }
                },
                "boundingType": "absolute",
                "boxplotOutliers": false,
                "candleClose": "none",
                "candleHigh": "none",
                "candleLow": "none",
                "candleOpen": "none",
                "candlestickMode": false,
                "combinationMode": "AVG",
                "deselectedKeysHash": {},
                "dim1": "index",
                "dim2": "In/Out of State",
                "dim3": "none",
                "edgeMode": "edge list",
                "facetMetrics": [],
                "filteredDataOnly": "All Data",
                "funnelData": "metric",
                "funnelMetricOrder": [
                  "index"
                ],
                "funnelMode": "bar",
                "hierarchyType": "dendrogram",
                "layerSettings": [],
                "lineSmoothing": "none",
                "lineType": "line",
                "mapMode": "choro",
                "mapZoom": "basemap",
                "marginalGraphics": "none",
                "metric1": "index",
                "metric2": "none",
                "metric3": "none",
                "metric4": "none",
                "networkLabel": "none",
                "networkType": "force",
                "parCoordsColor": "none",
                "pieceType": "bar",
                "pointBarMode": "bar",
                "primaryKey": [],
                "proBarMode": "Combined",
                "scatterplotColor": "none",
                "secondBarMetric": "none",
                "selectedDimensions": [
                  "In/Out of State"
                ],
                "selectedMetrics": [],
                "showContours": false,
                "showTotal": true,
                "sortColumnsBy": "asc-val",
                "sparkchart": "none",
                "splitLinesBy": "none",
                "splomMode": "correlation",
                "summaryBins": 30,
                "summaryType": "scatter",
                "surveyResponses": {
                  "negative": [],
                  "neutral": [],
                  "positive": []
                },
                "timeseriesSort": "none",
                "trendLine": "none",
                "violinIQR": false
              },
              "chartMode": "bar",
              "decoration": {
                "footer": "",
                "subtitle": "",
                "title": "Table"
              },
              "filterSettings": {
                "SHOW_FILTER_PANEL": true,
                "filters": []
              },
              "id": "first-view",
              "isDefault": true,
              "isTransitory": true,
              "type": "public",
              "userID": ""
            }
          ]
        }
      },
      "id": "d6042d93-086f-4b58-91ad-0ecd8b52e0b4"
    },
    {
      "cell_type": "code",
      "source": [
        "%%sql @2b38d1248d17413982b2e98f93c4c20e\n",
        "    select\n",
        "\n",
        "    race, \n",
        "    case\n",
        "        when donor_state = 'CA' then 'In State'\n",
        "        else 'Out of State'\n",
        "    end as \"In/Out of State\",\n",
        "    \n",
        "    case\n",
        "        when donor_is_individual_person_or_family then 'Individual'\n",
        "        else 'Corp/PAC'\n",
        "    end as individual_donor,\n",
        "    \n",
        "    sum(amount)::numeric(10,3) as \"Amount Donated\"\n",
        "    \n",
        "from donations\n",
        "group by rollup (1, 2, 3)\n",
        "order by \"Amount Donated\" desc"
      ],
      "outputs": [
        {
          "output_type": "execute_result",
          "execution_count": 51,
          "data": {
            "application/vnd.dataresource+json": {
              "schema": {
                "fields": [
                  {
                    "name": "index",
                    "type": "integer"
                  },
                  {
                    "name": "race",
                    "type": "string"
                  },
                  {
                    "name": "In/Out of State",
                    "type": "string"
                  },
                  {
                    "name": "individual_donor",
                    "type": "string"
                  },
                  {
                    "name": "Amount Donated",
                    "type": "string"
                  }
                ],
                "primaryKey": [
                  "index"
                ],
                "pandas_version": "1.4.0"
              },
              "data": [
                {
                  "index": 0,
                  "race": null,
                  "In/Out of State": null,
                  "individual_donor": null,
                  "Amount Donated": 316340.1
                },
                {
                  "index": 1,
                  "race": "Santa Cruz City Council",
                  "In/Out of State": null,
                  "individual_donor": null,
                  "Amount Donated": 154575.58
                },
                {
                  "index": 2,
                  "race": "Santa Cruz City Council",
                  "In/Out of State": "In State",
                  "individual_donor": null,
                  "Amount Donated": 146931.59
                },
                {
                  "index": 3,
                  "race": "Santa Cruz City Council",
                  "In/Out of State": "In State",
                  "individual_donor": "Individual",
                  "Amount Donated": 134354.02
                },
                {
                  "index": 4,
                  "race": "County supervisor District 1",
                  "In/Out of State": null,
                  "individual_donor": null,
                  "Amount Donated": 126547.52
                },
                {
                  "index": 5,
                  "race": "County supervisor District 1",
                  "In/Out of State": "In State",
                  "individual_donor": null,
                  "Amount Donated": 122897.52
                },
                {
                  "index": 6,
                  "race": "County supervisor District 1",
                  "In/Out of State": "In State",
                  "individual_donor": "Individual",
                  "Amount Donated": 118713.52
                },
                {
                  "index": 7,
                  "race": "Watsonville City Council",
                  "In/Out of State": null,
                  "individual_donor": null,
                  "Amount Donated": 21568
                },
                {
                  "index": 8,
                  "race": "Watsonville City Council",
                  "In/Out of State": "In State",
                  "individual_donor": null,
                  "Amount Donated": 21268
                },
                {
                  "index": 9,
                  "race": "Watsonville City Council",
                  "In/Out of State": "In State",
                  "individual_donor": "Individual",
                  "Amount Donated": 17700
                },
                {
                  "index": 10,
                  "race": "Santa Cruz City Council",
                  "In/Out of State": "In State",
                  "individual_donor": "Corp/PAC",
                  "Amount Donated": 12577.57
                },
                {
                  "index": 11,
                  "race": "Santa Cruz City Council",
                  "In/Out of State": "Out of State",
                  "individual_donor": null,
                  "Amount Donated": 7643.99
                },
                {
                  "index": 12,
                  "race": "Capitola City Council",
                  "In/Out of State": null,
                  "individual_donor": null,
                  "Amount Donated": 7249
                },
                {
                  "index": 13,
                  "race": "Santa Cruz City Council",
                  "In/Out of State": "Out of State",
                  "individual_donor": "Individual",
                  "Amount Donated": 7043.99
                },
                {
                  "index": 14,
                  "race": "Capitola City Council",
                  "In/Out of State": "In State",
                  "individual_donor": null,
                  "Amount Donated": 6649
                },
                {
                  "index": 15,
                  "race": "Scotts Valley City Council",
                  "In/Out of State": null,
                  "individual_donor": null,
                  "Amount Donated": 6400
                },
                {
                  "index": 16,
                  "race": "Capitola City Council",
                  "In/Out of State": "In State",
                  "individual_donor": "Individual",
                  "Amount Donated": 6149
                },
                {
                  "index": 17,
                  "race": "Scotts Valley City Council",
                  "In/Out of State": "In State",
                  "individual_donor": null,
                  "Amount Donated": 6000
                },
                {
                  "index": 18,
                  "race": "Scotts Valley City Council",
                  "In/Out of State": "In State",
                  "individual_donor": "Individual",
                  "Amount Donated": 5300
                },
                {
                  "index": 19,
                  "race": "County supervisor District 1",
                  "In/Out of State": "In State",
                  "individual_donor": "Corp/PAC",
                  "Amount Donated": 4184
                },
                {
                  "index": 20,
                  "race": "County supervisor District 1",
                  "In/Out of State": "Out of State",
                  "individual_donor": null,
                  "Amount Donated": 3650
                },
                {
                  "index": 21,
                  "race": "County supervisor District 1",
                  "In/Out of State": "Out of State",
                  "individual_donor": "Individual",
                  "Amount Donated": 3650
                },
                {
                  "index": 22,
                  "race": "Watsonville City Council",
                  "In/Out of State": "In State",
                  "individual_donor": "Corp/PAC",
                  "Amount Donated": 3568
                },
                {
                  "index": 23,
                  "race": "Scotts Valley City Council",
                  "In/Out of State": "In State",
                  "individual_donor": "Corp/PAC",
                  "Amount Donated": 700
                },
                {
                  "index": 24,
                  "race": "Capitola City Council",
                  "In/Out of State": "Out of State",
                  "individual_donor": null,
                  "Amount Donated": 600
                },
                {
                  "index": 25,
                  "race": "Santa Cruz City Council",
                  "In/Out of State": "Out of State",
                  "individual_donor": "Corp/PAC",
                  "Amount Donated": 600
                },
                {
                  "index": 26,
                  "race": "Capitola City Council",
                  "In/Out of State": "Out of State",
                  "individual_donor": "Individual",
                  "Amount Donated": 600
                },
                {
                  "index": 27,
                  "race": "Capitola City Council",
                  "In/Out of State": "In State",
                  "individual_donor": "Corp/PAC",
                  "Amount Donated": 500
                },
                {
                  "index": 28,
                  "race": "Scotts Valley City Council",
                  "In/Out of State": "Out of State",
                  "individual_donor": "Individual",
                  "Amount Donated": 400
                },
                {
                  "index": 29,
                  "race": "Scotts Valley City Council",
                  "In/Out of State": "Out of State",
                  "individual_donor": null,
                  "Amount Donated": 400
                },
                {
                  "index": 30,
                  "race": "Watsonville City Council",
                  "In/Out of State": "Out of State",
                  "individual_donor": "Individual",
                  "Amount Donated": 300
                },
                {
                  "index": 31,
                  "race": "Watsonville City Council",
                  "In/Out of State": "Out of State",
                  "individual_donor": null,
                  "Amount Donated": 300
                }
              ]
            }
          },
          "metadata": {}
        }
      ],
      "execution_count": null,
      "metadata": {
        "noteable": {
          "cell_type": "sql",
          "db_connection": "@2b38d1248d17413982b2e98f93c4c20e"
        },
        "jupyter": {
          "source_hidden": true,
          "outputs_hidden": true
        },
        "dx": {
          "annotationsRulesByID": {
            "first-view": [],
            "transitory": {
              "first-view": []
            }
          },
          "dashboard": {
            "multiViews": []
          },
          "decoration": {},
          "fieldMetadata": {
            "Amount Donated": {
              "columnPosition": 2
            },
            "In/Out of State": {
              "columnPosition": 4
            },
            "index": {
              "columnPosition": 1
            },
            "individual_donor": {
              "columnPosition": 3
            }
          },
          "mode": "exploration",
          "sampling": {
            "sampleSeed": 513815965481,
            "sampleSize": 10000,
            "sampleStrategy": "none"
          },
          "simpleTable": true,
          "simpleTableExpanded": true,
          "styles": {
            "colors": []
          },
          "updated": 1655825497971,
          "views": [
            {
              "chart": {
                "adjacencyList": "In/Out of State",
                "areaType": "hexbin",
                "barGrouping": "Clustered",
                "barProjection": "vertical",
                "barSubcategory": "none",
                "baseLayer": "world",
                "baseLayerFill": "#FFFFFF",
                "baseLayerStroke": "#000000",
                "bgColor": "none",
                "boundingSettings": {
                  "index": {
                    "lowerBoundingMetric": "none",
                    "upperBoundingMetric": "none"
                  }
                },
                "boundingType": "absolute",
                "boxplotOutliers": false,
                "candleClose": "none",
                "candleHigh": "none",
                "candleLow": "none",
                "candleOpen": "none",
                "candlestickMode": false,
                "combinationMode": "AVG",
                "deselectedKeysHash": {},
                "dim1": "index",
                "dim2": "In/Out of State",
                "dim3": "none",
                "edgeMode": "edge list",
                "facetMetrics": [],
                "filteredDataOnly": "All Data",
                "funnelData": "metric",
                "funnelMetricOrder": [
                  "index"
                ],
                "funnelMode": "bar",
                "hierarchyType": "dendrogram",
                "layerSettings": [],
                "lineSmoothing": "none",
                "lineType": "line",
                "mapMode": "choro",
                "mapZoom": "basemap",
                "marginalGraphics": "none",
                "metric1": "index",
                "metric2": "none",
                "metric3": "none",
                "metric4": "none",
                "networkLabel": "none",
                "networkType": "force",
                "parCoordsColor": "none",
                "pieceType": "bar",
                "pointBarMode": "bar",
                "primaryKey": [],
                "proBarMode": "Combined",
                "scatterplotColor": "none",
                "secondBarMetric": "none",
                "selectedDimensions": [
                  "In/Out of State"
                ],
                "selectedMetrics": [],
                "showContours": false,
                "showTotal": true,
                "sortColumnsBy": "asc-val",
                "sparkchart": "none",
                "splitLinesBy": "none",
                "splomMode": "correlation",
                "summaryBins": 30,
                "summaryType": "violin",
                "surveyResponses": {
                  "negative": [],
                  "neutral": [],
                  "positive": []
                },
                "timeseriesSort": "none",
                "trendLine": "none",
                "violinIQR": false
              },
              "chartMode": "grid",
              "decoration": {
                "footer": "",
                "subtitle": "",
                "title": "Table"
              },
              "filterSettings": {
                "SHOW_FILTER_PANEL": true,
                "filters": []
              },
              "id": "first-view",
              "isDefault": true,
              "type": "public",
              "userID": ""
            },
            {
              "annotationRules": [],
              "chart": {
                "adjacencyList": "In/Out of State",
                "areaType": "hexbin",
                "barGrouping": "Clustered",
                "barProjection": "horizontal",
                "barSubcategory": "none",
                "baseLayer": "world",
                "baseLayerFill": "#FFFFFF",
                "baseLayerStroke": "#000000",
                "bgColor": "none",
                "boundingSettings": {
                  "index": {
                    "lowerBoundingMetric": "none",
                    "upperBoundingMetric": "none"
                  }
                },
                "boundingType": "absolute",
                "boxplotOutliers": false,
                "candleClose": "none",
                "candleHigh": "none",
                "candleLow": "none",
                "candleOpen": "none",
                "candlestickMode": false,
                "combinationMode": "AVG",
                "deselectedKeysHash": {},
                "dim1": "In/Out of State",
                "dim2": "In/Out of State",
                "dim3": "none",
                "edgeMode": "edge list",
                "facetMetrics": [],
                "facets": [
                  {
                    "filtering": {
                      "filter": {
                        "column": "In/Out of State",
                        "predicate": "in",
                        "type": "DIMENSION_FILTER",
                        "value": [
                          "Out of State"
                        ]
                      }
                    },
                    "name": "In/Out of State",
                    "title": "In/Out of State: Out of State"
                  },
                  {
                    "filtering": {
                      "filter": {
                        "column": "In/Out of State",
                        "predicate": "in",
                        "type": "DIMENSION_FILTER",
                        "value": [
                          "In State"
                        ]
                      }
                    },
                    "name": "In/Out of State",
                    "title": "In/Out of State: In State"
                  }
                ],
                "filteredDataOnly": "All Data",
                "funnelData": "metric",
                "funnelMetricOrder": [
                  "index"
                ],
                "funnelMode": "bar",
                "hierarchyType": "dendrogram",
                "layerSettings": [],
                "lineSmoothing": "none",
                "lineType": "line",
                "mapMode": "choro",
                "mapZoom": "basemap",
                "marginalGraphics": "none",
                "metric1": "index",
                "metric2": "none",
                "metric3": "none",
                "metric4": "none",
                "networkLabel": "none",
                "networkType": "force",
                "parCoordsColor": "none",
                "pieceType": "bar",
                "pointBarMode": "bar",
                "primaryKey": [],
                "proBarMode": "Combined",
                "scatterplotColor": "none",
                "secondBarMetric": "none",
                "selectedDimensions": [
                  "In/Out of State"
                ],
                "selectedMetrics": [],
                "showContours": false,
                "showTotal": true,
                "sortColumnsBy": "desc-val",
                "sparkchart": "none",
                "splitLinesBy": "none",
                "splomMode": "correlation",
                "summaryBins": 30,
                "summaryType": "scatter",
                "surveyResponses": {
                  "negative": [],
                  "neutral": [],
                  "positive": []
                },
                "timeseriesSort": "none",
                "trendLine": "none",
                "violinIQR": false
              },
              "chartMode": "bar",
              "decoration": {
                "footer": "",
                "subtitle": "",
                "title": "Table"
              },
              "filterSettings": {
                "SHOW_FILTER_PANEL": true,
                "filters": []
              },
              "id": "first-view",
              "isDefault": true,
              "isTransitory": true,
              "type": "public",
              "userID": ""
            }
          ]
        }
      },
      "id": "77a1d16f-294c-479d-8908-070b9ace7696"
    },
    {
      "cell_type": "markdown",
      "source": [
        "## Did anyone donate to more than one candidate?"
      ],
      "metadata": {
        "noteable": {
          "cell_type": "markdown"
        }
      },
      "id": "c2c52973-c9dd-451f-aca9-ae5ea3168ac6"
    },
    {
      "cell_type": "code",
      "source": [
        "%%sql @2b38d1248d17413982b2e98f93c4c20e\n",
        "select donor,\n",
        "    count(distinct candidate) as num_candidates_donated_to,\n",
        "    string_agg(distinct candidate, ', ' order by candidate) as candidates,\n",
        "    count(distinct race) num_races_donated_to,\n",
        "    string_agg(distinct race, ', ' order by race) as races,\n",
        "    sum(amount) as total_donated\n",
        "from donations\n",
        "group by 1\n",
        "having count(distinct candidate) > 1\n",
        "order by num_candidates_donated_to desc, total_donated desc"
      ],
      "outputs": [
        {
          "output_type": "execute_result",
          "execution_count": 5,
          "data": {
            "application/vnd.dataresource+json": {
              "schema": {
                "fields": [
                  {
                    "name": "index",
                    "type": "integer"
                  },
                  {
                    "name": "donor",
                    "type": "string"
                  },
                  {
                    "name": "num_candidates_donated_to",
                    "type": "integer"
                  },
                  {
                    "name": "candidates",
                    "type": "string"
                  },
                  {
                    "name": "num_races_donated_to",
                    "type": "integer"
                  },
                  {
                    "name": "races",
                    "type": "string"
                  },
                  {
                    "name": "total_donated",
                    "type": "number"
                  }
                ],
                "primaryKey": [
                  "index"
                ],
                "pandas_version": "1.4.0"
              },
              "data": [
                {
                  "index": 0,
                  "donor": "California Real Estate PAC (CREPAC)",
                  "num_candidates_donated_to": 10,
                  "candidates": "Anthony Rovai, Aurelio Gonzalez, Donna Lind, Jimmy Dutra, Maria Cadenas, Martine Watkins, Randy Johnson, Shebreh Kalantari-Johnson, Sonja Brunner, Vanessa Quiroz-Carter",
                  "num_races_donated_to": 4,
                  "races": "Capitola City Council, Santa Cruz City Council, Scotts Valley City Council, Watsonville City Council",
                  "total_donated": 3000
                },
                {
                  "index": 1,
                  "donor": "Democratic Womens Club of Santa Cruz County",
                  "num_candidates_donated_to": 6,
                  "candidates": "Jimmy Dutra, John Leopold, Kristen Petersen, Martine Watkins, Shebreh Kalantari-Johnson, Sonja Brunner",
                  "num_races_donated_to": 4,
                  "races": "Capitola City Council, County supervisor District 1, Santa Cruz City Council, Watsonville City Council",
                  "total_donated": 1650
                },
                {
                  "index": 2,
                  "donor": "Mark Mesiti-Miller",
                  "num_candidates_donated_to": 5,
                  "candidates": "John Leopold, Martine Watkins, Shebreh Kalantari-Johnson, Sonja Brunner, Tony Gomez",
                  "num_races_donated_to": 3,
                  "races": "County supervisor District 1, Santa Cruz City Council, Watsonville City Council",
                  "total_donated": 1358
                },
                {
                  "index": 3,
                  "donor": "Scott Roseman",
                  "num_candidates_donated_to": 5,
                  "candidates": "Manu Koenig, Maria Cadenas, Martine Watkins, Shebreh Kalantari-Johnson, Sonja Brunner",
                  "num_races_donated_to": 2,
                  "races": "County supervisor District 1, Santa Cruz City Council",
                  "total_donated": 805.15
                },
                {
                  "index": 4,
                  "donor": "Pipe Trades District Council PAC #36",
                  "num_candidates_donated_to": 4,
                  "candidates": "John Leopold, Kayla Kumar, Kelsey Hill, Sandy Brown",
                  "num_races_donated_to": 2,
                  "races": "County supervisor District 1, Santa Cruz City Council",
                  "total_donated": 1700
                },
                {
                  "index": 5,
                  "donor": "Karl Rice",
                  "num_candidates_donated_to": 4,
                  "candidates": "Manu Koenig, Martine Watkins, Shebreh Kalantari-Johnson, Sonja Brunner",
                  "num_races_donated_to": 2,
                  "races": "County supervisor District 1, Santa Cruz City Council",
                  "total_donated": 1700
                },
                {
                  "index": 6,
                  "donor": "Reggie Meisler",
                  "num_candidates_donated_to": 4,
                  "candidates": "Alicia Kuhl, Kayla Kumar, Kelsey Hill, Sandy Brown",
                  "num_races_donated_to": 1,
                  "races": "Santa Cruz City Council",
                  "total_donated": 1600
                },
                {
                  "index": 7,
                  "donor": "Robert Morgan",
                  "num_candidates_donated_to": 4,
                  "candidates": "Alicia Kuhl, Kayla Kumar, Kelsey Hill, Sandy Brown",
                  "num_races_donated_to": 1,
                  "races": "Santa Cruz City Council",
                  "total_donated": 1460
                },
                {
                  "index": 8,
                  "donor": "Northern California Carpenters Regional Council Small Contributor Committee",
                  "num_candidates_donated_to": 4,
                  "candidates": "Jack Dilles, Kayla Kumar, Kelsey Hill, Sandy Brown",
                  "num_races_donated_to": 2,
                  "races": "Santa Cruz City Council, Scotts Valley City Council",
                  "total_donated": 1300
                },
                {
                  "index": 9,
                  "donor": "Kyle Kelley",
                  "num_candidates_donated_to": 4,
                  "candidates": "Elizabeth Conlan, Kayla Kumar, Maria Cadenas, Shebreh Kalantari-Johnson",
                  "num_races_donated_to": 1,
                  "races": "Santa Cruz City Council",
                  "total_donated": 1200
                },
                {
                  "index": 10,
                  "donor": "James Weller",
                  "num_candidates_donated_to": 4,
                  "candidates": "John Leopold, Kayla Kumar, Kelsey Hill, Sandy Brown",
                  "num_races_donated_to": 2,
                  "races": "County supervisor District 1, Santa Cruz City Council",
                  "total_donated": 1000
                },
                {
                  "index": 11,
                  "donor": "Matthew Nathanson",
                  "num_candidates_donated_to": 4,
                  "candidates": "John Leopold, Kayla Kumar, Kelsey Hill, Maria Cadenas",
                  "num_races_donated_to": 2,
                  "races": "County supervisor District 1, Santa Cruz City Council",
                  "total_donated": 950
                },
                {
                  "index": 12,
                  "donor": "Robert Singleton",
                  "num_candidates_donated_to": 4,
                  "candidates": "Manu Koenig, Maria Cadenas, Shebreh Kalantari-Johnson, Sonja Brunner",
                  "num_races_donated_to": 2,
                  "races": "County supervisor District 1, Santa Cruz City Council",
                  "total_donated": 908
                },
                {
                  "index": 13,
                  "donor": "Donna Murphy",
                  "num_candidates_donated_to": 4,
                  "candidates": "Martine Watkins, Shebreh Kalantari-Johnson, Sonja Brunner, Tony Gomez",
                  "num_races_donated_to": 2,
                  "races": "Santa Cruz City Council, Watsonville City Council",
                  "total_donated": 858
                },
                {
                  "index": 14,
                  "donor": "Carol Fuller",
                  "num_candidates_donated_to": 4,
                  "candidates": "Maria Cadenas, Martine Watkins, Shebreh Kalantari-Johnson, Sonja Brunner",
                  "num_races_donated_to": 1,
                  "races": "Santa Cruz City Council",
                  "total_donated": 799
                },
                {
                  "index": 15,
                  "donor": "Daniel Spelce",
                  "num_candidates_donated_to": 4,
                  "candidates": "John Leopold, Kayla Kumar, Kelsey Hill, Sandy Brown",
                  "num_races_donated_to": 2,
                  "races": "County supervisor District 1, Santa Cruz City Council",
                  "total_donated": 700
                },
                {
                  "index": 16,
                  "donor": "Ted Burke",
                  "num_candidates_donated_to": 4,
                  "candidates": "Anthony Rovai, Maria Cadenas, Martine Watkins, Sonja Brunner",
                  "num_races_donated_to": 2,
                  "races": "Capitola City Council, Santa Cruz City Council",
                  "total_donated": 500
                },
                {
                  "index": 17,
                  "donor": "Susan Martinez",
                  "num_candidates_donated_to": 4,
                  "candidates": "Alicia Kuhl, Kayla Kumar, Kelsey Hill, Sandy Brown",
                  "num_races_donated_to": 1,
                  "races": "Santa Cruz City Council",
                  "total_donated": 400
                },
                {
                  "index": 18,
                  "donor": "Julie Kadavy",
                  "num_candidates_donated_to": 3,
                  "candidates": "Martine Watkins, Shebreh Kalantari-Johnson, Sonja Brunner",
                  "num_races_donated_to": 1,
                  "races": "Santa Cruz City Council",
                  "total_donated": 1200
                },
                {
                  "index": 19,
                  "donor": "Halimah Prado",
                  "num_candidates_donated_to": 3,
                  "candidates": "Martine Watkins, Shebreh Kalantari-Johnson, Sonja Brunner",
                  "num_races_donated_to": 1,
                  "races": "Santa Cruz City Council",
                  "total_donated": 1200
                },
                {
                  "index": 20,
                  "donor": "Greg Larson",
                  "num_candidates_donated_to": 3,
                  "candidates": "Martine Watkins, Sandy Brown, Shebreh Kalantari-Johnson",
                  "num_races_donated_to": 1,
                  "races": "Santa Cruz City Council",
                  "total_donated": 1200
                },
                {
                  "index": 21,
                  "donor": "Tom Canfield",
                  "num_candidates_donated_to": 3,
                  "candidates": "Martine Watkins, Shebreh Kalantari-Johnson, Sonja Brunner",
                  "num_races_donated_to": 1,
                  "races": "Santa Cruz City Council",
                  "total_donated": 1200
                },
                {
                  "index": 22,
                  "donor": "Brad Brereton",
                  "num_candidates_donated_to": 3,
                  "candidates": "Martine Watkins, Shebreh Kalantari-Johnson, Sonja Brunner",
                  "num_races_donated_to": 1,
                  "races": "Santa Cruz City Council",
                  "total_donated": 1200
                },
                {
                  "index": 23,
                  "donor": "Brett Garrett",
                  "num_candidates_donated_to": 3,
                  "candidates": "Kayla Kumar, Kelsey Hill, Sandy Brown",
                  "num_races_donated_to": 1,
                  "races": "Santa Cruz City Council",
                  "total_donated": 1200
                },
                {
                  "index": 24,
                  "donor": "William Malone",
                  "num_candidates_donated_to": 3,
                  "candidates": "Kayla Kumar, Kelsey Hill, Sandy Brown",
                  "num_races_donated_to": 1,
                  "races": "Santa Cruz City Council",
                  "total_donated": 1200
                },
                {
                  "index": 25,
                  "donor": "Roland Saher",
                  "num_candidates_donated_to": 3,
                  "candidates": "Kayla Kumar, Kelsey Hill, Sandy Brown",
                  "num_races_donated_to": 1,
                  "races": "Santa Cruz City Council",
                  "total_donated": 1200
                },
                {
                  "index": 26,
                  "donor": "Charles Canfield",
                  "num_candidates_donated_to": 3,
                  "candidates": "Martine Watkins, Shebreh Kalantari-Johnson, Sonja Brunner",
                  "num_races_donated_to": 1,
                  "races": "Santa Cruz City Council",
                  "total_donated": 1200
                },
                {
                  "index": 27,
                  "donor": "Rachel O'Malley",
                  "num_candidates_donated_to": 3,
                  "candidates": "Kayla Kumar, Kelsey Hill, Sandy Brown",
                  "num_races_donated_to": 1,
                  "races": "Santa Cruz City Council",
                  "total_donated": 1200
                },
                {
                  "index": 28,
                  "donor": "Peoples Democratic Club of Santa Cruz",
                  "num_candidates_donated_to": 3,
                  "candidates": "Kayla Kumar, Kelsey Hill, Sandy Brown",
                  "num_races_donated_to": 1,
                  "races": "Santa Cruz City Council",
                  "total_donated": 1200
                },
                {
                  "index": 29,
                  "donor": "Paula Mack",
                  "num_candidates_donated_to": 3,
                  "candidates": "Kayla Kumar, Kelsey Hill, Sandy Brown",
                  "num_races_donated_to": 1,
                  "races": "Santa Cruz City Council",
                  "total_donated": 1200
                },
                {
                  "index": 30,
                  "donor": "Dana Morgan",
                  "num_candidates_donated_to": 3,
                  "candidates": "Martine Watkins, Shebreh Kalantari-Johnson, Sonja Brunner",
                  "num_races_donated_to": 1,
                  "races": "Santa Cruz City Council",
                  "total_donated": 1200
                },
                {
                  "index": 31,
                  "donor": "Manuel Prado",
                  "num_candidates_donated_to": 3,
                  "candidates": "Martine Watkins, Shebreh Kalantari-Johnson, Sonja Brunner",
                  "num_races_donated_to": 1,
                  "races": "Santa Cruz City Council",
                  "total_donated": 1200
                },
                {
                  "index": 32,
                  "donor": "Ed Porter",
                  "num_candidates_donated_to": 3,
                  "candidates": "Kayla Kumar, Kelsey Hill, Sandy Brown",
                  "num_races_donated_to": 1,
                  "races": "Santa Cruz City Council",
                  "total_donated": 1200
                },
                {
                  "index": 33,
                  "donor": "Josh Brahinsky",
                  "num_candidates_donated_to": 3,
                  "candidates": "Kayla Kumar, Kelsey Hill, Sandy Brown",
                  "num_races_donated_to": 1,
                  "races": "Santa Cruz City Council",
                  "total_donated": 1200
                },
                {
                  "index": 34,
                  "donor": "Jeffrey Smedberg",
                  "num_candidates_donated_to": 3,
                  "candidates": "Kayla Kumar, Kelsey Hill, Sandy Brown",
                  "num_races_donated_to": 1,
                  "races": "Santa Cruz City Council",
                  "total_donated": 1200
                },
                {
                  "index": 35,
                  "donor": "Faisal Fazilat",
                  "num_candidates_donated_to": 3,
                  "candidates": "Kayla Kumar, Kelsey Hill, Sandy Brown",
                  "num_races_donated_to": 1,
                  "races": "Santa Cruz City Council",
                  "total_donated": 1200
                },
                {
                  "index": 36,
                  "donor": "Frederick Keeley",
                  "num_candidates_donated_to": 3,
                  "candidates": "Martine Watkins, Shebreh Kalantari-Johnson, Sonja Brunner",
                  "num_races_donated_to": 1,
                  "races": "Santa Cruz City Council",
                  "total_donated": 1200
                },
                {
                  "index": 37,
                  "donor": "Jeffrey Rice",
                  "num_candidates_donated_to": 3,
                  "candidates": "Martine Watkins, Shebreh Kalantari-Johnson, Sonja Brunner",
                  "num_races_donated_to": 1,
                  "races": "Santa Cruz City Council",
                  "total_donated": 1200
                },
                {
                  "index": 38,
                  "donor": "Ken Carlson",
                  "num_candidates_donated_to": 3,
                  "candidates": "Martine Watkins, Shebreh Kalantari-Johnson, Sonja Brunner",
                  "num_races_donated_to": 1,
                  "races": "Santa Cruz City Council",
                  "total_donated": 1194.91
                },
                {
                  "index": 39,
                  "donor": "Madeleine Clyde",
                  "num_candidates_donated_to": 3,
                  "candidates": "Kayla Kumar, Kelsey Hill, Sandy Brown",
                  "num_races_donated_to": 1,
                  "races": "Santa Cruz City Council",
                  "total_donated": 1000
                },
                {
                  "index": 40,
                  "donor": "Al Ramadan",
                  "num_candidates_donated_to": 3,
                  "candidates": "Martine Watkins, Shebreh Kalantari-Johnson, Sonja Brunner",
                  "num_races_donated_to": 1,
                  "races": "Santa Cruz City Council",
                  "total_donated": 909.92
                },
                {
                  "index": 41,
                  "donor": "Chris Krohn",
                  "num_candidates_donated_to": 3,
                  "candidates": "Kayla Kumar, Kelsey Hill, Sandy Brown",
                  "num_races_donated_to": 1,
                  "races": "Santa Cruz City Council",
                  "total_donated": 900
                },
                {
                  "index": 42,
                  "donor": "Keresha Durham",
                  "num_candidates_donated_to": 3,
                  "candidates": "Kayla Kumar, Kelsey Hill, Sandy Brown",
                  "num_races_donated_to": 1,
                  "races": "Santa Cruz City Council",
                  "total_donated": 900
                },
                {
                  "index": 43,
                  "donor": "Victor Gomez",
                  "num_candidates_donated_to": 3,
                  "candidates": "Jimmy Dutra, Martine Watkins, Shebreh Kalantari-Johnson",
                  "num_races_donated_to": 2,
                  "races": "Santa Cruz City Council, Watsonville City Council",
                  "total_donated": 850
                },
                {
                  "index": 44,
                  "donor": "Katherine Beiers",
                  "num_candidates_donated_to": 3,
                  "candidates": "John Leopold, Kelsey Hill, Sandy Brown",
                  "num_races_donated_to": 2,
                  "races": "County supervisor District 1, Santa Cruz City Council",
                  "total_donated": 800
                },
                {
                  "index": 45,
                  "donor": "Gabrielle Stocker",
                  "num_candidates_donated_to": 3,
                  "candidates": "Kayla Kumar, Kelsey Hill, Sandy Brown",
                  "num_races_donated_to": 1,
                  "races": "Santa Cruz City Council",
                  "total_donated": 800
                },
                {
                  "index": 46,
                  "donor": "Coonerty for County Supervisor 2014",
                  "num_candidates_donated_to": 3,
                  "candidates": "Maria Cadenas, Martine Watkins, Sonja Brunner",
                  "num_races_donated_to": 1,
                  "races": "Santa Cruz City Council",
                  "total_donated": 750
                },
                {
                  "index": 47,
                  "donor": "Roberta Hunter",
                  "num_candidates_donated_to": 3,
                  "candidates": "Martine Watkins, Shebreh Kalantari-Johnson, Sonja Brunner",
                  "num_races_donated_to": 1,
                  "races": "Santa Cruz City Council",
                  "total_donated": 706.07
                },
                {
                  "index": 48,
                  "donor": "Stacey Falls",
                  "num_candidates_donated_to": 3,
                  "candidates": "Kayla Kumar, Kelsey Hill, Sandy Brown",
                  "num_races_donated_to": 1,
                  "races": "Santa Cruz City Council",
                  "total_donated": 700
                },
                {
                  "index": 49,
                  "donor": "Robert Stone",
                  "num_candidates_donated_to": 3,
                  "candidates": "Martine Watkins, Shebreh Kalantari-Johnson, Sonja Brunner",
                  "num_races_donated_to": 1,
                  "races": "Santa Cruz City Council",
                  "total_donated": 700
                },
                {
                  "index": 50,
                  "donor": "Ron Pomerantz",
                  "num_candidates_donated_to": 3,
                  "candidates": "Kayla Kumar, Kelsey Hill, Sandy Brown",
                  "num_races_donated_to": 1,
                  "races": "Santa Cruz City Council",
                  "total_donated": 650
                },
                {
                  "index": 51,
                  "donor": "Bruce McPherson",
                  "num_candidates_donated_to": 3,
                  "candidates": "Martine Watkins, Shebreh Kalantari-Johnson, Sonja Brunner",
                  "num_races_donated_to": 1,
                  "races": "Santa Cruz City Council",
                  "total_donated": 650
                },
                {
                  "index": 52,
                  "donor": "SEIU Healthcare Workers West PAC",
                  "num_candidates_donated_to": 3,
                  "candidates": "John Leopold, Kayla Kumar, Sandy Brown",
                  "num_races_donated_to": 2,
                  "races": "County supervisor District 1, Santa Cruz City Council",
                  "total_donated": 600
                },
                {
                  "index": 53,
                  "donor": "Robert Orrizzi",
                  "num_candidates_donated_to": 3,
                  "candidates": "Martine Watkins, Shebreh Kalantari-Johnson, Sonja Brunner",
                  "num_races_donated_to": 1,
                  "races": "Santa Cruz City Council",
                  "total_donated": 600
                },
                {
                  "index": 54,
                  "donor": "Larry Pearson",
                  "num_candidates_donated_to": 3,
                  "candidates": "Manu Koenig, Martine Watkins, Shebreh Kalantari-Johnson",
                  "num_races_donated_to": 2,
                  "races": "County supervisor District 1, Santa Cruz City Council",
                  "total_donated": 600
                },
                {
                  "index": 55,
                  "donor": "Jacquelyn Griffith",
                  "num_candidates_donated_to": 3,
                  "candidates": "Kayla Kumar, Kelsey Hill, Sandy Brown",
                  "num_races_donated_to": 1,
                  "races": "Santa Cruz City Council",
                  "total_donated": 550
                },
                {
                  "index": 56,
                  "donor": "Santa Cruz for Bernie PAC",
                  "num_candidates_donated_to": 3,
                  "candidates": "Kayla Kumar, Kelsey Hill, Sandy Brown",
                  "num_races_donated_to": 1,
                  "races": "Santa Cruz City Council",
                  "total_donated": 534
                },
                {
                  "index": 57,
                  "donor": "Micah Posner",
                  "num_candidates_donated_to": 3,
                  "candidates": "Kayla Kumar, Kelsey Hill, Sandy Brown",
                  "num_races_donated_to": 1,
                  "races": "Santa Cruz City Council",
                  "total_donated": 450
                },
                {
                  "index": 58,
                  "donor": "Denise Holbert",
                  "num_candidates_donated_to": 3,
                  "candidates": "Kayla Kumar, Kelsey Hill, Sandy Brown",
                  "num_races_donated_to": 1,
                  "races": "Santa Cruz City Council",
                  "total_donated": 450
                },
                {
                  "index": 59,
                  "donor": "Reuben Helick",
                  "num_candidates_donated_to": 3,
                  "candidates": "Martine Watkins, Shebreh Kalantari-Johnson, Sonja Brunner",
                  "num_races_donated_to": 1,
                  "races": "Santa Cruz City Council",
                  "total_donated": 404.15
                },
                {
                  "index": 60,
                  "donor": "Zach Friend",
                  "num_candidates_donated_to": 3,
                  "candidates": "Martine Watkins, Shebreh Kalantari-Johnson, Sonja Brunner",
                  "num_races_donated_to": 1,
                  "races": "Santa Cruz City Council",
                  "total_donated": 400
                },
                {
                  "index": 61,
                  "donor": "Amy Lebichuck",
                  "num_candidates_donated_to": 3,
                  "candidates": "Kayla Kumar, Kelsey Hill, Sandy Brown",
                  "num_races_donated_to": 1,
                  "races": "Santa Cruz City Council",
                  "total_donated": 400
                },
                {
                  "index": 62,
                  "donor": "Caitlin Brune",
                  "num_candidates_donated_to": 3,
                  "candidates": "Kayla Kumar, Maria Cadenas, Shebreh Kalantari-Johnson",
                  "num_races_donated_to": 1,
                  "races": "Santa Cruz City Council",
                  "total_donated": 400
                },
                {
                  "index": 63,
                  "donor": "Janet Reed",
                  "num_candidates_donated_to": 3,
                  "candidates": "Martine Watkins, Shebreh Kalantari-Johnson, Sonja Brunner",
                  "num_races_donated_to": 1,
                  "races": "Santa Cruz City Council",
                  "total_donated": 400
                },
                {
                  "index": 64,
                  "donor": "Jason Ritchey",
                  "num_candidates_donated_to": 3,
                  "candidates": "Kayla Kumar, Kelsey Hill, Sandy Brown",
                  "num_races_donated_to": 1,
                  "races": "Santa Cruz City Council",
                  "total_donated": 400
                },
                {
                  "index": 65,
                  "donor": "Paul Elerick",
                  "num_candidates_donated_to": 3,
                  "candidates": "John Leopold, Kayla Kumar, Kelsey Hill",
                  "num_races_donated_to": 2,
                  "races": "County supervisor District 1, Santa Cruz City Council",
                  "total_donated": 400
                },
                {
                  "index": 66,
                  "donor": "Sarah Ringler",
                  "num_candidates_donated_to": 3,
                  "candidates": "Kayla Kumar, Kelsey Hill, Sandy Brown",
                  "num_races_donated_to": 1,
                  "races": "Santa Cruz City Council",
                  "total_donated": 400
                },
                {
                  "index": 67,
                  "donor": "Thomas Donohue",
                  "num_candidates_donated_to": 3,
                  "candidates": "Kayla Kumar, Kelsey Hill, Sandy Brown",
                  "num_races_donated_to": 1,
                  "races": "Santa Cruz City Council",
                  "total_donated": 350
                },
                {
                  "index": 68,
                  "donor": "Leslie Conner",
                  "num_candidates_donated_to": 3,
                  "candidates": "John Leopold, Maria Cadenas, Shebreh Kalantari-Johnson",
                  "num_races_donated_to": 2,
                  "races": "County supervisor District 1, Santa Cruz City Council",
                  "total_donated": 350
                },
                {
                  "index": 69,
                  "donor": "Akiko Minami",
                  "num_candidates_donated_to": 3,
                  "candidates": "Kayla Kumar, Kelsey Hill, Sandy Brown",
                  "num_races_donated_to": 1,
                  "races": "Santa Cruz City Council",
                  "total_donated": 325
                },
                {
                  "index": 70,
                  "donor": "Deb Tracy-Proulx",
                  "num_candidates_donated_to": 3,
                  "candidates": "Martine Watkins, Shebreh Kalantari-Johnson, Sonja Brunner",
                  "num_races_donated_to": 1,
                  "races": "Santa Cruz City Council",
                  "total_donated": 304.15
                },
                {
                  "index": 71,
                  "donor": "Neal Coonerty",
                  "num_candidates_donated_to": 3,
                  "candidates": "Martine Watkins, Shebreh Kalantari-Johnson, Sonja Brunner",
                  "num_races_donated_to": 1,
                  "races": "Santa Cruz City Council",
                  "total_donated": 300
                },
                {
                  "index": 72,
                  "donor": "Bud Colligan",
                  "num_candidates_donated_to": 3,
                  "candidates": "Martine Watkins, Shebreh Kalantari-Johnson, Sonja Brunner",
                  "num_races_donated_to": 1,
                  "races": "Santa Cruz City Council",
                  "total_donated": 300
                },
                {
                  "index": 73,
                  "donor": "Michael Gasser",
                  "num_candidates_donated_to": 3,
                  "candidates": "Kayla Kumar, Kelsey Hill, Sandy Brown",
                  "num_races_donated_to": 1,
                  "races": "Santa Cruz City Council",
                  "total_donated": 300
                },
                {
                  "index": 74,
                  "donor": "Hollie Locatelli",
                  "num_candidates_donated_to": 3,
                  "candidates": "Martine Watkins, Shebreh Kalantari-Johnson, Sonja Brunner",
                  "num_races_donated_to": 1,
                  "races": "Santa Cruz City Council",
                  "total_donated": 300
                },
                {
                  "index": 75,
                  "donor": "IBEW Local 234 PAC",
                  "num_candidates_donated_to": 2,
                  "candidates": "John Leopold, Tony Gomez",
                  "num_races_donated_to": 2,
                  "races": "County supervisor District 1, Watsonville City Council",
                  "total_donated": 1468
                },
                {
                  "index": 76,
                  "donor": "Lowell Hurst",
                  "num_candidates_donated_to": 2,
                  "candidates": "Aurelio Gonzalez, Tony Gomez",
                  "num_races_donated_to": 1,
                  "races": "Watsonville City Council",
                  "total_donated": 1000
                },
                {
                  "index": 77,
                  "donor": "George Newell",
                  "num_candidates_donated_to": 2,
                  "candidates": "John Leopold, Martine Watkins",
                  "num_races_donated_to": 2,
                  "races": "County supervisor District 1, Santa Cruz City Council",
                  "total_donated": 850
                },
                {
                  "index": 78,
                  "donor": "Sheet Metal Workers International Association Local 104 PAC",
                  "num_candidates_donated_to": 2,
                  "candidates": "Kelsey Hill, Sandy Brown",
                  "num_races_donated_to": 1,
                  "races": "Santa Cruz City Council",
                  "total_donated": 800
                },
                {
                  "index": 79,
                  "donor": "Sibley Simon",
                  "num_candidates_donated_to": 2,
                  "candidates": "Kayla Kumar, Maria Cadenas",
                  "num_races_donated_to": 1,
                  "races": "Santa Cruz City Council",
                  "total_donated": 800
                },
                {
                  "index": 80,
                  "donor": "Krista Corwin",
                  "num_candidates_donated_to": 2,
                  "candidates": "Kayla Kumar, Kelsey Hill",
                  "num_races_donated_to": 1,
                  "races": "Santa Cruz City Council",
                  "total_donated": 800
                },
                {
                  "index": 81,
                  "donor": "Kayla Kumar for City Council 2020",
                  "num_candidates_donated_to": 2,
                  "candidates": "Kelsey Hill, Sandy Brown",
                  "num_races_donated_to": 1,
                  "races": "Santa Cruz City Council",
                  "total_donated": 800
                },
                {
                  "index": 82,
                  "donor": "Kathleen Tuite",
                  "num_candidates_donated_to": 2,
                  "candidates": "Maria Cadenas, Sonja Brunner",
                  "num_races_donated_to": 1,
                  "races": "Santa Cruz City Council",
                  "total_donated": 800
                },
                {
                  "index": 83,
                  "donor": "Political Action League for Monterey/Santa Cruz Counties Building & Construction Trades Council",
                  "num_candidates_donated_to": 2,
                  "candidates": "Kayla Kumar, Kelsey Hill",
                  "num_races_donated_to": 1,
                  "races": "Santa Cruz City Council",
                  "total_donated": 800
                },
                {
                  "index": 84,
                  "donor": "Tim Fitzmaurice",
                  "num_candidates_donated_to": 2,
                  "candidates": "Kayla Kumar, Sandy Brown",
                  "num_races_donated_to": 1,
                  "races": "Santa Cruz City Council",
                  "total_donated": 700
                },
                {
                  "index": 85,
                  "donor": "Gary Filizetti",
                  "num_candidates_donated_to": 2,
                  "candidates": "John Leopold, Martine Watkins",
                  "num_races_donated_to": 2,
                  "races": "County supervisor District 1, Santa Cruz City Council",
                  "total_donated": 700
                },
                {
                  "index": 86,
                  "donor": "Dan Carrillo",
                  "num_candidates_donated_to": 2,
                  "candidates": "Jimmy Dutra, Shebreh Kalantari-Johnson",
                  "num_races_donated_to": 2,
                  "races": "Santa Cruz City Council, Watsonville City Council",
                  "total_donated": 650
                },
                {
                  "index": 87,
                  "donor": "Cynthia Mathews",
                  "num_candidates_donated_to": 2,
                  "candidates": "Shebreh Kalantari-Johnson, Sonja Brunner",
                  "num_races_donated_to": 1,
                  "races": "Santa Cruz City Council",
                  "total_donated": 609.92
                },
                {
                  "index": 88,
                  "donor": "Rowland Rebele",
                  "num_candidates_donated_to": 2,
                  "candidates": "Martine Watkins, Shebreh Kalantari-Johnson",
                  "num_races_donated_to": 1,
                  "races": "Santa Cruz City Council",
                  "total_donated": 600
                },
                {
                  "index": 89,
                  "donor": "Jago Macleod",
                  "num_candidates_donated_to": 2,
                  "candidates": "Martine Watkins, Shebreh Kalantari-Johnson",
                  "num_races_donated_to": 1,
                  "races": "Santa Cruz City Council",
                  "total_donated": 600
                },
                {
                  "index": 90,
                  "donor": "Laura Macleod",
                  "num_candidates_donated_to": 2,
                  "candidates": "Martine Watkins, Shebreh Kalantari-Johnson",
                  "num_races_donated_to": 1,
                  "races": "Santa Cruz City Council",
                  "total_donated": 600
                },
                {
                  "index": 91,
                  "donor": "Christine Weir",
                  "num_candidates_donated_to": 2,
                  "candidates": "John Leopold, Sandy Brown",
                  "num_races_donated_to": 2,
                  "races": "County supervisor District 1, Santa Cruz City Council",
                  "total_donated": 600
                },
                {
                  "index": 92,
                  "donor": "Matt Farrell",
                  "num_candidates_donated_to": 2,
                  "candidates": "Martine Watkins, Sonja Brunner",
                  "num_races_donated_to": 1,
                  "races": "Santa Cruz City Council",
                  "total_donated": 508
                },
                {
                  "index": 93,
                  "donor": "Janette Karwin",
                  "num_candidates_donated_to": 2,
                  "candidates": "Kayla Kumar, Kelsey Hill",
                  "num_races_donated_to": 1,
                  "races": "Santa Cruz City Council",
                  "total_donated": 500
                },
                {
                  "index": 94,
                  "donor": "Jeremy Neuner",
                  "num_candidates_donated_to": 2,
                  "candidates": "Manu Koenig, Sonja Brunner",
                  "num_races_donated_to": 2,
                  "races": "County supervisor District 1, Santa Cruz City Council",
                  "total_donated": 500
                },
                {
                  "index": 95,
                  "donor": "Angela Chestnut",
                  "num_candidates_donated_to": 2,
                  "candidates": "Martine Watkins, Shebreh Kalantari-Johnson",
                  "num_races_donated_to": 1,
                  "races": "Santa Cruz City Council",
                  "total_donated": 500
                },
                {
                  "index": 96,
                  "donor": "Douglas Ley",
                  "num_candidates_donated_to": 2,
                  "candidates": "Martine Watkins, Shebreh Kalantari-Johnson",
                  "num_races_donated_to": 1,
                  "races": "Santa Cruz City Council",
                  "total_donated": 500
                },
                {
                  "index": 97,
                  "donor": "Sara Nelson",
                  "num_candidates_donated_to": 2,
                  "candidates": "John Leopold, Kelsey Hill",
                  "num_races_donated_to": 2,
                  "races": "County supervisor District 1, Santa Cruz City Council",
                  "total_donated": 500
                },
                {
                  "index": 98,
                  "donor": "Michael Watkins",
                  "num_candidates_donated_to": 2,
                  "candidates": "Jack Dilles, Martine Watkins",
                  "num_races_donated_to": 2,
                  "races": "Santa Cruz City Council, Scotts Valley City Council",
                  "total_donated": 500
                },
                {
                  "index": 99,
                  "donor": "Charles Vaske",
                  "num_candidates_donated_to": 2,
                  "candidates": "Elizabeth Conlan, Maria Cadenas",
                  "num_races_donated_to": 1,
                  "races": "Santa Cruz City Council",
                  "total_donated": 500
                },
                {
                  "index": 100,
                  "donor": "Linda Burroughs",
                  "num_candidates_donated_to": 2,
                  "candidates": "Martine Watkins, Shebreh Kalantari-Johnson",
                  "num_races_donated_to": 1,
                  "races": "Santa Cruz City Council",
                  "total_donated": 450
                },
                {
                  "index": 101,
                  "donor": "Louis Rittenhouse",
                  "num_candidates_donated_to": 2,
                  "candidates": "Martine Watkins, Sonja Brunner",
                  "num_races_donated_to": 1,
                  "races": "Santa Cruz City Council",
                  "total_donated": 450
                },
                {
                  "index": 102,
                  "donor": "Peter Cook",
                  "num_candidates_donated_to": 2,
                  "candidates": "Manu Koenig, Martine Watkins",
                  "num_races_donated_to": 2,
                  "races": "County supervisor District 1, Santa Cruz City Council",
                  "total_donated": 450
                },
                {
                  "index": 103,
                  "donor": "Andrew Schiffrin",
                  "num_candidates_donated_to": 2,
                  "candidates": "Kelsey Hill, Sandy Brown",
                  "num_races_donated_to": 1,
                  "races": "Santa Cruz City Council",
                  "total_donated": 450
                },
                {
                  "index": 104,
                  "donor": "Marc Zammit",
                  "num_candidates_donated_to": 2,
                  "candidates": "Jimmy Dutra, John Leopold",
                  "num_races_donated_to": 2,
                  "races": "County supervisor District 1, Watsonville City Council",
                  "total_donated": 450
                },
                {
                  "index": 105,
                  "donor": "Casey Coonerty Protti",
                  "num_candidates_donated_to": 2,
                  "candidates": "Shebreh Kalantari-Johnson, Sonja Brunner",
                  "num_races_donated_to": 1,
                  "races": "Santa Cruz City Council",
                  "total_donated": 408
                },
                {
                  "index": 106,
                  "donor": "Stephanie Harlan",
                  "num_candidates_donated_to": 2,
                  "candidates": "Jack Dilles, John Leopold",
                  "num_races_donated_to": 2,
                  "races": "County supervisor District 1, Scotts Valley City Council",
                  "total_donated": 400
                },
                {
                  "index": 107,
                  "donor": "Caleb Baskin",
                  "num_candidates_donated_to": 2,
                  "candidates": "Martine Watkins, Shebreh Kalantari-Johnson",
                  "num_races_donated_to": 1,
                  "races": "Santa Cruz City Council",
                  "total_donated": 400
                },
                {
                  "index": 108,
                  "donor": "Tom Burns",
                  "num_candidates_donated_to": 2,
                  "candidates": "Martine Watkins, Shebreh Kalantari-Johnson",
                  "num_races_donated_to": 1,
                  "races": "Santa Cruz City Council",
                  "total_donated": 400
                },
                {
                  "index": 109,
                  "donor": "Candace Brown",
                  "num_candidates_donated_to": 2,
                  "candidates": "Kayla Kumar, Sandy Brown",
                  "num_races_donated_to": 1,
                  "races": "Santa Cruz City Council",
                  "total_donated": 400
                },
                {
                  "index": 110,
                  "donor": "David Green Baskin",
                  "num_candidates_donated_to": 2,
                  "candidates": "Shebreh Kalantari-Johnson, Sonja Brunner",
                  "num_races_donated_to": 1,
                  "races": "Santa Cruz City Council",
                  "total_donated": 400
                },
                {
                  "index": 111,
                  "donor": "Casey Protti",
                  "num_candidates_donated_to": 2,
                  "candidates": "Maria Cadenas, Martine Watkins",
                  "num_races_donated_to": 1,
                  "races": "Santa Cruz City Council",
                  "total_donated": 400
                },
                {
                  "index": 112,
                  "donor": "Pedro Castillo",
                  "num_candidates_donated_to": 2,
                  "candidates": "Tony Gomez, Vanessa Quiroz-Carter",
                  "num_races_donated_to": 1,
                  "races": "Watsonville City Council",
                  "total_donated": 400
                },
                {
                  "index": 113,
                  "donor": "Georg Kluzniok",
                  "num_candidates_donated_to": 2,
                  "candidates": "Kayla Kumar, Kelsey Hill",
                  "num_races_donated_to": 1,
                  "races": "Santa Cruz City Council",
                  "total_donated": 350
                },
                {
                  "index": 114,
                  "donor": "Jessica Parr",
                  "num_candidates_donated_to": 2,
                  "candidates": "Kayla Kumar, Maria Cadenas",
                  "num_races_donated_to": 1,
                  "races": "Santa Cruz City Council",
                  "total_donated": 350
                },
                {
                  "index": 115,
                  "donor": "James Thompson",
                  "num_candidates_donated_to": 2,
                  "candidates": "Manu Koenig, Shebreh Kalantari-Johnson",
                  "num_races_donated_to": 2,
                  "races": "County supervisor District 1, Santa Cruz City Council",
                  "total_donated": 350
                },
                {
                  "index": 116,
                  "donor": "Charles Dixon",
                  "num_candidates_donated_to": 2,
                  "candidates": "Martine Watkins, Sonja Brunner",
                  "num_races_donated_to": 1,
                  "races": "Santa Cruz City Council",
                  "total_donated": 339
                },
                {
                  "index": 117,
                  "donor": "Elizabeth Clifton-Doolin",
                  "num_candidates_donated_to": 2,
                  "candidates": "Anthony Rovai, Sonja Brunner",
                  "num_races_donated_to": 2,
                  "races": "Capitola City Council, Santa Cruz City Council",
                  "total_donated": 304.15
                },
                {
                  "index": 118,
                  "donor": "Carol Pelletier",
                  "num_candidates_donated_to": 2,
                  "candidates": "Maria Cadenas, Shebreh Kalantari-Johnson",
                  "num_races_donated_to": 1,
                  "races": "Santa Cruz City Council",
                  "total_donated": 300
                },
                {
                  "index": 119,
                  "donor": "Tom Manheim",
                  "num_candidates_donated_to": 2,
                  "candidates": "Martine Watkins, Shebreh Kalantari-Johnson",
                  "num_races_donated_to": 1,
                  "races": "Santa Cruz City Council",
                  "total_donated": 300
                },
                {
                  "index": 120,
                  "donor": "Lincoln Club of Northern California",
                  "num_candidates_donated_to": 2,
                  "candidates": "Anthony Rovai, Donna Lind",
                  "num_races_donated_to": 2,
                  "races": "Capitola City Council, Scotts Valley City Council",
                  "total_donated": 300
                },
                {
                  "index": 121,
                  "donor": "David Bolger",
                  "num_candidates_donated_to": 2,
                  "candidates": "Kayla Kumar, Sandy Brown",
                  "num_races_donated_to": 1,
                  "races": "Santa Cruz City Council",
                  "total_donated": 300
                },
                {
                  "index": 122,
                  "donor": "Dana Frank",
                  "num_candidates_donated_to": 2,
                  "candidates": "Kelsey Hill, Sandy Brown",
                  "num_races_donated_to": 1,
                  "races": "Santa Cruz City Council",
                  "total_donated": 300
                },
                {
                  "index": 123,
                  "donor": "Amanda Jackson Miller",
                  "num_candidates_donated_to": 2,
                  "candidates": "John Leopold, Martine Watkins",
                  "num_races_donated_to": 2,
                  "races": "County supervisor District 1, Santa Cruz City Council",
                  "total_donated": 300
                },
                {
                  "index": 124,
                  "donor": "Rachel Dann",
                  "num_candidates_donated_to": 2,
                  "candidates": "John Leopold, Martine Watkins",
                  "num_races_donated_to": 2,
                  "races": "County supervisor District 1, Santa Cruz City Council",
                  "total_donated": 300
                },
                {
                  "index": 125,
                  "donor": "Cathy Calfo",
                  "num_candidates_donated_to": 2,
                  "candidates": "Kayla Kumar, Sandy Brown",
                  "num_races_donated_to": 1,
                  "races": "Santa Cruz City Council",
                  "total_donated": 300
                },
                {
                  "index": 126,
                  "donor": "Bricklayers & Allied Craftworkers Local #3 PAC",
                  "num_candidates_donated_to": 2,
                  "candidates": "Kayla Kumar, Kelsey Hill",
                  "num_races_donated_to": 1,
                  "races": "Santa Cruz City Council",
                  "total_donated": 300
                },
                {
                  "index": 127,
                  "donor": "Austin Comstock",
                  "num_candidates_donated_to": 2,
                  "candidates": "Jack Dilles, John Leopold",
                  "num_races_donated_to": 2,
                  "races": "County supervisor District 1, Scotts Valley City Council",
                  "total_donated": 300
                },
                {
                  "index": 128,
                  "donor": "George Jarrow",
                  "num_candidates_donated_to": 2,
                  "candidates": "Martine Watkins, Shebreh Kalantari-Johnson",
                  "num_races_donated_to": 1,
                  "races": "Santa Cruz City Council",
                  "total_donated": 300
                },
                {
                  "index": 129,
                  "donor": "David Terrazas",
                  "num_candidates_donated_to": 2,
                  "candidates": "Martine Watkins, Sonja Brunner",
                  "num_races_donated_to": 1,
                  "races": "Santa Cruz City Council",
                  "total_donated": 280.11
                },
                {
                  "index": 130,
                  "donor": "Sheila Baumgarten",
                  "num_candidates_donated_to": 2,
                  "candidates": "John Leopold, Maria Cadenas",
                  "num_races_donated_to": 2,
                  "races": "County supervisor District 1, Santa Cruz City Council",
                  "total_donated": 250
                },
                {
                  "index": 131,
                  "donor": "Branwyn Wagman",
                  "num_candidates_donated_to": 2,
                  "candidates": "Kayla Kumar, Maria Cadenas",
                  "num_races_donated_to": 1,
                  "races": "Santa Cruz City Council",
                  "total_donated": 250
                },
                {
                  "index": 132,
                  "donor": "Paul Gratz",
                  "num_candidates_donated_to": 2,
                  "candidates": "Kayla Kumar, Sandy Brown",
                  "num_races_donated_to": 1,
                  "races": "Santa Cruz City Council",
                  "total_donated": 250
                },
                {
                  "index": 133,
                  "donor": "Robert deFreitas",
                  "num_candidates_donated_to": 2,
                  "candidates": "Shebreh Kalantari-Johnson, Sonja Brunner",
                  "num_races_donated_to": 1,
                  "races": "Santa Cruz City Council",
                  "total_donated": 250
                },
                {
                  "index": 134,
                  "donor": "Donna Meyers",
                  "num_candidates_donated_to": 2,
                  "candidates": "Maria Cadenas, Shebreh Kalantari-Johnson",
                  "num_races_donated_to": 1,
                  "races": "Santa Cruz City Council",
                  "total_donated": 250
                },
                {
                  "index": 135,
                  "donor": "Len Beyea",
                  "num_candidates_donated_to": 2,
                  "candidates": "Kayla Kumar, Kelsey Hill",
                  "num_races_donated_to": 1,
                  "races": "Santa Cruz City Council",
                  "total_donated": 240
                },
                {
                  "index": 136,
                  "donor": "Elizabeth Smith",
                  "num_candidates_donated_to": 2,
                  "candidates": "Maria Cadenas, Sonja Brunner",
                  "num_races_donated_to": 1,
                  "races": "Santa Cruz City Council",
                  "total_donated": 204.15
                },
                {
                  "index": 137,
                  "donor": "Pete Kennedy",
                  "num_candidates_donated_to": 2,
                  "candidates": "Shebreh Kalantari-Johnson, Sonja Brunner",
                  "num_races_donated_to": 1,
                  "races": "Santa Cruz City Council",
                  "total_donated": 204.15
                },
                {
                  "index": 138,
                  "donor": "Rick Melrose",
                  "num_candidates_donated_to": 2,
                  "candidates": "Manu Koenig, Sonja Brunner",
                  "num_races_donated_to": 2,
                  "races": "County supervisor District 1, Santa Cruz City Council",
                  "total_donated": 204.15
                },
                {
                  "index": 139,
                  "donor": "Stacy Nagel",
                  "num_candidates_donated_to": 2,
                  "candidates": "Shebreh Kalantari-Johnson, Sonja Brunner",
                  "num_races_donated_to": 1,
                  "races": "Santa Cruz City Council",
                  "total_donated": 204.15
                },
                {
                  "index": 140,
                  "donor": "David Plumlee",
                  "num_candidates_donated_to": 2,
                  "candidates": "Martine Watkins, Sonja Brunner",
                  "num_races_donated_to": 1,
                  "races": "Santa Cruz City Council",
                  "total_donated": 204.15
                },
                {
                  "index": 141,
                  "donor": "Mari Tustin",
                  "num_candidates_donated_to": 2,
                  "candidates": "Martine Watkins, Sonja Brunner",
                  "num_races_donated_to": 1,
                  "races": "Santa Cruz City Council",
                  "total_donated": 204.15
                },
                {
                  "index": 142,
                  "donor": "Owen Lawlor",
                  "num_candidates_donated_to": 2,
                  "candidates": "Shebreh Kalantari-Johnson, Sonja Brunner",
                  "num_races_donated_to": 1,
                  "races": "Santa Cruz City Council",
                  "total_donated": 203.12
                },
                {
                  "index": 143,
                  "donor": "Stephany Aguilar",
                  "num_candidates_donated_to": 2,
                  "candidates": "Jack Dilles, John Leopold",
                  "num_races_donated_to": 2,
                  "races": "County supervisor District 1, Scotts Valley City Council",
                  "total_donated": 200
                },
                {
                  "index": 144,
                  "donor": "Bob Lamonica",
                  "num_candidates_donated_to": 2,
                  "candidates": "John Leopold, Sandy Brown",
                  "num_races_donated_to": 2,
                  "races": "County supervisor District 1, Santa Cruz City Council",
                  "total_donated": 200
                },
                {
                  "index": 145,
                  "donor": "Jeffrey Ringold",
                  "num_candidates_donated_to": 2,
                  "candidates": "John Leopold, Sandy Brown",
                  "num_races_donated_to": 2,
                  "races": "County supervisor District 1, Santa Cruz City Council",
                  "total_donated": 200
                },
                {
                  "index": 146,
                  "donor": "Katherine Roberts",
                  "num_candidates_donated_to": 2,
                  "candidates": "Manu Koenig, Martine Watkins",
                  "num_races_donated_to": 2,
                  "races": "County supervisor District 1, Santa Cruz City Council",
                  "total_donated": 200
                },
                {
                  "index": 147,
                  "donor": "Jim Reed",
                  "num_candidates_donated_to": 2,
                  "candidates": "Martine Watkins, Randy Johnson",
                  "num_races_donated_to": 2,
                  "races": "Santa Cruz City Council, Scotts Valley City Council",
                  "total_donated": 200
                },
                {
                  "index": 148,
                  "donor": "Renee Golder for City Council",
                  "num_candidates_donated_to": 2,
                  "candidates": "Martine Watkins, Sonja Brunner",
                  "num_races_donated_to": 1,
                  "races": "Santa Cruz City Council",
                  "total_donated": 200
                },
                {
                  "index": 149,
                  "donor": "Chris Benner",
                  "num_candidates_donated_to": 2,
                  "candidates": "Maria Cadenas, Shebreh Kalantari-Johnson",
                  "num_races_donated_to": 1,
                  "races": "Santa Cruz City Council",
                  "total_donated": 200
                },
                {
                  "index": 150,
                  "donor": "Nels Westman",
                  "num_candidates_donated_to": 2,
                  "candidates": "Anthony Rovai, Manu Koenig",
                  "num_races_donated_to": 2,
                  "races": "Capitola City Council, County supervisor District 1",
                  "total_donated": 200
                },
                {
                  "index": 151,
                  "donor": "Emily Buchbinder",
                  "num_candidates_donated_to": 2,
                  "candidates": "Manu Koenig, Maria Cadenas",
                  "num_races_donated_to": 2,
                  "races": "County supervisor District 1, Santa Cruz City Council",
                  "total_donated": 200
                },
                {
                  "index": 152,
                  "donor": "Michael Rein",
                  "num_candidates_donated_to": 2,
                  "candidates": "Jack Dilles, John Leopold",
                  "num_races_donated_to": 2,
                  "races": "County supervisor District 1, Scotts Valley City Council",
                  "total_donated": 200
                },
                {
                  "index": 153,
                  "donor": "Mary Jo Walker",
                  "num_candidates_donated_to": 2,
                  "candidates": "Jack Dilles, John Leopold",
                  "num_races_donated_to": 2,
                  "races": "County supervisor District 1, Scotts Valley City Council",
                  "total_donated": 200
                },
                {
                  "index": 154,
                  "donor": "Robin Kopit",
                  "num_candidates_donated_to": 2,
                  "candidates": "John Leopold, Martine Watkins",
                  "num_races_donated_to": 2,
                  "races": "County supervisor District 1, Santa Cruz City Council",
                  "total_donated": 200
                },
                {
                  "index": 155,
                  "donor": "Jack Dilles",
                  "num_candidates_donated_to": 2,
                  "candidates": "John Leopold, Martine Watkins",
                  "num_races_donated_to": 2,
                  "races": "County supervisor District 1, Santa Cruz City Council",
                  "total_donated": 200
                },
                {
                  "index": 156,
                  "donor": "Deborah Luhrman",
                  "num_candidates_donated_to": 2,
                  "candidates": "Jack Dilles, John Leopold",
                  "num_races_donated_to": 2,
                  "races": "County supervisor District 1, Scotts Valley City Council",
                  "total_donated": 200
                },
                {
                  "index": 157,
                  "donor": "Deidre Hamilton",
                  "num_candidates_donated_to": 2,
                  "candidates": "Martine Watkins, Shebreh Kalantari-Johnson",
                  "num_races_donated_to": 1,
                  "races": "Santa Cruz City Council",
                  "total_donated": 200
                },
                {
                  "index": 158,
                  "donor": "Kim Stoner",
                  "num_candidates_donated_to": 2,
                  "candidates": "Martine Watkins, Sonja Brunner",
                  "num_races_donated_to": 1,
                  "races": "Santa Cruz City Council",
                  "total_donated": 200
                },
                {
                  "index": 159,
                  "donor": "Denise Elerick",
                  "num_candidates_donated_to": 2,
                  "candidates": "Kayla Kumar, Sandy Brown",
                  "num_races_donated_to": 1,
                  "races": "Santa Cruz City Council",
                  "total_donated": 200
                },
                {
                  "index": 160,
                  "donor": "Don Lane",
                  "num_candidates_donated_to": 2,
                  "candidates": "Martine Watkins, Shebreh Kalantari-Johnson",
                  "num_races_donated_to": 1,
                  "races": "Santa Cruz City Council",
                  "total_donated": 200
                },
                {
                  "index": 161,
                  "donor": "Patricia Melehan",
                  "num_candidates_donated_to": 2,
                  "candidates": "Donna Lind, Randy Johnson",
                  "num_races_donated_to": 1,
                  "races": "Scotts Valley City Council",
                  "total_donated": 200
                },
                {
                  "index": 162,
                  "donor": "Craig Reinarman",
                  "num_candidates_donated_to": 2,
                  "candidates": "John Leopold, Sandy Brown",
                  "num_races_donated_to": 2,
                  "races": "County supervisor District 1, Santa Cruz City Council",
                  "total_donated": 200
                },
                {
                  "index": 163,
                  "donor": "Cyndi Dawson",
                  "num_candidates_donated_to": 2,
                  "candidates": "Kelsey Hill, Sandy Brown",
                  "num_races_donated_to": 1,
                  "races": "Santa Cruz City Council",
                  "total_donated": 200
                },
                {
                  "index": 164,
                  "donor": "Gary Patton",
                  "num_candidates_donated_to": 2,
                  "candidates": "John Leopold, Sandy Brown",
                  "num_races_donated_to": 2,
                  "races": "County supervisor District 1, Santa Cruz City Council",
                  "total_donated": 150
                },
                {
                  "index": 165,
                  "donor": "Nora Hochman",
                  "num_candidates_donated_to": 2,
                  "candidates": "Kelsey Hill, Sandy Brown",
                  "num_races_donated_to": 1,
                  "races": "Santa Cruz City Council",
                  "total_donated": 100
                }
              ]
            }
          },
          "metadata": {}
        }
      ],
      "execution_count": null,
      "metadata": {
        "noteable": {
          "cell_type": "sql",
          "db_connection": "@2b38d1248d17413982b2e98f93c4c20e"
        },
        "dx": {
          "annotationsRulesByID": {
            "first-view": [],
            "transitory": {
              "first-view": []
            }
          },
          "dashboard": {
            "multiViews": []
          },
          "decoration": {},
          "fieldMetadata": {
            "candidates": {
              "columnPosition": 4
            },
            "donor": {
              "columnPosition": 2
            },
            "index": {
              "columnPosition": 1
            },
            "num_candidates_donated_to": {
              "columnPosition": 3,
              "sort": "desc"
            },
            "num_races_donated_to": {
              "columnPosition": 5
            },
            "races": {
              "columnPosition": 6
            },
            "total_donated": {
              "columnPosition": 7
            }
          },
          "mode": "exploration",
          "sampling": {
            "sampleSeed": 152726726162,
            "sampleSize": 10000,
            "sampleStrategy": "none"
          },
          "simpleTable": false,
          "styles": {
            "colors": []
          },
          "updated": 1657110890778,
          "views": [
            {
              "chart": {
                "adjacencyList": "donor",
                "areaType": "hexbin",
                "barGrouping": "Clustered",
                "barProjection": "vertical",
                "barSubcategory": "none",
                "baseLayer": "world",
                "baseLayerFill": "#FFFFFF",
                "baseLayerStroke": "#000000",
                "bgColor": "none",
                "boundingSettings": {
                  "index": {
                    "lowerBoundingMetric": "none",
                    "upperBoundingMetric": "none"
                  },
                  "num_candidates_donated_to": {
                    "lowerBoundingMetric": "none",
                    "upperBoundingMetric": "none"
                  },
                  "num_races_donated_to": {
                    "lowerBoundingMetric": "none",
                    "upperBoundingMetric": "none"
                  },
                  "total_donated": {
                    "lowerBoundingMetric": "none",
                    "upperBoundingMetric": "none"
                  }
                },
                "boundingType": "absolute",
                "boxplotOutliers": false,
                "candleClose": "num_candidates_donated_to",
                "candleHigh": "num_candidates_donated_to",
                "candleLow": "num_candidates_donated_to",
                "candleOpen": "num_candidates_donated_to",
                "candlestickMode": false,
                "combinationMode": "AVG",
                "deselectedKeysHash": {},
                "dim1": "index",
                "dim2": "donor",
                "dim3": "none",
                "edgeMode": "edge list",
                "facetMetrics": [],
                "filteredDataOnly": "All Data",
                "funnelData": "metric",
                "funnelMetricOrder": [
                  "index",
                  "num_candidates_donated_to",
                  "num_races_donated_to",
                  "total_donated"
                ],
                "funnelMode": "bar",
                "hierarchyType": "dendrogram",
                "layerSettings": [
                  {
                    "color": "#000000",
                    "hoverOpts": {
                      "dims": [
                        "index",
                        "donor",
                        "num_candidates_donated_to",
                        "candidates",
                        "num_races_donated_to",
                        "races"
                      ],
                      "mets": [
                        "index",
                        "num_candidates_donated_to",
                        "num_races_donated_to",
                        "total_donated"
                      ]
                    },
                    "id": "baea6ab3-aed4-49d8-956c-bee83f3cea4f",
                    "latDim": "index",
                    "longDim": "num_candidates_donated_to",
                    "pointSizeOpts": {
                      "max": 165,
                      "met": "index",
                      "min": 0,
                      "mode": "functional",
                      "scale": "Linear",
                      "size": 2,
                      "sizeMax": 10,
                      "sizeMin": 1
                    },
                    "size": 2,
                    "stroke": "#000000",
                    "strokeWidth": 1,
                    "transparency": 0.9,
                    "type": "point"
                  }
                ],
                "lineSmoothing": "none",
                "lineType": "line",
                "mapMode": "point",
                "mapZoom": "basemap",
                "marginalGraphics": "none",
                "metric1": "index",
                "metric2": "num_candidates_donated_to",
                "metric3": "none",
                "metric4": "none",
                "networkLabel": "none",
                "networkType": "force",
                "parCoordsColor": "none",
                "pieceType": "bar",
                "pointBarMode": "bar",
                "primaryKey": [],
                "proBarMode": "Combined",
                "scatterplotColor": "none",
                "secondBarMetric": "none",
                "selectedDimensions": [
                  "num_races_donated_to"
                ],
                "selectedMetrics": [],
                "showContours": false,
                "showTotal": true,
                "sortColumnsBy": "asc-val",
                "sparkchart": "none",
                "splitLinesBy": "none",
                "splomMode": "correlation",
                "summaryBins": 30,
                "summaryType": "violin",
                "surveyResponses": {
                  "negative": [],
                  "neutral": [],
                  "positive": []
                },
                "timeseriesSort": "none",
                "tokenMetric": "num_candidates_donated_to",
                "trendLine": "none",
                "violinIQR": false
              },
              "chartMode": "grid",
              "decoration": {
                "footer": "",
                "subtitle": "",
                "title": "Table"
              },
              "filterSettings": {
                "SHOW_FILTER_PANEL": true,
                "filters": []
              },
              "id": "first-view",
              "isDefault": true,
              "type": "public",
              "userID": ""
            }
          ]
        },
        "jupyter": {
          "source_hidden": false
        }
      },
      "id": "238f38e6-125f-49ad-9f1b-ec6ec7939a38"
    },
    {
      "cell_type": "markdown",
      "source": [
        "## Any connection between donor and candidate?"
      ],
      "metadata": {
        "noteable": {
          "cell_type": "markdown"
        }
      },
      "id": "0b306582-f794-487f-9e36-b7e07d0f393c"
    },
    {
      "cell_type": "code",
      "source": [
        "%%sql @2b38d1248d17413982b2e98f93c4c20e\n",
        "select\n",
        "    donor,\n",
        "    candidate,\n",
        "    sum(amount) as total_donations,\n",
        "    count(*) as num_donations\n",
        "from donations\n",
        "where donor_last_name = candidate_last_name\n",
        "group by 1, 2\n",
        "order by 3 desc, 1, 2"
      ],
      "outputs": [
        {
          "output_type": "execute_result",
          "execution_count": 37,
          "data": {
            "application/vnd.dataresource+json": {
              "schema": {
                "fields": [
                  {
                    "name": "index",
                    "type": "integer"
                  },
                  {
                    "name": "donor",
                    "type": "string"
                  },
                  {
                    "name": "candidate",
                    "type": "string"
                  },
                  {
                    "name": "total_donations",
                    "type": "number"
                  },
                  {
                    "name": "num_donations",
                    "type": "integer"
                  }
                ],
                "primaryKey": [
                  "index"
                ],
                "pandas_version": "1.4.0"
              },
              "data": [
                {
                  "index": 0,
                  "donor": "Elizabeth Conlan",
                  "candidate": "Elizabeth Conlan",
                  "total_donations": 2145,
                  "num_donations": 4
                },
                {
                  "index": 1,
                  "donor": "Alicia Kuhl",
                  "candidate": "Alicia Kuhl",
                  "total_donations": 1678,
                  "num_donations": 1
                },
                {
                  "index": 2,
                  "donor": "Anne Watkins",
                  "candidate": "Martine Watkins",
                  "total_donations": 400,
                  "num_donations": 1
                },
                {
                  "index": 3,
                  "donor": "Justin Watkins",
                  "candidate": "Martine Watkins",
                  "total_donations": 400,
                  "num_donations": 2
                },
                {
                  "index": 4,
                  "donor": "Michael Watkins",
                  "candidate": "Martine Watkins",
                  "total_donations": 400,
                  "num_donations": 1
                },
                {
                  "index": 5,
                  "donor": "Reggie Watkins",
                  "candidate": "Martine Watkins",
                  "total_donations": 400,
                  "num_donations": 1
                },
                {
                  "index": 6,
                  "donor": "Brain Petersen",
                  "candidate": "Kristen Petersen",
                  "total_donations": 200,
                  "num_donations": 1
                },
                {
                  "index": 7,
                  "donor": "Candace Brown",
                  "candidate": "Sandy Brown",
                  "total_donations": 200,
                  "num_donations": 1
                },
                {
                  "index": 8,
                  "donor": "Mary Ann Rovai",
                  "candidate": "Anthony Rovai",
                  "total_donations": 200,
                  "num_donations": 1
                },
                {
                  "index": 9,
                  "donor": "Sandra Quiroz-Carter",
                  "candidate": "Vanessa Quiroz-Carter",
                  "total_donations": 200,
                  "num_donations": 1
                },
                {
                  "index": 10,
                  "donor": "David Leopold",
                  "candidate": "John Leopold",
                  "total_donations": 100,
                  "num_donations": 1
                },
                {
                  "index": 11,
                  "donor": "Edda Brunner",
                  "candidate": "Sonja Brunner",
                  "total_donations": 100,
                  "num_donations": 1
                },
                {
                  "index": 12,
                  "donor": "Lois Keiser",
                  "candidate": "Margaux Keiser",
                  "total_donations": 100,
                  "num_donations": 1
                },
                {
                  "index": 13,
                  "donor": "Matthew Leopold",
                  "candidate": "John Leopold",
                  "total_donations": 100,
                  "num_donations": 1
                }
              ]
            }
          },
          "metadata": {}
        }
      ],
      "execution_count": null,
      "metadata": {
        "noteable": {
          "cell_type": "sql",
          "db_connection": "@2b38d1248d17413982b2e98f93c4c20e"
        },
        "dx": {
          "simpleTable": true,
          "simpleTableExpanded": true
        },
        "jupyter": {
          "source_hidden": false
        }
      },
      "id": "a9461284-7fce-4326-b8bf-6976695ee274"
    },
    {
      "cell_type": "markdown",
      "source": [
        "## Did anyone from outside CA donate?\n"
      ],
      "metadata": {
        "noteable": {
          "cell_type": "markdown"
        }
      },
      "id": "b953098a-a1b1-4f73-a6bb-bbe193a4f64f"
    },
    {
      "cell_type": "code",
      "source": [
        "%%sql @2b38d1248d17413982b2e98f93c4c20e\n",
        "select donor_state as state, sum(amount) as amount_donated\n",
        "from donations\n",
        "where donor_state != 'CA'\n",
        "group by 1 order by 2 desc"
      ],
      "outputs": [
        {
          "output_type": "execute_result",
          "execution_count": 38,
          "data": {
            "application/vnd.dataresource+json": {
              "schema": {
                "fields": [
                  {
                    "name": "index",
                    "type": "integer"
                  },
                  {
                    "name": "state",
                    "type": "string"
                  },
                  {
                    "name": "amount_donated",
                    "type": "number"
                  }
                ],
                "primaryKey": [
                  "index"
                ],
                "pandas_version": "1.4.0"
              },
              "data": [
                {
                  "index": 0,
                  "state": "WA",
                  "amount_donated": 1750
                },
                {
                  "index": 1,
                  "state": "NY",
                  "amount_donated": 1609.92
                },
                {
                  "index": 2,
                  "state": "CO",
                  "amount_donated": 1459.92
                },
                {
                  "index": 3,
                  "state": "PA",
                  "amount_donated": 1020
                },
                {
                  "index": 4,
                  "state": "",
                  "amount_donated": 650
                },
                {
                  "index": 5,
                  "state": "ID",
                  "amount_donated": 650
                },
                {
                  "index": 6,
                  "state": "MA",
                  "amount_donated": 600
                },
                {
                  "index": 7,
                  "state": "NC",
                  "amount_donated": 504.15
                },
                {
                  "index": 8,
                  "state": "OR",
                  "amount_donated": 500
                },
                {
                  "index": 9,
                  "state": "MT",
                  "amount_donated": 500
                },
                {
                  "index": 10,
                  "state": "NJ",
                  "amount_donated": 350
                },
                {
                  "index": 11,
                  "state": "DC",
                  "amount_donated": 350
                },
                {
                  "index": 12,
                  "state": "OH",
                  "amount_donated": 300
                },
                {
                  "index": 13,
                  "state": "FL",
                  "amount_donated": 300
                },
                {
                  "index": 14,
                  "state": "MN",
                  "amount_donated": 300
                },
                {
                  "index": 15,
                  "state": "TX",
                  "amount_donated": 300
                },
                {
                  "index": 16,
                  "state": "AZ",
                  "amount_donated": 250
                },
                {
                  "index": 17,
                  "state": "VA",
                  "amount_donated": 200
                },
                {
                  "index": 18,
                  "state": "BRITISH COLUMBIA",
                  "amount_donated": 200
                },
                {
                  "index": 19,
                  "state": "NV",
                  "amount_donated": 200
                },
                {
                  "index": 20,
                  "state": "ME",
                  "amount_donated": 200
                },
                {
                  "index": 21,
                  "state": "GA",
                  "amount_donated": 100
                },
                {
                  "index": 22,
                  "state": "HI",
                  "amount_donated": 100
                },
                {
                  "index": 23,
                  "state": "NM",
                  "amount_donated": 100
                },
                {
                  "index": 24,
                  "state": "WI",
                  "amount_donated": 100
                }
              ]
            }
          },
          "metadata": {}
        }
      ],
      "execution_count": null,
      "metadata": {
        "noteable": {
          "cell_type": "sql",
          "db_connection": "@2b38d1248d17413982b2e98f93c4c20e"
        },
        "jupyter": {
          "outputs_hidden": false,
          "source_hidden": true
        },
        "dx": {
          "dashboard": {
            "multiViews": []
          },
          "decoration": {},
          "fieldMetadata": {
            "amount_donated": {
              "columnPosition": 2
            },
            "index": {
              "columnPosition": 1
            },
            "state": {
              "columnPosition": 3
            }
          },
          "simpleTable": false,
          "styles": {
            "colors": []
          },
          "updated": 1663100754326,
          "views": [
            {
              "annotationRules": [],
              "chart": {
                "adjacencyList": "state",
                "areaType": "hexbin",
                "barGrouping": "Clustered",
                "barProjection": "vertical",
                "barSubcategory": "none",
                "baseLayer": "us_states_inset",
                "baseLayerFill": "#000000",
                "baseLayerStroke": "#000000",
                "bgColor": "none",
                "boundingSettings": {
                  "amount_donated": {
                    "lowerBoundingMetric": "none",
                    "upperBoundingMetric": "none"
                  },
                  "index": {
                    "lowerBoundingMetric": "none",
                    "upperBoundingMetric": "none"
                  }
                },
                "boundingType": "absolute",
                "boxplotOutliers": false,
                "candleClose": "amount_donated",
                "candleHigh": "amount_donated",
                "candleLow": "amount_donated",
                "candleOpen": "amount_donated",
                "candlestickMode": false,
                "combinationMode": "AVG",
                "deselectedKeysHash": {},
                "dim1": "index",
                "dim2": "state",
                "dim3": "none",
                "edgeMode": "edge list",
                "facetMetrics": [],
                "facets": [],
                "filteredDataOnly": "All Data",
                "formulaDisplay": "none",
                "funnelData": "metric",
                "funnelMetricOrder": [
                  "index",
                  "amount_donated"
                ],
                "funnelMode": "bar",
                "hierarchyType": "dendrogram",
                "layerSettings": [
                  {
                    "color": "#000000",
                    "hoverOpts": {
                      "dims": [
                        "index",
                        "state"
                      ],
                      "mets": [
                        "index",
                        "amount_donated"
                      ]
                    },
                    "id": "16e9e107-9430-44a1-822b-6385f80e6016",
                    "latDim": "index",
                    "longDim": "amount_donated",
                    "pointSizeOpts": {
                      "max": 24,
                      "met": "index",
                      "min": 0,
                      "mode": "functional",
                      "scale": "Linear",
                      "size": 2,
                      "sizeMax": 10,
                      "sizeMin": 1
                    },
                    "size": 2,
                    "stroke": "#000000",
                    "strokeWidth": 1,
                    "transparency": 0.9,
                    "type": "point"
                  },
                  {
                    "combinationMetric": "amount_donated",
                    "combinationMode": "SUM",
                    "fill": "#ffffff",
                    "hoverOpts": {
                      "dims": [
                        "index",
                        "state"
                      ],
                      "mets": [
                        "index",
                        "amount_donated"
                      ]
                    },
                    "id": "32074aec-3ab2-4880-a539-7036f1c3cd7f",
                    "joinDim": "state",
                    "stroke": "#000000",
                    "strokeWidth": 0,
                    "transparency": 0.9,
                    "type": "choro"
                  }
                ],
                "lineSmoothing": "none",
                "lineType": "line",
                "mapMode": "choro",
                "mapZoom": "basemap",
                "marginalGraphics": "none",
                "metric1": "index",
                "metric2": "amount_donated",
                "metric3": "none",
                "metric4": "none",
                "multiAxisLine": false,
                "networkLabel": "none",
                "networkType": "force",
                "parCoordsColor": "none",
                "pieceType": "bar",
                "pointBarMode": "bar",
                "primaryKey": [],
                "proBarMode": "Combined",
                "scatterplotColor": "none",
                "secondBarMetric": "none",
                "selectedDimensions": [
                  "index"
                ],
                "selectedMetrics": [],
                "selectedMetricsDiverging": [],
                "showContours": false,
                "showTotal": true,
                "sortColumnsBy": "asc-val",
                "sparkchart": "none",
                "splitLinesBy": "none",
                "splomMode": "correlation",
                "summaryBins": 30,
                "summaryType": "violin",
                "surveyDataType": "row",
                "surveyResponses": {
                  "negative": [],
                  "neutral": [],
                  "positive": []
                },
                "timeseriesSort": "none",
                "tokenMetric": "amount_donated",
                "trendLine": "none",
                "violinIQR": false,
                "zeroBaseline": false
              },
              "chartMode": "map",
              "confoRules": [
                {
                  "colorOpts": {
                    "color": null,
                    "colorsHash": null,
                    "cond": null,
                    "gradient": "Turbo",
                    "max": 1750,
                    "min": 100,
                    "mode": "gradient",
                    "scale": "Linear",
                    "thresholdColors": null,
                    "thresholdValues": null
                  },
                  "columnType": "Metric",
                  "fieldName": "amount_donated",
                  "id": "ffbefea2-7aca-4227-b097-5932c8446594",
                  "index": 1,
                  "name": ""
                }
              ],
              "decoration": {
                "footer": "",
                "subtitle": "",
                "title": "Table"
              },
              "filterSettings": {
                "SHOW_FILTER_PANEL": true,
                "filters": []
              },
              "id": "first-view",
              "isComment": false,
              "isDefault": true,
              "isTransitory": false,
              "type": "public",
              "userID": ""
            },
            {
              "annotationRules": [],
              "chart": {
                "adjacencyList": "state",
                "areaType": "hexbin",
                "barGrouping": "Clustered",
                "barProjection": "vertical",
                "barSubcategory": "none",
                "baseLayer": "us_states_inset",
                "baseLayerFill": "#000000",
                "baseLayerStroke": "#000000",
                "bgColor": "none",
                "boundingSettings": {
                  "amount_donated": {
                    "lowerBoundingMetric": "none",
                    "upperBoundingMetric": "none"
                  },
                  "index": {
                    "lowerBoundingMetric": "none",
                    "upperBoundingMetric": "none"
                  }
                },
                "boundingType": "absolute",
                "boxplotOutliers": false,
                "candleClose": "amount_donated",
                "candleHigh": "amount_donated",
                "candleLow": "amount_donated",
                "candleOpen": "amount_donated",
                "candlestickMode": false,
                "combinationMode": "AVG",
                "deselectedKeysHash": {},
                "dim1": "index",
                "dim2": "state",
                "dim3": "none",
                "edgeMode": "edge list",
                "facetMetrics": [],
                "facets": [],
                "filteredDataOnly": "All Data",
                "formulaDisplay": "none",
                "funnelData": "metric",
                "funnelMetricOrder": [
                  "index",
                  "amount_donated"
                ],
                "funnelMode": "bar",
                "hierarchyType": "dendrogram",
                "layerSettings": [
                  {
                    "color": "#000000",
                    "hoverOpts": {
                      "dims": [
                        "index",
                        "state"
                      ],
                      "mets": [
                        "index",
                        "amount_donated"
                      ]
                    },
                    "id": "16e9e107-9430-44a1-822b-6385f80e6016",
                    "latDim": "index",
                    "longDim": "amount_donated",
                    "pointSizeOpts": {
                      "max": 24,
                      "met": "index",
                      "min": 0,
                      "mode": "functional",
                      "scale": "Linear",
                      "size": 2,
                      "sizeMax": 10,
                      "sizeMin": 1
                    },
                    "size": 2,
                    "stroke": "#000000",
                    "strokeWidth": 1,
                    "transparency": 0.9,
                    "type": "point"
                  },
                  {
                    "combinationMetric": "amount_donated",
                    "combinationMode": "SUM",
                    "fill": "#ffffff",
                    "hoverOpts": {
                      "dims": [
                        "index",
                        "state"
                      ],
                      "mets": [
                        "amount_donated",
                        "index"
                      ]
                    },
                    "id": "32074aec-3ab2-4880-a539-7036f1c3cd7f",
                    "joinDim": "state",
                    "stroke": "#000000",
                    "strokeWidth": 0,
                    "transparency": 0.9,
                    "type": "choro"
                  }
                ],
                "lineSmoothing": "none",
                "lineType": "line",
                "mapMode": "choro",
                "mapZoom": "basemap",
                "marginalGraphics": "none",
                "metric1": "index",
                "metric2": "amount_donated",
                "metric3": "none",
                "metric4": "none",
                "multiAxisLine": false,
                "networkLabel": "none",
                "networkType": "force",
                "parCoordsColor": "none",
                "pieceType": "bar",
                "pointBarMode": "bar",
                "primaryKey": [],
                "proBarMode": "Combined",
                "scatterplotColor": "none",
                "secondBarMetric": "none",
                "selectedDimensions": [
                  "index"
                ],
                "selectedMetrics": [],
                "selectedMetricsDiverging": [],
                "showContours": false,
                "showTotal": true,
                "sortColumnsBy": "asc-val",
                "sparkchart": "none",
                "splitLinesBy": "none",
                "splomMode": "correlation",
                "summaryBins": 30,
                "summaryType": "violin",
                "surveyDataType": "row",
                "surveyResponses": {
                  "negative": [],
                  "neutral": [],
                  "positive": []
                },
                "timeseriesSort": "none",
                "tokenMetric": "amount_donated",
                "trendLine": "none",
                "violinIQR": false,
                "zeroBaseline": false
              },
              "chartMode": "map",
              "confoRules": [
                {
                  "colorOpts": {
                    "color": null,
                    "colorsHash": null,
                    "cond": null,
                    "gradient": "Turbo",
                    "max": 1750,
                    "min": 100,
                    "mode": "gradient",
                    "scale": "Linear",
                    "thresholdColors": null,
                    "thresholdValues": null
                  },
                  "columnType": "Metric",
                  "fieldName": "amount_donated",
                  "id": "ffbefea2-7aca-4227-b097-5932c8446594",
                  "index": 1,
                  "name": ""
                }
              ],
              "decoration": {
                "footer": "",
                "subtitle": "",
                "title": "Table"
              },
              "filterSettings": {
                "SHOW_FILTER_PANEL": true,
                "filters": []
              },
              "id": "first-view",
              "isComment": false,
              "isDefault": true,
              "isTransitory": true,
              "type": "public",
              "userID": ""
            }
          ]
        }
      },
      "id": "8da3d265-7941-49e2-99c5-46f1b7deebd9"
    },
    {
      "cell_type": "markdown",
      "source": [
        "## How far in advance of the deadline were people donating?"
      ],
      "metadata": {
        "noteable": {
          "cell_type": "markdown"
        }
      },
      "id": "b71be324-f8f5-467a-901b-ee01c40cde80"
    },
    {
      "cell_type": "code",
      "source": [
        "%%sql @2b38d1248d17413982b2e98f93c4c20e\n",
        "select race,\n",
        "    min(donation_date)::text as earliest_donation,\n",
        "    max(donation_date) - min(donation_date) as days_between_first_and_last_donation\n",
        "from donations\n",
        "group by 1\n",
        "order by 2"
      ],
      "outputs": [
        {
          "output_type": "execute_result",
          "execution_count": 39,
          "data": {
            "application/vnd.dataresource+json": {
              "schema": {
                "fields": [
                  {
                    "name": "index",
                    "type": "integer"
                  },
                  {
                    "name": "race",
                    "type": "string"
                  },
                  {
                    "name": "earliest_donation",
                    "type": "string"
                  },
                  {
                    "name": "days_between_first_and_last_donation",
                    "type": "integer"
                  }
                ],
                "primaryKey": [
                  "index"
                ],
                "pandas_version": "1.4.0"
              },
              "data": [
                {
                  "index": 0,
                  "race": "Santa Cruz City Council",
                  "earliest_donation": "2020-06-15",
                  "days_between_first_and_last_donation": 123
                },
                {
                  "index": 1,
                  "race": "County supervisor District 1",
                  "earliest_donation": "2020-07-01",
                  "days_between_first_and_last_donation": 108
                },
                {
                  "index": 2,
                  "race": "Capitola City Council",
                  "earliest_donation": "2020-07-03",
                  "days_between_first_and_last_donation": 101
                },
                {
                  "index": 3,
                  "race": "Watsonville City Council",
                  "earliest_donation": "2020-07-11",
                  "days_between_first_and_last_donation": 98
                },
                {
                  "index": 4,
                  "race": "Scotts Valley City Council",
                  "earliest_donation": "2020-08-12",
                  "days_between_first_and_last_donation": 66
                }
              ]
            }
          },
          "metadata": {}
        }
      ],
      "execution_count": null,
      "metadata": {
        "noteable": {
          "cell_type": "sql",
          "db_connection": "@2b38d1248d17413982b2e98f93c4c20e"
        },
        "jupyter": {
          "source_hidden": false
        },
        "dx": {
          "simpleTable": true
        }
      },
      "id": "81a7e45a-66fd-4e54-b7ff-4df9b8f26529"
    },
    {
      "cell_type": "code",
      "source": [
        "%%sql @2b38d1248d17413982b2e98f93c4c20e\n",
        "select donation_date::timestamp,\n",
        "    count(*) as num_donations,\n",
        "    sum(amount) as total_donated_amount,\n",
        "    avg(amount) as avg_donated_amount\n",
        "from donations\n",
        "where donation_date is not null\n",
        "group by 1\n",
        "order by 1"
      ],
      "outputs": [
        {
          "output_type": "execute_result",
          "execution_count": 6,
          "data": {
            "application/vnd.dataresource+json": {
              "schema": {
                "fields": [
                  {
                    "name": "index",
                    "type": "integer"
                  },
                  {
                    "name": "donation_date",
                    "type": "datetime"
                  },
                  {
                    "name": "num_donations",
                    "type": "integer"
                  },
                  {
                    "name": "total_donated_amount",
                    "type": "number"
                  },
                  {
                    "name": "avg_donated_amount",
                    "type": "number"
                  }
                ],
                "primaryKey": [
                  "index"
                ],
                "pandas_version": "1.4.0"
              },
              "data": [
                {
                  "index": 0,
                  "donation_date": "2020-06-15T00:00:00.000Z",
                  "num_donations": 1,
                  "total_donated_amount": 61.88,
                  "avg_donated_amount": 61.88
                },
                {
                  "index": 1,
                  "donation_date": "2020-07-01T00:00:00.000Z",
                  "num_donations": 4,
                  "total_donated_amount": 1750,
                  "avg_donated_amount": 437.5
                },
                {
                  "index": 2,
                  "donation_date": "2020-07-02T00:00:00.000Z",
                  "num_donations": 6,
                  "total_donated_amount": 600,
                  "avg_donated_amount": 100
                },
                {
                  "index": 3,
                  "donation_date": "2020-07-03T00:00:00.000Z",
                  "num_donations": 5,
                  "total_donated_amount": 1800,
                  "avg_donated_amount": 360
                },
                {
                  "index": 4,
                  "donation_date": "2020-07-04T00:00:00.000Z",
                  "num_donations": 2,
                  "total_donated_amount": 200,
                  "avg_donated_amount": 100
                },
                {
                  "index": 5,
                  "donation_date": "2020-07-05T00:00:00.000Z",
                  "num_donations": 3,
                  "total_donated_amount": 650,
                  "avg_donated_amount": 216.6666666667
                },
                {
                  "index": 6,
                  "donation_date": "2020-07-06T00:00:00.000Z",
                  "num_donations": 2,
                  "total_donated_amount": 800,
                  "avg_donated_amount": 400
                },
                {
                  "index": 7,
                  "donation_date": "2020-07-07T00:00:00.000Z",
                  "num_donations": 6,
                  "total_donated_amount": 1200,
                  "avg_donated_amount": 200
                },
                {
                  "index": 8,
                  "donation_date": "2020-07-08T00:00:00.000Z",
                  "num_donations": 7,
                  "total_donated_amount": 1250,
                  "avg_donated_amount": 178.5714285714
                },
                {
                  "index": 9,
                  "donation_date": "2020-07-09T00:00:00.000Z",
                  "num_donations": 5,
                  "total_donated_amount": 902,
                  "avg_donated_amount": 180.4
                },
                {
                  "index": 10,
                  "donation_date": "2020-07-10T00:00:00.000Z",
                  "num_donations": 4,
                  "total_donated_amount": 1000,
                  "avg_donated_amount": 250
                },
                {
                  "index": 11,
                  "donation_date": "2020-07-11T00:00:00.000Z",
                  "num_donations": 1,
                  "total_donated_amount": 250,
                  "avg_donated_amount": 250
                },
                {
                  "index": 12,
                  "donation_date": "2020-07-12T00:00:00.000Z",
                  "num_donations": 3,
                  "total_donated_amount": 550,
                  "avg_donated_amount": 183.3333333333
                },
                {
                  "index": 13,
                  "donation_date": "2020-07-13T00:00:00.000Z",
                  "num_donations": 5,
                  "total_donated_amount": 600,
                  "avg_donated_amount": 120
                },
                {
                  "index": 14,
                  "donation_date": "2020-07-14T00:00:00.000Z",
                  "num_donations": 4,
                  "total_donated_amount": 900,
                  "avg_donated_amount": 225
                },
                {
                  "index": 15,
                  "donation_date": "2020-07-15T00:00:00.000Z",
                  "num_donations": 11,
                  "total_donated_amount": 3028,
                  "avg_donated_amount": 275.2727272727
                },
                {
                  "index": 16,
                  "donation_date": "2020-07-16T00:00:00.000Z",
                  "num_donations": 8,
                  "total_donated_amount": 1250,
                  "avg_donated_amount": 156.25
                },
                {
                  "index": 17,
                  "donation_date": "2020-07-17T00:00:00.000Z",
                  "num_donations": 5,
                  "total_donated_amount": 900,
                  "avg_donated_amount": 180
                },
                {
                  "index": 18,
                  "donation_date": "2020-07-18T00:00:00.000Z",
                  "num_donations": 1,
                  "total_donated_amount": 200,
                  "avg_donated_amount": 200
                },
                {
                  "index": 19,
                  "donation_date": "2020-07-19T00:00:00.000Z",
                  "num_donations": 4,
                  "total_donated_amount": 800,
                  "avg_donated_amount": 200
                },
                {
                  "index": 20,
                  "donation_date": "2020-07-20T00:00:00.000Z",
                  "num_donations": 8,
                  "total_donated_amount": 2000,
                  "avg_donated_amount": 250
                },
                {
                  "index": 21,
                  "donation_date": "2020-07-21T00:00:00.000Z",
                  "num_donations": 9,
                  "total_donated_amount": 1450,
                  "avg_donated_amount": 161.1111111111
                },
                {
                  "index": 22,
                  "donation_date": "2020-07-22T00:00:00.000Z",
                  "num_donations": 27,
                  "total_donated_amount": 5000.83,
                  "avg_donated_amount": 185.2159259259
                },
                {
                  "index": 23,
                  "donation_date": "2020-07-23T00:00:00.000Z",
                  "num_donations": 13,
                  "total_donated_amount": 3134.57,
                  "avg_donated_amount": 241.1207692308
                },
                {
                  "index": 24,
                  "donation_date": "2020-07-24T00:00:00.000Z",
                  "num_donations": 17,
                  "total_donated_amount": 3786.92,
                  "avg_donated_amount": 222.76
                },
                {
                  "index": 25,
                  "donation_date": "2020-07-25T00:00:00.000Z",
                  "num_donations": 6,
                  "total_donated_amount": 1365.99,
                  "avg_donated_amount": 227.665
                },
                {
                  "index": 26,
                  "donation_date": "2020-07-26T00:00:00.000Z",
                  "num_donations": 8,
                  "total_donated_amount": 1808.3,
                  "avg_donated_amount": 226.0375
                },
                {
                  "index": 27,
                  "donation_date": "2020-07-27T00:00:00.000Z",
                  "num_donations": 13,
                  "total_donated_amount": 3100,
                  "avg_donated_amount": 238.4615384615
                },
                {
                  "index": 28,
                  "donation_date": "2020-07-28T00:00:00.000Z",
                  "num_donations": 7,
                  "total_donated_amount": 700,
                  "avg_donated_amount": 100
                },
                {
                  "index": 29,
                  "donation_date": "2020-07-29T00:00:00.000Z",
                  "num_donations": 14,
                  "total_donated_amount": 5200,
                  "avg_donated_amount": 371.4285714286
                },
                {
                  "index": 30,
                  "donation_date": "2020-07-30T00:00:00.000Z",
                  "num_donations": 9,
                  "total_donated_amount": 2403.12,
                  "avg_donated_amount": 267.0133333333
                },
                {
                  "index": 31,
                  "donation_date": "2020-07-31T00:00:00.000Z",
                  "num_donations": 9,
                  "total_donated_amount": 3200,
                  "avg_donated_amount": 355.5555555556
                },
                {
                  "index": 32,
                  "donation_date": "2020-08-01T00:00:00.000Z",
                  "num_donations": 7,
                  "total_donated_amount": 1470,
                  "avg_donated_amount": 210
                },
                {
                  "index": 33,
                  "donation_date": "2020-08-02T00:00:00.000Z",
                  "num_donations": 6,
                  "total_donated_amount": 600,
                  "avg_donated_amount": 100
                },
                {
                  "index": 34,
                  "donation_date": "2020-08-03T00:00:00.000Z",
                  "num_donations": 8,
                  "total_donated_amount": 2878,
                  "avg_donated_amount": 359.75
                },
                {
                  "index": 35,
                  "donation_date": "2020-08-04T00:00:00.000Z",
                  "num_donations": 18,
                  "total_donated_amount": 4058,
                  "avg_donated_amount": 225.4444444444
                },
                {
                  "index": 36,
                  "donation_date": "2020-08-05T00:00:00.000Z",
                  "num_donations": 18,
                  "total_donated_amount": 2700,
                  "avg_donated_amount": 150
                },
                {
                  "index": 37,
                  "donation_date": "2020-08-06T00:00:00.000Z",
                  "num_donations": 27,
                  "total_donated_amount": 5549,
                  "avg_donated_amount": 205.5185185185
                },
                {
                  "index": 38,
                  "donation_date": "2020-08-07T00:00:00.000Z",
                  "num_donations": 11,
                  "total_donated_amount": 3100,
                  "avg_donated_amount": 281.8181818182
                },
                {
                  "index": 39,
                  "donation_date": "2020-08-08T00:00:00.000Z",
                  "num_donations": 10,
                  "total_donated_amount": 2300,
                  "avg_donated_amount": 230
                },
                {
                  "index": 40,
                  "donation_date": "2020-08-09T00:00:00.000Z",
                  "num_donations": 6,
                  "total_donated_amount": 1083,
                  "avg_donated_amount": 180.5
                },
                {
                  "index": 41,
                  "donation_date": "2020-08-10T00:00:00.000Z",
                  "num_donations": 17,
                  "total_donated_amount": 3666.63,
                  "avg_donated_amount": 215.6841176471
                },
                {
                  "index": 42,
                  "donation_date": "2020-08-11T00:00:00.000Z",
                  "num_donations": 16,
                  "total_donated_amount": 3908.3,
                  "avg_donated_amount": 244.26875
                },
                {
                  "index": 43,
                  "donation_date": "2020-08-12T00:00:00.000Z",
                  "num_donations": 18,
                  "total_donated_amount": 2554.15,
                  "avg_donated_amount": 141.8972222222
                },
                {
                  "index": 44,
                  "donation_date": "2020-08-13T00:00:00.000Z",
                  "num_donations": 21,
                  "total_donated_amount": 3252.35,
                  "avg_donated_amount": 154.8738095238
                },
                {
                  "index": 45,
                  "donation_date": "2020-08-14T00:00:00.000Z",
                  "num_donations": 39,
                  "total_donated_amount": 7752.23,
                  "avg_donated_amount": 198.7751282051
                },
                {
                  "index": 46,
                  "donation_date": "2020-08-15T00:00:00.000Z",
                  "num_donations": 14,
                  "total_donated_amount": 2527.23,
                  "avg_donated_amount": 180.5164285714
                },
                {
                  "index": 47,
                  "donation_date": "2020-08-16T00:00:00.000Z",
                  "num_donations": 15,
                  "total_donated_amount": 2650,
                  "avg_donated_amount": 176.6666666667
                },
                {
                  "index": 48,
                  "donation_date": "2020-08-17T00:00:00.000Z",
                  "num_donations": 12,
                  "total_donated_amount": 1640,
                  "avg_donated_amount": 136.6666666667
                },
                {
                  "index": 49,
                  "donation_date": "2020-08-18T00:00:00.000Z",
                  "num_donations": 9,
                  "total_donated_amount": 3400,
                  "avg_donated_amount": 377.7777777778
                },
                {
                  "index": 50,
                  "donation_date": "2020-08-19T00:00:00.000Z",
                  "num_donations": 16,
                  "total_donated_amount": 2200,
                  "avg_donated_amount": 137.5
                },
                {
                  "index": 51,
                  "donation_date": "2020-08-20T00:00:00.000Z",
                  "num_donations": 20,
                  "total_donated_amount": 4351,
                  "avg_donated_amount": 217.55
                },
                {
                  "index": 52,
                  "donation_date": "2020-08-21T00:00:00.000Z",
                  "num_donations": 9,
                  "total_donated_amount": 1550,
                  "avg_donated_amount": 172.2222222222
                },
                {
                  "index": 53,
                  "donation_date": "2020-08-22T00:00:00.000Z",
                  "num_donations": 14,
                  "total_donated_amount": 2329.15,
                  "avg_donated_amount": 166.3678571429
                },
                {
                  "index": 54,
                  "donation_date": "2020-08-23T00:00:00.000Z",
                  "num_donations": 5,
                  "total_donated_amount": 1400,
                  "avg_donated_amount": 280
                },
                {
                  "index": 55,
                  "donation_date": "2020-08-24T00:00:00.000Z",
                  "num_donations": 9,
                  "total_donated_amount": 1496.27,
                  "avg_donated_amount": 166.2522222222
                },
                {
                  "index": 56,
                  "donation_date": "2020-08-25T00:00:00.000Z",
                  "num_donations": 7,
                  "total_donated_amount": 1750,
                  "avg_donated_amount": 250
                },
                {
                  "index": 57,
                  "donation_date": "2020-08-26T00:00:00.000Z",
                  "num_donations": 27,
                  "total_donated_amount": 5106.07,
                  "avg_donated_amount": 189.1137037037
                },
                {
                  "index": 58,
                  "donation_date": "2020-08-27T00:00:00.000Z",
                  "num_donations": 9,
                  "total_donated_amount": 1600,
                  "avg_donated_amount": 177.7777777778
                },
                {
                  "index": 59,
                  "donation_date": "2020-08-28T00:00:00.000Z",
                  "num_donations": 9,
                  "total_donated_amount": 1760,
                  "avg_donated_amount": 195.5555555556
                },
                {
                  "index": 60,
                  "donation_date": "2020-08-29T00:00:00.000Z",
                  "num_donations": 10,
                  "total_donated_amount": 3949,
                  "avg_donated_amount": 394.9
                },
                {
                  "index": 61,
                  "donation_date": "2020-08-30T00:00:00.000Z",
                  "num_donations": 15,
                  "total_donated_amount": 3070,
                  "avg_donated_amount": 204.6666666667
                },
                {
                  "index": 62,
                  "donation_date": "2020-08-31T00:00:00.000Z",
                  "num_donations": 33,
                  "total_donated_amount": 7757,
                  "avg_donated_amount": 235.0606060606
                },
                {
                  "index": 63,
                  "donation_date": "2020-09-01T00:00:00.000Z",
                  "num_donations": 21,
                  "total_donated_amount": 3870,
                  "avg_donated_amount": 184.2857142857
                },
                {
                  "index": 64,
                  "donation_date": "2020-09-02T00:00:00.000Z",
                  "num_donations": 15,
                  "total_donated_amount": 3400,
                  "avg_donated_amount": 226.6666666667
                },
                {
                  "index": 65,
                  "donation_date": "2020-09-03T00:00:00.000Z",
                  "num_donations": 18,
                  "total_donated_amount": 3365.06,
                  "avg_donated_amount": 186.9477777778
                },
                {
                  "index": 66,
                  "donation_date": "2020-09-04T00:00:00.000Z",
                  "num_donations": 17,
                  "total_donated_amount": 3000,
                  "avg_donated_amount": 176.4705882353
                },
                {
                  "index": 67,
                  "donation_date": "2020-09-05T00:00:00.000Z",
                  "num_donations": 12,
                  "total_donated_amount": 1900,
                  "avg_donated_amount": 158.3333333333
                },
                {
                  "index": 68,
                  "donation_date": "2020-09-06T00:00:00.000Z",
                  "num_donations": 14,
                  "total_donated_amount": 2350,
                  "avg_donated_amount": 167.8571428571
                },
                {
                  "index": 69,
                  "donation_date": "2020-09-07T00:00:00.000Z",
                  "num_donations": 19,
                  "total_donated_amount": 3720,
                  "avg_donated_amount": 195.7894736842
                },
                {
                  "index": 70,
                  "donation_date": "2020-09-08T00:00:00.000Z",
                  "num_donations": 19,
                  "total_donated_amount": 3100,
                  "avg_donated_amount": 163.1578947368
                },
                {
                  "index": 71,
                  "donation_date": "2020-09-09T00:00:00.000Z",
                  "num_donations": 27,
                  "total_donated_amount": 4125,
                  "avg_donated_amount": 152.7777777778
                },
                {
                  "index": 72,
                  "donation_date": "2020-09-10T00:00:00.000Z",
                  "num_donations": 17,
                  "total_donated_amount": 4859.92,
                  "avg_donated_amount": 285.8776470588
                },
                {
                  "index": 73,
                  "donation_date": "2020-09-11T00:00:00.000Z",
                  "num_donations": 14,
                  "total_donated_amount": 2973.99,
                  "avg_donated_amount": 212.4278571429
                },
                {
                  "index": 74,
                  "donation_date": "2020-09-12T00:00:00.000Z",
                  "num_donations": 22,
                  "total_donated_amount": 3407.92,
                  "avg_donated_amount": 154.9054545455
                },
                {
                  "index": 75,
                  "donation_date": "2020-09-13T00:00:00.000Z",
                  "num_donations": 11,
                  "total_donated_amount": 3104.15,
                  "avg_donated_amount": 282.1954545455
                },
                {
                  "index": 76,
                  "donation_date": "2020-09-14T00:00:00.000Z",
                  "num_donations": 21,
                  "total_donated_amount": 3338.15,
                  "avg_donated_amount": 158.9595238095
                },
                {
                  "index": 77,
                  "donation_date": "2020-09-15T00:00:00.000Z",
                  "num_donations": 21,
                  "total_donated_amount": 4752.23,
                  "avg_donated_amount": 226.2966666667
                },
                {
                  "index": 78,
                  "donation_date": "2020-09-16T00:00:00.000Z",
                  "num_donations": 32,
                  "total_donated_amount": 7854.15,
                  "avg_donated_amount": 245.4421875
                },
                {
                  "index": 79,
                  "donation_date": "2020-09-17T00:00:00.000Z",
                  "num_donations": 15,
                  "total_donated_amount": 2850,
                  "avg_donated_amount": 190
                },
                {
                  "index": 80,
                  "donation_date": "2020-09-18T00:00:00.000Z",
                  "num_donations": 30,
                  "total_donated_amount": 6267.03,
                  "avg_donated_amount": 208.901
                },
                {
                  "index": 81,
                  "donation_date": "2020-09-19T00:00:00.000Z",
                  "num_donations": 14,
                  "total_donated_amount": 2593,
                  "avg_donated_amount": 185.2142857143
                },
                {
                  "index": 82,
                  "donation_date": "2020-09-20T00:00:00.000Z",
                  "num_donations": 12,
                  "total_donated_amount": 1700,
                  "avg_donated_amount": 154.5454545455
                },
                {
                  "index": 83,
                  "donation_date": "2020-09-21T00:00:00.000Z",
                  "num_donations": 12,
                  "total_donated_amount": 1551.23,
                  "avg_donated_amount": 129.2691666667
                },
                {
                  "index": 84,
                  "donation_date": "2020-09-22T00:00:00.000Z",
                  "num_donations": 12,
                  "total_donated_amount": 1980,
                  "avg_donated_amount": 165
                },
                {
                  "index": 85,
                  "donation_date": "2020-09-23T00:00:00.000Z",
                  "num_donations": 17,
                  "total_donated_amount": 3304.15,
                  "avg_donated_amount": 194.3617647059
                },
                {
                  "index": 86,
                  "donation_date": "2020-09-24T00:00:00.000Z",
                  "num_donations": 23,
                  "total_donated_amount": 4451.27,
                  "avg_donated_amount": 211.9652380952
                },
                {
                  "index": 87,
                  "donation_date": "2020-09-25T00:00:00.000Z",
                  "num_donations": 37,
                  "total_donated_amount": 10256.24,
                  "avg_donated_amount": 277.1956756757
                },
                {
                  "index": 88,
                  "donation_date": "2020-09-26T00:00:00.000Z",
                  "num_donations": 5,
                  "total_donated_amount": 900,
                  "avg_donated_amount": 180
                },
                {
                  "index": 89,
                  "donation_date": "2020-09-27T00:00:00.000Z",
                  "num_donations": 5,
                  "total_donated_amount": 500,
                  "avg_donated_amount": 100
                },
                {
                  "index": 90,
                  "donation_date": "2020-09-28T00:00:00.000Z",
                  "num_donations": 29,
                  "total_donated_amount": 5549,
                  "avg_donated_amount": 191.3448275862
                },
                {
                  "index": 91,
                  "donation_date": "2020-09-29T00:00:00.000Z",
                  "num_donations": 29,
                  "total_donated_amount": 5975,
                  "avg_donated_amount": 206.0344827586
                },
                {
                  "index": 92,
                  "donation_date": "2020-09-30T00:00:00.000Z",
                  "num_donations": 12,
                  "total_donated_amount": 4250,
                  "avg_donated_amount": 354.1666666667
                },
                {
                  "index": 93,
                  "donation_date": "2020-10-01T00:00:00.000Z",
                  "num_donations": 19,
                  "total_donated_amount": 3918.3,
                  "avg_donated_amount": 206.2263157895
                },
                {
                  "index": 94,
                  "donation_date": "2020-10-02T00:00:00.000Z",
                  "num_donations": 23,
                  "total_donated_amount": 4225,
                  "avg_donated_amount": 183.6956521739
                },
                {
                  "index": 95,
                  "donation_date": "2020-10-03T00:00:00.000Z",
                  "num_donations": 8,
                  "total_donated_amount": 2150,
                  "avg_donated_amount": 268.75
                },
                {
                  "index": 96,
                  "donation_date": "2020-10-04T00:00:00.000Z",
                  "num_donations": 9,
                  "total_donated_amount": 1214.07,
                  "avg_donated_amount": 134.8966666667
                },
                {
                  "index": 97,
                  "donation_date": "2020-10-05T00:00:00.000Z",
                  "num_donations": 9,
                  "total_donated_amount": 1900,
                  "avg_donated_amount": 211.1111111111
                },
                {
                  "index": 98,
                  "donation_date": "2020-10-06T00:00:00.000Z",
                  "num_donations": 34,
                  "total_donated_amount": 5339.15,
                  "avg_donated_amount": 161.7924242424
                },
                {
                  "index": 99,
                  "donation_date": "2020-10-07T00:00:00.000Z",
                  "num_donations": 9,
                  "total_donated_amount": 1204.15,
                  "avg_donated_amount": 133.7944444444
                },
                {
                  "index": 100,
                  "donation_date": "2020-10-08T00:00:00.000Z",
                  "num_donations": 16,
                  "total_donated_amount": 4222.15,
                  "avg_donated_amount": 263.884375
                },
                {
                  "index": 101,
                  "donation_date": "2020-10-09T00:00:00.000Z",
                  "num_donations": 68,
                  "total_donated_amount": 13305,
                  "avg_donated_amount": 195.6617647059
                },
                {
                  "index": 102,
                  "donation_date": "2020-10-10T00:00:00.000Z",
                  "num_donations": 14,
                  "total_donated_amount": 2050,
                  "avg_donated_amount": 146.4285714286
                },
                {
                  "index": 103,
                  "donation_date": "2020-10-11T00:00:00.000Z",
                  "num_donations": 15,
                  "total_donated_amount": 2325,
                  "avg_donated_amount": 155
                },
                {
                  "index": 104,
                  "donation_date": "2020-10-12T00:00:00.000Z",
                  "num_donations": 20,
                  "total_donated_amount": 6520,
                  "avg_donated_amount": 326
                },
                {
                  "index": 105,
                  "donation_date": "2020-10-13T00:00:00.000Z",
                  "num_donations": 8,
                  "total_donated_amount": 1190,
                  "avg_donated_amount": 148.75
                },
                {
                  "index": 106,
                  "donation_date": "2020-10-14T00:00:00.000Z",
                  "num_donations": 7,
                  "total_donated_amount": 2334,
                  "avg_donated_amount": 333.4285714286
                },
                {
                  "index": 107,
                  "donation_date": "2020-10-15T00:00:00.000Z",
                  "num_donations": 10,
                  "total_donated_amount": 2653.23,
                  "avg_donated_amount": 265.323
                },
                {
                  "index": 108,
                  "donation_date": "2020-10-16T00:00:00.000Z",
                  "num_donations": 10,
                  "total_donated_amount": 2493.57,
                  "avg_donated_amount": 249.357
                },
                {
                  "index": 109,
                  "donation_date": "2020-10-17T00:00:00.000Z",
                  "num_donations": 7,
                  "total_donated_amount": 2200,
                  "avg_donated_amount": 314.2857142857
                }
              ]
            }
          },
          "metadata": {}
        }
      ],
      "execution_count": null,
      "metadata": {
        "noteable": {
          "cell_type": "sql",
          "db_connection": "@2b38d1248d17413982b2e98f93c4c20e"
        },
        "dx": {
          "dashboard": {
            "multiViews": []
          },
          "decoration": {},
          "fieldMetadata": {
            "avg_donated_amount": {
              "columnPosition": 2
            },
            "donation_date": {
              "columnPosition": 4
            },
            "index": {
              "columnPosition": 1
            },
            "num_donations": {
              "columnPosition": 3
            },
            "total_donated_amount": {
              "columnPosition": 2
            }
          },
          "mode": "exploration",
          "sampling": {
            "sampleSeed": 248757703292,
            "sampleSize": 10000,
            "sampleStrategy": "none"
          },
          "simpleTable": false,
          "styles": {
            "colors": []
          },
          "updated": 1658871053911,
          "views": [
            {
              "annotationRules": [],
              "chart": {
                "adjacencyList": "donation_date",
                "areaType": "hexbin",
                "barGrouping": "Clustered",
                "barProjection": "vertical",
                "barSubcategory": "none",
                "baseLayer": "world",
                "baseLayerFill": "#FFFFFF",
                "baseLayerStroke": "#000000",
                "bgColor": "none",
                "boundingSettings": {
                  "DEX_COUNT": {
                    "lowerBoundingMetric": "none",
                    "upperBoundingMetric": "none"
                  },
                  "index": {
                    "lowerBoundingMetric": "none",
                    "upperBoundingMetric": "none"
                  },
                  "num_donations": {
                    "lowerBoundingMetric": "none",
                    "upperBoundingMetric": "none"
                  },
                  "total_donated_amount": {
                    "lowerBoundingMetric": "none",
                    "upperBoundingMetric": "none"
                  }
                },
                "boundingType": "absolute",
                "boxplotOutliers": false,
                "candleClose": "num_donations",
                "candleHigh": "num_donations",
                "candleLow": "num_donations",
                "candleOpen": "num_donations",
                "candlestickMode": false,
                "combinationMode": "AVG",
                "deselectedKeysHash": {},
                "dim1": "num_donations",
                "dim2": "donation_date",
                "dim3": "none",
                "edgeMode": "edge list",
                "facetMetrics": [],
                "filteredDataOnly": "All Data",
                "formulaDisplay": "none",
                "funnelData": "metric",
                "funnelMetricOrder": [
                  "index",
                  "num_donations",
                  "total_donated_amount"
                ],
                "funnelMode": "bar",
                "hierarchyType": "dendrogram",
                "layerSettings": [
                  {
                    "color": "#000000",
                    "hoverOpts": {
                      "dims": [
                        "index",
                        "donation_date",
                        "num_donations"
                      ],
                      "mets": [
                        "index",
                        "num_donations",
                        "total_donated_amount"
                      ]
                    },
                    "id": "0196aa72-87de-44da-b9f3-dfc688ff935e",
                    "latDim": "index",
                    "longDim": "num_donations",
                    "pointSizeOpts": {
                      "max": 111,
                      "met": "index",
                      "min": 0,
                      "mode": "functional",
                      "scale": "Linear",
                      "size": 2,
                      "sizeMax": 10,
                      "sizeMin": 1
                    },
                    "size": 2,
                    "stroke": "#000000",
                    "strokeWidth": 1,
                    "transparency": 0.9,
                    "type": "point"
                  }
                ],
                "lineSmoothing": "none",
                "lineType": "line",
                "mapMode": "point",
                "mapZoom": "basemap",
                "marginalGraphics": "none",
                "metric1": "index",
                "metric2": "num_donations",
                "metric3": "none",
                "metric4": "none",
                "networkLabel": "none",
                "networkType": "force",
                "parCoordsColor": "none",
                "pieceType": "bar",
                "pointBarMode": "bar",
                "primaryKey": [],
                "proBarMode": "Combined",
                "scatterplotColor": "none",
                "secondBarMetric": "none",
                "selectedDimensions": [
                  "num_donations"
                ],
                "selectedMetrics": [
                  "num_donations"
                ],
                "showContours": false,
                "showTotal": true,
                "sortColumnsBy": "desc-col-int",
                "sparkchart": "none",
                "splitLinesBy": "none",
                "splomMode": "correlation",
                "summaryBins": 30,
                "summaryType": "scatter",
                "surveyResponses": {
                  "negative": [],
                  "neutral": [],
                  "positive": []
                },
                "timeseriesSort": "donation_date",
                "tokenMetric": "num_donations",
                "trendLine": "none",
                "violinIQR": false
              },
              "chartMode": "line",
              "decoration": {
                "footer": "",
                "subtitle": "",
                "title": "Table"
              },
              "filterSettings": {
                "SHOW_FILTER_PANEL": true,
                "filters": [
                  {
                    "column": "donation_date",
                    "end": "2020-10-17T00:00:00.000Z",
                    "filterOrder": 1,
                    "start": "2020-06-14T04:00:00.000Z",
                    "type": "DATE_FILTER"
                  }
                ]
              },
              "id": "first-view",
              "isComment": false,
              "isDefault": true,
              "isTransitory": false,
              "type": "public",
              "userID": ""
            }
          ]
        },
        "jupyter": {
          "source_hidden": false
        }
      },
      "id": "39eb1d52-7cf3-4fca-9c5c-987ed26b3450"
    },
    {
      "cell_type": "code",
      "source": [
        "by_date = _\n",
        "by_date"
      ],
      "outputs": [
        {
          "output_type": "execute_result",
          "execution_count": 41,
          "data": {
            "application/vnd.dataresource+json": {
              "schema": {
                "fields": [
                  {
                    "name": "index",
                    "type": "integer"
                  },
                  {
                    "name": "donation_date",
                    "type": "datetime"
                  },
                  {
                    "name": "num_donations",
                    "type": "integer"
                  },
                  {
                    "name": "total_donated_amount",
                    "type": "number"
                  },
                  {
                    "name": "avg_donated_amount",
                    "type": "number"
                  }
                ],
                "primaryKey": [
                  "index"
                ],
                "pandas_version": "1.4.0"
              },
              "data": [
                {
                  "index": 0,
                  "donation_date": "2020-06-15T00:00:00.000Z",
                  "num_donations": 1,
                  "total_donated_amount": 61.88,
                  "avg_donated_amount": 61.88
                },
                {
                  "index": 1,
                  "donation_date": "2020-07-01T00:00:00.000Z",
                  "num_donations": 4,
                  "total_donated_amount": 1750,
                  "avg_donated_amount": 437.5
                },
                {
                  "index": 2,
                  "donation_date": "2020-07-02T00:00:00.000Z",
                  "num_donations": 6,
                  "total_donated_amount": 600,
                  "avg_donated_amount": 100
                },
                {
                  "index": 3,
                  "donation_date": "2020-07-03T00:00:00.000Z",
                  "num_donations": 5,
                  "total_donated_amount": 1800,
                  "avg_donated_amount": 360
                },
                {
                  "index": 4,
                  "donation_date": "2020-07-04T00:00:00.000Z",
                  "num_donations": 2,
                  "total_donated_amount": 200,
                  "avg_donated_amount": 100
                },
                {
                  "index": 5,
                  "donation_date": "2020-07-05T00:00:00.000Z",
                  "num_donations": 3,
                  "total_donated_amount": 650,
                  "avg_donated_amount": 216.6666666667
                },
                {
                  "index": 6,
                  "donation_date": "2020-07-06T00:00:00.000Z",
                  "num_donations": 2,
                  "total_donated_amount": 800,
                  "avg_donated_amount": 400
                },
                {
                  "index": 7,
                  "donation_date": "2020-07-07T00:00:00.000Z",
                  "num_donations": 6,
                  "total_donated_amount": 1200,
                  "avg_donated_amount": 200
                },
                {
                  "index": 8,
                  "donation_date": "2020-07-08T00:00:00.000Z",
                  "num_donations": 7,
                  "total_donated_amount": 1250,
                  "avg_donated_amount": 178.5714285714
                },
                {
                  "index": 9,
                  "donation_date": "2020-07-09T00:00:00.000Z",
                  "num_donations": 5,
                  "total_donated_amount": 902,
                  "avg_donated_amount": 180.4
                },
                {
                  "index": 10,
                  "donation_date": "2020-07-10T00:00:00.000Z",
                  "num_donations": 4,
                  "total_donated_amount": 1000,
                  "avg_donated_amount": 250
                },
                {
                  "index": 11,
                  "donation_date": "2020-07-11T00:00:00.000Z",
                  "num_donations": 1,
                  "total_donated_amount": 250,
                  "avg_donated_amount": 250
                },
                {
                  "index": 12,
                  "donation_date": "2020-07-12T00:00:00.000Z",
                  "num_donations": 3,
                  "total_donated_amount": 550,
                  "avg_donated_amount": 183.3333333333
                },
                {
                  "index": 13,
                  "donation_date": "2020-07-13T00:00:00.000Z",
                  "num_donations": 5,
                  "total_donated_amount": 600,
                  "avg_donated_amount": 120
                },
                {
                  "index": 14,
                  "donation_date": "2020-07-14T00:00:00.000Z",
                  "num_donations": 4,
                  "total_donated_amount": 900,
                  "avg_donated_amount": 225
                },
                {
                  "index": 15,
                  "donation_date": "2020-07-15T00:00:00.000Z",
                  "num_donations": 11,
                  "total_donated_amount": 3028,
                  "avg_donated_amount": 275.2727272727
                },
                {
                  "index": 16,
                  "donation_date": "2020-07-16T00:00:00.000Z",
                  "num_donations": 8,
                  "total_donated_amount": 1250,
                  "avg_donated_amount": 156.25
                },
                {
                  "index": 17,
                  "donation_date": "2020-07-17T00:00:00.000Z",
                  "num_donations": 5,
                  "total_donated_amount": 900,
                  "avg_donated_amount": 180
                },
                {
                  "index": 18,
                  "donation_date": "2020-07-18T00:00:00.000Z",
                  "num_donations": 1,
                  "total_donated_amount": 200,
                  "avg_donated_amount": 200
                },
                {
                  "index": 19,
                  "donation_date": "2020-07-19T00:00:00.000Z",
                  "num_donations": 4,
                  "total_donated_amount": 800,
                  "avg_donated_amount": 200
                },
                {
                  "index": 20,
                  "donation_date": "2020-07-20T00:00:00.000Z",
                  "num_donations": 8,
                  "total_donated_amount": 2000,
                  "avg_donated_amount": 250
                },
                {
                  "index": 21,
                  "donation_date": "2020-07-21T00:00:00.000Z",
                  "num_donations": 9,
                  "total_donated_amount": 1450,
                  "avg_donated_amount": 161.1111111111
                },
                {
                  "index": 22,
                  "donation_date": "2020-07-22T00:00:00.000Z",
                  "num_donations": 27,
                  "total_donated_amount": 5000.83,
                  "avg_donated_amount": 185.2159259259
                },
                {
                  "index": 23,
                  "donation_date": "2020-07-23T00:00:00.000Z",
                  "num_donations": 13,
                  "total_donated_amount": 3134.57,
                  "avg_donated_amount": 241.1207692308
                },
                {
                  "index": 24,
                  "donation_date": "2020-07-24T00:00:00.000Z",
                  "num_donations": 17,
                  "total_donated_amount": 3786.92,
                  "avg_donated_amount": 222.76
                },
                {
                  "index": 25,
                  "donation_date": "2020-07-25T00:00:00.000Z",
                  "num_donations": 6,
                  "total_donated_amount": 1365.99,
                  "avg_donated_amount": 227.665
                },
                {
                  "index": 26,
                  "donation_date": "2020-07-26T00:00:00.000Z",
                  "num_donations": 8,
                  "total_donated_amount": 1808.3,
                  "avg_donated_amount": 226.0375
                },
                {
                  "index": 27,
                  "donation_date": "2020-07-27T00:00:00.000Z",
                  "num_donations": 13,
                  "total_donated_amount": 3100,
                  "avg_donated_amount": 238.4615384615
                },
                {
                  "index": 28,
                  "donation_date": "2020-07-28T00:00:00.000Z",
                  "num_donations": 7,
                  "total_donated_amount": 700,
                  "avg_donated_amount": 100
                },
                {
                  "index": 29,
                  "donation_date": "2020-07-29T00:00:00.000Z",
                  "num_donations": 14,
                  "total_donated_amount": 5200,
                  "avg_donated_amount": 371.4285714286
                },
                {
                  "index": 30,
                  "donation_date": "2020-07-30T00:00:00.000Z",
                  "num_donations": 9,
                  "total_donated_amount": 2403.12,
                  "avg_donated_amount": 267.0133333333
                },
                {
                  "index": 31,
                  "donation_date": "2020-07-31T00:00:00.000Z",
                  "num_donations": 9,
                  "total_donated_amount": 3200,
                  "avg_donated_amount": 355.5555555556
                },
                {
                  "index": 32,
                  "donation_date": "2020-08-01T00:00:00.000Z",
                  "num_donations": 7,
                  "total_donated_amount": 1470,
                  "avg_donated_amount": 210
                },
                {
                  "index": 33,
                  "donation_date": "2020-08-02T00:00:00.000Z",
                  "num_donations": 6,
                  "total_donated_amount": 600,
                  "avg_donated_amount": 100
                },
                {
                  "index": 34,
                  "donation_date": "2020-08-03T00:00:00.000Z",
                  "num_donations": 8,
                  "total_donated_amount": 2878,
                  "avg_donated_amount": 359.75
                },
                {
                  "index": 35,
                  "donation_date": "2020-08-04T00:00:00.000Z",
                  "num_donations": 18,
                  "total_donated_amount": 4058,
                  "avg_donated_amount": 225.4444444444
                },
                {
                  "index": 36,
                  "donation_date": "2020-08-05T00:00:00.000Z",
                  "num_donations": 18,
                  "total_donated_amount": 2700,
                  "avg_donated_amount": 150
                },
                {
                  "index": 37,
                  "donation_date": "2020-08-06T00:00:00.000Z",
                  "num_donations": 27,
                  "total_donated_amount": 5549,
                  "avg_donated_amount": 205.5185185185
                },
                {
                  "index": 38,
                  "donation_date": "2020-08-07T00:00:00.000Z",
                  "num_donations": 11,
                  "total_donated_amount": 3100,
                  "avg_donated_amount": 281.8181818182
                },
                {
                  "index": 39,
                  "donation_date": "2020-08-08T00:00:00.000Z",
                  "num_donations": 10,
                  "total_donated_amount": 2300,
                  "avg_donated_amount": 230
                },
                {
                  "index": 40,
                  "donation_date": "2020-08-09T00:00:00.000Z",
                  "num_donations": 6,
                  "total_donated_amount": 1083,
                  "avg_donated_amount": 180.5
                },
                {
                  "index": 41,
                  "donation_date": "2020-08-10T00:00:00.000Z",
                  "num_donations": 17,
                  "total_donated_amount": 3666.63,
                  "avg_donated_amount": 215.6841176471
                },
                {
                  "index": 42,
                  "donation_date": "2020-08-11T00:00:00.000Z",
                  "num_donations": 16,
                  "total_donated_amount": 3908.3,
                  "avg_donated_amount": 244.26875
                },
                {
                  "index": 43,
                  "donation_date": "2020-08-12T00:00:00.000Z",
                  "num_donations": 18,
                  "total_donated_amount": 2554.15,
                  "avg_donated_amount": 141.8972222222
                },
                {
                  "index": 44,
                  "donation_date": "2020-08-13T00:00:00.000Z",
                  "num_donations": 21,
                  "total_donated_amount": 3252.35,
                  "avg_donated_amount": 154.8738095238
                },
                {
                  "index": 45,
                  "donation_date": "2020-08-14T00:00:00.000Z",
                  "num_donations": 39,
                  "total_donated_amount": 7752.23,
                  "avg_donated_amount": 198.7751282051
                },
                {
                  "index": 46,
                  "donation_date": "2020-08-15T00:00:00.000Z",
                  "num_donations": 14,
                  "total_donated_amount": 2527.23,
                  "avg_donated_amount": 180.5164285714
                },
                {
                  "index": 47,
                  "donation_date": "2020-08-16T00:00:00.000Z",
                  "num_donations": 15,
                  "total_donated_amount": 2650,
                  "avg_donated_amount": 176.6666666667
                },
                {
                  "index": 48,
                  "donation_date": "2020-08-17T00:00:00.000Z",
                  "num_donations": 12,
                  "total_donated_amount": 1640,
                  "avg_donated_amount": 136.6666666667
                },
                {
                  "index": 49,
                  "donation_date": "2020-08-18T00:00:00.000Z",
                  "num_donations": 9,
                  "total_donated_amount": 3400,
                  "avg_donated_amount": 377.7777777778
                },
                {
                  "index": 50,
                  "donation_date": "2020-08-19T00:00:00.000Z",
                  "num_donations": 16,
                  "total_donated_amount": 2200,
                  "avg_donated_amount": 137.5
                },
                {
                  "index": 51,
                  "donation_date": "2020-08-20T00:00:00.000Z",
                  "num_donations": 20,
                  "total_donated_amount": 4351,
                  "avg_donated_amount": 217.55
                },
                {
                  "index": 52,
                  "donation_date": "2020-08-21T00:00:00.000Z",
                  "num_donations": 9,
                  "total_donated_amount": 1550,
                  "avg_donated_amount": 172.2222222222
                },
                {
                  "index": 53,
                  "donation_date": "2020-08-22T00:00:00.000Z",
                  "num_donations": 14,
                  "total_donated_amount": 2329.15,
                  "avg_donated_amount": 166.3678571429
                },
                {
                  "index": 54,
                  "donation_date": "2020-08-23T00:00:00.000Z",
                  "num_donations": 5,
                  "total_donated_amount": 1400,
                  "avg_donated_amount": 280
                },
                {
                  "index": 55,
                  "donation_date": "2020-08-24T00:00:00.000Z",
                  "num_donations": 9,
                  "total_donated_amount": 1496.27,
                  "avg_donated_amount": 166.2522222222
                },
                {
                  "index": 56,
                  "donation_date": "2020-08-25T00:00:00.000Z",
                  "num_donations": 7,
                  "total_donated_amount": 1750,
                  "avg_donated_amount": 250
                },
                {
                  "index": 57,
                  "donation_date": "2020-08-26T00:00:00.000Z",
                  "num_donations": 27,
                  "total_donated_amount": 5106.07,
                  "avg_donated_amount": 189.1137037037
                },
                {
                  "index": 58,
                  "donation_date": "2020-08-27T00:00:00.000Z",
                  "num_donations": 9,
                  "total_donated_amount": 1600,
                  "avg_donated_amount": 177.7777777778
                },
                {
                  "index": 59,
                  "donation_date": "2020-08-28T00:00:00.000Z",
                  "num_donations": 9,
                  "total_donated_amount": 1760,
                  "avg_donated_amount": 195.5555555556
                },
                {
                  "index": 60,
                  "donation_date": "2020-08-29T00:00:00.000Z",
                  "num_donations": 10,
                  "total_donated_amount": 3949,
                  "avg_donated_amount": 394.9
                },
                {
                  "index": 61,
                  "donation_date": "2020-08-30T00:00:00.000Z",
                  "num_donations": 15,
                  "total_donated_amount": 3070,
                  "avg_donated_amount": 204.6666666667
                },
                {
                  "index": 62,
                  "donation_date": "2020-08-31T00:00:00.000Z",
                  "num_donations": 33,
                  "total_donated_amount": 7757,
                  "avg_donated_amount": 235.0606060606
                },
                {
                  "index": 63,
                  "donation_date": "2020-09-01T00:00:00.000Z",
                  "num_donations": 21,
                  "total_donated_amount": 3870,
                  "avg_donated_amount": 184.2857142857
                },
                {
                  "index": 64,
                  "donation_date": "2020-09-02T00:00:00.000Z",
                  "num_donations": 15,
                  "total_donated_amount": 3400,
                  "avg_donated_amount": 226.6666666667
                },
                {
                  "index": 65,
                  "donation_date": "2020-09-03T00:00:00.000Z",
                  "num_donations": 18,
                  "total_donated_amount": 3365.06,
                  "avg_donated_amount": 186.9477777778
                },
                {
                  "index": 66,
                  "donation_date": "2020-09-04T00:00:00.000Z",
                  "num_donations": 17,
                  "total_donated_amount": 3000,
                  "avg_donated_amount": 176.4705882353
                },
                {
                  "index": 67,
                  "donation_date": "2020-09-05T00:00:00.000Z",
                  "num_donations": 12,
                  "total_donated_amount": 1900,
                  "avg_donated_amount": 158.3333333333
                },
                {
                  "index": 68,
                  "donation_date": "2020-09-06T00:00:00.000Z",
                  "num_donations": 14,
                  "total_donated_amount": 2350,
                  "avg_donated_amount": 167.8571428571
                },
                {
                  "index": 69,
                  "donation_date": "2020-09-07T00:00:00.000Z",
                  "num_donations": 19,
                  "total_donated_amount": 3720,
                  "avg_donated_amount": 195.7894736842
                },
                {
                  "index": 70,
                  "donation_date": "2020-09-08T00:00:00.000Z",
                  "num_donations": 19,
                  "total_donated_amount": 3100,
                  "avg_donated_amount": 163.1578947368
                },
                {
                  "index": 71,
                  "donation_date": "2020-09-09T00:00:00.000Z",
                  "num_donations": 27,
                  "total_donated_amount": 4125,
                  "avg_donated_amount": 152.7777777778
                },
                {
                  "index": 72,
                  "donation_date": "2020-09-10T00:00:00.000Z",
                  "num_donations": 17,
                  "total_donated_amount": 4859.92,
                  "avg_donated_amount": 285.8776470588
                },
                {
                  "index": 73,
                  "donation_date": "2020-09-11T00:00:00.000Z",
                  "num_donations": 14,
                  "total_donated_amount": 2973.99,
                  "avg_donated_amount": 212.4278571429
                },
                {
                  "index": 74,
                  "donation_date": "2020-09-12T00:00:00.000Z",
                  "num_donations": 22,
                  "total_donated_amount": 3407.92,
                  "avg_donated_amount": 154.9054545455
                },
                {
                  "index": 75,
                  "donation_date": "2020-09-13T00:00:00.000Z",
                  "num_donations": 11,
                  "total_donated_amount": 3104.15,
                  "avg_donated_amount": 282.1954545455
                },
                {
                  "index": 76,
                  "donation_date": "2020-09-14T00:00:00.000Z",
                  "num_donations": 21,
                  "total_donated_amount": 3338.15,
                  "avg_donated_amount": 158.9595238095
                },
                {
                  "index": 77,
                  "donation_date": "2020-09-15T00:00:00.000Z",
                  "num_donations": 21,
                  "total_donated_amount": 4752.23,
                  "avg_donated_amount": 226.2966666667
                },
                {
                  "index": 78,
                  "donation_date": "2020-09-16T00:00:00.000Z",
                  "num_donations": 32,
                  "total_donated_amount": 7854.15,
                  "avg_donated_amount": 245.4421875
                },
                {
                  "index": 79,
                  "donation_date": "2020-09-17T00:00:00.000Z",
                  "num_donations": 15,
                  "total_donated_amount": 2850,
                  "avg_donated_amount": 190
                },
                {
                  "index": 80,
                  "donation_date": "2020-09-18T00:00:00.000Z",
                  "num_donations": 30,
                  "total_donated_amount": 6267.03,
                  "avg_donated_amount": 208.901
                },
                {
                  "index": 81,
                  "donation_date": "2020-09-19T00:00:00.000Z",
                  "num_donations": 14,
                  "total_donated_amount": 2593,
                  "avg_donated_amount": 185.2142857143
                },
                {
                  "index": 82,
                  "donation_date": "2020-09-20T00:00:00.000Z",
                  "num_donations": 12,
                  "total_donated_amount": 1700,
                  "avg_donated_amount": 154.5454545455
                },
                {
                  "index": 83,
                  "donation_date": "2020-09-21T00:00:00.000Z",
                  "num_donations": 12,
                  "total_donated_amount": 1551.23,
                  "avg_donated_amount": 129.2691666667
                },
                {
                  "index": 84,
                  "donation_date": "2020-09-22T00:00:00.000Z",
                  "num_donations": 12,
                  "total_donated_amount": 1980,
                  "avg_donated_amount": 165
                },
                {
                  "index": 85,
                  "donation_date": "2020-09-23T00:00:00.000Z",
                  "num_donations": 17,
                  "total_donated_amount": 3304.15,
                  "avg_donated_amount": 194.3617647059
                },
                {
                  "index": 86,
                  "donation_date": "2020-09-24T00:00:00.000Z",
                  "num_donations": 23,
                  "total_donated_amount": 4451.27,
                  "avg_donated_amount": 211.9652380952
                },
                {
                  "index": 87,
                  "donation_date": "2020-09-25T00:00:00.000Z",
                  "num_donations": 37,
                  "total_donated_amount": 10256.24,
                  "avg_donated_amount": 277.1956756757
                },
                {
                  "index": 88,
                  "donation_date": "2020-09-26T00:00:00.000Z",
                  "num_donations": 5,
                  "total_donated_amount": 900,
                  "avg_donated_amount": 180
                },
                {
                  "index": 89,
                  "donation_date": "2020-09-27T00:00:00.000Z",
                  "num_donations": 5,
                  "total_donated_amount": 500,
                  "avg_donated_amount": 100
                },
                {
                  "index": 90,
                  "donation_date": "2020-09-28T00:00:00.000Z",
                  "num_donations": 29,
                  "total_donated_amount": 5549,
                  "avg_donated_amount": 191.3448275862
                },
                {
                  "index": 91,
                  "donation_date": "2020-09-29T00:00:00.000Z",
                  "num_donations": 29,
                  "total_donated_amount": 5975,
                  "avg_donated_amount": 206.0344827586
                },
                {
                  "index": 92,
                  "donation_date": "2020-09-30T00:00:00.000Z",
                  "num_donations": 12,
                  "total_donated_amount": 4250,
                  "avg_donated_amount": 354.1666666667
                },
                {
                  "index": 93,
                  "donation_date": "2020-10-01T00:00:00.000Z",
                  "num_donations": 19,
                  "total_donated_amount": 3918.3,
                  "avg_donated_amount": 206.2263157895
                },
                {
                  "index": 94,
                  "donation_date": "2020-10-02T00:00:00.000Z",
                  "num_donations": 23,
                  "total_donated_amount": 4225,
                  "avg_donated_amount": 183.6956521739
                },
                {
                  "index": 95,
                  "donation_date": "2020-10-03T00:00:00.000Z",
                  "num_donations": 8,
                  "total_donated_amount": 2150,
                  "avg_donated_amount": 268.75
                },
                {
                  "index": 96,
                  "donation_date": "2020-10-04T00:00:00.000Z",
                  "num_donations": 9,
                  "total_donated_amount": 1214.07,
                  "avg_donated_amount": 134.8966666667
                },
                {
                  "index": 97,
                  "donation_date": "2020-10-05T00:00:00.000Z",
                  "num_donations": 9,
                  "total_donated_amount": 1900,
                  "avg_donated_amount": 211.1111111111
                },
                {
                  "index": 98,
                  "donation_date": "2020-10-06T00:00:00.000Z",
                  "num_donations": 34,
                  "total_donated_amount": 5339.15,
                  "avg_donated_amount": 161.7924242424
                },
                {
                  "index": 99,
                  "donation_date": "2020-10-07T00:00:00.000Z",
                  "num_donations": 9,
                  "total_donated_amount": 1204.15,
                  "avg_donated_amount": 133.7944444444
                },
                {
                  "index": 100,
                  "donation_date": "2020-10-08T00:00:00.000Z",
                  "num_donations": 16,
                  "total_donated_amount": 4222.15,
                  "avg_donated_amount": 263.884375
                },
                {
                  "index": 101,
                  "donation_date": "2020-10-09T00:00:00.000Z",
                  "num_donations": 68,
                  "total_donated_amount": 13305,
                  "avg_donated_amount": 195.6617647059
                },
                {
                  "index": 102,
                  "donation_date": "2020-10-10T00:00:00.000Z",
                  "num_donations": 14,
                  "total_donated_amount": 2050,
                  "avg_donated_amount": 146.4285714286
                },
                {
                  "index": 103,
                  "donation_date": "2020-10-11T00:00:00.000Z",
                  "num_donations": 15,
                  "total_donated_amount": 2325,
                  "avg_donated_amount": 155
                },
                {
                  "index": 104,
                  "donation_date": "2020-10-12T00:00:00.000Z",
                  "num_donations": 20,
                  "total_donated_amount": 6520,
                  "avg_donated_amount": 326
                },
                {
                  "index": 105,
                  "donation_date": "2020-10-13T00:00:00.000Z",
                  "num_donations": 8,
                  "total_donated_amount": 1190,
                  "avg_donated_amount": 148.75
                },
                {
                  "index": 106,
                  "donation_date": "2020-10-14T00:00:00.000Z",
                  "num_donations": 7,
                  "total_donated_amount": 2334,
                  "avg_donated_amount": 333.4285714286
                },
                {
                  "index": 107,
                  "donation_date": "2020-10-15T00:00:00.000Z",
                  "num_donations": 10,
                  "total_donated_amount": 2653.23,
                  "avg_donated_amount": 265.323
                },
                {
                  "index": 108,
                  "donation_date": "2020-10-16T00:00:00.000Z",
                  "num_donations": 10,
                  "total_donated_amount": 2493.57,
                  "avg_donated_amount": 249.357
                },
                {
                  "index": 109,
                  "donation_date": "2020-10-17T00:00:00.000Z",
                  "num_donations": 7,
                  "total_donated_amount": 2200,
                  "avg_donated_amount": 314.2857142857
                }
              ]
            }
          },
          "metadata": {}
        }
      ],
      "execution_count": null,
      "metadata": {
        "noteable": {
          "cell_type": "python"
        },
        "dx": {
          "annotationsRulesByID": {
            "first-view": [],
            "transitory": {
              "first-view": []
            }
          },
          "dashboard": {
            "multiViews": []
          },
          "decoration": {},
          "fieldMetadata": {
            "avg_donated_amount": {
              "columnPosition": 2
            },
            "donation_date": {
              "columnPosition": 4
            },
            "index": {
              "columnPosition": 1
            },
            "num_donations": {
              "columnPosition": 3
            },
            "total_donated_amount": {
              "columnPosition": 2
            }
          },
          "mode": "exploration",
          "sampling": {
            "sampleSeed": 381480688393,
            "sampleSize": 10000,
            "sampleStrategy": "none"
          },
          "simpleTable": false,
          "styles": {
            "colors": []
          },
          "updated": 1655604720101,
          "views": [
            {
              "annotationRules": [],
              "chart": {
                "adjacencyList": "donation_date",
                "areaType": "hexbin",
                "barGrouping": "Clustered",
                "barProjection": "vertical",
                "barSubcategory": "none",
                "baseLayer": "world",
                "baseLayerFill": "#FFFFFF",
                "baseLayerStroke": "#000000",
                "bgColor": "none",
                "boundingSettings": {
                  "DEX_COUNT": {
                    "lowerBoundingMetric": "none",
                    "upperBoundingMetric": "none"
                  },
                  "avg_donated_amount": {
                    "lowerBoundingMetric": "none",
                    "upperBoundingMetric": "none"
                  },
                  "index": {
                    "lowerBoundingMetric": "none",
                    "upperBoundingMetric": "none"
                  },
                  "num_donations": {
                    "lowerBoundingMetric": "none",
                    "upperBoundingMetric": "none"
                  },
                  "total_donated_amount": {
                    "lowerBoundingMetric": "none",
                    "upperBoundingMetric": "none"
                  }
                },
                "boundingType": "absolute",
                "boxplotOutliers": false,
                "candleClose": "donation_date",
                "candleHigh": "donation_date",
                "candleLow": "donation_date",
                "candleOpen": "donation_date",
                "candlestickMode": false,
                "combinationMode": "AVG",
                "deselectedKeysHash": {},
                "dim1": "index",
                "dim2": "donation_date",
                "dim3": "none",
                "edgeMode": "edge list",
                "facetMetrics": [],
                "filteredDataOnly": "All Data",
                "funnelData": "metric",
                "funnelMetricOrder": [
                  "index",
                  "num_donations",
                  "total_donated_amount"
                ],
                "funnelMode": "bar",
                "hierarchyType": "dendrogram",
                "layerSettings": [
                  {
                    "color": "#000000",
                    "hoverOpts": {
                      "dims": [
                        "index",
                        "donation_date",
                        "num_donations"
                      ],
                      "mets": [
                        "index",
                        "donation_date",
                        "num_donations",
                        "total_donated_amount"
                      ]
                    },
                    "id": "072768f4-30d4-42f6-8b96-c9b14dbb67d8",
                    "latDim": "index",
                    "longDim": "num_donations",
                    "pointSizeOpts": {
                      "max": 109,
                      "met": "index",
                      "min": 0,
                      "mode": "functional",
                      "scale": "Linear",
                      "size": 2,
                      "sizeMax": 10,
                      "sizeMin": 1
                    },
                    "size": 2,
                    "stroke": "#000000",
                    "strokeWidth": 1,
                    "transparency": 0.9,
                    "type": "point"
                  }
                ],
                "lineSmoothing": "7dma",
                "lineType": "line",
                "mapMode": "point",
                "mapZoom": "basemap",
                "marginalGraphics": "none",
                "metric1": "index",
                "metric2": "donation_date",
                "metric3": "none",
                "metric4": "none",
                "networkLabel": "none",
                "networkType": "force",
                "parCoordsColor": "none",
                "pieceType": "bar",
                "pointBarMode": "bar",
                "primaryKey": [],
                "proBarMode": "Combined",
                "scatterplotColor": "none",
                "secondBarMetric": "none",
                "selectedDimensions": [
                  "num_donations"
                ],
                "selectedMetrics": [
                  "total_donated_amount"
                ],
                "showContours": false,
                "showTotal": true,
                "sortColumnsBy": "asc-val",
                "sparkchart": "none",
                "splitLinesBy": "none",
                "splomMode": "correlation",
                "summaryBins": 30,
                "summaryType": "violin",
                "surveyResponses": {
                  "negative": [],
                  "neutral": [],
                  "positive": []
                },
                "timeseriesSort": "donation_date",
                "tokenMetric": "donation_date",
                "trendLine": "none",
                "violinIQR": false
              },
              "chartMode": "line",
              "decoration": {
                "footer": "",
                "subtitle": "",
                "title": "Smoothed Total Donated By Day"
              },
              "filterSettings": {
                "SHOW_FILTER_PANEL": false,
                "filters": []
              },
              "id": "first-view",
              "isComment": false,
              "isDefault": true,
              "isTransitory": false,
              "type": "public",
              "userID": ""
            }
          ]
        },
        "jupyter": {
          "source_hidden": true
        },
        "scrolled": true
      },
      "id": "58d2055b-09ed-441c-b7e5-535b82c2fb77"
    },
    {
      "cell_type": "code",
      "source": [
        "by_date"
      ],
      "outputs": [
        {
          "output_type": "execute_result",
          "execution_count": 42,
          "data": {
            "application/vnd.dataresource+json": {
              "schema": {
                "fields": [
                  {
                    "name": "index",
                    "type": "integer"
                  },
                  {
                    "name": "donation_date",
                    "type": "datetime"
                  },
                  {
                    "name": "num_donations",
                    "type": "integer"
                  },
                  {
                    "name": "total_donated_amount",
                    "type": "number"
                  },
                  {
                    "name": "avg_donated_amount",
                    "type": "number"
                  }
                ],
                "primaryKey": [
                  "index"
                ],
                "pandas_version": "1.4.0"
              },
              "data": [
                {
                  "index": 0,
                  "donation_date": "2020-06-15T00:00:00.000Z",
                  "num_donations": 1,
                  "total_donated_amount": 61.88,
                  "avg_donated_amount": 61.88
                },
                {
                  "index": 1,
                  "donation_date": "2020-07-01T00:00:00.000Z",
                  "num_donations": 4,
                  "total_donated_amount": 1750,
                  "avg_donated_amount": 437.5
                },
                {
                  "index": 2,
                  "donation_date": "2020-07-02T00:00:00.000Z",
                  "num_donations": 6,
                  "total_donated_amount": 600,
                  "avg_donated_amount": 100
                },
                {
                  "index": 3,
                  "donation_date": "2020-07-03T00:00:00.000Z",
                  "num_donations": 5,
                  "total_donated_amount": 1800,
                  "avg_donated_amount": 360
                },
                {
                  "index": 4,
                  "donation_date": "2020-07-04T00:00:00.000Z",
                  "num_donations": 2,
                  "total_donated_amount": 200,
                  "avg_donated_amount": 100
                },
                {
                  "index": 5,
                  "donation_date": "2020-07-05T00:00:00.000Z",
                  "num_donations": 3,
                  "total_donated_amount": 650,
                  "avg_donated_amount": 216.6666666667
                },
                {
                  "index": 6,
                  "donation_date": "2020-07-06T00:00:00.000Z",
                  "num_donations": 2,
                  "total_donated_amount": 800,
                  "avg_donated_amount": 400
                },
                {
                  "index": 7,
                  "donation_date": "2020-07-07T00:00:00.000Z",
                  "num_donations": 6,
                  "total_donated_amount": 1200,
                  "avg_donated_amount": 200
                },
                {
                  "index": 8,
                  "donation_date": "2020-07-08T00:00:00.000Z",
                  "num_donations": 7,
                  "total_donated_amount": 1250,
                  "avg_donated_amount": 178.5714285714
                },
                {
                  "index": 9,
                  "donation_date": "2020-07-09T00:00:00.000Z",
                  "num_donations": 5,
                  "total_donated_amount": 902,
                  "avg_donated_amount": 180.4
                },
                {
                  "index": 10,
                  "donation_date": "2020-07-10T00:00:00.000Z",
                  "num_donations": 4,
                  "total_donated_amount": 1000,
                  "avg_donated_amount": 250
                },
                {
                  "index": 11,
                  "donation_date": "2020-07-11T00:00:00.000Z",
                  "num_donations": 1,
                  "total_donated_amount": 250,
                  "avg_donated_amount": 250
                },
                {
                  "index": 12,
                  "donation_date": "2020-07-12T00:00:00.000Z",
                  "num_donations": 3,
                  "total_donated_amount": 550,
                  "avg_donated_amount": 183.3333333333
                },
                {
                  "index": 13,
                  "donation_date": "2020-07-13T00:00:00.000Z",
                  "num_donations": 5,
                  "total_donated_amount": 600,
                  "avg_donated_amount": 120
                },
                {
                  "index": 14,
                  "donation_date": "2020-07-14T00:00:00.000Z",
                  "num_donations": 4,
                  "total_donated_amount": 900,
                  "avg_donated_amount": 225
                },
                {
                  "index": 15,
                  "donation_date": "2020-07-15T00:00:00.000Z",
                  "num_donations": 11,
                  "total_donated_amount": 3028,
                  "avg_donated_amount": 275.2727272727
                },
                {
                  "index": 16,
                  "donation_date": "2020-07-16T00:00:00.000Z",
                  "num_donations": 8,
                  "total_donated_amount": 1250,
                  "avg_donated_amount": 156.25
                },
                {
                  "index": 17,
                  "donation_date": "2020-07-17T00:00:00.000Z",
                  "num_donations": 5,
                  "total_donated_amount": 900,
                  "avg_donated_amount": 180
                },
                {
                  "index": 18,
                  "donation_date": "2020-07-18T00:00:00.000Z",
                  "num_donations": 1,
                  "total_donated_amount": 200,
                  "avg_donated_amount": 200
                },
                {
                  "index": 19,
                  "donation_date": "2020-07-19T00:00:00.000Z",
                  "num_donations": 4,
                  "total_donated_amount": 800,
                  "avg_donated_amount": 200
                },
                {
                  "index": 20,
                  "donation_date": "2020-07-20T00:00:00.000Z",
                  "num_donations": 8,
                  "total_donated_amount": 2000,
                  "avg_donated_amount": 250
                },
                {
                  "index": 21,
                  "donation_date": "2020-07-21T00:00:00.000Z",
                  "num_donations": 9,
                  "total_donated_amount": 1450,
                  "avg_donated_amount": 161.1111111111
                },
                {
                  "index": 22,
                  "donation_date": "2020-07-22T00:00:00.000Z",
                  "num_donations": 27,
                  "total_donated_amount": 5000.83,
                  "avg_donated_amount": 185.2159259259
                },
                {
                  "index": 23,
                  "donation_date": "2020-07-23T00:00:00.000Z",
                  "num_donations": 13,
                  "total_donated_amount": 3134.57,
                  "avg_donated_amount": 241.1207692308
                },
                {
                  "index": 24,
                  "donation_date": "2020-07-24T00:00:00.000Z",
                  "num_donations": 17,
                  "total_donated_amount": 3786.92,
                  "avg_donated_amount": 222.76
                },
                {
                  "index": 25,
                  "donation_date": "2020-07-25T00:00:00.000Z",
                  "num_donations": 6,
                  "total_donated_amount": 1365.99,
                  "avg_donated_amount": 227.665
                },
                {
                  "index": 26,
                  "donation_date": "2020-07-26T00:00:00.000Z",
                  "num_donations": 8,
                  "total_donated_amount": 1808.3,
                  "avg_donated_amount": 226.0375
                },
                {
                  "index": 27,
                  "donation_date": "2020-07-27T00:00:00.000Z",
                  "num_donations": 13,
                  "total_donated_amount": 3100,
                  "avg_donated_amount": 238.4615384615
                },
                {
                  "index": 28,
                  "donation_date": "2020-07-28T00:00:00.000Z",
                  "num_donations": 7,
                  "total_donated_amount": 700,
                  "avg_donated_amount": 100
                },
                {
                  "index": 29,
                  "donation_date": "2020-07-29T00:00:00.000Z",
                  "num_donations": 14,
                  "total_donated_amount": 5200,
                  "avg_donated_amount": 371.4285714286
                },
                {
                  "index": 30,
                  "donation_date": "2020-07-30T00:00:00.000Z",
                  "num_donations": 9,
                  "total_donated_amount": 2403.12,
                  "avg_donated_amount": 267.0133333333
                },
                {
                  "index": 31,
                  "donation_date": "2020-07-31T00:00:00.000Z",
                  "num_donations": 9,
                  "total_donated_amount": 3200,
                  "avg_donated_amount": 355.5555555556
                },
                {
                  "index": 32,
                  "donation_date": "2020-08-01T00:00:00.000Z",
                  "num_donations": 7,
                  "total_donated_amount": 1470,
                  "avg_donated_amount": 210
                },
                {
                  "index": 33,
                  "donation_date": "2020-08-02T00:00:00.000Z",
                  "num_donations": 6,
                  "total_donated_amount": 600,
                  "avg_donated_amount": 100
                },
                {
                  "index": 34,
                  "donation_date": "2020-08-03T00:00:00.000Z",
                  "num_donations": 8,
                  "total_donated_amount": 2878,
                  "avg_donated_amount": 359.75
                },
                {
                  "index": 35,
                  "donation_date": "2020-08-04T00:00:00.000Z",
                  "num_donations": 18,
                  "total_donated_amount": 4058,
                  "avg_donated_amount": 225.4444444444
                },
                {
                  "index": 36,
                  "donation_date": "2020-08-05T00:00:00.000Z",
                  "num_donations": 18,
                  "total_donated_amount": 2700,
                  "avg_donated_amount": 150
                },
                {
                  "index": 37,
                  "donation_date": "2020-08-06T00:00:00.000Z",
                  "num_donations": 27,
                  "total_donated_amount": 5549,
                  "avg_donated_amount": 205.5185185185
                },
                {
                  "index": 38,
                  "donation_date": "2020-08-07T00:00:00.000Z",
                  "num_donations": 11,
                  "total_donated_amount": 3100,
                  "avg_donated_amount": 281.8181818182
                },
                {
                  "index": 39,
                  "donation_date": "2020-08-08T00:00:00.000Z",
                  "num_donations": 10,
                  "total_donated_amount": 2300,
                  "avg_donated_amount": 230
                },
                {
                  "index": 40,
                  "donation_date": "2020-08-09T00:00:00.000Z",
                  "num_donations": 6,
                  "total_donated_amount": 1083,
                  "avg_donated_amount": 180.5
                },
                {
                  "index": 41,
                  "donation_date": "2020-08-10T00:00:00.000Z",
                  "num_donations": 17,
                  "total_donated_amount": 3666.63,
                  "avg_donated_amount": 215.6841176471
                },
                {
                  "index": 42,
                  "donation_date": "2020-08-11T00:00:00.000Z",
                  "num_donations": 16,
                  "total_donated_amount": 3908.3,
                  "avg_donated_amount": 244.26875
                },
                {
                  "index": 43,
                  "donation_date": "2020-08-12T00:00:00.000Z",
                  "num_donations": 18,
                  "total_donated_amount": 2554.15,
                  "avg_donated_amount": 141.8972222222
                },
                {
                  "index": 44,
                  "donation_date": "2020-08-13T00:00:00.000Z",
                  "num_donations": 21,
                  "total_donated_amount": 3252.35,
                  "avg_donated_amount": 154.8738095238
                },
                {
                  "index": 45,
                  "donation_date": "2020-08-14T00:00:00.000Z",
                  "num_donations": 39,
                  "total_donated_amount": 7752.23,
                  "avg_donated_amount": 198.7751282051
                },
                {
                  "index": 46,
                  "donation_date": "2020-08-15T00:00:00.000Z",
                  "num_donations": 14,
                  "total_donated_amount": 2527.23,
                  "avg_donated_amount": 180.5164285714
                },
                {
                  "index": 47,
                  "donation_date": "2020-08-16T00:00:00.000Z",
                  "num_donations": 15,
                  "total_donated_amount": 2650,
                  "avg_donated_amount": 176.6666666667
                },
                {
                  "index": 48,
                  "donation_date": "2020-08-17T00:00:00.000Z",
                  "num_donations": 12,
                  "total_donated_amount": 1640,
                  "avg_donated_amount": 136.6666666667
                },
                {
                  "index": 49,
                  "donation_date": "2020-08-18T00:00:00.000Z",
                  "num_donations": 9,
                  "total_donated_amount": 3400,
                  "avg_donated_amount": 377.7777777778
                },
                {
                  "index": 50,
                  "donation_date": "2020-08-19T00:00:00.000Z",
                  "num_donations": 16,
                  "total_donated_amount": 2200,
                  "avg_donated_amount": 137.5
                },
                {
                  "index": 51,
                  "donation_date": "2020-08-20T00:00:00.000Z",
                  "num_donations": 20,
                  "total_donated_amount": 4351,
                  "avg_donated_amount": 217.55
                },
                {
                  "index": 52,
                  "donation_date": "2020-08-21T00:00:00.000Z",
                  "num_donations": 9,
                  "total_donated_amount": 1550,
                  "avg_donated_amount": 172.2222222222
                },
                {
                  "index": 53,
                  "donation_date": "2020-08-22T00:00:00.000Z",
                  "num_donations": 14,
                  "total_donated_amount": 2329.15,
                  "avg_donated_amount": 166.3678571429
                },
                {
                  "index": 54,
                  "donation_date": "2020-08-23T00:00:00.000Z",
                  "num_donations": 5,
                  "total_donated_amount": 1400,
                  "avg_donated_amount": 280
                },
                {
                  "index": 55,
                  "donation_date": "2020-08-24T00:00:00.000Z",
                  "num_donations": 9,
                  "total_donated_amount": 1496.27,
                  "avg_donated_amount": 166.2522222222
                },
                {
                  "index": 56,
                  "donation_date": "2020-08-25T00:00:00.000Z",
                  "num_donations": 7,
                  "total_donated_amount": 1750,
                  "avg_donated_amount": 250
                },
                {
                  "index": 57,
                  "donation_date": "2020-08-26T00:00:00.000Z",
                  "num_donations": 27,
                  "total_donated_amount": 5106.07,
                  "avg_donated_amount": 189.1137037037
                },
                {
                  "index": 58,
                  "donation_date": "2020-08-27T00:00:00.000Z",
                  "num_donations": 9,
                  "total_donated_amount": 1600,
                  "avg_donated_amount": 177.7777777778
                },
                {
                  "index": 59,
                  "donation_date": "2020-08-28T00:00:00.000Z",
                  "num_donations": 9,
                  "total_donated_amount": 1760,
                  "avg_donated_amount": 195.5555555556
                },
                {
                  "index": 60,
                  "donation_date": "2020-08-29T00:00:00.000Z",
                  "num_donations": 10,
                  "total_donated_amount": 3949,
                  "avg_donated_amount": 394.9
                },
                {
                  "index": 61,
                  "donation_date": "2020-08-30T00:00:00.000Z",
                  "num_donations": 15,
                  "total_donated_amount": 3070,
                  "avg_donated_amount": 204.6666666667
                },
                {
                  "index": 62,
                  "donation_date": "2020-08-31T00:00:00.000Z",
                  "num_donations": 33,
                  "total_donated_amount": 7757,
                  "avg_donated_amount": 235.0606060606
                },
                {
                  "index": 63,
                  "donation_date": "2020-09-01T00:00:00.000Z",
                  "num_donations": 21,
                  "total_donated_amount": 3870,
                  "avg_donated_amount": 184.2857142857
                },
                {
                  "index": 64,
                  "donation_date": "2020-09-02T00:00:00.000Z",
                  "num_donations": 15,
                  "total_donated_amount": 3400,
                  "avg_donated_amount": 226.6666666667
                },
                {
                  "index": 65,
                  "donation_date": "2020-09-03T00:00:00.000Z",
                  "num_donations": 18,
                  "total_donated_amount": 3365.06,
                  "avg_donated_amount": 186.9477777778
                },
                {
                  "index": 66,
                  "donation_date": "2020-09-04T00:00:00.000Z",
                  "num_donations": 17,
                  "total_donated_amount": 3000,
                  "avg_donated_amount": 176.4705882353
                },
                {
                  "index": 67,
                  "donation_date": "2020-09-05T00:00:00.000Z",
                  "num_donations": 12,
                  "total_donated_amount": 1900,
                  "avg_donated_amount": 158.3333333333
                },
                {
                  "index": 68,
                  "donation_date": "2020-09-06T00:00:00.000Z",
                  "num_donations": 14,
                  "total_donated_amount": 2350,
                  "avg_donated_amount": 167.8571428571
                },
                {
                  "index": 69,
                  "donation_date": "2020-09-07T00:00:00.000Z",
                  "num_donations": 19,
                  "total_donated_amount": 3720,
                  "avg_donated_amount": 195.7894736842
                },
                {
                  "index": 70,
                  "donation_date": "2020-09-08T00:00:00.000Z",
                  "num_donations": 19,
                  "total_donated_amount": 3100,
                  "avg_donated_amount": 163.1578947368
                },
                {
                  "index": 71,
                  "donation_date": "2020-09-09T00:00:00.000Z",
                  "num_donations": 27,
                  "total_donated_amount": 4125,
                  "avg_donated_amount": 152.7777777778
                },
                {
                  "index": 72,
                  "donation_date": "2020-09-10T00:00:00.000Z",
                  "num_donations": 17,
                  "total_donated_amount": 4859.92,
                  "avg_donated_amount": 285.8776470588
                },
                {
                  "index": 73,
                  "donation_date": "2020-09-11T00:00:00.000Z",
                  "num_donations": 14,
                  "total_donated_amount": 2973.99,
                  "avg_donated_amount": 212.4278571429
                },
                {
                  "index": 74,
                  "donation_date": "2020-09-12T00:00:00.000Z",
                  "num_donations": 22,
                  "total_donated_amount": 3407.92,
                  "avg_donated_amount": 154.9054545455
                },
                {
                  "index": 75,
                  "donation_date": "2020-09-13T00:00:00.000Z",
                  "num_donations": 11,
                  "total_donated_amount": 3104.15,
                  "avg_donated_amount": 282.1954545455
                },
                {
                  "index": 76,
                  "donation_date": "2020-09-14T00:00:00.000Z",
                  "num_donations": 21,
                  "total_donated_amount": 3338.15,
                  "avg_donated_amount": 158.9595238095
                },
                {
                  "index": 77,
                  "donation_date": "2020-09-15T00:00:00.000Z",
                  "num_donations": 21,
                  "total_donated_amount": 4752.23,
                  "avg_donated_amount": 226.2966666667
                },
                {
                  "index": 78,
                  "donation_date": "2020-09-16T00:00:00.000Z",
                  "num_donations": 32,
                  "total_donated_amount": 7854.15,
                  "avg_donated_amount": 245.4421875
                },
                {
                  "index": 79,
                  "donation_date": "2020-09-17T00:00:00.000Z",
                  "num_donations": 15,
                  "total_donated_amount": 2850,
                  "avg_donated_amount": 190
                },
                {
                  "index": 80,
                  "donation_date": "2020-09-18T00:00:00.000Z",
                  "num_donations": 30,
                  "total_donated_amount": 6267.03,
                  "avg_donated_amount": 208.901
                },
                {
                  "index": 81,
                  "donation_date": "2020-09-19T00:00:00.000Z",
                  "num_donations": 14,
                  "total_donated_amount": 2593,
                  "avg_donated_amount": 185.2142857143
                },
                {
                  "index": 82,
                  "donation_date": "2020-09-20T00:00:00.000Z",
                  "num_donations": 12,
                  "total_donated_amount": 1700,
                  "avg_donated_amount": 154.5454545455
                },
                {
                  "index": 83,
                  "donation_date": "2020-09-21T00:00:00.000Z",
                  "num_donations": 12,
                  "total_donated_amount": 1551.23,
                  "avg_donated_amount": 129.2691666667
                },
                {
                  "index": 84,
                  "donation_date": "2020-09-22T00:00:00.000Z",
                  "num_donations": 12,
                  "total_donated_amount": 1980,
                  "avg_donated_amount": 165
                },
                {
                  "index": 85,
                  "donation_date": "2020-09-23T00:00:00.000Z",
                  "num_donations": 17,
                  "total_donated_amount": 3304.15,
                  "avg_donated_amount": 194.3617647059
                },
                {
                  "index": 86,
                  "donation_date": "2020-09-24T00:00:00.000Z",
                  "num_donations": 23,
                  "total_donated_amount": 4451.27,
                  "avg_donated_amount": 211.9652380952
                },
                {
                  "index": 87,
                  "donation_date": "2020-09-25T00:00:00.000Z",
                  "num_donations": 37,
                  "total_donated_amount": 10256.24,
                  "avg_donated_amount": 277.1956756757
                },
                {
                  "index": 88,
                  "donation_date": "2020-09-26T00:00:00.000Z",
                  "num_donations": 5,
                  "total_donated_amount": 900,
                  "avg_donated_amount": 180
                },
                {
                  "index": 89,
                  "donation_date": "2020-09-27T00:00:00.000Z",
                  "num_donations": 5,
                  "total_donated_amount": 500,
                  "avg_donated_amount": 100
                },
                {
                  "index": 90,
                  "donation_date": "2020-09-28T00:00:00.000Z",
                  "num_donations": 29,
                  "total_donated_amount": 5549,
                  "avg_donated_amount": 191.3448275862
                },
                {
                  "index": 91,
                  "donation_date": "2020-09-29T00:00:00.000Z",
                  "num_donations": 29,
                  "total_donated_amount": 5975,
                  "avg_donated_amount": 206.0344827586
                },
                {
                  "index": 92,
                  "donation_date": "2020-09-30T00:00:00.000Z",
                  "num_donations": 12,
                  "total_donated_amount": 4250,
                  "avg_donated_amount": 354.1666666667
                },
                {
                  "index": 93,
                  "donation_date": "2020-10-01T00:00:00.000Z",
                  "num_donations": 19,
                  "total_donated_amount": 3918.3,
                  "avg_donated_amount": 206.2263157895
                },
                {
                  "index": 94,
                  "donation_date": "2020-10-02T00:00:00.000Z",
                  "num_donations": 23,
                  "total_donated_amount": 4225,
                  "avg_donated_amount": 183.6956521739
                },
                {
                  "index": 95,
                  "donation_date": "2020-10-03T00:00:00.000Z",
                  "num_donations": 8,
                  "total_donated_amount": 2150,
                  "avg_donated_amount": 268.75
                },
                {
                  "index": 96,
                  "donation_date": "2020-10-04T00:00:00.000Z",
                  "num_donations": 9,
                  "total_donated_amount": 1214.07,
                  "avg_donated_amount": 134.8966666667
                },
                {
                  "index": 97,
                  "donation_date": "2020-10-05T00:00:00.000Z",
                  "num_donations": 9,
                  "total_donated_amount": 1900,
                  "avg_donated_amount": 211.1111111111
                },
                {
                  "index": 98,
                  "donation_date": "2020-10-06T00:00:00.000Z",
                  "num_donations": 34,
                  "total_donated_amount": 5339.15,
                  "avg_donated_amount": 161.7924242424
                },
                {
                  "index": 99,
                  "donation_date": "2020-10-07T00:00:00.000Z",
                  "num_donations": 9,
                  "total_donated_amount": 1204.15,
                  "avg_donated_amount": 133.7944444444
                },
                {
                  "index": 100,
                  "donation_date": "2020-10-08T00:00:00.000Z",
                  "num_donations": 16,
                  "total_donated_amount": 4222.15,
                  "avg_donated_amount": 263.884375
                },
                {
                  "index": 101,
                  "donation_date": "2020-10-09T00:00:00.000Z",
                  "num_donations": 68,
                  "total_donated_amount": 13305,
                  "avg_donated_amount": 195.6617647059
                },
                {
                  "index": 102,
                  "donation_date": "2020-10-10T00:00:00.000Z",
                  "num_donations": 14,
                  "total_donated_amount": 2050,
                  "avg_donated_amount": 146.4285714286
                },
                {
                  "index": 103,
                  "donation_date": "2020-10-11T00:00:00.000Z",
                  "num_donations": 15,
                  "total_donated_amount": 2325,
                  "avg_donated_amount": 155
                },
                {
                  "index": 104,
                  "donation_date": "2020-10-12T00:00:00.000Z",
                  "num_donations": 20,
                  "total_donated_amount": 6520,
                  "avg_donated_amount": 326
                },
                {
                  "index": 105,
                  "donation_date": "2020-10-13T00:00:00.000Z",
                  "num_donations": 8,
                  "total_donated_amount": 1190,
                  "avg_donated_amount": 148.75
                },
                {
                  "index": 106,
                  "donation_date": "2020-10-14T00:00:00.000Z",
                  "num_donations": 7,
                  "total_donated_amount": 2334,
                  "avg_donated_amount": 333.4285714286
                },
                {
                  "index": 107,
                  "donation_date": "2020-10-15T00:00:00.000Z",
                  "num_donations": 10,
                  "total_donated_amount": 2653.23,
                  "avg_donated_amount": 265.323
                },
                {
                  "index": 108,
                  "donation_date": "2020-10-16T00:00:00.000Z",
                  "num_donations": 10,
                  "total_donated_amount": 2493.57,
                  "avg_donated_amount": 249.357
                },
                {
                  "index": 109,
                  "donation_date": "2020-10-17T00:00:00.000Z",
                  "num_donations": 7,
                  "total_donated_amount": 2200,
                  "avg_donated_amount": 314.2857142857
                }
              ]
            }
          },
          "metadata": {}
        }
      ],
      "execution_count": null,
      "metadata": {
        "dx": {
          "annotationsRulesByID": {
            "first-view": [],
            "transitory": {
              "first-view": []
            }
          },
          "dashboard": {
            "multiViews": []
          },
          "decoration": {},
          "fieldMetadata": {
            "avg_donated_amount": {
              "columnPosition": 2
            },
            "donation_date": {
              "columnPosition": 4
            },
            "index": {
              "columnPosition": 1
            },
            "num_donations": {
              "columnPosition": 3
            },
            "total_donated_amount": {
              "columnPosition": 2
            }
          },
          "mode": "exploration",
          "sampling": {
            "sampleSeed": 381480688393,
            "sampleSize": 10000,
            "sampleStrategy": "none"
          },
          "simpleTable": false,
          "styles": {
            "colors": []
          },
          "updated": 1655604886183,
          "views": [
            {
              "annotationRules": [],
              "chart": {
                "adjacencyList": "donation_date",
                "areaType": "hexbin",
                "barGrouping": "Clustered",
                "barProjection": "vertical",
                "barSubcategory": "none",
                "baseLayer": "world",
                "baseLayerFill": "#FFFFFF",
                "baseLayerStroke": "#000000",
                "bgColor": "none",
                "boundingSettings": {
                  "DEX_COUNT": {
                    "lowerBoundingMetric": "none",
                    "upperBoundingMetric": "none"
                  },
                  "avg_donated_amount": {
                    "lowerBoundingMetric": "none",
                    "upperBoundingMetric": "none"
                  },
                  "index": {
                    "lowerBoundingMetric": "none",
                    "upperBoundingMetric": "none"
                  },
                  "num_donations": {
                    "lowerBoundingMetric": "none",
                    "upperBoundingMetric": "none"
                  },
                  "total_donated_amount": {
                    "lowerBoundingMetric": "none",
                    "upperBoundingMetric": "none"
                  }
                },
                "boundingType": "absolute",
                "boxplotOutliers": false,
                "candleClose": "donation_date",
                "candleHigh": "donation_date",
                "candleLow": "donation_date",
                "candleOpen": "donation_date",
                "candlestickMode": false,
                "combinationMode": "AVG",
                "deselectedKeysHash": {},
                "dim1": "index",
                "dim2": "donation_date",
                "dim3": "none",
                "edgeMode": "edge list",
                "facetMetrics": [],
                "filteredDataOnly": "All Data",
                "funnelData": "metric",
                "funnelMetricOrder": [
                  "index",
                  "num_donations",
                  "total_donated_amount"
                ],
                "funnelMode": "bar",
                "hierarchyType": "dendrogram",
                "layerSettings": [
                  {
                    "color": "#000000",
                    "hoverOpts": {
                      "dims": [
                        "index",
                        "donation_date",
                        "num_donations"
                      ],
                      "mets": [
                        "index",
                        "donation_date",
                        "num_donations",
                        "total_donated_amount"
                      ]
                    },
                    "id": "072768f4-30d4-42f6-8b96-c9b14dbb67d8",
                    "latDim": "index",
                    "longDim": "num_donations",
                    "pointSizeOpts": {
                      "max": 109,
                      "met": "index",
                      "min": 0,
                      "mode": "functional",
                      "scale": "Linear",
                      "size": 2,
                      "sizeMax": 10,
                      "sizeMin": 1
                    },
                    "size": 2,
                    "stroke": "#000000",
                    "strokeWidth": 1,
                    "transparency": 0.9,
                    "type": "point"
                  }
                ],
                "lineSmoothing": "7dma",
                "lineType": "line",
                "mapMode": "point",
                "mapZoom": "basemap",
                "marginalGraphics": "none",
                "metric1": "index",
                "metric2": "donation_date",
                "metric3": "none",
                "metric4": "none",
                "networkLabel": "none",
                "networkType": "force",
                "parCoordsColor": "none",
                "pieceType": "bar",
                "pointBarMode": "bar",
                "primaryKey": [],
                "proBarMode": "Combined",
                "scatterplotColor": "none",
                "secondBarMetric": "none",
                "selectedDimensions": [
                  "num_donations"
                ],
                "selectedMetrics": [
                  "total_donated_amount"
                ],
                "showContours": false,
                "showTotal": true,
                "sortColumnsBy": "asc-val",
                "sparkchart": "none",
                "splitLinesBy": "none",
                "splomMode": "correlation",
                "summaryBins": 30,
                "summaryType": "violin",
                "surveyResponses": {
                  "negative": [],
                  "neutral": [],
                  "positive": []
                },
                "timeseriesSort": "donation_date",
                "tokenMetric": "donation_date",
                "trendLine": "none",
                "violinIQR": false
              },
              "chartMode": "line",
              "decoration": {
                "footer": "",
                "subtitle": "",
                "title": "Smoothed Total Donated By Day"
              },
              "filterSettings": {
                "SHOW_FILTER_PANEL": false,
                "filters": []
              },
              "id": "first-view",
              "isComment": false,
              "isDefault": true,
              "isTransitory": false,
              "type": "public",
              "userID": ""
            },
            {
              "annotationRules": [],
              "chart": {
                "adjacencyList": "donation_date",
                "areaType": "hexbin",
                "barGrouping": "Clustered",
                "barProjection": "vertical",
                "barSubcategory": "none",
                "baseLayer": "world",
                "baseLayerFill": "#FFFFFF",
                "baseLayerStroke": "#000000",
                "bgColor": "none",
                "boundingSettings": {
                  "DEX_COUNT": {
                    "lowerBoundingMetric": "none",
                    "upperBoundingMetric": "none"
                  },
                  "avg_donated_amount": {
                    "lowerBoundingMetric": "none",
                    "upperBoundingMetric": "none"
                  },
                  "index": {
                    "lowerBoundingMetric": "none",
                    "upperBoundingMetric": "none"
                  },
                  "num_donations": {
                    "lowerBoundingMetric": "none",
                    "upperBoundingMetric": "none"
                  },
                  "total_donated_amount": {
                    "lowerBoundingMetric": "none",
                    "upperBoundingMetric": "none"
                  }
                },
                "boundingType": "absolute",
                "boxplotOutliers": false,
                "candleClose": "donation_date",
                "candleHigh": "donation_date",
                "candleLow": "donation_date",
                "candleOpen": "donation_date",
                "candlestickMode": false,
                "combinationMode": "AVG",
                "deselectedKeysHash": {},
                "dim1": "index",
                "dim2": "donation_date",
                "dim3": "none",
                "edgeMode": "edge list",
                "facetMetrics": [],
                "filteredDataOnly": "All Data",
                "funnelData": "metric",
                "funnelMetricOrder": [
                  "index",
                  "num_donations",
                  "total_donated_amount"
                ],
                "funnelMode": "bar",
                "hierarchyType": "dendrogram",
                "layerSettings": [
                  {
                    "color": "#000000",
                    "hoverOpts": {
                      "dims": [
                        "index",
                        "donation_date",
                        "num_donations"
                      ],
                      "mets": [
                        "index",
                        "donation_date",
                        "num_donations",
                        "total_donated_amount"
                      ]
                    },
                    "id": "072768f4-30d4-42f6-8b96-c9b14dbb67d8",
                    "latDim": "index",
                    "longDim": "num_donations",
                    "pointSizeOpts": {
                      "max": 109,
                      "met": "index",
                      "min": 0,
                      "mode": "functional",
                      "scale": "Linear",
                      "size": 2,
                      "sizeMax": 10,
                      "sizeMin": 1
                    },
                    "size": 2,
                    "stroke": "#000000",
                    "strokeWidth": 1,
                    "transparency": 0.9,
                    "type": "point"
                  }
                ],
                "lineSmoothing": "7dma",
                "lineType": "line",
                "mapMode": "point",
                "mapZoom": "basemap",
                "marginalGraphics": "none",
                "metric1": "index",
                "metric2": "donation_date",
                "metric3": "none",
                "metric4": "none",
                "networkLabel": "none",
                "networkType": "force",
                "parCoordsColor": "none",
                "pieceType": "bar",
                "pointBarMode": "bar",
                "primaryKey": [],
                "proBarMode": "Combined",
                "scatterplotColor": "none",
                "secondBarMetric": "none",
                "selectedDimensions": [
                  "num_donations"
                ],
                "selectedMetrics": [
                  "avg_donated_amount"
                ],
                "showContours": false,
                "showTotal": true,
                "sortColumnsBy": "asc-val",
                "sparkchart": "none",
                "splitLinesBy": "none",
                "splomMode": "correlation",
                "summaryBins": 30,
                "summaryType": "violin",
                "surveyResponses": {
                  "negative": [],
                  "neutral": [],
                  "positive": []
                },
                "timeseriesSort": "donation_date",
                "tokenMetric": "donation_date",
                "trendLine": "none",
                "violinIQR": false
              },
              "chartMode": "line",
              "decoration": {
                "footer": "",
                "subtitle": "",
                "title": "Smoothed Average Donated By Day"
              },
              "filterSettings": {
                "SHOW_FILTER_PANEL": false,
                "filters": []
              },
              "id": "first-view",
              "isComment": false,
              "isDefault": true,
              "isTransitory": true,
              "type": "public",
              "userID": ""
            }
          ]
        },
        "jupyter": {
          "outputs_hidden": false,
          "source_hidden": true
        },
        "noteable": {
          "cell_type": "python"
        }
      },
      "id": "ec9b4dc0-30da-457c-af41-53a06a423cf8"
    },
    {
      "cell_type": "markdown",
      "source": [
        "## How many candidates were there?"
      ],
      "metadata": {
        "noteable": {
          "cell_type": "markdown"
        }
      },
      "id": "304bd0ce-2dba-471a-a17a-975e4d71c187"
    },
    {
      "cell_type": "code",
      "source": [
        "%%sql @2b38d1248d17413982b2e98f93c4c20e\n",
        "select\n",
        "    race,\n",
        "    count(distinct candidate) as count_candidates,\n",
        "    string_agg(distinct candidate, ', ' order by candidate) as candidates,\n",
        "    sum(amount) as total_donated_in_race\n",
        "from donations\n",
        "group by 1\n",
        "order by 2 desc"
      ],
      "outputs": [
        {
          "output_type": "execute_result",
          "execution_count": 43,
          "data": {
            "application/vnd.dataresource+json": {
              "schema": {
                "fields": [
                  {
                    "name": "index",
                    "type": "integer"
                  },
                  {
                    "name": "race",
                    "type": "string"
                  },
                  {
                    "name": "count_candidates",
                    "type": "integer"
                  },
                  {
                    "name": "candidates",
                    "type": "string"
                  },
                  {
                    "name": "total_donated_in_race",
                    "type": "number"
                  }
                ],
                "primaryKey": [
                  "index"
                ],
                "pandas_version": "1.4.0"
              },
              "data": [
                {
                  "index": 0,
                  "race": "Santa Cruz City Council",
                  "count_candidates": 9,
                  "candidates": "Alicia Kuhl, Elizabeth Conlan, Kayla Kumar, Kelsey Hill, Maria Cadenas, Martine Watkins, Sandy Brown, Shebreh Kalantari-Johnson, Sonja Brunner",
                  "total_donated_in_race": 154575.5799999999
                },
                {
                  "index": 1,
                  "race": "Watsonville City Council",
                  "count_candidates": 4,
                  "candidates": "Aurelio Gonzalez, Jimmy Dutra, Tony Gomez, Vanessa Quiroz-Carter",
                  "total_donated_in_race": 21568
                },
                {
                  "index": 2,
                  "race": "Capitola City Council",
                  "count_candidates": 3,
                  "candidates": "Anthony Rovai, Kristen Petersen, Margaux Keiser",
                  "total_donated_in_race": 7249
                },
                {
                  "index": 3,
                  "race": "Scotts Valley City Council",
                  "count_candidates": 3,
                  "candidates": "Donna Lind, Jack Dilles, Randy Johnson",
                  "total_donated_in_race": 6400
                },
                {
                  "index": 4,
                  "race": "County supervisor District 1",
                  "count_candidates": 2,
                  "candidates": "John Leopold, Manu Koenig",
                  "total_donated_in_race": 126547.52
                }
              ]
            }
          },
          "metadata": {}
        }
      ],
      "execution_count": null,
      "metadata": {
        "noteable": {
          "cell_type": "sql",
          "db_connection": "@2b38d1248d17413982b2e98f93c4c20e"
        },
        "jupyter": {
          "source_hidden": true
        }
      },
      "id": "82acedff-7bc4-4d52-8038-e1186fb7bb11"
    },
    {
      "cell_type": "markdown",
      "source": [
        "## Total Raised By Candidate/Race"
      ],
      "metadata": {
        "noteable": {
          "cell_type": "markdown"
        }
      },
      "id": "7814d9dc-d0b8-4ad1-b4b3-37cad59841ab"
    },
    {
      "cell_type": "code",
      "source": [
        "%%sql @2b38d1248d17413982b2e98f93c4c20e\n",
        "select race,\n",
        "    candidate,\n",
        "    sum(amount) as total_raised,\n",
        "    count(*) as num_donations\n",
        "from donations\n",
        "group by 1, 2\n",
        "order by 3 desc"
      ],
      "outputs": [
        {
          "output_type": "execute_result",
          "execution_count": 44,
          "data": {
            "application/vnd.dataresource+json": {
              "schema": {
                "fields": [
                  {
                    "name": "index",
                    "type": "integer"
                  },
                  {
                    "name": "race",
                    "type": "string"
                  },
                  {
                    "name": "candidate",
                    "type": "string"
                  },
                  {
                    "name": "total_raised",
                    "type": "number"
                  },
                  {
                    "name": "num_donations",
                    "type": "integer"
                  }
                ],
                "primaryKey": [
                  "index"
                ],
                "pandas_version": "1.4.0"
              },
              "data": [
                {
                  "index": 0,
                  "race": "County supervisor District 1",
                  "candidate": "John Leopold",
                  "total_raised": 65302,
                  "num_donations": 301
                },
                {
                  "index": 1,
                  "race": "County supervisor District 1",
                  "candidate": "Manu Koenig",
                  "total_raised": 61245.52,
                  "num_donations": 272
                },
                {
                  "index": 2,
                  "race": "Santa Cruz City Council",
                  "candidate": "Shebreh Kalantari-Johnson",
                  "total_raised": 31475,
                  "num_donations": 141
                },
                {
                  "index": 3,
                  "race": "Santa Cruz City Council",
                  "candidate": "Martine Watkins",
                  "total_raised": 25602.97,
                  "num_donations": 132
                },
                {
                  "index": 4,
                  "race": "Santa Cruz City Council",
                  "candidate": "Kayla Kumar",
                  "total_raised": 23768,
                  "num_donations": 108
                },
                {
                  "index": 5,
                  "race": "Santa Cruz City Council",
                  "candidate": "Sonja Brunner",
                  "total_raised": 22092.61,
                  "num_donations": 117
                },
                {
                  "index": 6,
                  "race": "Santa Cruz City Council",
                  "candidate": "Sandy Brown",
                  "total_raised": 17928,
                  "num_donations": 85
                },
                {
                  "index": 7,
                  "race": "Santa Cruz City Council",
                  "candidate": "Kelsey Hill",
                  "total_raised": 15997,
                  "num_donations": 77
                },
                {
                  "index": 8,
                  "race": "Santa Cruz City Council",
                  "candidate": "Maria Cadenas",
                  "total_raised": 10449,
                  "num_donations": 59
                },
                {
                  "index": 9,
                  "race": "Watsonville City Council",
                  "candidate": "Jimmy Dutra",
                  "total_raised": 9050,
                  "num_donations": 57
                },
                {
                  "index": 10,
                  "race": "Watsonville City Council",
                  "candidate": "Tony Gomez",
                  "total_raised": 5434,
                  "num_donations": 14
                },
                {
                  "index": 11,
                  "race": "Watsonville City Council",
                  "candidate": "Vanessa Quiroz-Carter",
                  "total_raised": 4900,
                  "num_donations": 15
                },
                {
                  "index": 12,
                  "race": "Santa Cruz City Council",
                  "candidate": "Elizabeth Conlan",
                  "total_raised": 4475,
                  "num_donations": 18
                },
                {
                  "index": 13,
                  "race": "Scotts Valley City Council",
                  "candidate": "Jack Dilles",
                  "total_raised": 3700,
                  "num_donations": 37
                },
                {
                  "index": 14,
                  "race": "Capitola City Council",
                  "candidate": "Anthony Rovai",
                  "total_raised": 2799,
                  "num_donations": 17
                },
                {
                  "index": 15,
                  "race": "Santa Cruz City Council",
                  "candidate": "Alicia Kuhl",
                  "total_raised": 2788,
                  "num_donations": 7
                },
                {
                  "index": 16,
                  "race": "Capitola City Council",
                  "candidate": "Margaux Keiser",
                  "total_raised": 2250,
                  "num_donations": 16
                },
                {
                  "index": 17,
                  "race": "Capitola City Council",
                  "candidate": "Kristen Petersen",
                  "total_raised": 2200,
                  "num_donations": 13
                },
                {
                  "index": 18,
                  "race": "Watsonville City Council",
                  "candidate": "Aurelio Gonzalez",
                  "total_raised": 2184,
                  "num_donations": 9
                },
                {
                  "index": 19,
                  "race": "Scotts Valley City Council",
                  "candidate": "Randy Johnson",
                  "total_raised": 1400,
                  "num_donations": 14
                },
                {
                  "index": 20,
                  "race": "Scotts Valley City Council",
                  "candidate": "Donna Lind",
                  "total_raised": 1300,
                  "num_donations": 13
                }
              ]
            }
          },
          "metadata": {}
        }
      ],
      "execution_count": null,
      "metadata": {
        "noteable": {
          "cell_type": "sql",
          "db_connection": "@2b38d1248d17413982b2e98f93c4c20e"
        },
        "dx": {
          "annotationsRulesByID": {
            "first-view": [],
            "transitory": {
              "first-view": []
            }
          },
          "dashboard": {
            "multiViews": []
          },
          "decoration": {},
          "fieldMetadata": {
            "candidate": {
              "columnPosition": 3
            },
            "index": {
              "columnPosition": 1
            },
            "num_donations": {
              "columnPosition": 2
            },
            "race": {
              "columnPosition": 4
            },
            "sum": {
              "columnPosition": 2
            },
            "total_raised": {
              "columnPosition": 2
            }
          },
          "mode": "exploration",
          "sampling": {
            "sampleSeed": 1062750044858,
            "sampleSize": 10000,
            "sampleStrategy": "none"
          },
          "simpleTable": false,
          "styles": {
            "colors": []
          },
          "updated": 1655607962434,
          "views": [
            {
              "annotationRules": [],
              "chart": {
                "adjacencyList": "race",
                "areaType": "hexbin",
                "barGrouping": "Clustered",
                "barProjection": "vertical",
                "barSubcategory": "none",
                "baseLayer": "world",
                "baseLayerFill": "#FFFFFF",
                "baseLayerStroke": "#000000",
                "bgColor": "none",
                "boundingSettings": {
                  "index": {
                    "lowerBoundingMetric": "none",
                    "upperBoundingMetric": "none"
                  },
                  "sum": {
                    "lowerBoundingMetric": "none",
                    "upperBoundingMetric": "none"
                  }
                },
                "boundingType": "absolute",
                "boxplotOutliers": false,
                "candleClose": "sum",
                "candleHigh": "sum",
                "candleLow": "sum",
                "candleOpen": "sum",
                "candlestickMode": false,
                "combinationMode": "AVG",
                "deselectedKeysHash": {},
                "dim1": "index",
                "dim2": "race",
                "dim3": "none",
                "edgeMode": "edge list",
                "facetMetrics": [],
                "filteredDataOnly": "All Data",
                "funnelData": "metric",
                "funnelMetricOrder": [
                  "index",
                  "sum"
                ],
                "funnelMode": "bar",
                "hierarchyType": "dendrogram",
                "layerSettings": [
                  {
                    "color": "#000000",
                    "hoverOpts": {
                      "dims": [
                        "index",
                        "race",
                        "candidate",
                        "num_donations"
                      ],
                      "mets": [
                        "index",
                        "total_raised",
                        "num_donations"
                      ]
                    },
                    "id": "3585337a-1fc2-4aa2-ba19-9e9b0cf0b9d3",
                    "latDim": "index",
                    "longDim": "num_donations",
                    "pointSizeOpts": {
                      "max": 20,
                      "met": "index",
                      "min": 0,
                      "mode": "functional",
                      "scale": "Linear",
                      "size": 2,
                      "sizeMax": 10,
                      "sizeMin": 1
                    },
                    "size": 2,
                    "stroke": "#000000",
                    "strokeWidth": 1,
                    "transparency": 0.9,
                    "type": "point"
                  }
                ],
                "lineSmoothing": "none",
                "lineType": "line",
                "mapMode": "point",
                "mapZoom": "basemap",
                "marginalGraphics": "none",
                "metric1": "index",
                "metric2": "sum",
                "metric3": "none",
                "metric4": "none",
                "networkLabel": "none",
                "networkType": "force",
                "parCoordsColor": "none",
                "pieceType": "bar",
                "pointBarMode": "bar",
                "primaryKey": [],
                "proBarMode": "Combined",
                "scatterplotColor": "none",
                "secondBarMetric": "none",
                "selectedDimensions": [
                  "race"
                ],
                "selectedMetrics": [],
                "showContours": false,
                "showTotal": true,
                "sortColumnsBy": "asc-val",
                "sparkchart": "none",
                "splitLinesBy": "none",
                "splomMode": "correlation",
                "summaryBins": 30,
                "summaryType": "violin",
                "surveyResponses": {
                  "negative": [],
                  "neutral": [],
                  "positive": []
                },
                "timeseriesSort": "none",
                "tokenMetric": "sum",
                "trendLine": "none",
                "violinIQR": false
              },
              "chartMode": "grid",
              "decoration": {
                "footer": "",
                "subtitle": "",
                "title": "Table"
              },
              "filterSettings": {
                "SHOW_FILTER_PANEL": true,
                "filters": []
              },
              "id": "first-view",
              "isDefault": true,
              "type": "public",
              "userID": ""
            },
            {
              "annotationRules": [],
              "chart": {
                "adjacencyList": "race",
                "areaType": "hexbin",
                "barGrouping": "Clustered",
                "barProjection": "vertical",
                "barSubcategory": "none",
                "baseLayer": "world",
                "baseLayerFill": "#FFFFFF",
                "baseLayerStroke": "#000000",
                "bgColor": "none",
                "boundingSettings": {
                  "index": {
                    "lowerBoundingMetric": "none",
                    "upperBoundingMetric": "none"
                  },
                  "sum": {
                    "lowerBoundingMetric": "none",
                    "upperBoundingMetric": "none"
                  }
                },
                "boundingType": "absolute",
                "boxplotOutliers": false,
                "candleClose": "sum",
                "candleHigh": "sum",
                "candleLow": "sum",
                "candleOpen": "sum",
                "candlestickMode": false,
                "combinationMode": "AVG",
                "deselectedKeysHash": {},
                "dim1": "candidate",
                "dim2": "race",
                "dim3": "none",
                "edgeMode": "edge list",
                "facetMetrics": [],
                "facets": [
                  {
                    "filtering": {
                      "filter": {
                        "column": "race",
                        "predicate": "in",
                        "type": "DIMENSION_FILTER",
                        "value": [
                          "Santa Cruz City Council"
                        ]
                      }
                    },
                    "name": "race",
                    "title": "race: Santa Cruz City Council"
                  },
                  {
                    "filtering": {
                      "filter": {
                        "column": "race",
                        "predicate": "in",
                        "type": "DIMENSION_FILTER",
                        "value": [
                          "Watsonville City Council"
                        ]
                      }
                    },
                    "name": "race",
                    "title": "race: Watsonville City Council"
                  },
                  {
                    "filtering": {
                      "filter": {
                        "column": "race",
                        "predicate": "in",
                        "type": "DIMENSION_FILTER",
                        "value": [
                          "Scotts Valley City Council"
                        ]
                      }
                    },
                    "name": "race",
                    "title": "race: Scotts Valley City Council"
                  },
                  {
                    "filtering": {
                      "filter": {
                        "column": "race",
                        "predicate": "in",
                        "type": "DIMENSION_FILTER",
                        "value": [
                          "Capitola City Council"
                        ]
                      }
                    },
                    "name": "race",
                    "title": "race: Capitola City Council"
                  },
                  {
                    "filtering": {
                      "filter": {
                        "column": "race",
                        "predicate": "in",
                        "type": "DIMENSION_FILTER",
                        "value": [
                          "County supervisor District 1"
                        ]
                      }
                    },
                    "name": "race",
                    "title": "race: County supervisor District 1"
                  }
                ],
                "filteredDataOnly": "All Data",
                "funnelData": "metric",
                "funnelMetricOrder": [
                  "index",
                  "sum"
                ],
                "funnelMode": "bar",
                "hierarchyType": "dendrogram",
                "layerSettings": [
                  {
                    "color": "#000000",
                    "hoverOpts": {
                      "dims": [
                        "index",
                        "race",
                        "candidate",
                        "num_donations"
                      ],
                      "mets": [
                        "index",
                        "total_raised",
                        "num_donations"
                      ]
                    },
                    "id": "b7116f2e-bdbe-46c6-8b16-2727b523f7b4",
                    "latDim": "index",
                    "longDim": "num_donations",
                    "pointSizeOpts": {
                      "max": 20,
                      "met": "index",
                      "min": 0,
                      "mode": "functional",
                      "scale": "Linear",
                      "size": 2,
                      "sizeMax": 10,
                      "sizeMin": 1
                    },
                    "size": 2,
                    "stroke": "#000000",
                    "strokeWidth": 1,
                    "transparency": 0.9,
                    "type": "point"
                  }
                ],
                "lineSmoothing": "none",
                "lineType": "line",
                "mapMode": "point",
                "mapZoom": "basemap",
                "marginalGraphics": "none",
                "metric1": "total_raised",
                "metric2": "sum",
                "metric3": "none",
                "metric4": "none",
                "networkLabel": "none",
                "networkType": "force",
                "parCoordsColor": "none",
                "pieceType": "bar",
                "pointBarMode": "bar",
                "primaryKey": [],
                "proBarMode": "Combined",
                "scatterplotColor": "none",
                "secondBarMetric": "none",
                "selectedDimensions": [
                  "race"
                ],
                "selectedMetrics": [],
                "showContours": false,
                "showTotal": true,
                "sortColumnsBy": "asc-val",
                "sparkchart": "none",
                "splitLinesBy": "none",
                "splomMode": "basic-matrix",
                "summaryBins": 30,
                "summaryType": "scatter",
                "surveyResponses": {
                  "negative": [],
                  "neutral": [],
                  "positive": []
                },
                "timeseriesSort": "none",
                "tokenMetric": "sum",
                "trendLine": "none",
                "violinIQR": false
              },
              "chartMode": "bar",
              "confoRules": [
                {
                  "colorOpts": {
                    "color": null,
                    "colorsHash": null,
                    "cond": null,
                    "gradient": "Turbo",
                    "max": 65302,
                    "min": 1300,
                    "mode": "gradient",
                    "scale": "Linear",
                    "thresholdColors": null,
                    "thresholdValues": null
                  },
                  "columnType": "Metric",
                  "fieldName": "total_raised",
                  "id": "904da83b-20f4-4a6b-ab1e-e0171566c9d1",
                  "index": 0,
                  "name": ""
                }
              ],
              "decoration": {
                "footer": "",
                "subtitle": "",
                "title": "Table"
              },
              "filterSettings": {
                "SHOW_FILTER_PANEL": true,
                "filters": []
              },
              "id": "first-view",
              "isComment": false,
              "isDefault": true,
              "isTransitory": true,
              "type": "public",
              "userID": ""
            }
          ]
        },
        "jupyter": {
          "source_hidden": true,
          "outputs_hidden": false
        }
      },
      "id": "f770d6c2-ba9e-4613-90a1-24e6f57331d1"
    },
    {
      "cell_type": "code",
      "source": [
        "by_race_candidate = _\n",
        "by_race_candidate"
      ],
      "outputs": [
        {
          "output_type": "execute_result",
          "execution_count": 45,
          "data": {
            "application/vnd.dataresource+json": {
              "schema": {
                "fields": [
                  {
                    "name": "index",
                    "type": "integer"
                  },
                  {
                    "name": "race",
                    "type": "string"
                  },
                  {
                    "name": "candidate",
                    "type": "string"
                  },
                  {
                    "name": "total_raised",
                    "type": "number"
                  },
                  {
                    "name": "num_donations",
                    "type": "integer"
                  }
                ],
                "primaryKey": [
                  "index"
                ],
                "pandas_version": "1.4.0"
              },
              "data": [
                {
                  "index": 0,
                  "race": "County supervisor District 1",
                  "candidate": "John Leopold",
                  "total_raised": 65302,
                  "num_donations": 301
                },
                {
                  "index": 1,
                  "race": "County supervisor District 1",
                  "candidate": "Manu Koenig",
                  "total_raised": 61245.52,
                  "num_donations": 272
                },
                {
                  "index": 2,
                  "race": "Santa Cruz City Council",
                  "candidate": "Shebreh Kalantari-Johnson",
                  "total_raised": 31475,
                  "num_donations": 141
                },
                {
                  "index": 3,
                  "race": "Santa Cruz City Council",
                  "candidate": "Martine Watkins",
                  "total_raised": 25602.97,
                  "num_donations": 132
                },
                {
                  "index": 4,
                  "race": "Santa Cruz City Council",
                  "candidate": "Kayla Kumar",
                  "total_raised": 23768,
                  "num_donations": 108
                },
                {
                  "index": 5,
                  "race": "Santa Cruz City Council",
                  "candidate": "Sonja Brunner",
                  "total_raised": 22092.61,
                  "num_donations": 117
                },
                {
                  "index": 6,
                  "race": "Santa Cruz City Council",
                  "candidate": "Sandy Brown",
                  "total_raised": 17928,
                  "num_donations": 85
                },
                {
                  "index": 7,
                  "race": "Santa Cruz City Council",
                  "candidate": "Kelsey Hill",
                  "total_raised": 15997,
                  "num_donations": 77
                },
                {
                  "index": 8,
                  "race": "Santa Cruz City Council",
                  "candidate": "Maria Cadenas",
                  "total_raised": 10449,
                  "num_donations": 59
                },
                {
                  "index": 9,
                  "race": "Watsonville City Council",
                  "candidate": "Jimmy Dutra",
                  "total_raised": 9050,
                  "num_donations": 57
                },
                {
                  "index": 10,
                  "race": "Watsonville City Council",
                  "candidate": "Tony Gomez",
                  "total_raised": 5434,
                  "num_donations": 14
                },
                {
                  "index": 11,
                  "race": "Watsonville City Council",
                  "candidate": "Vanessa Quiroz-Carter",
                  "total_raised": 4900,
                  "num_donations": 15
                },
                {
                  "index": 12,
                  "race": "Santa Cruz City Council",
                  "candidate": "Elizabeth Conlan",
                  "total_raised": 4475,
                  "num_donations": 18
                },
                {
                  "index": 13,
                  "race": "Scotts Valley City Council",
                  "candidate": "Jack Dilles",
                  "total_raised": 3700,
                  "num_donations": 37
                },
                {
                  "index": 14,
                  "race": "Capitola City Council",
                  "candidate": "Anthony Rovai",
                  "total_raised": 2799,
                  "num_donations": 17
                },
                {
                  "index": 15,
                  "race": "Santa Cruz City Council",
                  "candidate": "Alicia Kuhl",
                  "total_raised": 2788,
                  "num_donations": 7
                },
                {
                  "index": 16,
                  "race": "Capitola City Council",
                  "candidate": "Margaux Keiser",
                  "total_raised": 2250,
                  "num_donations": 16
                },
                {
                  "index": 17,
                  "race": "Capitola City Council",
                  "candidate": "Kristen Petersen",
                  "total_raised": 2200,
                  "num_donations": 13
                },
                {
                  "index": 18,
                  "race": "Watsonville City Council",
                  "candidate": "Aurelio Gonzalez",
                  "total_raised": 2184,
                  "num_donations": 9
                },
                {
                  "index": 19,
                  "race": "Scotts Valley City Council",
                  "candidate": "Randy Johnson",
                  "total_raised": 1400,
                  "num_donations": 14
                },
                {
                  "index": 20,
                  "race": "Scotts Valley City Council",
                  "candidate": "Donna Lind",
                  "total_raised": 1300,
                  "num_donations": 13
                }
              ]
            }
          },
          "metadata": {}
        }
      ],
      "execution_count": null,
      "metadata": {
        "noteable": {
          "cell_type": "python"
        },
        "dx": {
          "annotationsRulesByID": {
            "first-view": [],
            "transitory": {
              "first-view": []
            }
          },
          "dashboard": {
            "multiViews": []
          },
          "decoration": {},
          "fieldMetadata": {
            "candidate": {
              "columnPosition": 4
            },
            "index": {
              "columnPosition": 1
            },
            "num_donations": {
              "columnPosition": 2
            },
            "race": {
              "columnPosition": 5
            },
            "total_raised": {
              "columnPosition": 3
            }
          },
          "mode": "exploration",
          "sampling": {
            "sampleSeed": 920008211991,
            "sampleSize": 10000,
            "sampleStrategy": "none"
          },
          "simpleTable": false,
          "styles": {
            "colors": []
          },
          "updated": 1655607948380,
          "views": [
            {
              "chart": {
                "adjacencyList": "race",
                "areaType": "hexbin",
                "barGrouping": "Clustered",
                "barProjection": "vertical",
                "barSubcategory": "none",
                "baseLayer": "world",
                "baseLayerFill": "#FFFFFF",
                "baseLayerStroke": "#000000",
                "bgColor": "none",
                "boundingSettings": {
                  "index": {
                    "lowerBoundingMetric": "none",
                    "upperBoundingMetric": "none"
                  },
                  "num_donations": {
                    "lowerBoundingMetric": "none",
                    "upperBoundingMetric": "none"
                  },
                  "total_raised": {
                    "lowerBoundingMetric": "none",
                    "upperBoundingMetric": "none"
                  }
                },
                "boundingType": "absolute",
                "boxplotOutliers": false,
                "candleClose": "total_raised",
                "candleHigh": "total_raised",
                "candleLow": "total_raised",
                "candleOpen": "total_raised",
                "candlestickMode": false,
                "combinationMode": "AVG",
                "deselectedKeysHash": {},
                "dim1": "index",
                "dim2": "race",
                "dim3": "none",
                "edgeMode": "edge list",
                "facetMetrics": [],
                "filteredDataOnly": "All Data",
                "funnelData": "metric",
                "funnelMetricOrder": [
                  "index",
                  "total_raised",
                  "num_donations"
                ],
                "funnelMode": "bar",
                "hierarchyType": "dendrogram",
                "layerSettings": [
                  {
                    "color": "#000000",
                    "hoverOpts": {
                      "dims": [
                        "index",
                        "race",
                        "candidate",
                        "num_donations"
                      ],
                      "mets": [
                        "index",
                        "total_raised",
                        "num_donations"
                      ]
                    },
                    "id": "6450adea-0989-4c1f-9eb0-7dba294e6219",
                    "latDim": "index",
                    "longDim": "num_donations",
                    "pointSizeOpts": {
                      "max": 20,
                      "met": "index",
                      "min": 0,
                      "mode": "functional",
                      "scale": "Linear",
                      "size": 2,
                      "sizeMax": 10,
                      "sizeMin": 1
                    },
                    "size": 2,
                    "stroke": "#000000",
                    "strokeWidth": 1,
                    "transparency": 0.9,
                    "type": "point"
                  }
                ],
                "lineSmoothing": "none",
                "lineType": "line",
                "mapMode": "point",
                "mapZoom": "basemap",
                "marginalGraphics": "none",
                "metric1": "index",
                "metric2": "total_raised",
                "metric3": "none",
                "metric4": "none",
                "networkLabel": "none",
                "networkType": "force",
                "parCoordsColor": "none",
                "pieceType": "bar",
                "pointBarMode": "bar",
                "primaryKey": [],
                "proBarMode": "Combined",
                "scatterplotColor": "none",
                "secondBarMetric": "none",
                "selectedDimensions": [
                  "race"
                ],
                "selectedMetrics": [],
                "showContours": false,
                "showTotal": true,
                "sortColumnsBy": "asc-val",
                "sparkchart": "none",
                "splitLinesBy": "none",
                "splomMode": "correlation",
                "summaryBins": 30,
                "summaryType": "violin",
                "surveyResponses": {
                  "negative": [],
                  "neutral": [],
                  "positive": []
                },
                "timeseriesSort": "none",
                "tokenMetric": "total_raised",
                "trendLine": "none",
                "violinIQR": false
              },
              "chartMode": "grid",
              "decoration": {
                "footer": "",
                "subtitle": "",
                "title": "Table"
              },
              "filterSettings": {
                "SHOW_FILTER_PANEL": true,
                "filters": []
              },
              "id": "first-view",
              "isDefault": true,
              "type": "public",
              "userID": ""
            },
            {
              "annotationRules": [],
              "chart": {
                "adjacencyList": "race",
                "areaType": "hexbin",
                "barGrouping": "Clustered",
                "barProjection": "vertical",
                "barSubcategory": "none",
                "baseLayer": "world",
                "baseLayerFill": "#FFFFFF",
                "baseLayerStroke": "#000000",
                "bgColor": "none",
                "boundingSettings": {
                  "index": {
                    "lowerBoundingMetric": "none",
                    "upperBoundingMetric": "none"
                  },
                  "num_donations": {
                    "lowerBoundingMetric": "none",
                    "upperBoundingMetric": "none"
                  },
                  "total_raised": {
                    "lowerBoundingMetric": "none",
                    "upperBoundingMetric": "none"
                  }
                },
                "boundingType": "absolute",
                "boxplotOutliers": false,
                "candleClose": "total_raised",
                "candleHigh": "total_raised",
                "candleLow": "total_raised",
                "candleOpen": "total_raised",
                "candlestickMode": false,
                "combinationMode": "AVG",
                "deselectedKeysHash": {},
                "dim1": "candidate",
                "dim2": "race",
                "dim3": "none",
                "edgeMode": "edge list",
                "facetMetrics": [],
                "facets": [
                  {
                    "filtering": {
                      "filter": {
                        "column": "race",
                        "predicate": "in",
                        "type": "DIMENSION_FILTER",
                        "value": [
                          "Santa Cruz City Council"
                        ]
                      }
                    },
                    "name": "race",
                    "title": "race: Santa Cruz City Council"
                  },
                  {
                    "filtering": {
                      "filter": {
                        "column": "race",
                        "predicate": "in",
                        "type": "DIMENSION_FILTER",
                        "value": [
                          "Watsonville City Council"
                        ]
                      }
                    },
                    "name": "race",
                    "title": "race: Watsonville City Council"
                  },
                  {
                    "filtering": {
                      "filter": {
                        "column": "race",
                        "predicate": "in",
                        "type": "DIMENSION_FILTER",
                        "value": [
                          "Scotts Valley City Council"
                        ]
                      }
                    },
                    "name": "race",
                    "title": "race: Scotts Valley City Council"
                  },
                  {
                    "filtering": {
                      "filter": {
                        "column": "race",
                        "predicate": "in",
                        "type": "DIMENSION_FILTER",
                        "value": [
                          "Capitola City Council"
                        ]
                      }
                    },
                    "name": "race",
                    "title": "race: Capitola City Council"
                  },
                  {
                    "filtering": {
                      "filter": {
                        "column": "race",
                        "predicate": "in",
                        "type": "DIMENSION_FILTER",
                        "value": [
                          "County supervisor District 1"
                        ]
                      }
                    },
                    "name": "race",
                    "title": "race: County supervisor District 1"
                  }
                ],
                "filteredDataOnly": "All Data",
                "funnelData": "metric",
                "funnelMetricOrder": [
                  "index",
                  "total_raised",
                  "num_donations"
                ],
                "funnelMode": "bar",
                "hierarchyType": "dendrogram",
                "layerSettings": [
                  {
                    "color": "#000000",
                    "hoverOpts": {
                      "dims": [
                        "index",
                        "race",
                        "candidate",
                        "num_donations"
                      ],
                      "mets": [
                        "index",
                        "total_raised",
                        "num_donations"
                      ]
                    },
                    "id": "6450adea-0989-4c1f-9eb0-7dba294e6219",
                    "latDim": "index",
                    "longDim": "num_donations",
                    "pointSizeOpts": {
                      "max": 20,
                      "met": "index",
                      "min": 0,
                      "mode": "functional",
                      "scale": "Linear",
                      "size": 2,
                      "sizeMax": 10,
                      "sizeMin": 1
                    },
                    "size": 2,
                    "stroke": "#000000",
                    "strokeWidth": 1,
                    "transparency": 0.9,
                    "type": "point"
                  }
                ],
                "lineSmoothing": "none",
                "lineType": "line",
                "mapMode": "point",
                "mapZoom": "basemap",
                "marginalGraphics": "none",
                "metric1": "num_donations",
                "metric2": "total_raised",
                "metric3": "none",
                "metric4": "none",
                "networkLabel": "none",
                "networkType": "force",
                "parCoordsColor": "none",
                "pieceType": "bar",
                "pointBarMode": "bar",
                "primaryKey": [],
                "proBarMode": "Combined",
                "scatterplotColor": "none",
                "secondBarMetric": "none",
                "selectedDimensions": [
                  "race"
                ],
                "selectedMetrics": [],
                "showContours": false,
                "showTotal": true,
                "sortColumnsBy": "asc-val",
                "sparkchart": "none",
                "splitLinesBy": "none",
                "splomMode": "correlation",
                "summaryBins": 30,
                "summaryType": "scatter",
                "surveyResponses": {
                  "negative": [],
                  "neutral": [],
                  "positive": []
                },
                "timeseriesSort": "none",
                "tokenMetric": "total_raised",
                "trendLine": "none",
                "violinIQR": false
              },
              "chartMode": "bar",
              "confoRules": [
                {
                  "colorOpts": {
                    "color": null,
                    "colorsHash": null,
                    "cond": null,
                    "gradient": "RdBuInverted",
                    "max": 301,
                    "min": 7,
                    "mode": "gradient",
                    "scale": "Linear",
                    "thresholdColors": null,
                    "thresholdValues": null
                  },
                  "columnType": "Metric",
                  "fieldName": "num_donations",
                  "id": "2f532bc8-d796-47c3-8a10-edfef84ee3be",
                  "index": 0,
                  "name": ""
                }
              ],
              "decoration": {
                "footer": "",
                "subtitle": "",
                "title": "Table"
              },
              "filterSettings": {
                "SHOW_FILTER_PANEL": false,
                "filters": []
              },
              "id": "first-view",
              "isComment": false,
              "isDefault": true,
              "isTransitory": true,
              "type": "public",
              "userID": ""
            }
          ]
        },
        "jupyter": {
          "source_hidden": true
        }
      },
      "id": "d634c33e-171f-4f1f-aebd-64d8b9922ae3"
    },
    {
      "cell_type": "code",
      "source": [
        "%%sql @2b38d1248d17413982b2e98f93c4c20e\n",
        "select\n",
        "    race,\n",
        "    candidate,\n",
        "    sum(amount) as \"Total donated by Corp or PAC\"\n",
        "from donations\n",
        "where not donor_is_individual_person_or_family\n",
        "group by 1, 2"
      ],
      "outputs": [
        {
          "output_type": "execute_result",
          "execution_count": 4,
          "data": {
            "application/vnd.dataresource+json": {
              "schema": {
                "fields": [
                  {
                    "name": "index",
                    "type": "integer"
                  },
                  {
                    "name": "race",
                    "type": "string"
                  },
                  {
                    "name": "candidate",
                    "type": "string"
                  },
                  {
                    "name": "Total donated by Corp or PAC",
                    "type": "number"
                  }
                ],
                "primaryKey": [
                  "index"
                ],
                "pandas_version": "1.4.0"
              },
              "data": [
                {
                  "index": 0,
                  "race": "County supervisor District 1",
                  "candidate": "John Leopold",
                  "Total donated by Corp or PAC": 4184
                },
                {
                  "index": 1,
                  "race": "Santa Cruz City Council",
                  "candidate": "Sandy Brown",
                  "Total donated by Corp or PAC": 3078
                },
                {
                  "index": 2,
                  "race": "Watsonville City Council",
                  "candidate": "Jimmy Dutra",
                  "Total donated by Corp or PAC": 1100
                },
                {
                  "index": 3,
                  "race": "Santa Cruz City Council",
                  "candidate": "Shebreh Kalantari-Johnson",
                  "Total donated by Corp or PAC": 800
                },
                {
                  "index": 4,
                  "race": "Capitola City Council",
                  "candidate": "Anthony Rovai",
                  "Total donated by Corp or PAC": 400
                },
                {
                  "index": 5,
                  "race": "Capitola City Council",
                  "candidate": "Kristen Petersen",
                  "Total donated by Corp or PAC": 100
                },
                {
                  "index": 6,
                  "race": "Scotts Valley City Council",
                  "candidate": "Donna Lind",
                  "Total donated by Corp or PAC": 200
                },
                {
                  "index": 7,
                  "race": "Watsonville City Council",
                  "candidate": "Tony Gomez",
                  "Total donated by Corp or PAC": 1734
                },
                {
                  "index": 8,
                  "race": "Santa Cruz City Council",
                  "candidate": "Maria Cadenas",
                  "Total donated by Corp or PAC": 650
                },
                {
                  "index": 9,
                  "race": "Scotts Valley City Council",
                  "candidate": "Jack Dilles",
                  "Total donated by Corp or PAC": 300
                },
                {
                  "index": 10,
                  "race": "Santa Cruz City Council",
                  "candidate": "Martine Watkins",
                  "Total donated by Corp or PAC": 1350
                },
                {
                  "index": 11,
                  "race": "Santa Cruz City Council",
                  "candidate": "Kelsey Hill",
                  "Total donated by Corp or PAC": 3028
                },
                {
                  "index": 12,
                  "race": "Watsonville City Council",
                  "candidate": "Aurelio Gonzalez",
                  "Total donated by Corp or PAC": 484
                },
                {
                  "index": 13,
                  "race": "Scotts Valley City Council",
                  "candidate": "Randy Johnson",
                  "Total donated by Corp or PAC": 200
                },
                {
                  "index": 14,
                  "race": "Santa Cruz City Council",
                  "candidate": "Sonja Brunner",
                  "Total donated by Corp or PAC": 1443.57
                },
                {
                  "index": 15,
                  "race": "Santa Cruz City Council",
                  "candidate": "Kayla Kumar",
                  "Total donated by Corp or PAC": 2828
                },
                {
                  "index": 16,
                  "race": "Watsonville City Council",
                  "candidate": "Vanessa Quiroz-Carter",
                  "Total donated by Corp or PAC": 250
                }
              ]
            }
          },
          "metadata": {}
        }
      ],
      "execution_count": null,
      "metadata": {
        "noteable": {
          "cell_type": "sql",
          "db_connection": "@2b38d1248d17413982b2e98f93c4c20e"
        },
        "dx": {
          "annotationsRulesByID": {
            "first-view": [],
            "transitory": {
              "first-view": []
            }
          },
          "dashboard": {
            "multiViews": []
          },
          "decoration": {},
          "fieldMetadata": {
            "Total donated by Corp or PAC": {
              "columnPosition": 2
            },
            "candidate": {
              "columnPosition": 3
            },
            "index": {
              "columnPosition": 1
            },
            "race": {
              "columnPosition": 4
            },
            "sum": {
              "columnPosition": 2
            },
            "total_amount_from_corp_pac": {
              "columnPosition": 2
            }
          },
          "mode": "exploration",
          "sampling": {
            "sampleSeed": 242466485049,
            "sampleSize": 10000,
            "sampleStrategy": "none"
          },
          "simpleTable": false,
          "styles": {
            "colors": []
          },
          "updated": 1657146458001,
          "views": [
            {
              "annotationRules": [],
              "chart": {
                "adjacencyList": "race",
                "areaType": "hexbin",
                "barGrouping": "Clustered",
                "barProjection": "vertical",
                "barSubcategory": "none",
                "baseLayer": "world",
                "baseLayerFill": "#FFFFFF",
                "baseLayerStroke": "#000000",
                "bgColor": "none",
                "boundingSettings": {
                  "index": {
                    "lowerBoundingMetric": "none",
                    "upperBoundingMetric": "none"
                  },
                  "sum": {
                    "lowerBoundingMetric": "none",
                    "upperBoundingMetric": "none"
                  }
                },
                "boundingType": "absolute",
                "boxplotOutliers": false,
                "candleClose": "sum",
                "candleHigh": "sum",
                "candleLow": "sum",
                "candleOpen": "sum",
                "candlestickMode": false,
                "combinationMode": "AVG",
                "deselectedKeysHash": {},
                "dim1": "index",
                "dim2": "race",
                "dim3": "none",
                "edgeMode": "edge list",
                "facetMetrics": [],
                "filteredDataOnly": "All Data",
                "funnelData": "metric",
                "funnelMetricOrder": [
                  "index",
                  "sum"
                ],
                "funnelMode": "bar",
                "hierarchyType": "dendrogram",
                "layerSettings": [
                  {
                    "color": "#000000",
                    "hoverOpts": {
                      "dims": [
                        "index",
                        "race",
                        "candidate"
                      ],
                      "mets": [
                        "index",
                        "sum"
                      ]
                    },
                    "id": "10284c8b-e925-48ce-9cc2-31f272f1ed62",
                    "latDim": "index",
                    "longDim": "sum",
                    "pointSizeOpts": {
                      "max": 16,
                      "met": "index",
                      "min": 0,
                      "mode": "functional",
                      "scale": "Linear",
                      "size": 2,
                      "sizeMax": 10,
                      "sizeMin": 1
                    },
                    "size": 2,
                    "stroke": "#000000",
                    "strokeWidth": 1,
                    "transparency": 0.9,
                    "type": "point"
                  }
                ],
                "lineSmoothing": "none",
                "lineType": "line",
                "mapMode": "point",
                "mapZoom": "basemap",
                "marginalGraphics": "none",
                "metric1": "index",
                "metric2": "sum",
                "metric3": "none",
                "metric4": "none",
                "networkLabel": "none",
                "networkType": "force",
                "parCoordsColor": "none",
                "pieceType": "bar",
                "pointBarMode": "bar",
                "primaryKey": [],
                "proBarMode": "Combined",
                "scatterplotColor": "none",
                "secondBarMetric": "none",
                "selectedDimensions": [
                  "race"
                ],
                "selectedMetrics": [],
                "showContours": false,
                "showTotal": true,
                "sortColumnsBy": "asc-val",
                "sparkchart": "none",
                "splitLinesBy": "none",
                "splomMode": "correlation",
                "summaryBins": 30,
                "summaryType": "violin",
                "surveyResponses": {
                  "negative": [],
                  "neutral": [],
                  "positive": []
                },
                "timeseriesSort": "none",
                "tokenMetric": "sum",
                "trendLine": "none",
                "violinIQR": false
              },
              "chartMode": "grid",
              "decoration": {
                "footer": "",
                "subtitle": "",
                "title": "Table"
              },
              "filterSettings": {
                "SHOW_FILTER_PANEL": true,
                "filters": []
              },
              "id": "first-view",
              "isDefault": true,
              "type": "public",
              "userID": ""
            },
            {
              "annotationRules": [],
              "chart": {
                "adjacencyList": "race",
                "areaType": "hexbin",
                "barGrouping": "Clustered",
                "barLabel": "none",
                "barProjection": "vertical",
                "barSubcategory": "none",
                "baseLayer": "world",
                "baseLayerFill": "#FFFFFF",
                "baseLayerStroke": "#000000",
                "bgColor": "none",
                "boundingSettings": {
                  "index": {
                    "lowerBoundingMetric": "none",
                    "upperBoundingMetric": "none"
                  },
                  "sum": {
                    "lowerBoundingMetric": "none",
                    "upperBoundingMetric": "none"
                  }
                },
                "boundingType": "absolute",
                "boxplotOutliers": false,
                "candleClose": "sum",
                "candleHigh": "sum",
                "candleLow": "sum",
                "candleOpen": "sum",
                "candlestickMode": false,
                "combinationMode": "AVG",
                "deselectedKeysHash": {},
                "dim1": "candidate",
                "dim2": "race",
                "dim3": "none",
                "edgeMode": "edge list",
                "facetMetrics": [],
                "facets": [
                  {
                    "filtering": {
                      "filter": {
                        "column": "race",
                        "predicate": "in",
                        "type": "DIMENSION_FILTER",
                        "value": [
                          "Santa Cruz City Council"
                        ]
                      }
                    },
                    "name": "race",
                    "title": "race: Santa Cruz City Council"
                  },
                  {
                    "filtering": {
                      "filter": {
                        "column": "race",
                        "predicate": "in",
                        "type": "DIMENSION_FILTER",
                        "value": [
                          "Watsonville City Council"
                        ]
                      }
                    },
                    "name": "race",
                    "title": "race: Watsonville City Council"
                  },
                  {
                    "filtering": {
                      "filter": {
                        "column": "race",
                        "predicate": "in",
                        "type": "DIMENSION_FILTER",
                        "value": [
                          "Scotts Valley City Council"
                        ]
                      }
                    },
                    "name": "race",
                    "title": "race: Scotts Valley City Council"
                  },
                  {
                    "filtering": {
                      "filter": {
                        "column": "race",
                        "predicate": "in",
                        "type": "DIMENSION_FILTER",
                        "value": [
                          "Capitola City Council"
                        ]
                      }
                    },
                    "name": "race",
                    "title": "race: Capitola City Council"
                  },
                  {
                    "filtering": {
                      "filter": {
                        "column": "race",
                        "predicate": "in",
                        "type": "DIMENSION_FILTER",
                        "value": [
                          "County supervisor District 1"
                        ]
                      }
                    },
                    "name": "race",
                    "title": "race: County supervisor District 1"
                  }
                ],
                "filteredDataOnly": "All Data",
                "funnelData": "metric",
                "funnelMetricOrder": [
                  "index",
                  "sum"
                ],
                "funnelMode": "bar",
                "hierarchyType": "dendrogram",
                "layerSettings": [
                  {
                    "color": "#000000",
                    "hoverOpts": {
                      "dims": [
                        "index",
                        "race",
                        "candidate"
                      ],
                      "mets": [
                        "index",
                        "sum"
                      ]
                    },
                    "id": "10284c8b-e925-48ce-9cc2-31f272f1ed62",
                    "latDim": "index",
                    "longDim": "sum",
                    "pointSizeOpts": {
                      "max": 16,
                      "met": "index",
                      "min": 0,
                      "mode": "functional",
                      "scale": "Linear",
                      "size": 2,
                      "sizeMax": 10,
                      "sizeMin": 1
                    },
                    "size": 2,
                    "stroke": "#000000",
                    "strokeWidth": 1,
                    "transparency": 0.9,
                    "type": "point"
                  }
                ],
                "lineSmoothing": "none",
                "lineType": "line",
                "mapMode": "point",
                "mapZoom": "basemap",
                "marginalGraphics": "none",
                "metric1": "Total donated by Corp or PAC",
                "metric2": "sum",
                "metric3": "none",
                "metric4": "none",
                "networkLabel": "none",
                "networkType": "force",
                "parCoordsColor": "none",
                "pieceType": "bar",
                "pointBarMode": "bar",
                "primaryKey": [],
                "proBarMode": "Combined",
                "scatterplotColor": "none",
                "secondBarMetric": "none",
                "selectedDimensions": [
                  "race"
                ],
                "selectedMetrics": [],
                "showContours": false,
                "showTotal": true,
                "sortColumnsBy": "asc-val",
                "sparkchart": "none",
                "splitLinesBy": "none",
                "splomMode": "correlation",
                "summaryBins": 30,
                "summaryType": "scatter",
                "surveyResponses": {
                  "negative": [],
                  "neutral": [],
                  "positive": []
                },
                "timeseriesSort": "none",
                "tokenMetric": "sum",
                "trendLine": "none",
                "violinIQR": false
              },
              "chartMode": "bar",
              "confoRules": [
                {
                  "colorOpts": {
                    "color": null,
                    "colorsHash": null,
                    "cond": null,
                    "gradient": "Turbo",
                    "max": 4184,
                    "min": 100,
                    "mode": "gradient",
                    "scale": "Linear",
                    "thresholdColors": null,
                    "thresholdValues": null
                  },
                  "columnType": "Metric",
                  "fieldName": "Total donated by Corp or PAC",
                  "id": "50dc42ac-ec07-4976-8cb6-7999e591eb10",
                  "index": 0,
                  "name": ""
                }
              ],
              "decoration": {
                "footer": "",
                "subtitle": "",
                "title": "Table"
              },
              "filterSettings": {
                "SHOW_FILTER_PANEL": false,
                "filters": []
              },
              "id": "first-view",
              "isComment": false,
              "isDefault": true,
              "isTransitory": true,
              "type": "public",
              "userID": ""
            }
          ]
        },
        "jupyter": {
          "source_hidden": false
        }
      },
      "id": "387420f3-3911-4284-9ea8-3f7203074029"
    },
    {
      "cell_type": "code",
      "source": [
        "%%sql @2b38d1248d17413982b2e98f93c4c20e\n",
        "select coalesce(donor_title, 'corp or pac') as donor_title,\n",
        "sum(amount) as \"Donation totals by title\"\n",
        "from donations\n",
        "where amount is not null\n",
        "group by 1\n",
        "order by 2 desc"
      ],
      "outputs": [
        {
          "output_type": "execute_result",
          "execution_count": 47,
          "data": {
            "application/vnd.dataresource+json": {
              "schema": {
                "fields": [
                  {
                    "name": "index",
                    "type": "integer"
                  },
                  {
                    "name": "donor_title",
                    "type": "string"
                  },
                  {
                    "name": "Donation totals by title",
                    "type": "number"
                  }
                ],
                "primaryKey": [
                  "index"
                ],
                "pandas_version": "1.4.0"
              },
              "data": [
                {
                  "index": 0,
                  "donor_title": "retired",
                  "Donation totals by title": 73460
                },
                {
                  "index": 1,
                  "donor_title": "unemployed",
                  "Donation totals by title": 29872.93
                },
                {
                  "index": 2,
                  "donor_title": "corp or pac",
                  "Donation totals by title": 7184
                },
                {
                  "index": 3,
                  "donor_title": "dining marketing coordinator - ucsc",
                  "Donation totals by title": 2700
                },
                {
                  "index": 4,
                  "donor_title": "id# 850048",
                  "Donation totals by title": 2200
                },
                {
                  "index": 5,
                  "donor_title": "self-employed",
                  "Donation totals by title": 2200
                },
                {
                  "index": 6,
                  "donor_title": "scientist - driscoll's",
                  "Donation totals by title": 2145
                },
                {
                  "index": 7,
                  "donor_title": "wellness specialist - abode services",
                  "Donation totals by title": 1678
                },
                {
                  "index": 8,
                  "donor_title": "id# 1427239",
                  "Donation totals by title": 1600
                },
                {
                  "index": 9,
                  "donor_title": "unknown",
                  "Donation totals by title": 1548
                },
                {
                  "index": 10,
                  "donor_title": "farmer - strong agronomy",
                  "Donation totals by title": 1500
                },
                {
                  "index": 11,
                  "donor_title": "self-employed attorney",
                  "Donation totals by title": 1350
                },
                {
                  "index": 12,
                  "donor_title": "attorney - brereton law office",
                  "Donation totals by title": 1350
                },
                {
                  "index": 13,
                  "donor_title": "property management",
                  "Donation totals by title": 1300
                },
                {
                  "index": 14,
                  "donor_title": "president - santa cruz seaside company",
                  "Donation totals by title": 1300
                },
                {
                  "index": 15,
                  "donor_title": "id# 910629",
                  "Donation totals by title": 1300
                },
                {
                  "index": 16,
                  "donor_title": "realtor - lighthouse realty",
                  "Donation totals by title": 1300
                },
                {
                  "index": 17,
                  "donor_title": "professor - san jose state university",
                  "Donation totals by title": 1300
                },
                {
                  "index": 18,
                  "donor_title": "id# 1306050",
                  "Donation totals by title": 1200
                },
                {
                  "index": 19,
                  "donor_title": "id# 850381",
                  "Donation totals by title": 1200
                },
                {
                  "index": 20,
                  "donor_title": "ceo - viva transcription",
                  "Donation totals by title": 1200
                },
                {
                  "index": 21,
                  "donor_title": "attorney - google",
                  "Donation totals by title": 1200
                },
                {
                  "index": 22,
                  "donor_title": "realtor",
                  "Donation totals by title": 1193.03
                },
                {
                  "index": 23,
                  "donor_title": "self-employed consultant",
                  "Donation totals by title": 1103.12
                },
                {
                  "index": 24,
                  "donor_title": "lecturer - ucsc",
                  "Donation totals by title": 1100
                },
                {
                  "index": 25,
                  "donor_title": "self-employed lawyer",
                  "Donation totals by title": 1100
                },
                {
                  "index": 26,
                  "donor_title": "id# 890106",
                  "Donation totals by title": 1000
                },
                {
                  "index": 27,
                  "donor_title": "id# 1414254",
                  "Donation totals by title": 1000
                },
                {
                  "index": 28,
                  "donor_title": "id# 1318200",
                  "Donation totals by title": 1000
                },
                {
                  "index": 29,
                  "donor_title": "physician",
                  "Donation totals by title": 1000
                },
                {
                  "index": 30,
                  "donor_title": "self-employed homemaker",
                  "Donation totals by title": 950
                },
                {
                  "index": 31,
                  "donor_title": "category designer - play bigger",
                  "Donation totals by title": 909.92
                },
                {
                  "index": 32,
                  "donor_title": "councilmember - city of santa cruz",
                  "Donation totals by title": 909.92
                },
                {
                  "index": 33,
                  "donor_title": "executive director - santa cruz county business council",
                  "Donation totals by title": 908
                },
                {
                  "index": 34,
                  "donor_title": "id# 972104",
                  "Donation totals by title": 900
                },
                {
                  "index": 35,
                  "donor_title": "program manager - google",
                  "Donation totals by title": 804.15
                },
                {
                  "index": 36,
                  "donor_title": "union rep/organizer - seiu-uhw",
                  "Donation totals by title": 800
                },
                {
                  "index": 37,
                  "donor_title": "business owner - pacific cookie company",
                  "Donation totals by title": 800
                },
                {
                  "index": 38,
                  "donor_title": "teacher - ucsc",
                  "Donation totals by title": 800
                },
                {
                  "index": 39,
                  "donor_title": "owner - santa cruz naturals",
                  "Donation totals by title": 800
                },
                {
                  "index": 40,
                  "donor_title": "self-employed website hosting",
                  "Donation totals by title": 800
                },
                {
                  "index": 41,
                  "donor_title": "id# 1359198",
                  "Donation totals by title": 800
                },
                {
                  "index": 42,
                  "donor_title": "city problem solver - management partners",
                  "Donation totals by title": 800
                },
                {
                  "index": 43,
                  "donor_title": "software engineer - machine zone",
                  "Donation totals by title": 800
                },
                {
                  "index": 44,
                  "donor_title": "self-employed real estate",
                  "Donation totals by title": 794.91
                },
                {
                  "index": 45,
                  "donor_title": "self-employed farmer",
                  "Donation totals by title": 750
                },
                {
                  "index": 46,
                  "donor_title": "self-employed business owner",
                  "Donation totals by title": 700
                },
                {
                  "index": 47,
                  "donor_title": "cpa - petrinovich pugh & company llp",
                  "Donation totals by title": 700
                },
                {
                  "index": 48,
                  "donor_title": "teacher - santa cruz city schools",
                  "Donation totals by title": 700
                },
                {
                  "index": 49,
                  "donor_title": "self-employed property manager",
                  "Donation totals by title": 700
                },
                {
                  "index": 50,
                  "donor_title": "educator - ucsc",
                  "Donation totals by title": 650
                },
                {
                  "index": 51,
                  "donor_title": "software engineer - netflix",
                  "Donation totals by title": 650
                },
                {
                  "index": 52,
                  "donor_title": "owner - bookshop santa cruz",
                  "Donation totals by title": 608
                },
                {
                  "index": 53,
                  "donor_title": "id# c00001636",
                  "Donation totals by title": 600
                },
                {
                  "index": 54,
                  "donor_title": "rn - dominican hospital",
                  "Donation totals by title": 600
                },
                {
                  "index": 55,
                  "donor_title": "public health nurse - county of santa cruz",
                  "Donation totals by title": 600
                },
                {
                  "index": 56,
                  "donor_title": "id# 747285",
                  "Donation totals by title": 600
                },
                {
                  "index": 57,
                  "donor_title": "financial advisor - wavecrest wealth management",
                  "Donation totals by title": 556.07
                },
                {
                  "index": 58,
                  "donor_title": "professor - ucsc",
                  "Donation totals by title": 550
                },
                {
                  "index": 59,
                  "donor_title": "senior software engineer - netflix",
                  "Donation totals by title": 550
                },
                {
                  "index": 60,
                  "donor_title": "id# 1390568",
                  "Donation totals by title": 534
                },
                {
                  "index": 61,
                  "donor_title": "vp - adobe systems",
                  "Donation totals by title": 500
                },
                {
                  "index": 62,
                  "donor_title": "consultant - self-employed",
                  "Donation totals by title": 500
                },
                {
                  "index": 63,
                  "donor_title": "real estate agent - exp realty",
                  "Donation totals by title": 500
                },
                {
                  "index": 64,
                  "donor_title": "real estate - william ow",
                  "Donation totals by title": 500
                },
                {
                  "index": 65,
                  "donor_title": "grand juror - scco",
                  "Donation totals by title": 500
                },
                {
                  "index": 66,
                  "donor_title": "program manager - waymo",
                  "Donation totals by title": 500
                },
                {
                  "index": 67,
                  "donor_title": "property manager - self-employed",
                  "Donation totals by title": 500
                },
                {
                  "index": 68,
                  "donor_title": "property manager ann vaudagna",
                  "Donation totals by title": 500
                },
                {
                  "index": 69,
                  "donor_title": "owner - imura japanese restaurant",
                  "Donation totals by title": 500
                },
                {
                  "index": 70,
                  "donor_title": "president & ceo - o'neill wetsuits llc",
                  "Donation totals by title": 500
                },
                {
                  "index": 71,
                  "donor_title": "owner - bay plumbing supply",
                  "Donation totals by title": 500
                },
                {
                  "index": 72,
                  "donor_title": "real estate broker/owner - michael lavigne real estate",
                  "Donation totals by title": 500
                },
                {
                  "index": 73,
                  "donor_title": "president - valledor holdings",
                  "Donation totals by title": 500
                },
                {
                  "index": 74,
                  "donor_title": "founder - great guys",
                  "Donation totals by title": 500
                },
                {
                  "index": 75,
                  "donor_title": "board member - mitmover inc",
                  "Donation totals by title": 500
                },
                {
                  "index": 76,
                  "donor_title": "managing director - the claremont companies llc",
                  "Donation totals by title": 500
                },
                {
                  "index": 77,
                  "donor_title": "real estate - better place forests co.",
                  "Donation totals by title": 500
                },
                {
                  "index": 78,
                  "donor_title": "accounting - driscolls",
                  "Donation totals by title": 500
                },
                {
                  "index": 79,
                  "donor_title": "executive director - romero institute",
                  "Donation totals by title": 500
                },
                {
                  "index": 80,
                  "donor_title": "realtor - coldwell banker realty",
                  "Donation totals by title": 500
                },
                {
                  "index": 81,
                  "donor_title": "research professor & family law mediator - howard hugh medical inst.",
                  "Donation totals by title": 500
                },
                {
                  "index": 82,
                  "donor_title": "investor - sds nexgen partners",
                  "Donation totals by title": 500
                },
                {
                  "index": 83,
                  "donor_title": "cfo - devcon construction",
                  "Donation totals by title": 500
                },
                {
                  "index": 84,
                  "donor_title": "project engineer - devcon",
                  "Donation totals by title": 500
                },
                {
                  "index": 85,
                  "donor_title": "demand planner - apple",
                  "Donation totals by title": 500
                },
                {
                  "index": 86,
                  "donor_title": "self-employed - agriculture",
                  "Donation totals by title": 500
                },
                {
                  "index": 87,
                  "donor_title": "owner - fitz fresh mushrooms",
                  "Donation totals by title": 500
                },
                {
                  "index": 88,
                  "donor_title": "landscaper - the landscape company",
                  "Donation totals by title": 500
                },
                {
                  "index": 89,
                  "donor_title": "executive - better place forests co",
                  "Donation totals by title": 500
                },
                {
                  "index": 90,
                  "donor_title": "architect - better place forests co",
                  "Donation totals by title": 500
                },
                {
                  "index": 91,
                  "donor_title": "self-employed cpa",
                  "Donation totals by title": 500
                },
                {
                  "index": 92,
                  "donor_title": "physician - dsmg",
                  "Donation totals by title": 500
                },
                {
                  "index": 93,
                  "donor_title": "producer - thriveon.com",
                  "Donation totals by title": 500
                },
                {
                  "index": 94,
                  "donor_title": "consultant - self-employment",
                  "Donation totals by title": 500
                },
                {
                  "index": 95,
                  "donor_title": "director - google",
                  "Donation totals by title": 500
                },
                {
                  "index": 96,
                  "donor_title": "zentrepreneur",
                  "Donation totals by title": 500
                },
                {
                  "index": 97,
                  "donor_title": "cto - venova",
                  "Donation totals by title": 500
                },
                {
                  "index": 98,
                  "donor_title": "self-employed - strong agronomy",
                  "Donation totals by title": 500
                },
                {
                  "index": 99,
                  "donor_title": "advisor - ex-trustee cloudsplitter foundation",
                  "Donation totals by title": 500
                },
                {
                  "index": 100,
                  "donor_title": "president - del mar food products crop",
                  "Donation totals by title": 500
                },
                {
                  "index": 101,
                  "donor_title": "consultant - lucien global",
                  "Donation totals by title": 500
                },
                {
                  "index": 102,
                  "donor_title": "management - city. of santa cruz",
                  "Donation totals by title": 500
                },
                {
                  "index": 103,
                  "donor_title": "id# 1360850",
                  "Donation totals by title": 500
                },
                {
                  "index": 104,
                  "donor_title": "interior designer",
                  "Donation totals by title": 500
                },
                {
                  "index": 105,
                  "donor_title": "project manager - siemens",
                  "Donation totals by title": 500
                },
                {
                  "index": 106,
                  "donor_title": "psychologist",
                  "Donation totals by title": 500
                },
                {
                  "index": 107,
                  "donor_title": "president & ceo - gateway health management",
                  "Donation totals by title": 500
                },
                {
                  "index": 108,
                  "donor_title": "manufacturing engineer - benchmark electronics",
                  "Donation totals by title": 500
                },
                {
                  "index": 109,
                  "donor_title": "chairman - 5.11",
                  "Donation totals by title": 500
                },
                {
                  "index": 110,
                  "donor_title": "orthodontist",
                  "Donation totals by title": 500
                },
                {
                  "index": 111,
                  "donor_title": "strategy - kci",
                  "Donation totals by title": 500
                },
                {
                  "index": 112,
                  "donor_title": "cpa - petrinovich pugh & co",
                  "Donation totals by title": 500
                },
                {
                  "index": 113,
                  "donor_title": "ceo - spiraledge",
                  "Donation totals by title": 500
                },
                {
                  "index": 114,
                  "donor_title": "lawyer - meditation & law office of emily dubois, esq",
                  "Donation totals by title": 500
                },
                {
                  "index": 115,
                  "donor_title": "self-employed podcaster",
                  "Donation totals by title": 500
                },
                {
                  "index": 116,
                  "donor_title": "id# 1278587",
                  "Donation totals by title": 500
                },
                {
                  "index": 117,
                  "donor_title": "farmer - miroyan brothers",
                  "Donation totals by title": 500
                },
                {
                  "index": 118,
                  "donor_title": "it consultant - critical networks",
                  "Donation totals by title": 500
                },
                {
                  "index": 119,
                  "donor_title": "property manager - sue vaudagna",
                  "Donation totals by title": 500
                },
                {
                  "index": 120,
                  "donor_title": "campaign manager - friends of john leopold 2020",
                  "Donation totals by title": 500
                },
                {
                  "index": 121,
                  "donor_title": "managing partner - halsen llc",
                  "Donation totals by title": 500
                },
                {
                  "index": 122,
                  "donor_title": "surgeon - palo alto medical foundation",
                  "Donation totals by title": 500
                },
                {
                  "index": 123,
                  "donor_title": "retired and watsonville city council member",
                  "Donation totals by title": 500
                },
                {
                  "index": 124,
                  "donor_title": "superintendent - santa cruz county office of education",
                  "Donation totals by title": 500
                },
                {
                  "index": 125,
                  "donor_title": "attorney - mhb llp",
                  "Donation totals by title": 500
                },
                {
                  "index": 126,
                  "donor_title": "senior director of office - r&d tri com/corfac int'l",
                  "Donation totals by title": 500
                },
                {
                  "index": 127,
                  "donor_title": "software engineer - broadridge",
                  "Donation totals by title": 500
                },
                {
                  "index": 128,
                  "donor_title": "self-employed designer/artist",
                  "Donation totals by title": 500
                },
                {
                  "index": 129,
                  "donor_title": "cardiologist - pamfg",
                  "Donation totals by title": 500
                },
                {
                  "index": 130,
                  "donor_title": "shift manager - starbuck's",
                  "Donation totals by title": 500
                },
                {
                  "index": 131,
                  "donor_title": "owner - the summit store",
                  "Donation totals by title": 500
                },
                {
                  "index": 132,
                  "donor_title": "sr water resources specialist - santa clara valley water district",
                  "Donation totals by title": 500
                },
                {
                  "index": 133,
                  "donor_title": "business owner - annieglass",
                  "Donation totals by title": 500
                },
                {
                  "index": 134,
                  "donor_title": "self-employed home designer & builder",
                  "Donation totals by title": 500
                },
                {
                  "index": 135,
                  "donor_title": "self-employed agriculture",
                  "Donation totals by title": 500
                },
                {
                  "index": 136,
                  "donor_title": "farmer - strong agronomy management, inc",
                  "Donation totals by title": 500
                },
                {
                  "index": 137,
                  "donor_title": "contractor - devcon",
                  "Donation totals by title": 500
                },
                {
                  "index": 138,
                  "donor_title": "city councilmember - city of santa cruz",
                  "Donation totals by title": 475
                },
                {
                  "index": 139,
                  "donor_title": "county board of supervisors - santa cruz county",
                  "Donation totals by title": 450
                },
                {
                  "index": 140,
                  "donor_title": "self-employed contractor",
                  "Donation totals by title": 450
                },
                {
                  "index": 141,
                  "donor_title": "self-employed bookkeeper",
                  "Donation totals by title": 450
                },
                {
                  "index": 142,
                  "donor_title": "teacher - santa cruz high school",
                  "Donation totals by title": 450
                },
                {
                  "index": 143,
                  "donor_title": "developer - s/e koraf corp",
                  "Donation totals by title": 400
                },
                {
                  "index": 144,
                  "donor_title": "vp - santa cruz beach boardwalk",
                  "Donation totals by title": 400
                },
                {
                  "index": 145,
                  "donor_title": "president - sc seaside co",
                  "Donation totals by title": 400
                },
                {
                  "index": 146,
                  "donor_title": "legislation advocate - kp public affairs",
                  "Donation totals by title": 400
                },
                {
                  "index": 147,
                  "donor_title": "dentist",
                  "Donation totals by title": 400
                },
                {
                  "index": 148,
                  "donor_title": "affordable housing developer - envision housing",
                  "Donation totals by title": 400
                },
                {
                  "index": 149,
                  "donor_title": "teacher - saratoga union sd",
                  "Donation totals by title": 400
                },
                {
                  "index": 150,
                  "donor_title": "ceo - sc beach boardwalk",
                  "Donation totals by title": 400
                },
                {
                  "index": 151,
                  "donor_title": "physican - self employed",
                  "Donation totals by title": 400
                },
                {
                  "index": 152,
                  "donor_title": "interior designer - hembuzz inc",
                  "Donation totals by title": 400
                },
                {
                  "index": 153,
                  "donor_title": "owner - pizza guys inc",
                  "Donation totals by title": 400
                },
                {
                  "index": 154,
                  "donor_title": "exec - universal audio",
                  "Donation totals by title": 400
                },
                {
                  "index": 155,
                  "donor_title": "ceo - pgf inc",
                  "Donation totals by title": 400
                },
                {
                  "index": 156,
                  "donor_title": "researcher- pw enterprises",
                  "Donation totals by title": 400
                },
                {
                  "index": 157,
                  "donor_title": "software engineer - google",
                  "Donation totals by title": 400
                },
                {
                  "index": 158,
                  "donor_title": "senior tax specialist - hr block",
                  "Donation totals by title": 400
                },
                {
                  "index": 159,
                  "donor_title": "consultant - management partners",
                  "Donation totals by title": 400
                },
                {
                  "index": 160,
                  "donor_title": "professor - notre dame de namur university",
                  "Donation totals by title": 400
                },
                {
                  "index": 161,
                  "donor_title": "professor - panetta public policy institute",
                  "Donation totals by title": 400
                },
                {
                  "index": 162,
                  "donor_title": "ceo - food revolution network",
                  "Donation totals by title": 400
                },
                {
                  "index": 163,
                  "donor_title": "admin assistant - santa crux county regional transportation commission",
                  "Donation totals by title": 400
                },
                {
                  "index": 164,
                  "donor_title": "vp - sc beach boardwalk",
                  "Donation totals by title": 400
                },
                {
                  "index": 165,
                  "donor_title": "web developer - self",
                  "Donation totals by title": 400
                },
                {
                  "index": 166,
                  "donor_title": "restaurateur",
                  "Donation totals by title": 400
                },
                {
                  "index": 167,
                  "donor_title": "student leadership & engagement coordinator - santa cruz county office of education",
                  "Donation totals by title": 400
                },
                {
                  "index": 168,
                  "donor_title": "ceo - santa cruz seaside company",
                  "Donation totals by title": 400
                },
                {
                  "index": 169,
                  "donor_title": "project manager - cfy development",
                  "Donation totals by title": 400
                },
                {
                  "index": 170,
                  "donor_title": "watershed restoration - confluence restoration",
                  "Donation totals by title": 400
                },
                {
                  "index": 171,
                  "donor_title": "software engineer - machinezone",
                  "Donation totals by title": 400
                },
                {
                  "index": 172,
                  "donor_title": "rn - watsonville community hospital",
                  "Donation totals by title": 400
                },
                {
                  "index": 173,
                  "donor_title": "self-employed handyman",
                  "Donation totals by title": 400
                },
                {
                  "index": 174,
                  "donor_title": "manager - ebcf",
                  "Donation totals by title": 400
                },
                {
                  "index": 175,
                  "donor_title": "accountant - hr block",
                  "Donation totals by title": 400
                },
                {
                  "index": 176,
                  "donor_title": "physician - self employed",
                  "Donation totals by title": 400
                },
                {
                  "index": 177,
                  "donor_title": "occupational therapist - dominican hospital",
                  "Donation totals by title": 400
                },
                {
                  "index": 178,
                  "donor_title": "attorney - ptr law corp",
                  "Donation totals by title": 400
                },
                {
                  "index": 179,
                  "donor_title": "anesthesiologist - amgsc",
                  "Donation totals by title": 400
                },
                {
                  "index": 180,
                  "donor_title": "consultant - s/e david miryabianeh",
                  "Donation totals by title": 400
                },
                {
                  "index": 181,
                  "donor_title": "public health planner - san mateo county",
                  "Donation totals by title": 400
                },
                {
                  "index": 182,
                  "donor_title": "housing developer - envision housing",
                  "Donation totals by title": 400
                },
                {
                  "index": 183,
                  "donor_title": "accountant - pizza guys inc",
                  "Donation totals by title": 400
                },
                {
                  "index": 184,
                  "donor_title": "business owner - pom pom projekt",
                  "Donation totals by title": 400
                },
                {
                  "index": 185,
                  "donor_title": "physician - kaiser",
                  "Donation totals by title": 400
                },
                {
                  "index": 186,
                  "donor_title": "faculty - panetta institute",
                  "Donation totals by title": 400
                },
                {
                  "index": 187,
                  "donor_title": "project manager - pgf inc",
                  "Donation totals by title": 400
                },
                {
                  "index": 188,
                  "donor_title": "data scientist - metis",
                  "Donation totals by title": 400
                },
                {
                  "index": 189,
                  "donor_title": "ceo - state flower",
                  "Donation totals by title": 400
                },
                {
                  "index": 190,
                  "donor_title": "sales - pv printing",
                  "Donation totals by title": 400
                },
                {
                  "index": 191,
                  "donor_title": "cfo - healthy living institute",
                  "Donation totals by title": 400
                },
                {
                  "index": 192,
                  "donor_title": "software engineer",
                  "Donation totals by title": 400
                },
                {
                  "index": 193,
                  "donor_title": "faculty - california state university",
                  "Donation totals by title": 400
                },
                {
                  "index": 194,
                  "donor_title": "public affairs director - monterey bay aquarium",
                  "Donation totals by title": 400
                },
                {
                  "index": 195,
                  "donor_title": "consultant - pinnacle strategies",
                  "Donation totals by title": 400
                },
                {
                  "index": 196,
                  "donor_title": "analyst - county supervisor santa cruz county",
                  "Donation totals by title": 400
                },
                {
                  "index": 197,
                  "donor_title": "professor - panetta institute",
                  "Donation totals by title": 400
                },
                {
                  "index": 198,
                  "donor_title": "mentor & advisor - s/e shige honjo",
                  "Donation totals by title": 400
                },
                {
                  "index": 199,
                  "donor_title": "intern coordinator - ucsc",
                  "Donation totals by title": 400
                },
                {
                  "index": 200,
                  "donor_title": "computer analyst - dba mark tarantino",
                  "Donation totals by title": 400
                },
                {
                  "index": 201,
                  "donor_title": "internal video producer & videographer - multivista",
                  "Donation totals by title": 400
                },
                {
                  "index": 202,
                  "donor_title": "real estate - s/e ken carlson",
                  "Donation totals by title": 400
                },
                {
                  "index": 203,
                  "donor_title": "chief product officer - 2ndnature software inc",
                  "Donation totals by title": 400
                },
                {
                  "index": 204,
                  "donor_title": "glass maker/owner - annieglass",
                  "Donation totals by title": 400
                },
                {
                  "index": 205,
                  "donor_title": "self-employed project manager",
                  "Donation totals by title": 400
                },
                {
                  "index": 206,
                  "donor_title": "manuel quiroz jr.",
                  "Donation totals by title": 400
                },
                {
                  "index": 207,
                  "donor_title": "teacher - sc coe",
                  "Donation totals by title": 400
                },
                {
                  "index": 208,
                  "donor_title": "business owner - sacramento european",
                  "Donation totals by title": 400
                },
                {
                  "index": 209,
                  "donor_title": "senior podcast producer - uc berkeley",
                  "Donation totals by title": 400
                },
                {
                  "index": 210,
                  "donor_title": "teacher ucsc",
                  "Donation totals by title": 400
                },
                {
                  "index": 211,
                  "donor_title": "accountant - s/e manijeh behziz",
                  "Donation totals by title": 400
                },
                {
                  "index": 212,
                  "donor_title": "administrative assistant - santa cruz county",
                  "Donation totals by title": 400
                },
                {
                  "index": 213,
                  "donor_title": "ceo - santa cruz beach boardwalk",
                  "Donation totals by title": 400
                },
                {
                  "index": 214,
                  "donor_title": "id# 1219354",
                  "Donation totals by title": 400
                },
                {
                  "index": 215,
                  "donor_title": "life sciences sustainability specialist - ingenium",
                  "Donation totals by title": 400
                },
                {
                  "index": 216,
                  "donor_title": "sales - self-employed",
                  "Donation totals by title": 400
                },
                {
                  "index": 217,
                  "donor_title": "santa cruz county supervisor",
                  "Donation totals by title": 400
                },
                {
                  "index": 218,
                  "donor_title": "it project manager - s/e sarah castro",
                  "Donation totals by title": 400
                },
                {
                  "index": 219,
                  "donor_title": "photographer - dba stacey herzing",
                  "Donation totals by title": 400
                },
                {
                  "index": 220,
                  "donor_title": "vp - santa cruz seaside company",
                  "Donation totals by title": 400
                },
                {
                  "index": 221,
                  "donor_title": "union representative - seiu-uhw",
                  "Donation totals by title": 400
                },
                {
                  "index": 222,
                  "donor_title": "consultant - clifton doolin consultants",
                  "Donation totals by title": 400
                },
                {
                  "index": 223,
                  "donor_title": "research scientist - driscoll's",
                  "Donation totals by title": 380
                },
                {
                  "index": 224,
                  "donor_title": "educator - fuhsd",
                  "Donation totals by title": 350
                },
                {
                  "index": 225,
                  "donor_title": "business owner",
                  "Donation totals by title": 350
                },
                {
                  "index": 226,
                  "donor_title": "city council member - city of santa cruz",
                  "Donation totals by title": 350
                },
                {
                  "index": 227,
                  "donor_title": "director - kitchen table advisors",
                  "Donation totals by title": 350
                },
                {
                  "index": 228,
                  "donor_title": "self-employed writer",
                  "Donation totals by title": 350
                },
                {
                  "index": 229,
                  "donor_title": "teacher - pajaro valley unified school district",
                  "Donation totals by title": 325
                },
                {
                  "index": 230,
                  "donor_title": "alumni officer - ucsc",
                  "Donation totals by title": 304.15
                },
                {
                  "index": 231,
                  "donor_title": "teacher - santa cruz city",
                  "Donation totals by title": 300
                },
                {
                  "index": 232,
                  "donor_title": "stagehand - live nation",
                  "Donation totals by title": 300
                },
                {
                  "index": 233,
                  "donor_title": "lawyer - walsh guevara llp",
                  "Donation totals by title": 300
                },
                {
                  "index": 234,
                  "donor_title": "educator - self-employed",
                  "Donation totals by title": 300
                },
                {
                  "index": 235,
                  "donor_title": "engineer - levig design group",
                  "Donation totals by title": 300
                },
                {
                  "index": 236,
                  "donor_title": "id# 1244975",
                  "Donation totals by title": 300
                },
                {
                  "index": 237,
                  "donor_title": "consultant - dba carrie lopez",
                  "Donation totals by title": 300
                },
                {
                  "index": 238,
                  "donor_title": "homemaker",
                  "Donation totals by title": 300
                },
                {
                  "index": 239,
                  "donor_title": "co-founder - l37 ventures",
                  "Donation totals by title": 300
                },
                {
                  "index": 240,
                  "donor_title": "communications - vmware",
                  "Donation totals by title": 300
                },
                {
                  "index": 241,
                  "donor_title": "real estate agent - cushman & wakefield",
                  "Donation totals by title": 300
                },
                {
                  "index": 242,
                  "donor_title": "attorney - amazon",
                  "Donation totals by title": 300
                },
                {
                  "index": 243,
                  "donor_title": "attorney - brereton law office apc",
                  "Donation totals by title": 280.11
                },
                {
                  "index": 244,
                  "donor_title": "self-employed pa",
                  "Donation totals by title": 259.92
                },
                {
                  "index": 245,
                  "donor_title": "partner/owner - dell williams jewelers",
                  "Donation totals by title": 259.92
                },
                {
                  "index": 246,
                  "donor_title": "ceo - downtown boulder partnership",
                  "Donation totals by title": 259.92
                },
                {
                  "index": 247,
                  "donor_title": "foundation director - ccof foundation",
                  "Donation totals by title": 250
                },
                {
                  "index": 248,
                  "donor_title": "office manager - wiles & wiles, attorney at law, llp",
                  "Donation totals by title": 250
                },
                {
                  "index": 249,
                  "donor_title": "coach - awesome institute",
                  "Donation totals by title": 250
                },
                {
                  "index": 250,
                  "donor_title": "contractor",
                  "Donation totals by title": 250
                },
                {
                  "index": 251,
                  "donor_title": "realtor - sotheby's international realty",
                  "Donation totals by title": 250
                },
                {
                  "index": 252,
                  "donor_title": "insurance sales - arthur j gallagher & co.",
                  "Donation totals by title": 250
                },
                {
                  "index": 253,
                  "donor_title": "self-employed photographer",
                  "Donation totals by title": 250
                },
                {
                  "index": 254,
                  "donor_title": "realtor - time realty",
                  "Donation totals by title": 250
                },
                {
                  "index": 255,
                  "donor_title": "social worker - county of santa cruz",
                  "Donation totals by title": 250
                },
                {
                  "index": 256,
                  "donor_title": "scientist - immunitybio",
                  "Donation totals by title": 250
                },
                {
                  "index": 257,
                  "donor_title": "strategic planning navigator - s/e john dietz",
                  "Donation totals by title": 250
                },
                {
                  "index": 258,
                  "donor_title": "insurance & farmer - adventure mexican insurance svcs/good farmer",
                  "Donation totals by title": 250
                },
                {
                  "index": 259,
                  "donor_title": "security director - aus",
                  "Donation totals by title": 250
                },
                {
                  "index": 260,
                  "donor_title": "video: film fest production -self",
                  "Donation totals by title": 250
                },
                {
                  "index": 261,
                  "donor_title": "doctor - camp lowell medical specialists",
                  "Donation totals by title": 250
                },
                {
                  "index": 262,
                  "donor_title": "id 1360850",
                  "Donation totals by title": 250
                },
                {
                  "index": 263,
                  "donor_title": "attorney - biggam christensen & minsloff",
                  "Donation totals by title": 250
                },
                {
                  "index": 264,
                  "donor_title": "scientist - immunity bio",
                  "Donation totals by title": 250
                },
                {
                  "index": 265,
                  "donor_title": "massage therapist - self-employed",
                  "Donation totals by title": 250
                },
                {
                  "index": 266,
                  "donor_title": "office manager - drummond masonry",
                  "Donation totals by title": 250
                },
                {
                  "index": 267,
                  "donor_title": "cpa - sony interactive entertainment",
                  "Donation totals by title": 250
                },
                {
                  "index": 268,
                  "donor_title": "consultant - monterey consulting",
                  "Donation totals by title": 250
                },
                {
                  "index": 269,
                  "donor_title": "writer - s/e jacqueline faber",
                  "Donation totals by title": 250
                },
                {
                  "index": 270,
                  "donor_title": "santa cruz city councilmember",
                  "Donation totals by title": 250
                },
                {
                  "index": 271,
                  "donor_title": "ceo, santa cruz community health centers",
                  "Donation totals by title": 250
                },
                {
                  "index": 272,
                  "donor_title": "construction - bogard consturction",
                  "Donation totals by title": 250
                },
                {
                  "index": 273,
                  "donor_title": "management - spring education",
                  "Donation totals by title": 250
                },
                {
                  "index": 274,
                  "donor_title": "county supervisor - monterey county",
                  "Donation totals by title": 250
                },
                {
                  "index": 275,
                  "donor_title": "attorney - thompson, kontz & brenner",
                  "Donation totals by title": 250
                },
                {
                  "index": 276,
                  "donor_title": "county supervisor - santa cruz county",
                  "Donation totals by title": 250
                },
                {
                  "index": 277,
                  "donor_title": "non-profit foodwhat",
                  "Donation totals by title": 250
                },
                {
                  "index": 278,
                  "donor_title": "editor - common sense of media",
                  "Donation totals by title": 250
                },
                {
                  "index": 279,
                  "donor_title": "manager - havermawr, inc",
                  "Donation totals by title": 250
                },
                {
                  "index": 280,
                  "donor_title": "consultant - pinnacle strategy inc",
                  "Donation totals by title": 250
                },
                {
                  "index": 281,
                  "donor_title": "attorney - scruggs, spini & fulton",
                  "Donation totals by title": 250
                },
                {
                  "index": 282,
                  "donor_title": "teacher - new canaan county school",
                  "Donation totals by title": 250
                },
                {
                  "index": 283,
                  "donor_title": "sales/owner - pv printing",
                  "Donation totals by title": 250
                },
                {
                  "index": 284,
                  "donor_title": "human resources - reiter affiliated companies",
                  "Donation totals by title": 250
                },
                {
                  "index": 285,
                  "donor_title": "president/chief trial attorney - the romero institute",
                  "Donation totals by title": 250
                },
                {
                  "index": 286,
                  "donor_title": "attorney - wittwer parkin",
                  "Donation totals by title": 250
                },
                {
                  "index": 287,
                  "donor_title": "director of impact & partnerships - encompass community services",
                  "Donation totals by title": 250
                },
                {
                  "index": 288,
                  "donor_title": "founder/ceo - erik's delicafe",
                  "Donation totals by title": 250
                },
                {
                  "index": 289,
                  "donor_title": "daniel aguirre-garcia",
                  "Donation totals by title": 250
                },
                {
                  "index": 290,
                  "donor_title": "architect - shed seattle llc",
                  "Donation totals by title": 250
                },
                {
                  "index": 291,
                  "donor_title": "shopping broker - ship smart",
                  "Donation totals by title": 250
                },
                {
                  "index": 292,
                  "donor_title": "teacher - santa cruz city schools district",
                  "Donation totals by title": 250
                },
                {
                  "index": 293,
                  "donor_title": "canoe builder",
                  "Donation totals by title": 250
                },
                {
                  "index": 294,
                  "donor_title": "self-employed rn",
                  "Donation totals by title": 250
                },
                {
                  "index": 295,
                  "donor_title": "self-employed author",
                  "Donation totals by title": 250
                },
                {
                  "index": 296,
                  "donor_title": "manager - havermawr inc",
                  "Donation totals by title": 250
                },
                {
                  "index": 297,
                  "donor_title": "retired and santa cruz city council member",
                  "Donation totals by title": 250
                },
                {
                  "index": 298,
                  "donor_title": "self-employed engineering consultant",
                  "Donation totals by title": 240
                },
                {
                  "index": 299,
                  "donor_title": "id# 1342624",
                  "Donation totals by title": 234
                },
                {
                  "index": 300,
                  "donor_title": "castroville, ca",
                  "Donation totals by title": 234
                },
                {
                  "index": 301,
                  "donor_title": "realtor/business mgr - bailey properties inc",
                  "Donation totals by title": 225
                },
                {
                  "index": 302,
                  "donor_title": "teacher - santa clara unified school district",
                  "Donation totals by title": 208
                },
                {
                  "index": 303,
                  "donor_title": "chief of staff - google",
                  "Donation totals by title": 208
                },
                {
                  "index": 304,
                  "donor_title": "self-employed land use consultant",
                  "Donation totals by title": 204.15
                },
                {
                  "index": 305,
                  "donor_title": "communications - city of santa cruz",
                  "Donation totals by title": 204.15
                },
                {
                  "index": 306,
                  "donor_title": "supervisor's analyst - county of santa cruz",
                  "Donation totals by title": 200
                },
                {
                  "index": 307,
                  "donor_title": "equipment engineer - veeco instruments",
                  "Donation totals by title": 200
                },
                {
                  "index": 308,
                  "donor_title": "founder - clifton-doolin",
                  "Donation totals by title": 200
                },
                {
                  "index": 309,
                  "donor_title": "benefits representative - santa cruz county",
                  "Donation totals by title": 200
                },
                {
                  "index": 310,
                  "donor_title": "county supervisor - county of santa cruz",
                  "Donation totals by title": 200
                },
                {
                  "index": 311,
                  "donor_title": "rehab consultant - quality & outcome mgt",
                  "Donation totals by title": 200
                },
                {
                  "index": 312,
                  "donor_title": "midwife - sutter health",
                  "Donation totals by title": 200
                },
                {
                  "index": 313,
                  "donor_title": "self-employed hr consultant",
                  "Donation totals by title": 200
                },
                {
                  "index": 314,
                  "donor_title": "marketing - channel impact",
                  "Donation totals by title": 200
                },
                {
                  "index": 315,
                  "donor_title": "dentist - david montgomery",
                  "Donation totals by title": 200
                },
                {
                  "index": 316,
                  "donor_title": "administrator - the appleton foundation",
                  "Donation totals by title": 200
                },
                {
                  "index": 317,
                  "donor_title": "sushi chef - imuras",
                  "Donation totals by title": 200
                },
                {
                  "index": 318,
                  "donor_title": "graduate student - stanford university",
                  "Donation totals by title": 200
                },
                {
                  "index": 319,
                  "donor_title": "owner/partner - rnm inc",
                  "Donation totals by title": 200
                },
                {
                  "index": 320,
                  "donor_title": "landlord",
                  "Donation totals by title": 200
                },
                {
                  "index": 321,
                  "donor_title": "graphic designer - linkedin",
                  "Donation totals by title": 200
                },
                {
                  "index": 322,
                  "donor_title": "attorney - superior court of calfironia",
                  "Donation totals by title": 200
                },
                {
                  "index": 323,
                  "donor_title": "real estate appraiser - warter and associates",
                  "Donation totals by title": 200
                },
                {
                  "index": 324,
                  "donor_title": "stewardship project manager - land trust of santa cruz county",
                  "Donation totals by title": 200
                },
                {
                  "index": 325,
                  "donor_title": "dentist - smiles on bristol",
                  "Donation totals by title": 200
                },
                {
                  "index": 326,
                  "donor_title": "ukn",
                  "Donation totals by title": 200
                },
                {
                  "index": 327,
                  "donor_title": "developer, manager - ow family management",
                  "Donation totals by title": 200
                },
                {
                  "index": 328,
                  "donor_title": "business owner - cafe rio",
                  "Donation totals by title": 200
                },
                {
                  "index": 329,
                  "donor_title": "investor - self employed",
                  "Donation totals by title": 200
                },
                {
                  "index": 330,
                  "donor_title": "university instructor - san jose state university",
                  "Donation totals by title": 200
                },
                {
                  "index": 331,
                  "donor_title": "counselor - encompass cs",
                  "Donation totals by title": 200
                },
                {
                  "index": 332,
                  "donor_title": "cultivation administrator - purple lotus patient center",
                  "Donation totals by title": 200
                },
                {
                  "index": 333,
                  "donor_title": "accounting - pizza guys",
                  "Donation totals by title": 200
                },
                {
                  "index": 334,
                  "donor_title": "maintenance - pvusd",
                  "Donation totals by title": 200
                },
                {
                  "index": 335,
                  "donor_title": "consultant - pinnacle strategy llc",
                  "Donation totals by title": 200
                },
                {
                  "index": 336,
                  "donor_title": "general counsel - silicon valley leadership group",
                  "Donation totals by title": 200
                },
                {
                  "index": 337,
                  "donor_title": "president - pacific cookie company",
                  "Donation totals by title": 200
                },
                {
                  "index": 338,
                  "donor_title": "ceo - productops",
                  "Donation totals by title": 200
                },
                {
                  "index": 339,
                  "donor_title": "unkown",
                  "Donation totals by title": 200
                },
                {
                  "index": 340,
                  "donor_title": "self-employed location sound recordist",
                  "Donation totals by title": 200
                },
                {
                  "index": 341,
                  "donor_title": "id# 1423339",
                  "Donation totals by title": 200
                },
                {
                  "index": 342,
                  "donor_title": "business owner - shadowbrook restaurant",
                  "Donation totals by title": 200
                },
                {
                  "index": 343,
                  "donor_title": "consultant - ceres group advisors",
                  "Donation totals by title": 200
                },
                {
                  "index": 344,
                  "donor_title": "self-employed counselor",
                  "Donation totals by title": 200
                },
                {
                  "index": 345,
                  "donor_title": "attorney - wlc watsonville law center",
                  "Donation totals by title": 200
                },
                {
                  "index": 346,
                  "donor_title": "consultant - california strategies",
                  "Donation totals by title": 200
                },
                {
                  "index": 347,
                  "donor_title": "professor emeritus - ucsc",
                  "Donation totals by title": 200
                },
                {
                  "index": 348,
                  "donor_title": "accounting - county of santa cruz",
                  "Donation totals by title": 200
                },
                {
                  "index": 349,
                  "donor_title": "attorney - self-employed",
                  "Donation totals by title": 200
                },
                {
                  "index": 350,
                  "donor_title": "teacher - sccs",
                  "Donation totals by title": 200
                },
                {
                  "index": 351,
                  "donor_title": "professor - uc santa cruz",
                  "Donation totals by title": 200
                },
                {
                  "index": 352,
                  "donor_title": "project manager - inoutsource",
                  "Donation totals by title": 200
                },
                {
                  "index": 353,
                  "donor_title": "attorney - baskin & fowler inc",
                  "Donation totals by title": 200
                },
                {
                  "index": 354,
                  "donor_title": "self-employed arts & design",
                  "Donation totals by title": 200
                },
                {
                  "index": 355,
                  "donor_title": "estimator - earthworks paving contractors",
                  "Donation totals by title": 200
                },
                {
                  "index": 356,
                  "donor_title": "sales representative - grow west",
                  "Donation totals by title": 200
                },
                {
                  "index": 357,
                  "donor_title": "executive vice president - bloom energy",
                  "Donation totals by title": 200
                },
                {
                  "index": 358,
                  "donor_title": "investor - guy vachon",
                  "Donation totals by title": 200
                },
                {
                  "index": 359,
                  "donor_title": "sales - synergy organic clothing",
                  "Donation totals by title": 200
                },
                {
                  "index": 360,
                  "donor_title": "economist - us bureau of labor statistics",
                  "Donation totals by title": 200
                },
                {
                  "index": 361,
                  "donor_title": "clinical lab scientist - dominican hospital",
                  "Donation totals by title": 200
                },
                {
                  "index": 362,
                  "donor_title": "lawyer - techsea law",
                  "Donation totals by title": 200
                },
                {
                  "index": 363,
                  "donor_title": "rn - self-employed",
                  "Donation totals by title": 200
                },
                {
                  "index": 364,
                  "donor_title": "math instructor - gavilan community college",
                  "Donation totals by title": 200
                },
                {
                  "index": 365,
                  "donor_title": "contractor - self employed",
                  "Donation totals by title": 200
                },
                {
                  "index": 366,
                  "donor_title": "id# 1343208",
                  "Donation totals by title": 200
                },
                {
                  "index": 367,
                  "donor_title": "attorney - baskin and fowler",
                  "Donation totals by title": 200
                },
                {
                  "index": 368,
                  "donor_title": "real estate broker - anderson christie real estate",
                  "Donation totals by title": 200
                },
                {
                  "index": 369,
                  "donor_title": "contractor - decvon construction",
                  "Donation totals by title": 200
                },
                {
                  "index": 370,
                  "donor_title": "district manager - farmers insurance",
                  "Donation totals by title": 200
                },
                {
                  "index": 371,
                  "donor_title": "vp, transportation and housing - silicon valley leadership group",
                  "Donation totals by title": 200
                },
                {
                  "index": 372,
                  "donor_title": "power engineer - mki",
                  "Donation totals by title": 200
                },
                {
                  "index": 373,
                  "donor_title": "trade association executive - silicon valley leadership group",
                  "Donation totals by title": 200
                },
                {
                  "index": 374,
                  "donor_title": "attorney - sapia law firm",
                  "Donation totals by title": 200
                },
                {
                  "index": 375,
                  "donor_title": "massage therapist",
                  "Donation totals by title": 200
                },
                {
                  "index": 376,
                  "donor_title": "construction inspector - self-employed",
                  "Donation totals by title": 200
                },
                {
                  "index": 377,
                  "donor_title": "administrator - salud para la gente",
                  "Donation totals by title": 200
                },
                {
                  "index": 378,
                  "donor_title": "principal - landtitleguru.com",
                  "Donation totals by title": 200
                },
                {
                  "index": 379,
                  "donor_title": "executive director/ceo - ccof",
                  "Donation totals by title": 200
                },
                {
                  "index": 380,
                  "donor_title": "self-employed architect",
                  "Donation totals by title": 200
                },
                {
                  "index": 381,
                  "donor_title": "structural engineer - cascadia engineering inc",
                  "Donation totals by title": 200
                },
                {
                  "index": 382,
                  "donor_title": "business manager - astrograph software",
                  "Donation totals by title": 200
                },
                {
                  "index": 383,
                  "donor_title": "real estate agent - lighthouse realty",
                  "Donation totals by title": 200
                },
                {
                  "index": 384,
                  "donor_title": "owner - hargis construction",
                  "Donation totals by title": 200
                },
                {
                  "index": 385,
                  "donor_title": "transportation systems - santa cruz regional transportation commission",
                  "Donation totals by title": 200
                },
                {
                  "index": 386,
                  "donor_title": "caregiver - state of ca",
                  "Donation totals by title": 200
                },
                {
                  "index": 387,
                  "donor_title": "bookshop sc owner",
                  "Donation totals by title": 200
                },
                {
                  "index": 388,
                  "donor_title": "director - hope",
                  "Donation totals by title": 200
                },
                {
                  "index": 389,
                  "donor_title": "lawyer - self employed",
                  "Donation totals by title": 200
                },
                {
                  "index": 390,
                  "donor_title": "non-profit leadership - community foundation for monterey county",
                  "Donation totals by title": 190
                },
                {
                  "index": 391,
                  "donor_title": "realtor/developer - intero real estate",
                  "Donation totals by title": 158.97
                },
                {
                  "index": 392,
                  "donor_title": "host - downtown association",
                  "Donation totals by title": 156.69
                },
                {
                  "index": 393,
                  "donor_title": "self-employed landscape designer",
                  "Donation totals by title": 156.07
                },
                {
                  "index": 394,
                  "donor_title": "sales pv printing",
                  "Donation totals by title": 150
                },
                {
                  "index": 395,
                  "donor_title": "sr. agency producer - mekanism",
                  "Donation totals by title": 150
                },
                {
                  "index": 396,
                  "donor_title": "customer sales manager - google",
                  "Donation totals by title": 150
                },
                {
                  "index": 397,
                  "donor_title": "it manager - self-employed",
                  "Donation totals by title": 150
                },
                {
                  "index": 398,
                  "donor_title": "managing director - d.e. shaw & co.",
                  "Donation totals by title": 150
                },
                {
                  "index": 399,
                  "donor_title": "ceo - eli strategy group inc",
                  "Donation totals by title": 150
                },
                {
                  "index": 400,
                  "donor_title": "writer - dreamworks",
                  "Donation totals by title": 150
                },
                {
                  "index": 401,
                  "donor_title": "printer - business owner",
                  "Donation totals by title": 150
                },
                {
                  "index": 402,
                  "donor_title": "development director - ucsc",
                  "Donation totals by title": 150
                },
                {
                  "index": 403,
                  "donor_title": "field production manager - ucsc center of agroecology and sustainable food systems",
                  "Donation totals by title": 150
                },
                {
                  "index": 404,
                  "donor_title": "owner - blue belly farms",
                  "Donation totals by title": 150
                },
                {
                  "index": 405,
                  "donor_title": "nonprofit - foodwhat",
                  "Donation totals by title": 150
                },
                {
                  "index": 406,
                  "donor_title": "id# 1406545",
                  "Donation totals by title": 150
                },
                {
                  "index": 407,
                  "donor_title": "farmer - robson farms",
                  "Donation totals by title": 150
                },
                {
                  "index": 408,
                  "donor_title": "executive director - valley churches united",
                  "Donation totals by title": 150
                },
                {
                  "index": 409,
                  "donor_title": "non-profit professional - sustainable agriculture & food systems funders",
                  "Donation totals by title": 150
                },
                {
                  "index": 410,
                  "donor_title": "school superintendent - loma prieta joint union school district",
                  "Donation totals by title": 150
                },
                {
                  "index": 411,
                  "donor_title": "copy editor - apple",
                  "Donation totals by title": 150
                },
                {
                  "index": 412,
                  "donor_title": "paralegal - vista outdoor",
                  "Donation totals by title": 150
                },
                {
                  "index": 413,
                  "donor_title": "computer scientist - intertrust technologies",
                  "Donation totals by title": 150
                },
                {
                  "index": 414,
                  "donor_title": "coo - bizfed",
                  "Donation totals by title": 150
                },
                {
                  "index": 415,
                  "donor_title": "financial advisor - wavecrest wealth mangement",
                  "Donation totals by title": 150
                },
                {
                  "index": 416,
                  "donor_title": "consultant.- intact, inc",
                  "Donation totals by title": 150
                },
                {
                  "index": 417,
                  "donor_title": "self-employed artist",
                  "Donation totals by title": 150
                },
                {
                  "index": 418,
                  "donor_title": "id# 1407266",
                  "Donation totals by title": 143.57
                },
                {
                  "index": 419,
                  "donor_title": "attorney - pamf",
                  "Donation totals by title": 125
                },
                {
                  "index": 420,
                  "donor_title": "physician - dominican hospital",
                  "Donation totals by title": 125
                },
                {
                  "index": 421,
                  "donor_title": "self-employed builder",
                  "Donation totals by title": 125
                },
                {
                  "index": 422,
                  "donor_title": "realtor/business mgr - bailey properties, inc",
                  "Donation totals by title": 125
                },
                {
                  "index": 423,
                  "donor_title": "educator - alum rock school district",
                  "Donation totals by title": 125
                },
                {
                  "index": 424,
                  "donor_title": "director of projects & customer experience - epic workshop",
                  "Donation totals by title": 104.46
                },
                {
                  "index": 425,
                  "donor_title": "mechanical engineer - snapnrach",
                  "Donation totals by title": 104.15
                },
                {
                  "index": 426,
                  "donor_title": "self-employed guitar-maker",
                  "Donation totals by title": 104.15
                },
                {
                  "index": 427,
                  "donor_title": "dental hygienist - cabrillo college",
                  "Donation totals by title": 104.15
                },
                {
                  "index": 428,
                  "donor_title": "cre agent - cushman & wakefield",
                  "Donation totals by title": 104.15
                },
                {
                  "index": 429,
                  "donor_title": "self-employed real estate sales and property management",
                  "Donation totals by title": 104.15
                },
                {
                  "index": 430,
                  "donor_title": "admin manager - ucsc",
                  "Donation totals by title": 104.15
                },
                {
                  "index": 431,
                  "donor_title": "self-employed landscape contractor",
                  "Donation totals by title": 104.15
                },
                {
                  "index": 432,
                  "donor_title": "store owner - artisans & agency",
                  "Donation totals by title": 104.15
                },
                {
                  "index": 433,
                  "donor_title": "owner - zoccoli's deli",
                  "Donation totals by title": 104.15
                },
                {
                  "index": 434,
                  "donor_title": "manager - santa cruz coffee",
                  "Donation totals by title": 104.15
                },
                {
                  "index": 435,
                  "donor_title": "realtor - monterey bay properties",
                  "Donation totals by title": 104.15
                },
                {
                  "index": 436,
                  "donor_title": "rn - sutter maternity and surgery center",
                  "Donation totals by title": 104.15
                },
                {
                  "index": 437,
                  "donor_title": "consultant - clifton-doolin consulting",
                  "Donation totals by title": 104.15
                },
                {
                  "index": 438,
                  "donor_title": "registered dietitian - gardner health services",
                  "Donation totals by title": 104.15
                },
                {
                  "index": 439,
                  "donor_title": "green building professional - bright green strategies, inc",
                  "Donation totals by title": 104.15
                },
                {
                  "index": 440,
                  "donor_title": "sales - lowes",
                  "Donation totals by title": 104.15
                },
                {
                  "index": 441,
                  "donor_title": "property management - john stewart company",
                  "Donation totals by title": 104.15
                },
                {
                  "index": 442,
                  "donor_title": "operations - santa cruz harbor",
                  "Donation totals by title": 104.15
                },
                {
                  "index": 443,
                  "donor_title": "payroll - ucsc",
                  "Donation totals by title": 102.35
                },
                {
                  "index": 444,
                  "donor_title": "ceo - hope",
                  "Donation totals by title": 100
                },
                {
                  "index": 445,
                  "donor_title": "non-profit management - community action board",
                  "Donation totals by title": 100
                },
                {
                  "index": 446,
                  "donor_title": "self-employed - melehan family llc",
                  "Donation totals by title": 100
                },
                {
                  "index": 447,
                  "donor_title": "nonprofit consultant - s/e caitlin brune",
                  "Donation totals by title": 100
                },
                {
                  "index": 448,
                  "donor_title": "service line director - el camino hospital",
                  "Donation totals by title": 100
                },
                {
                  "index": 449,
                  "donor_title": "self-employed teacher",
                  "Donation totals by title": 100
                },
                {
                  "index": 450,
                  "donor_title": "self-employed diving instructor",
                  "Donation totals by title": 100
                },
                {
                  "index": 451,
                  "donor_title": "foundation director - ccof",
                  "Donation totals by title": 100
                },
                {
                  "index": 452,
                  "donor_title": "sr director of development - ucsc",
                  "Donation totals by title": 100
                },
                {
                  "index": 453,
                  "donor_title": "development manager - city of santa cruz",
                  "Donation totals by title": 100
                },
                {
                  "index": 454,
                  "donor_title": "occupational therapist - sutter health",
                  "Donation totals by title": 100
                },
                {
                  "index": 455,
                  "donor_title": "executive director - phytotherapies",
                  "Donation totals by title": 100
                },
                {
                  "index": 456,
                  "donor_title": "judge - superior court of ca-santa cruz",
                  "Donation totals by title": 100
                },
                {
                  "index": 457,
                  "donor_title": "social impact consultant - allison guevara consulting",
                  "Donation totals by title": 100
                },
                {
                  "index": 458,
                  "donor_title": "legislative aide - city and county of san francisco",
                  "Donation totals by title": 100
                },
                {
                  "index": 459,
                  "donor_title": "project manager - sygenta flowers",
                  "Donation totals by title": 100
                },
                {
                  "index": 460,
                  "donor_title": "school psychologist - santa cruz city school district",
                  "Donation totals by title": 100
                },
                {
                  "index": 461,
                  "donor_title": "fema reservist - fema",
                  "Donation totals by title": 100
                },
                {
                  "index": 462,
                  "donor_title": "sales - digital dynamics",
                  "Donation totals by title": 100
                },
                {
                  "index": 463,
                  "donor_title": "curator - self-employed",
                  "Donation totals by title": 100
                },
                {
                  "index": 464,
                  "donor_title": "executive director, monterey bay economic partnership",
                  "Donation totals by title": 100
                },
                {
                  "index": 465,
                  "donor_title": "housing advisor - ucsc",
                  "Donation totals by title": 100
                },
                {
                  "index": 466,
                  "donor_title": "institute director",
                  "Donation totals by title": 100
                },
                {
                  "index": 467,
                  "donor_title": "accounting - ship smart",
                  "Donation totals by title": 100
                },
                {
                  "index": 468,
                  "donor_title": "owner - lifeaid beverage",
                  "Donation totals by title": 100
                },
                {
                  "index": 469,
                  "donor_title": "business owner - printing and advertising",
                  "Donation totals by title": 100
                },
                {
                  "index": 470,
                  "donor_title": "self-employed - john a stevens d.d.s. inc",
                  "Donation totals by title": 100
                },
                {
                  "index": 471,
                  "donor_title": "enumerator - us census",
                  "Donation totals by title": 100
                },
                {
                  "index": 472,
                  "donor_title": "adjunct lecturer - santa clara university",
                  "Donation totals by title": 100
                },
                {
                  "index": 473,
                  "donor_title": "business owner - culinary enterprises inc",
                  "Donation totals by title": 100
                },
                {
                  "index": 474,
                  "donor_title": "manager - santa cruz toyota",
                  "Donation totals by title": 100
                },
                {
                  "index": 475,
                  "donor_title": "organic farmer",
                  "Donation totals by title": 100
                },
                {
                  "index": 476,
                  "donor_title": "government relations - pg&e",
                  "Donation totals by title": 100
                },
                {
                  "index": 477,
                  "donor_title": "analyst - sc county",
                  "Donation totals by title": 100
                },
                {
                  "index": 478,
                  "donor_title": "coo - b-yond, inc.",
                  "Donation totals by title": 100
                },
                {
                  "index": 479,
                  "donor_title": "director - genomics institute, ucsc",
                  "Donation totals by title": 100
                },
                {
                  "index": 480,
                  "donor_title": "id# 820082",
                  "Donation totals by title": 100
                },
                {
                  "index": 481,
                  "donor_title": "researcher - ipas",
                  "Donation totals by title": 100
                },
                {
                  "index": 482,
                  "donor_title": "realtor - exp realty of california, inc",
                  "Donation totals by title": 100
                },
                {
                  "index": 483,
                  "donor_title": "self-employed realtor",
                  "Donation totals by title": 100
                },
                {
                  "index": 484,
                  "donor_title": "insurance broker - w. b. tubbs insurance agency",
                  "Donation totals by title": 100
                },
                {
                  "index": 485,
                  "donor_title": "pilot - united airlines",
                  "Donation totals by title": 100
                },
                {
                  "index": 486,
                  "donor_title": "analyst - ucsc",
                  "Donation totals by title": 100
                },
                {
                  "index": 487,
                  "donor_title": "vp of experience - sereno group",
                  "Donation totals by title": 100
                },
                {
                  "index": 488,
                  "donor_title": "ceo - community bridges",
                  "Donation totals by title": 100
                },
                {
                  "index": 489,
                  "donor_title": "social impact consultant - s/e robyn mckeen",
                  "Donation totals by title": 100
                },
                {
                  "index": 490,
                  "donor_title": "customer service - pathways alliance",
                  "Donation totals by title": 100
                },
                {
                  "index": 491,
                  "donor_title": "self-employed psychologist",
                  "Donation totals by title": 100
                },
                {
                  "index": 492,
                  "donor_title": "strategy executive - driscoll's",
                  "Donation totals by title": 100
                },
                {
                  "index": 493,
                  "donor_title": "civil engineer - mge engineering inc",
                  "Donation totals by title": 100
                },
                {
                  "index": 494,
                  "donor_title": "educator - san jose state university",
                  "Donation totals by title": 100
                },
                {
                  "index": 495,
                  "donor_title": "accountant - threshold enterprises",
                  "Donation totals by title": 100
                },
                {
                  "index": 496,
                  "donor_title": "analyst - county of santa cruz",
                  "Donation totals by title": 100
                },
                {
                  "index": 497,
                  "donor_title": "legal assistant",
                  "Donation totals by title": 100
                },
                {
                  "index": 498,
                  "donor_title": "consultant - deloitte",
                  "Donation totals by title": 100
                },
                {
                  "index": 499,
                  "donor_title": "physician - pamf",
                  "Donation totals by title": 100
                },
                {
                  "index": 500,
                  "donor_title": "self-employed acupuncture",
                  "Donation totals by title": 100
                },
                {
                  "index": 501,
                  "donor_title": "oceanographer emeritus - usgs",
                  "Donation totals by title": 100
                },
                {
                  "index": 502,
                  "donor_title": "executive administrator - encompass community services",
                  "Donation totals by title": 100
                },
                {
                  "index": 503,
                  "donor_title": "educator - self employed",
                  "Donation totals by title": 100
                },
                {
                  "index": 504,
                  "donor_title": "engineer - underwriters laboratories inc",
                  "Donation totals by title": 100
                },
                {
                  "index": 505,
                  "donor_title": "cost analyst - smith & vandiver",
                  "Donation totals by title": 100
                },
                {
                  "index": 506,
                  "donor_title": "self-employed tech marcom",
                  "Donation totals by title": 100
                },
                {
                  "index": 507,
                  "donor_title": "president/insurance broker - kbk insurance",
                  "Donation totals by title": 100
                },
                {
                  "index": 508,
                  "donor_title": "doctor - monterey county",
                  "Donation totals by title": 100
                },
                {
                  "index": 509,
                  "donor_title": "dean of research, planning, and institutional effectiveness - cabrillo college",
                  "Donation totals by title": 100
                },
                {
                  "index": 510,
                  "donor_title": "owner - culinary enterprise inc",
                  "Donation totals by title": 100
                },
                {
                  "index": 511,
                  "donor_title": "doctor - kaiser",
                  "Donation totals by title": 100
                },
                {
                  "index": 512,
                  "donor_title": "self-employed photojournalist",
                  "Donation totals by title": 100
                },
                {
                  "index": 513,
                  "donor_title": "self-employed - rein & rein, a professional law corporation",
                  "Donation totals by title": 100
                },
                {
                  "index": 514,
                  "donor_title": "attorney - emily j buchbinder, apc",
                  "Donation totals by title": 100
                },
                {
                  "index": 515,
                  "donor_title": "owner - paradigm sport",
                  "Donation totals by title": 100
                },
                {
                  "index": 516,
                  "donor_title": "scientist",
                  "Donation totals by title": 100
                },
                {
                  "index": 517,
                  "donor_title": "manager - amazon",
                  "Donation totals by title": 100
                },
                {
                  "index": 518,
                  "donor_title": "environmental engineer - integral consulting",
                  "Donation totals by title": 100
                },
                {
                  "index": 519,
                  "donor_title": "financial advisor - money concepts capital",
                  "Donation totals by title": 100
                },
                {
                  "index": 520,
                  "donor_title": "professor - university of california",
                  "Donation totals by title": 100
                },
                {
                  "index": 521,
                  "donor_title": "school nurse - santa cruz county office of education",
                  "Donation totals by title": 100
                },
                {
                  "index": 522,
                  "donor_title": "legislative advocate - los angeles unified school district",
                  "Donation totals by title": 100
                },
                {
                  "index": 523,
                  "donor_title": "professor of history, emeritus, ucsc",
                  "Donation totals by title": 100
                },
                {
                  "index": 524,
                  "donor_title": "lawyer - self-employed",
                  "Donation totals by title": 100
                },
                {
                  "index": 525,
                  "donor_title": "landscape architect - mark wegrich",
                  "Donation totals by title": 100
                },
                {
                  "index": 526,
                  "donor_title": "chief of staff - city of san jose",
                  "Donation totals by title": 100
                },
                {
                  "index": 527,
                  "donor_title": "senior advisor - legrand north america",
                  "Donation totals by title": 100
                },
                {
                  "index": 528,
                  "donor_title": "vice president of sales & operations - antares audio technologies",
                  "Donation totals by title": 100
                },
                {
                  "index": 529,
                  "donor_title": "general contractor - extraordinary doors, inc",
                  "Donation totals by title": 100
                },
                {
                  "index": 530,
                  "donor_title": "id# e00315",
                  "Donation totals by title": 100
                },
                {
                  "index": 531,
                  "donor_title": "owner - the engine room",
                  "Donation totals by title": 100
                },
                {
                  "index": 532,
                  "donor_title": "accountant - city of santa cruz",
                  "Donation totals by title": 100
                },
                {
                  "index": 533,
                  "donor_title": "cto personal airline exchange",
                  "Donation totals by title": 100
                },
                {
                  "index": 534,
                  "donor_title": "property manager - the walt eller company",
                  "Donation totals by title": 100
                },
                {
                  "index": 535,
                  "donor_title": "self-employed tech marketer",
                  "Donation totals by title": 100
                },
                {
                  "index": 536,
                  "donor_title": "self-employed economist",
                  "Donation totals by title": 100
                },
                {
                  "index": 537,
                  "donor_title": "sr manager - better place forests co",
                  "Donation totals by title": 100
                },
                {
                  "index": 538,
                  "donor_title": "nurse practitioner - planned parenthood",
                  "Donation totals by title": 100
                },
                {
                  "index": 539,
                  "donor_title": "self-employed - westwind memory care",
                  "Donation totals by title": 100
                },
                {
                  "index": 540,
                  "donor_title": "ceo - codestringers",
                  "Donation totals by title": 100
                },
                {
                  "index": 541,
                  "donor_title": "land developer - ow family",
                  "Donation totals by title": 100
                },
                {
                  "index": 542,
                  "donor_title": "research toxicologist - uc davis",
                  "Donation totals by title": 100
                },
                {
                  "index": 543,
                  "donor_title": "owner - sacramento european",
                  "Donation totals by title": 100
                },
                {
                  "index": 544,
                  "donor_title": "self-employed sutton law firm",
                  "Donation totals by title": 100
                },
                {
                  "index": 545,
                  "donor_title": "realtor - tri-county real estate associates inc",
                  "Donation totals by title": 100
                },
                {
                  "index": 546,
                  "donor_title": "digital strategy - chime interactive",
                  "Donation totals by title": 100
                },
                {
                  "index": 547,
                  "donor_title": "construction contractor - s/e tahereh abbaszadeh",
                  "Donation totals by title": 100
                },
                {
                  "index": 548,
                  "donor_title": "property manager/sr vp - john stewart co.",
                  "Donation totals by title": 100
                },
                {
                  "index": 549,
                  "donor_title": "universal life",
                  "Donation totals by title": 100
                },
                {
                  "index": 550,
                  "donor_title": "business owner - dennis norton design",
                  "Donation totals by title": 100
                },
                {
                  "index": 551,
                  "donor_title": "human resources - arcadia unified school district",
                  "Donation totals by title": 100
                },
                {
                  "index": 552,
                  "donor_title": "ceo - pacific cookie co.",
                  "Donation totals by title": 100
                },
                {
                  "index": 553,
                  "donor_title": "vp - sales & marketing - digital dynamics inc",
                  "Donation totals by title": 100
                },
                {
                  "index": 554,
                  "donor_title": "self-employed agricultural consultant",
                  "Donation totals by title": 100
                },
                {
                  "index": 555,
                  "donor_title": "politician - city of watsonville",
                  "Donation totals by title": 100
                },
                {
                  "index": 556,
                  "donor_title": "neonatologist - ebns",
                  "Donation totals by title": 100
                },
                {
                  "index": 557,
                  "donor_title": "leave assistant - ucsc",
                  "Donation totals by title": 100
                },
                {
                  "index": 558,
                  "donor_title": "professor - csumb",
                  "Donation totals by title": 100
                },
                {
                  "index": 559,
                  "donor_title": "executive director - el pajaro cdc",
                  "Donation totals by title": 100
                },
                {
                  "index": 560,
                  "donor_title": "land use consultant - lawlor land use consulting",
                  "Donation totals by title": 100
                },
                {
                  "index": 561,
                  "donor_title": "professor - san francisco state university",
                  "Donation totals by title": 100
                },
                {
                  "index": 562,
                  "donor_title": "environmental scientist emeritus - usgs",
                  "Donation totals by title": 100
                },
                {
                  "index": 563,
                  "donor_title": "rn - dignity health",
                  "Donation totals by title": 100
                },
                {
                  "index": 564,
                  "donor_title": "landlord - william cook",
                  "Donation totals by title": 100
                },
                {
                  "index": 565,
                  "donor_title": "founder/ceo - erik's deli cafe, inc",
                  "Donation totals by title": 100
                },
                {
                  "index": 566,
                  "donor_title": "engineer - google",
                  "Donation totals by title": 100
                },
                {
                  "index": 567,
                  "donor_title": "respiratory therapist - dominican hospital",
                  "Donation totals by title": 100
                },
                {
                  "index": 568,
                  "donor_title": "executive director - california certified organic farmers",
                  "Donation totals by title": 100
                },
                {
                  "index": 569,
                  "donor_title": "executive director - mobility fitness",
                  "Donation totals by title": 100
                },
                {
                  "index": 570,
                  "donor_title": "executive director, santa cruz works",
                  "Donation totals by title": 100
                },
                {
                  "index": 571,
                  "donor_title": "cfo - beauty solutions",
                  "Donation totals by title": 100
                },
                {
                  "index": 572,
                  "donor_title": "host - hsn",
                  "Donation totals by title": 100
                },
                {
                  "index": 573,
                  "donor_title": "self-employed - engfer accounting services",
                  "Donation totals by title": 100
                },
                {
                  "index": 574,
                  "donor_title": "financial planner - money concepts capital corp",
                  "Donation totals by title": 100
                },
                {
                  "index": 575,
                  "donor_title": "admin assistant - scotts valley unified school district",
                  "Donation totals by title": 100
                },
                {
                  "index": 576,
                  "donor_title": "attorney - sc superior court",
                  "Donation totals by title": 100
                },
                {
                  "index": 577,
                  "donor_title": "strategy executive - driscoll's inc",
                  "Donation totals by title": 100
                },
                {
                  "index": 578,
                  "donor_title": "ceo - mbep",
                  "Donation totals by title": 100
                },
                {
                  "index": 579,
                  "donor_title": "vp operations - sanco pipelines",
                  "Donation totals by title": 100
                },
                {
                  "index": 580,
                  "donor_title": "rabbi - temple beth el",
                  "Donation totals by title": 100
                },
                {
                  "index": 581,
                  "donor_title": "operations - santa cruz port district",
                  "Donation totals by title": 100
                },
                {
                  "index": 582,
                  "donor_title": "self-employed design engineer",
                  "Donation totals by title": 100
                },
                {
                  "index": 583,
                  "donor_title": "owner - culinary enterprises inc",
                  "Donation totals by title": 100
                },
                {
                  "index": 584,
                  "donor_title": "reference specialist isaacson miller",
                  "Donation totals by title": 100
                },
                {
                  "index": 585,
                  "donor_title": "managing director/cpa - portfolio diversification institute",
                  "Donation totals by title": 100
                },
                {
                  "index": 586,
                  "donor_title": "research manager - driscoll's",
                  "Donation totals by title": 100
                },
                {
                  "index": 587,
                  "donor_title": "area manager - epic wine and spirits",
                  "Donation totals by title": 100
                },
                {
                  "index": 588,
                  "donor_title": "professor - institute of buddhist studies",
                  "Donation totals by title": 100
                },
                {
                  "index": 589,
                  "donor_title": "general manager - salinas valley groundwater sustainability agency",
                  "Donation totals by title": 100
                },
                {
                  "index": 590,
                  "donor_title": "attorney - rice, luxon & bolster - grant llp",
                  "Donation totals by title": 100
                },
                {
                  "index": 591,
                  "donor_title": "dentist - sc dental group",
                  "Donation totals by title": 100
                },
                {
                  "index": 592,
                  "donor_title": "owner - beachwood properties",
                  "Donation totals by title": 100
                },
                {
                  "index": 593,
                  "donor_title": "consultant - dba caitlin brune",
                  "Donation totals by title": 100
                },
                {
                  "index": 594,
                  "donor_title": "rn - community hospital of monterey peninsula",
                  "Donation totals by title": 100
                },
                {
                  "index": 595,
                  "donor_title": "owner - pacific cookie co.",
                  "Donation totals by title": 100
                },
                {
                  "index": 596,
                  "donor_title": "tbd",
                  "Donation totals by title": 100
                },
                {
                  "index": 597,
                  "donor_title": "consultant - s/e peggy flynn",
                  "Donation totals by title": 100
                },
                {
                  "index": 598,
                  "donor_title": "self-employed - austin b. comstock law firm",
                  "Donation totals by title": 100
                },
                {
                  "index": 599,
                  "donor_title": "motion graphics designer - hogarth",
                  "Donation totals by title": 100
                },
                {
                  "index": 600,
                  "donor_title": "lead trainer - positive discipline association",
                  "Donation totals by title": 100
                },
                {
                  "index": 601,
                  "donor_title": "senior project manager - bright green strategies",
                  "Donation totals by title": 100
                },
                {
                  "index": 602,
                  "donor_title": "professor/retired - ucsc",
                  "Donation totals by title": 100
                },
                {
                  "index": 603,
                  "donor_title": "scotts valley city council member and self-employed - dilles financial consulting",
                  "Donation totals by title": 100
                },
                {
                  "index": 604,
                  "donor_title": "professor - stanford university",
                  "Donation totals by title": 100
                },
                {
                  "index": 605,
                  "donor_title": "director of e-commerce - essity",
                  "Donation totals by title": 100
                },
                {
                  "index": 606,
                  "donor_title": "registered dental hygienist - brian del core dds",
                  "Donation totals by title": 100
                },
                {
                  "index": 607,
                  "donor_title": "attorney - wittwer & parkin, llp",
                  "Donation totals by title": 100
                },
                {
                  "index": 608,
                  "donor_title": "consultant - intact, inc",
                  "Donation totals by title": 100
                },
                {
                  "index": 609,
                  "donor_title": "attorney - tibco software inc",
                  "Donation totals by title": 100
                },
                {
                  "index": 610,
                  "donor_title": "insurance broker - kbk insurance",
                  "Donation totals by title": 100
                },
                {
                  "index": 611,
                  "donor_title": "real estate - wilson-meany",
                  "Donation totals by title": 100
                },
                {
                  "index": 612,
                  "donor_title": "case manager - bill wilson center",
                  "Donation totals by title": 100
                },
                {
                  "index": 613,
                  "donor_title": "retail - pajaro valley golf course",
                  "Donation totals by title": 100
                },
                {
                  "index": 614,
                  "donor_title": "hr consultant - self employed",
                  "Donation totals by title": 100
                },
                {
                  "index": 615,
                  "donor_title": "software consultant - s/e nima bagheri",
                  "Donation totals by title": 100
                },
                {
                  "index": 616,
                  "donor_title": "real estate broker - montalvo homes & estates",
                  "Donation totals by title": 100
                },
                {
                  "index": 617,
                  "donor_title": "manager - satellite centers",
                  "Donation totals by title": 100
                },
                {
                  "index": 618,
                  "donor_title": "tv host - tegna",
                  "Donation totals by title": 100
                },
                {
                  "index": 619,
                  "donor_title": "ultrasound tech - mills peninsula medical center",
                  "Donation totals by title": 100
                },
                {
                  "index": 620,
                  "donor_title": "researcher - department of veteran affairs",
                  "Donation totals by title": 100
                },
                {
                  "index": 621,
                  "donor_title": "engineer - riverbed inc",
                  "Donation totals by title": 100
                },
                {
                  "index": 622,
                  "donor_title": "senior software engineer - autonomic",
                  "Donation totals by title": 100
                },
                {
                  "index": 623,
                  "donor_title": "acupuncturist",
                  "Donation totals by title": 100
                },
                {
                  "index": 624,
                  "donor_title": "personal assistant - local family",
                  "Donation totals by title": 100
                },
                {
                  "index": 625,
                  "donor_title": "secretary - sc coe",
                  "Donation totals by title": 100
                },
                {
                  "index": 626,
                  "donor_title": "consultant - ro peereyera",
                  "Donation totals by title": 100
                },
                {
                  "index": 627,
                  "donor_title": "manager - city of san jose",
                  "Donation totals by title": 100
                },
                {
                  "index": 628,
                  "donor_title": "engineer - city of watsonville",
                  "Donation totals by title": 100
                },
                {
                  "index": 629,
                  "donor_title": "land use consultant - s/e deidre hamilton",
                  "Donation totals by title": 100
                },
                {
                  "index": 630,
                  "donor_title": "journalist - edible monterey bay",
                  "Donation totals by title": 100
                },
                {
                  "index": 631,
                  "donor_title": "candidate",
                  "Donation totals by title": 100
                },
                {
                  "index": 632,
                  "donor_title": "rn - county of santa cruz",
                  "Donation totals by title": 100
                },
                {
                  "index": 633,
                  "donor_title": "self-employed - management advisory services",
                  "Donation totals by title": 100
                },
                {
                  "index": 634,
                  "donor_title": "accountant - invensense inc",
                  "Donation totals by title": 100
                },
                {
                  "index": 635,
                  "donor_title": "product marketing manager - synopsys",
                  "Donation totals by title": 100
                },
                {
                  "index": 636,
                  "donor_title": "government relations - sutter health",
                  "Donation totals by title": 100
                },
                {
                  "index": 637,
                  "donor_title": "public relations - ucsc",
                  "Donation totals by title": 100
                },
                {
                  "index": 638,
                  "donor_title": "physician - palo alto medical foundation",
                  "Donation totals by title": 100
                },
                {
                  "index": 639,
                  "donor_title": "vice president/hr - a&a organic farms",
                  "Donation totals by title": 100
                },
                {
                  "index": 640,
                  "donor_title": "ceo - sentinel printers",
                  "Donation totals by title": 100
                },
                {
                  "index": 641,
                  "donor_title": "supervisor - county of santa cruz",
                  "Donation totals by title": 100
                },
                {
                  "index": 642,
                  "donor_title": "coordinator - faith community shelter",
                  "Donation totals by title": 100
                },
                {
                  "index": 643,
                  "donor_title": "self-employed instructional designer",
                  "Donation totals by title": 100
                },
                {
                  "index": 644,
                  "donor_title": "publisher - mountain network news",
                  "Donation totals by title": 100
                },
                {
                  "index": 645,
                  "donor_title": "dental hygienist - brain del core dds",
                  "Donation totals by title": 100
                },
                {
                  "index": 646,
                  "donor_title": "attorney - law office of eric john nelson",
                  "Donation totals by title": 100
                },
                {
                  "index": 647,
                  "donor_title": "bodyworker - midline",
                  "Donation totals by title": 100
                },
                {
                  "index": 648,
                  "donor_title": "owner - a.l. lease company",
                  "Donation totals by title": 100
                },
                {
                  "index": 649,
                  "donor_title": "executive director - arts council santa cruz county",
                  "Donation totals by title": 100
                },
                {
                  "index": 650,
                  "donor_title": "attorney - littler mendelson",
                  "Donation totals by title": 100
                },
                {
                  "index": 651,
                  "donor_title": "director - santa cruz bicycles",
                  "Donation totals by title": 100
                },
                {
                  "index": 652,
                  "donor_title": "architect - bcj",
                  "Donation totals by title": 100
                },
                {
                  "index": 653,
                  "donor_title": "unemployedf",
                  "Donation totals by title": 100
                },
                {
                  "index": 654,
                  "donor_title": "attorney - jack gordon",
                  "Donation totals by title": 100
                },
                {
                  "index": 655,
                  "donor_title": "cpa - petrinovich pugh and co.",
                  "Donation totals by title": 100
                },
                {
                  "index": 656,
                  "donor_title": "marketing - sap",
                  "Donation totals by title": 100
                },
                {
                  "index": 657,
                  "donor_title": "publisher & editor - edible monterey bay",
                  "Donation totals by title": 100
                },
                {
                  "index": 658,
                  "donor_title": "lawyer - law office of emily buchbinder",
                  "Donation totals by title": 100
                },
                {
                  "index": 659,
                  "donor_title": "self-employed - locatelli properties ii llc",
                  "Donation totals by title": 100
                },
                {
                  "index": 660,
                  "donor_title": "visitor services aide - friends of santa cruz state parks",
                  "Donation totals by title": 100
                },
                {
                  "index": 661,
                  "donor_title": "mental health clinician - santa cruz county hsa",
                  "Donation totals by title": 100
                },
                {
                  "index": 662,
                  "donor_title": "attorney - galloway lucchese everson & picchi",
                  "Donation totals by title": 100
                },
                {
                  "index": 663,
                  "donor_title": "administrator - uc san diego",
                  "Donation totals by title": 100
                },
                {
                  "index": 664,
                  "donor_title": "administrator - scchc",
                  "Donation totals by title": 100
                },
                {
                  "index": 665,
                  "donor_title": "attorney - law office of mark johannessen",
                  "Donation totals by title": 100
                },
                {
                  "index": 666,
                  "donor_title": "principal insurance broker - los gatos insurance services",
                  "Donation totals by title": 100
                },
                {
                  "index": 667,
                  "donor_title": "attorney - redwood city",
                  "Donation totals by title": 100
                },
                {
                  "index": 668,
                  "donor_title": "teacher - pajaro unified school district",
                  "Donation totals by title": 100
                },
                {
                  "index": 669,
                  "donor_title": "consultant - intact inc",
                  "Donation totals by title": 100
                },
                {
                  "index": 670,
                  "donor_title": "product marketing - lattice semiconductor",
                  "Donation totals by title": 100
                },
                {
                  "index": 671,
                  "donor_title": "attorney - self employed",
                  "Donation totals by title": 100
                },
                {
                  "index": 672,
                  "donor_title": "director of partnerships - santa clara university",
                  "Donation totals by title": 100
                },
                {
                  "index": 673,
                  "donor_title": "bookkeeper - s/e hollie locatelli",
                  "Donation totals by title": 100
                },
                {
                  "index": 674,
                  "donor_title": "scientist - cal tech",
                  "Donation totals by title": 100
                },
                {
                  "index": 675,
                  "donor_title": "ceo - paige events",
                  "Donation totals by title": 100
                },
                {
                  "index": 676,
                  "donor_title": "owner - system usa inc",
                  "Donation totals by title": 100
                },
                {
                  "index": 677,
                  "donor_title": "real estate attorney - rodriguez wright llp",
                  "Donation totals by title": 100
                },
                {
                  "index": 678,
                  "donor_title": "teacher - berkeley unified schools",
                  "Donation totals by title": 100
                },
                {
                  "index": 679,
                  "donor_title": "executive and artistic director - early music now",
                  "Donation totals by title": 100
                },
                {
                  "index": 680,
                  "donor_title": "viticulturist - e & j gallo",
                  "Donation totals by title": 100
                },
                {
                  "index": 681,
                  "donor_title": "ucsc",
                  "Donation totals by title": 100
                },
                {
                  "index": 682,
                  "donor_title": "ceo - santa cruz county chamber of commerce",
                  "Donation totals by title": 100
                },
                {
                  "index": 683,
                  "donor_title": "vp of market research - hirc",
                  "Donation totals by title": 100
                },
                {
                  "index": 684,
                  "donor_title": "quality assurance - sunopta",
                  "Donation totals by title": 100
                },
                {
                  "index": 685,
                  "donor_title": "intentional leaders business coach",
                  "Donation totals by title": 100
                },
                {
                  "index": 686,
                  "donor_title": "city council member - city of scotts valley",
                  "Donation totals by title": 100
                },
                {
                  "index": 687,
                  "donor_title": "managing director - capital for founders llc",
                  "Donation totals by title": 100
                },
                {
                  "index": 688,
                  "donor_title": "self-employed telecom",
                  "Donation totals by title": 100
                },
                {
                  "index": 689,
                  "donor_title": "program manager - apple",
                  "Donation totals by title": 100
                },
                {
                  "index": 690,
                  "donor_title": "inspector - self employed",
                  "Donation totals by title": 100
                },
                {
                  "index": 691,
                  "donor_title": "engineer - cascade engineering",
                  "Donation totals by title": 100
                },
                {
                  "index": 692,
                  "donor_title": "construction manager - blue water construction inc",
                  "Donation totals by title": 100
                },
                {
                  "index": 693,
                  "donor_title": "finance director - driscoll's",
                  "Donation totals by title": 100
                },
                {
                  "index": 694,
                  "donor_title": "administrator - usc",
                  "Donation totals by title": 100
                },
                {
                  "index": 695,
                  "donor_title": "general contractor - extraordinary doors",
                  "Donation totals by title": 100
                },
                {
                  "index": 696,
                  "donor_title": "non-profit leadership community foundation for monterey county",
                  "Donation totals by title": 90
                },
                {
                  "index": 697,
                  "donor_title": "care coordination social work - dignity health dominican hospital",
                  "Donation totals by title": 88.15
                },
                {
                  "index": 698,
                  "donor_title": "summer camp director - mountain camp",
                  "Donation totals by title": 75
                },
                {
                  "index": 699,
                  "donor_title": "care coordination social work - dignity health - dominican hospital",
                  "Donation totals by title": 52.54
                },
                {
                  "index": 700,
                  "donor_title": "director of projects & customer experience epic workshop",
                  "Donation totals by title": 52.23
                },
                {
                  "index": 701,
                  "donor_title": "executive assistant - verily life sciences",
                  "Donation totals by title": 50
                },
                {
                  "index": 702,
                  "donor_title": "consultant - mckinsey",
                  "Donation totals by title": 50
                },
                {
                  "index": 703,
                  "donor_title": "artist",
                  "Donation totals by title": 50
                },
                {
                  "index": 704,
                  "donor_title": "buddhist priest - ocean gate zen center",
                  "Donation totals by title": 50
                },
                {
                  "index": 705,
                  "donor_title": "legal manager - driscoll's inc",
                  "Donation totals by title": 50
                },
                {
                  "index": 706,
                  "donor_title": "life coach",
                  "Donation totals by title": 50
                },
                {
                  "index": 707,
                  "donor_title": "designer & metal fabricator - steel and feels",
                  "Donation totals by title": 50
                },
                {
                  "index": 708,
                  "donor_title": "designer and metal fabricator - steel and feels",
                  "Donation totals by title": 50
                },
                {
                  "index": 709,
                  "donor_title": "pilates instructor",
                  "Donation totals by title": 50
                },
                {
                  "index": 710,
                  "donor_title": "attorney",
                  "Donation totals by title": 50
                },
                {
                  "index": 711,
                  "donor_title": "broker",
                  "Donation totals by title": 50
                },
                {
                  "index": 712,
                  "donor_title": "building plans checker - county of santa cruz",
                  "Donation totals by title": 50
                },
                {
                  "index": 713,
                  "donor_title": "pilates instructor - kristina glavis",
                  "Donation totals by title": 50
                },
                {
                  "index": 714,
                  "donor_title": "senior health services manager - county of santa cruz",
                  "Donation totals by title": 50
                },
                {
                  "index": 715,
                  "donor_title": "non-profit leadership - save our shores",
                  "Donation totals by title": 50
                },
                {
                  "index": 716,
                  "donor_title": "telecommunications - infinera",
                  "Donation totals by title": 50
                },
                {
                  "index": 717,
                  "donor_title": "controller - threshold enterprises ltd",
                  "Donation totals by title": 50
                },
                {
                  "index": 718,
                  "donor_title": "acupuncture - self-employed",
                  "Donation totals by title": 35
                },
                {
                  "index": 719,
                  "donor_title": "executive director - o'neill sea odyssey",
                  "Donation totals by title": 30
                },
                {
                  "index": 720,
                  "donor_title": "director - alert driving inc.",
                  "Donation totals by title": 25
                },
                {
                  "index": 721,
                  "donor_title": "broker - william brooks",
                  "Donation totals by title": 20
                }
              ]
            }
          },
          "metadata": {}
        }
      ],
      "execution_count": null,
      "metadata": {
        "noteable": {
          "cell_type": "sql",
          "db_connection": "@2b38d1248d17413982b2e98f93c4c20e"
        },
        "dx": {
          "annotationsRulesByID": {
            "first-view": [],
            "transitory": {
              "first-view": []
            }
          },
          "dashboard": {
            "multiViews": []
          },
          "decoration": {},
          "fieldMetadata": {
            "Donation totals by title": {
              "columnPosition": 2
            },
            "Donations by title": {
              "columnPosition": 2
            },
            "donor_title": {
              "columnPosition": 3
            },
            "index": {
              "columnPosition": 1
            }
          },
          "mode": "presentation",
          "sampling": {
            "sampleSeed": 486133782193,
            "sampleSize": 10000,
            "sampleStrategy": "none"
          },
          "simpleTable": false,
          "styles": {
            "colors": []
          },
          "updated": 1655607881814,
          "views": [
            {
              "annotationRules": [],
              "chart": {
                "adjacencyList": "donor_title",
                "areaType": "hexbin",
                "barGrouping": "Clustered",
                "barProjection": "vertical",
                "barSubcategory": "none",
                "baseLayer": "world",
                "baseLayerFill": "#FFFFFF",
                "baseLayerStroke": "#000000",
                "bgColor": "none",
                "boundingSettings": {
                  "Donations by title": {
                    "lowerBoundingMetric": "none",
                    "upperBoundingMetric": "none"
                  },
                  "index": {
                    "lowerBoundingMetric": "none",
                    "upperBoundingMetric": "none"
                  }
                },
                "boundingType": "absolute",
                "boxplotOutliers": false,
                "candleClose": "Donations by title",
                "candleHigh": "Donations by title",
                "candleLow": "Donations by title",
                "candleOpen": "Donations by title",
                "candlestickMode": false,
                "combinationMode": "AVG",
                "deselectedKeysHash": {},
                "dim1": "index",
                "dim2": "donor_title",
                "dim3": "none",
                "edgeMode": "edge list",
                "facetMetrics": [],
                "filteredDataOnly": "All Data",
                "funnelData": "metric",
                "funnelMetricOrder": [
                  "index",
                  "Donations by title"
                ],
                "funnelMode": "bar",
                "hierarchyType": "dendrogram",
                "layerSettings": [
                  {
                    "color": "#000000",
                    "hoverOpts": {
                      "dims": [
                        "index",
                        "donor_title"
                      ],
                      "mets": [
                        "index",
                        "Donations by title"
                      ]
                    },
                    "id": "3a5b9960-06c2-42fa-8348-2856e110b1f5",
                    "latDim": "index",
                    "longDim": "Donations by title",
                    "pointSizeOpts": {
                      "max": 721,
                      "met": "index",
                      "min": 0,
                      "mode": "functional",
                      "scale": "Linear",
                      "size": 2,
                      "sizeMax": 10,
                      "sizeMin": 1
                    },
                    "size": 2,
                    "stroke": "#000000",
                    "strokeWidth": 1,
                    "transparency": 0.9,
                    "type": "point"
                  }
                ],
                "lineSmoothing": "none",
                "lineType": "line",
                "mapMode": "point",
                "mapZoom": "basemap",
                "marginalGraphics": "none",
                "metric1": "index",
                "metric2": "Donations by title",
                "metric3": "none",
                "metric4": "none",
                "networkLabel": "none",
                "networkType": "force",
                "parCoordsColor": "none",
                "pieceType": "bar",
                "pointBarMode": "bar",
                "primaryKey": [],
                "proBarMode": "Combined",
                "scatterplotColor": "none",
                "secondBarMetric": "none",
                "selectedDimensions": [
                  "index"
                ],
                "selectedMetrics": [],
                "showContours": false,
                "showTotal": true,
                "sortColumnsBy": "asc-val",
                "sparkchart": "none",
                "splitLinesBy": "none",
                "splomMode": "correlation",
                "summaryBins": 30,
                "summaryType": "violin",
                "surveyResponses": {
                  "negative": [],
                  "neutral": [],
                  "positive": []
                },
                "timeseriesSort": "none",
                "tokenMetric": "Donations by title",
                "trendLine": "none",
                "violinIQR": false
              },
              "chartMode": "grid",
              "decoration": {
                "footer": "",
                "subtitle": "",
                "title": "Table"
              },
              "filterSettings": {
                "SHOW_FILTER_PANEL": true,
                "filters": []
              },
              "id": "first-view",
              "isDefault": true,
              "type": "public",
              "userID": ""
            },
            {
              "annotationRules": [],
              "chart": {
                "adjacencyList": "donor_title",
                "areaType": "hexbin",
                "barGrouping": "Clustered",
                "barProjection": "vertical",
                "barSubcategory": "none",
                "baseLayer": "world",
                "baseLayerFill": "#FFFFFF",
                "baseLayerStroke": "#000000",
                "bgColor": "none",
                "boundingSettings": {
                  "Donations by title": {
                    "lowerBoundingMetric": "none",
                    "upperBoundingMetric": "none"
                  },
                  "index": {
                    "lowerBoundingMetric": "none",
                    "upperBoundingMetric": "none"
                  }
                },
                "boundingType": "absolute",
                "boxplotOutliers": false,
                "candleClose": "Donations by title",
                "candleHigh": "Donations by title",
                "candleLow": "Donations by title",
                "candleOpen": "Donations by title",
                "candlestickMode": false,
                "combinationMode": "AVG",
                "deselectedKeysHash": {},
                "dim1": "donor_title",
                "dim2": "donor_title",
                "dim3": "none",
                "edgeMode": "edge list",
                "facetMetrics": [],
                "filteredDataOnly": "All Data",
                "funnelData": "metric",
                "funnelMetricOrder": [
                  "index",
                  "Donations by title"
                ],
                "funnelMode": "bar",
                "hierarchyType": "dendrogram",
                "layerSettings": [
                  {
                    "color": "#000000",
                    "hoverOpts": {
                      "dims": [
                        "index",
                        "donor_title"
                      ],
                      "mets": [
                        "index",
                        "Donations by title"
                      ]
                    },
                    "id": "3a5b9960-06c2-42fa-8348-2856e110b1f5",
                    "latDim": "index",
                    "longDim": "Donations by title",
                    "pointSizeOpts": {
                      "max": 721,
                      "met": "index",
                      "min": 0,
                      "mode": "functional",
                      "scale": "Linear",
                      "size": 2,
                      "sizeMax": 10,
                      "sizeMin": 1
                    },
                    "size": 2,
                    "stroke": "#000000",
                    "strokeWidth": 1,
                    "transparency": 0.9,
                    "type": "point"
                  }
                ],
                "lineSmoothing": "none",
                "lineType": "line",
                "mapMode": "point",
                "mapZoom": "basemap",
                "marginalGraphics": "none",
                "metric1": "Donation totals by title",
                "metric2": "Donations by title",
                "metric3": "none",
                "metric4": "none",
                "networkLabel": "none",
                "networkType": "force",
                "parCoordsColor": "none",
                "pieceType": "bar",
                "pointBarMode": "bar",
                "primaryKey": [],
                "proBarMode": "Combined",
                "scatterplotColor": "none",
                "secondBarMetric": "none",
                "selectedDimensions": [
                  "index"
                ],
                "selectedMetrics": [],
                "showContours": false,
                "showTotal": true,
                "sortColumnsBy": "desc-val",
                "sparkchart": "none",
                "splitLinesBy": "none",
                "splomMode": "correlation",
                "summaryBins": 30,
                "summaryType": "scatter",
                "surveyResponses": {
                  "negative": [],
                  "neutral": [],
                  "positive": []
                },
                "timeseriesSort": "none",
                "tokenMetric": "Donations by title",
                "trendLine": "none",
                "violinIQR": false
              },
              "chartMode": "bar",
              "confoRules": [
                {
                  "colorOpts": {
                    "color": null,
                    "colorsHash": null,
                    "cond": null,
                    "gradient": "Turbo",
                    "max": 73460,
                    "min": 20,
                    "mode": "gradient",
                    "scale": "Linear",
                    "thresholdColors": null,
                    "thresholdValues": null
                  },
                  "columnType": "Metric",
                  "fieldName": "Donations by title",
                  "id": "0e72c4c1-8080-4f96-b729-a893c988c8c0",
                  "index": 0,
                  "name": ""
                },
                {
                  "colorOpts": {
                    "color": null,
                    "colorsHash": null,
                    "cond": null,
                    "gradient": "Turbo",
                    "max": 73460,
                    "min": 20,
                    "mode": "gradient",
                    "scale": "Linear",
                    "thresholdColors": null,
                    "thresholdValues": null
                  },
                  "columnType": "Metric",
                  "fieldName": "Donation totals by title",
                  "id": "41b84c4a-f8ab-4fe9-907a-7b130dc3e765",
                  "index": 1,
                  "name": ""
                }
              ],
              "decoration": {
                "footer": "",
                "subtitle": "",
                "title": "Donation Totals By Job Title"
              },
              "filterSettings": {
                "SHOW_FILTER_PANEL": false,
                "filters": [
                  {
                    "column": "index",
                    "filterOrder": 1,
                    "predicate": "between",
                    "type": "METRIC_FILTER",
                    "value": [
                      0,
                      5
                    ]
                  }
                ]
              },
              "id": "first-view",
              "isComment": false,
              "isDefault": true,
              "isTransitory": true,
              "type": "public",
              "userID": ""
            }
          ]
        },
        "jupyter": {
          "source_hidden": true,
          "outputs_hidden": false
        }
      },
      "id": "712fd4d6-b1dd-4299-a17e-9166a60403c2"
    },
    {
      "cell_type": "code",
      "source": [
        "%%sql @2b38d1248d17413982b2e98f93c4c20e\n",
        "select\n",
        "    case\n",
        "        when donor_title like 'self-employed%' then 'self-imployed (all)'\n",
        "        else coalesce(donor_title, 'corp or pac')\n",
        "    end as donor_title,\n",
        "count(*) as \"Donations by title\"\n",
        "from donations\n",
        "where amount is not null\n",
        "group by 1\n",
        "order by 2 desc"
      ],
      "outputs": [
        {
          "output_type": "execute_result",
          "execution_count": 48,
          "data": {
            "application/vnd.dataresource+json": {
              "schema": {
                "fields": [
                  {
                    "name": "index",
                    "type": "integer"
                  },
                  {
                    "name": "donor_title",
                    "type": "string"
                  },
                  {
                    "name": "Donations by title",
                    "type": "integer"
                  }
                ],
                "primaryKey": [
                  "index"
                ],
                "pandas_version": "1.4.0"
              },
              "data": [
                {
                  "index": 0,
                  "donor_title": "retired",
                  "Donations by title": 405
                },
                {
                  "index": 1,
                  "donor_title": "unemployed",
                  "Donations by title": 144
                },
                {
                  "index": 2,
                  "donor_title": "self-imployed (all)",
                  "Donations by title": 98
                },
                {
                  "index": 3,
                  "donor_title": "corp or pac",
                  "Donations by title": 26
                },
                {
                  "index": 4,
                  "donor_title": "unknown",
                  "Donations by title": 9
                },
                {
                  "index": 5,
                  "donor_title": "lecturer - ucsc",
                  "Donations by title": 6
                },
                {
                  "index": 6,
                  "donor_title": "realtor",
                  "Donations by title": 6
                },
                {
                  "index": 7,
                  "donor_title": "educator - ucsc",
                  "Donations by title": 5
                },
                {
                  "index": 8,
                  "donor_title": "professor - san jose state university",
                  "Donations by title": 5
                },
                {
                  "index": 9,
                  "donor_title": "program manager - google",
                  "Donations by title": 5
                },
                {
                  "index": 10,
                  "donor_title": "id# 890106",
                  "Donations by title": 4
                },
                {
                  "index": 11,
                  "donor_title": "id# 850048",
                  "Donations by title": 4
                },
                {
                  "index": 12,
                  "donor_title": "anesthesiologist - amgsc",
                  "Donations by title": 4
                },
                {
                  "index": 13,
                  "donor_title": "scientist - driscoll's",
                  "Donations by title": 4
                },
                {
                  "index": 14,
                  "donor_title": "attorney - brereton law office",
                  "Donations by title": 4
                },
                {
                  "index": 15,
                  "donor_title": "professor - ucsc",
                  "Donations by title": 4
                },
                {
                  "index": 16,
                  "donor_title": "city councilmember - city of santa cruz",
                  "Donations by title": 4
                },
                {
                  "index": 17,
                  "donor_title": "executive director - santa cruz county business council",
                  "Donations by title": 4
                },
                {
                  "index": 18,
                  "donor_title": "realtor - lighthouse realty",
                  "Donations by title": 4
                },
                {
                  "index": 19,
                  "donor_title": "id# 1427239",
                  "Donations by title": 4
                },
                {
                  "index": 20,
                  "donor_title": "councilmember - city of santa cruz",
                  "Donations by title": 4
                },
                {
                  "index": 21,
                  "donor_title": "union rep/organizer - seiu-uhw",
                  "Donations by title": 4
                },
                {
                  "index": 22,
                  "donor_title": "grand juror - scco",
                  "Donations by title": 4
                },
                {
                  "index": 23,
                  "donor_title": "id# 972104",
                  "Donations by title": 3
                },
                {
                  "index": 24,
                  "donor_title": "president - santa cruz seaside company",
                  "Donations by title": 3
                },
                {
                  "index": 25,
                  "donor_title": "homemaker",
                  "Donations by title": 3
                },
                {
                  "index": 26,
                  "donor_title": "id# 910629",
                  "Donations by title": 3
                },
                {
                  "index": 27,
                  "donor_title": "property management",
                  "Donations by title": 3
                },
                {
                  "index": 28,
                  "donor_title": "teacher - santa cruz city schools",
                  "Donations by title": 3
                },
                {
                  "index": 29,
                  "donor_title": "teacher - saratoga union sd",
                  "Donations by title": 3
                },
                {
                  "index": 30,
                  "donor_title": "rn - dominican hospital",
                  "Donations by title": 3
                },
                {
                  "index": 31,
                  "donor_title": "id# 1390568",
                  "Donations by title": 3
                },
                {
                  "index": 32,
                  "donor_title": "id# 747285",
                  "Donations by title": 3
                },
                {
                  "index": 33,
                  "donor_title": "owner - bookshop santa cruz",
                  "Donations by title": 3
                },
                {
                  "index": 34,
                  "donor_title": "educator - alum rock school district",
                  "Donations by title": 3
                },
                {
                  "index": 35,
                  "donor_title": "attorney - google",
                  "Donations by title": 3
                },
                {
                  "index": 36,
                  "donor_title": "host - downtown association",
                  "Donations by title": 3
                },
                {
                  "index": 37,
                  "donor_title": "public health nurse - county of santa cruz",
                  "Donations by title": 3
                },
                {
                  "index": 38,
                  "donor_title": "physician",
                  "Donations by title": 3
                },
                {
                  "index": 39,
                  "donor_title": "dining marketing coordinator - ucsc",
                  "Donations by title": 3
                },
                {
                  "index": 40,
                  "donor_title": "id# 1306050",
                  "Donations by title": 3
                },
                {
                  "index": 41,
                  "donor_title": "alumni officer - ucsc",
                  "Donations by title": 3
                },
                {
                  "index": 42,
                  "donor_title": "category designer - play bigger",
                  "Donations by title": 3
                },
                {
                  "index": 43,
                  "donor_title": "farmer - strong agronomy",
                  "Donations by title": 3
                },
                {
                  "index": 44,
                  "donor_title": "id# 850381",
                  "Donations by title": 3
                },
                {
                  "index": 45,
                  "donor_title": "teacher - santa cruz high school",
                  "Donations by title": 3
                },
                {
                  "index": 46,
                  "donor_title": "ceo - viva transcription",
                  "Donations by title": 3
                },
                {
                  "index": 47,
                  "donor_title": "teacher - pajaro valley unified school district",
                  "Donations by title": 3
                },
                {
                  "index": 48,
                  "donor_title": "business owner - pacific cookie company",
                  "Donations by title": 2
                },
                {
                  "index": 49,
                  "donor_title": "id# 1359198",
                  "Donations by title": 2
                },
                {
                  "index": 50,
                  "donor_title": "executive director/ceo - ccof",
                  "Donations by title": 2
                },
                {
                  "index": 51,
                  "donor_title": "director of projects & customer experience - epic workshop",
                  "Donations by title": 2
                },
                {
                  "index": 52,
                  "donor_title": "professor - institute of buddhist studies",
                  "Donations by title": 2
                },
                {
                  "index": 53,
                  "donor_title": "software engineer - machine zone",
                  "Donations by title": 2
                },
                {
                  "index": 54,
                  "donor_title": "business owner",
                  "Donations by title": 2
                },
                {
                  "index": 55,
                  "donor_title": "county board of supervisors - santa cruz county",
                  "Donations by title": 2
                },
                {
                  "index": 56,
                  "donor_title": "landlord",
                  "Donations by title": 2
                },
                {
                  "index": 57,
                  "donor_title": "county supervisor - county of santa cruz",
                  "Donations by title": 2
                },
                {
                  "index": 58,
                  "donor_title": "research scientist - driscoll's",
                  "Donations by title": 2
                },
                {
                  "index": 59,
                  "donor_title": "union representative - seiu-uhw",
                  "Donations by title": 2
                },
                {
                  "index": 60,
                  "donor_title": "attorney - littler mendelson",
                  "Donations by title": 2
                },
                {
                  "index": 61,
                  "donor_title": "dentist",
                  "Donations by title": 2
                },
                {
                  "index": 62,
                  "donor_title": "executive director, santa cruz works",
                  "Donations by title": 2
                },
                {
                  "index": 63,
                  "donor_title": "social worker - county of santa cruz",
                  "Donations by title": 2
                },
                {
                  "index": 64,
                  "donor_title": "editor - common sense of media",
                  "Donations by title": 2
                },
                {
                  "index": 65,
                  "donor_title": "teacher - ucsc",
                  "Donations by title": 2
                },
                {
                  "index": 66,
                  "donor_title": "professor emeritus - ucsc",
                  "Donations by title": 2
                },
                {
                  "index": 67,
                  "donor_title": "educator - fuhsd",
                  "Donations by title": 2
                },
                {
                  "index": 68,
                  "donor_title": "consultant - clifton doolin consultants",
                  "Donations by title": 2
                },
                {
                  "index": 69,
                  "donor_title": "fema reservist - fema",
                  "Donations by title": 2
                },
                {
                  "index": 70,
                  "donor_title": "ceo, santa cruz community health centers",
                  "Donations by title": 2
                },
                {
                  "index": 71,
                  "donor_title": "communications - city of santa cruz",
                  "Donations by title": 2
                },
                {
                  "index": 72,
                  "donor_title": "coo - bizfed",
                  "Donations by title": 2
                },
                {
                  "index": 73,
                  "donor_title": "director - kitchen table advisors",
                  "Donations by title": 2
                },
                {
                  "index": 74,
                  "donor_title": "executive director - romero institute",
                  "Donations by title": 2
                },
                {
                  "index": 75,
                  "donor_title": "owner - blue belly farms",
                  "Donations by title": 2
                },
                {
                  "index": 76,
                  "donor_title": "care coordination social work - dignity health dominican hospital",
                  "Donations by title": 2
                },
                {
                  "index": 77,
                  "donor_title": "senior tax specialist - hr block",
                  "Donations by title": 2
                },
                {
                  "index": 78,
                  "donor_title": "attorney - pamf",
                  "Donations by title": 2
                },
                {
                  "index": 79,
                  "donor_title": "real estate agent - cushman & wakefield",
                  "Donations by title": 2
                },
                {
                  "index": 80,
                  "donor_title": "attorney - self-employed",
                  "Donations by title": 2
                },
                {
                  "index": 81,
                  "donor_title": "intern coordinator - ucsc",
                  "Donations by title": 2
                },
                {
                  "index": 82,
                  "donor_title": "id# 1360850",
                  "Donations by title": 2
                },
                {
                  "index": 83,
                  "donor_title": "non-profit professional - sustainable agriculture & food systems funders",
                  "Donations by title": 2
                },
                {
                  "index": 84,
                  "donor_title": "rn - dignity health",
                  "Donations by title": 2
                },
                {
                  "index": 85,
                  "donor_title": "financial advisor - wavecrest wealth management",
                  "Donations by title": 2
                },
                {
                  "index": 86,
                  "donor_title": "sales - synergy organic clothing",
                  "Donations by title": 2
                },
                {
                  "index": 87,
                  "donor_title": "cpa - petrinovich pugh & company llp",
                  "Donations by title": 2
                },
                {
                  "index": 88,
                  "donor_title": "city problem solver - management partners",
                  "Donations by title": 2
                },
                {
                  "index": 89,
                  "donor_title": "lawyer - meditation & law office of emily dubois, esq",
                  "Donations by title": 2
                },
                {
                  "index": 90,
                  "donor_title": "power engineer - mki",
                  "Donations by title": 2
                },
                {
                  "index": 91,
                  "donor_title": "unkown",
                  "Donations by title": 2
                },
                {
                  "index": 92,
                  "donor_title": "public health planner - san mateo county",
                  "Donations by title": 2
                },
                {
                  "index": 93,
                  "donor_title": "dentist - david montgomery",
                  "Donations by title": 2
                },
                {
                  "index": 94,
                  "donor_title": "consultant - dba carrie lopez",
                  "Donations by title": 2
                },
                {
                  "index": 95,
                  "donor_title": "id# 1423339",
                  "Donations by title": 2
                },
                {
                  "index": 96,
                  "donor_title": "ukn",
                  "Donations by title": 2
                },
                {
                  "index": 97,
                  "donor_title": "teacher - santa cruz city schools district",
                  "Donations by title": 2
                },
                {
                  "index": 98,
                  "donor_title": "administrator - the appleton foundation",
                  "Donations by title": 2
                },
                {
                  "index": 99,
                  "donor_title": "construction inspector - self-employed",
                  "Donations by title": 2
                },
                {
                  "index": 100,
                  "donor_title": "public relations - ucsc",
                  "Donations by title": 2
                },
                {
                  "index": 101,
                  "donor_title": "senior software engineer - netflix",
                  "Donations by title": 2
                },
                {
                  "index": 102,
                  "donor_title": "care coordination social work - dignity health - dominican hospital",
                  "Donations by title": 2
                },
                {
                  "index": 103,
                  "donor_title": "santa cruz county supervisor",
                  "Donations by title": 2
                },
                {
                  "index": 104,
                  "donor_title": "owner - santa cruz naturals",
                  "Donations by title": 2
                },
                {
                  "index": 105,
                  "donor_title": "id# c00001636",
                  "Donations by title": 2
                },
                {
                  "index": 106,
                  "donor_title": "educator - self-employed",
                  "Donations by title": 2
                },
                {
                  "index": 107,
                  "donor_title": "id# 1244975",
                  "Donations by title": 2
                },
                {
                  "index": 108,
                  "donor_title": "foundation director - ccof foundation",
                  "Donations by title": 2
                },
                {
                  "index": 109,
                  "donor_title": "software engineer - netflix",
                  "Donations by title": 2
                },
                {
                  "index": 110,
                  "donor_title": "estimator - earthworks paving contractors",
                  "Donations by title": 2
                },
                {
                  "index": 111,
                  "donor_title": "accountant - hr block",
                  "Donations by title": 2
                },
                {
                  "index": 112,
                  "donor_title": "superintendent - santa cruz county office of education",
                  "Donations by title": 2
                },
                {
                  "index": 113,
                  "donor_title": "attorney - brereton law office apc",
                  "Donations by title": 2
                },
                {
                  "index": 114,
                  "donor_title": "administrator - salud para la gente",
                  "Donations by title": 2
                },
                {
                  "index": 115,
                  "donor_title": "consultant - self-employed",
                  "Donations by title": 2
                },
                {
                  "index": 116,
                  "donor_title": "program manager - waymo",
                  "Donations by title": 1
                },
                {
                  "index": 117,
                  "donor_title": "bookshop sc owner",
                  "Donations by title": 1
                },
                {
                  "index": 118,
                  "donor_title": "sr water resources specialist - santa clara valley water district",
                  "Donations by title": 1
                },
                {
                  "index": 119,
                  "donor_title": "legal assistant",
                  "Donations by title": 1
                },
                {
                  "index": 120,
                  "donor_title": "property manager - sue vaudagna",
                  "Donations by title": 1
                },
                {
                  "index": 121,
                  "donor_title": "lawyer - self employed",
                  "Donations by title": 1
                },
                {
                  "index": 122,
                  "donor_title": "consultant - pinnacle strategy inc",
                  "Donations by title": 1
                },
                {
                  "index": 123,
                  "donor_title": "printer - business owner",
                  "Donations by title": 1
                },
                {
                  "index": 124,
                  "donor_title": "consultant - deloitte",
                  "Donations by title": 1
                },
                {
                  "index": 125,
                  "donor_title": "stagehand - live nation",
                  "Donations by title": 1
                },
                {
                  "index": 126,
                  "donor_title": "physician - pamf",
                  "Donations by title": 1
                },
                {
                  "index": 127,
                  "donor_title": "founder - clifton-doolin",
                  "Donations by title": 1
                },
                {
                  "index": 128,
                  "donor_title": "oceanographer emeritus - usgs",
                  "Donations by title": 1
                },
                {
                  "index": 129,
                  "donor_title": "executive administrator - encompass community services",
                  "Donations by title": 1
                },
                {
                  "index": 130,
                  "donor_title": "real estate - better place forests co.",
                  "Donations by title": 1
                },
                {
                  "index": 131,
                  "donor_title": "educator - self employed",
                  "Donations by title": 1
                },
                {
                  "index": 132,
                  "donor_title": "engineer - underwriters laboratories inc",
                  "Donations by title": 1
                },
                {
                  "index": 133,
                  "donor_title": "chief product officer - 2ndnature software inc",
                  "Donations by title": 1
                },
                {
                  "index": 134,
                  "donor_title": "cost analyst - smith & vandiver",
                  "Donations by title": 1
                },
                {
                  "index": 135,
                  "donor_title": "photographer - dba stacey herzing",
                  "Donations by title": 1
                },
                {
                  "index": 136,
                  "donor_title": "legislation advocate - kp public affairs",
                  "Donations by title": 1
                },
                {
                  "index": 137,
                  "donor_title": "life sciences sustainability specialist - ingenium",
                  "Donations by title": 1
                },
                {
                  "index": 138,
                  "donor_title": "president/insurance broker - kbk insurance",
                  "Donations by title": 1
                },
                {
                  "index": 139,
                  "donor_title": "marketing - channel impact",
                  "Donations by title": 1
                },
                {
                  "index": 140,
                  "donor_title": "director - alert driving inc.",
                  "Donations by title": 1
                },
                {
                  "index": 141,
                  "donor_title": "doctor - monterey county",
                  "Donations by title": 1
                },
                {
                  "index": 142,
                  "donor_title": "watershed restoration - confluence restoration",
                  "Donations by title": 1
                },
                {
                  "index": 143,
                  "donor_title": "orthodontist",
                  "Donations by title": 1
                },
                {
                  "index": 144,
                  "donor_title": "dean of research, planning, and institutional effectiveness - cabrillo college",
                  "Donations by title": 1
                },
                {
                  "index": 145,
                  "donor_title": "id# 1406545",
                  "Donations by title": 1
                },
                {
                  "index": 146,
                  "donor_title": "realtor/developer - intero real estate",
                  "Donations by title": 1
                },
                {
                  "index": 147,
                  "donor_title": "campaign manager - friends of john leopold 2020",
                  "Donations by title": 1
                },
                {
                  "index": 148,
                  "donor_title": "surgeon - palo alto medical foundation",
                  "Donations by title": 1
                },
                {
                  "index": 149,
                  "donor_title": "sushi chef - imuras",
                  "Donations by title": 1
                },
                {
                  "index": 150,
                  "donor_title": "dental hygienist - cabrillo college",
                  "Donations by title": 1
                },
                {
                  "index": 151,
                  "donor_title": "shift manager - starbuck's",
                  "Donations by title": 1
                },
                {
                  "index": 152,
                  "donor_title": "owner - culinary enterprise inc",
                  "Donations by title": 1
                },
                {
                  "index": 153,
                  "donor_title": "doctor - kaiser",
                  "Donations by title": 1
                },
                {
                  "index": 154,
                  "donor_title": "acupuncture - self-employed",
                  "Donations by title": 1
                },
                {
                  "index": 155,
                  "donor_title": "id# 1407266",
                  "Donations by title": 1
                },
                {
                  "index": 156,
                  "donor_title": "id# 1414254",
                  "Donations by title": 1
                },
                {
                  "index": 157,
                  "donor_title": "housing developer - envision housing",
                  "Donations by title": 1
                },
                {
                  "index": 158,
                  "donor_title": "co-founder - l37 ventures",
                  "Donations by title": 1
                },
                {
                  "index": 159,
                  "donor_title": "dentist - smiles on bristol",
                  "Donations by title": 1
                },
                {
                  "index": 160,
                  "donor_title": "attorney - emily j buchbinder, apc",
                  "Donations by title": 1
                },
                {
                  "index": 161,
                  "donor_title": "faculty - panetta institute",
                  "Donations by title": 1
                },
                {
                  "index": 162,
                  "donor_title": "owner - paradigm sport",
                  "Donations by title": 1
                },
                {
                  "index": 163,
                  "donor_title": "developer, manager - ow family management",
                  "Donations by title": 1
                },
                {
                  "index": 164,
                  "donor_title": "scientist",
                  "Donations by title": 1
                },
                {
                  "index": 165,
                  "donor_title": "scientist - immunity bio",
                  "Donations by title": 1
                },
                {
                  "index": 166,
                  "donor_title": "sales - pv printing",
                  "Donations by title": 1
                },
                {
                  "index": 167,
                  "donor_title": "business owner - cafe rio",
                  "Donations by title": 1
                },
                {
                  "index": 168,
                  "donor_title": "doctor - camp lowell medical specialists",
                  "Donations by title": 1
                },
                {
                  "index": 169,
                  "donor_title": "cre agent - cushman & wakefield",
                  "Donations by title": 1
                },
                {
                  "index": 170,
                  "donor_title": "manager - amazon",
                  "Donations by title": 1
                },
                {
                  "index": 171,
                  "donor_title": "designer and metal fabricator - steel and feels",
                  "Donations by title": 1
                },
                {
                  "index": 172,
                  "donor_title": "university instructor - san jose state university",
                  "Donations by title": 1
                },
                {
                  "index": 173,
                  "donor_title": "cultivation administrator - purple lotus patient center",
                  "Donations by title": 1
                },
                {
                  "index": 174,
                  "donor_title": "investor - sds nexgen partners",
                  "Donations by title": 1
                },
                {
                  "index": 175,
                  "donor_title": "maintenance - pvusd",
                  "Donations by title": 1
                },
                {
                  "index": 176,
                  "donor_title": "internal video producer & videographer - multivista",
                  "Donations by title": 1
                },
                {
                  "index": 177,
                  "donor_title": "producer - thriveon.com",
                  "Donations by title": 1
                },
                {
                  "index": 178,
                  "donor_title": "zentrepreneur",
                  "Donations by title": 1
                },
                {
                  "index": 179,
                  "donor_title": "environmental engineer - integral consulting",
                  "Donations by title": 1
                },
                {
                  "index": 180,
                  "donor_title": "financial advisor - money concepts capital",
                  "Donations by title": 1
                },
                {
                  "index": 181,
                  "donor_title": "professor - university of california",
                  "Donations by title": 1
                },
                {
                  "index": 182,
                  "donor_title": "it project manager - s/e sarah castro",
                  "Donations by title": 1
                },
                {
                  "index": 183,
                  "donor_title": "school nurse - santa cruz county office of education",
                  "Donations by title": 1
                },
                {
                  "index": 184,
                  "donor_title": "legislative advocate - los angeles unified school district",
                  "Donations by title": 1
                },
                {
                  "index": 185,
                  "donor_title": "professor of history, emeritus, ucsc",
                  "Donations by title": 1
                },
                {
                  "index": 186,
                  "donor_title": "real estate agent - exp realty",
                  "Donations by title": 1
                },
                {
                  "index": 187,
                  "donor_title": "lawyer - self-employed",
                  "Donations by title": 1
                },
                {
                  "index": 188,
                  "donor_title": "landscape architect - mark wegrich",
                  "Donations by title": 1
                },
                {
                  "index": 189,
                  "donor_title": "chief of staff - city of san jose",
                  "Donations by title": 1
                },
                {
                  "index": 190,
                  "donor_title": "senior advisor - legrand north america",
                  "Donations by title": 1
                },
                {
                  "index": 191,
                  "donor_title": "attorney - wlc watsonville law center",
                  "Donations by title": 1
                },
                {
                  "index": 192,
                  "donor_title": "vice president of sales & operations - antares audio technologies",
                  "Donations by title": 1
                },
                {
                  "index": 193,
                  "donor_title": "general contractor - extraordinary doors, inc",
                  "Donations by title": 1
                },
                {
                  "index": 194,
                  "donor_title": "id# e00315",
                  "Donations by title": 1
                },
                {
                  "index": 195,
                  "donor_title": "owner - the engine room",
                  "Donations by title": 1
                },
                {
                  "index": 196,
                  "donor_title": "writer - s/e jacqueline faber",
                  "Donations by title": 1
                },
                {
                  "index": 197,
                  "donor_title": "vp - santa cruz seaside company",
                  "Donations by title": 1
                },
                {
                  "index": 198,
                  "donor_title": "non-profit leadership community foundation for monterey county",
                  "Donations by title": 1
                },
                {
                  "index": 199,
                  "donor_title": "consultant - california strategies",
                  "Donations by title": 1
                },
                {
                  "index": 200,
                  "donor_title": "accountant - city of santa cruz",
                  "Donations by title": 1
                },
                {
                  "index": 201,
                  "donor_title": "cto personal airline exchange",
                  "Donations by title": 1
                },
                {
                  "index": 202,
                  "donor_title": "green building professional - bright green strategies, inc",
                  "Donations by title": 1
                },
                {
                  "index": 203,
                  "donor_title": "sales - lowes",
                  "Donations by title": 1
                },
                {
                  "index": 204,
                  "donor_title": "designer & metal fabricator - steel and feels",
                  "Donations by title": 1
                },
                {
                  "index": 205,
                  "donor_title": "property manager - the walt eller company",
                  "Donations by title": 1
                },
                {
                  "index": 206,
                  "donor_title": "architect - better place forests co",
                  "Donations by title": 1
                },
                {
                  "index": 207,
                  "donor_title": "sales pv printing",
                  "Donations by title": 1
                },
                {
                  "index": 208,
                  "donor_title": "sr manager - better place forests co",
                  "Donations by title": 1
                },
                {
                  "index": 209,
                  "donor_title": "software engineer",
                  "Donations by title": 1
                },
                {
                  "index": 210,
                  "donor_title": "nurse practitioner - planned parenthood",
                  "Donations by title": 1
                },
                {
                  "index": 211,
                  "donor_title": "ceo - codestringers",
                  "Donations by title": 1
                },
                {
                  "index": 212,
                  "donor_title": "land developer - ow family",
                  "Donations by title": 1
                },
                {
                  "index": 213,
                  "donor_title": "research toxicologist - uc davis",
                  "Donations by title": 1
                },
                {
                  "index": 214,
                  "donor_title": "owner - sacramento european",
                  "Donations by title": 1
                },
                {
                  "index": 215,
                  "donor_title": "consultant - s/e david miryabianeh",
                  "Donations by title": 1
                },
                {
                  "index": 216,
                  "donor_title": "teacher - sccs",
                  "Donations by title": 1
                },
                {
                  "index": 217,
                  "donor_title": "field production manager - ucsc center of agroecology and sustainable food systems",
                  "Donations by title": 1
                },
                {
                  "index": 218,
                  "donor_title": "business owner - annieglass",
                  "Donations by title": 1
                },
                {
                  "index": 219,
                  "donor_title": "realtor - tri-county real estate associates inc",
                  "Donations by title": 1
                },
                {
                  "index": 220,
                  "donor_title": "digital strategy - chime interactive",
                  "Donations by title": 1
                },
                {
                  "index": 221,
                  "donor_title": "attorney - wittwer parkin",
                  "Donations by title": 1
                },
                {
                  "index": 222,
                  "donor_title": "construction contractor - s/e tahereh abbaszadeh",
                  "Donations by title": 1
                },
                {
                  "index": 223,
                  "donor_title": "managing director - d.e. shaw & co.",
                  "Donations by title": 1
                },
                {
                  "index": 224,
                  "donor_title": "property manager/sr vp - john stewart co.",
                  "Donations by title": 1
                },
                {
                  "index": 225,
                  "donor_title": "universal life",
                  "Donations by title": 1
                },
                {
                  "index": 226,
                  "donor_title": "business owner - dennis norton design",
                  "Donations by title": 1
                },
                {
                  "index": 227,
                  "donor_title": "human resources - arcadia unified school district",
                  "Donations by title": 1
                },
                {
                  "index": 228,
                  "donor_title": "ceo - pacific cookie co.",
                  "Donations by title": 1
                },
                {
                  "index": 229,
                  "donor_title": "research professor & family law mediator - howard hugh medical inst.",
                  "Donations by title": 1
                },
                {
                  "index": 230,
                  "donor_title": "attorney - baskin & fowler inc",
                  "Donations by title": 1
                },
                {
                  "index": 231,
                  "donor_title": "manager - havermawr inc",
                  "Donations by title": 1
                },
                {
                  "index": 232,
                  "donor_title": "farmer - strong agronomy management, inc",
                  "Donations by title": 1
                },
                {
                  "index": 233,
                  "donor_title": "vp - sales & marketing - digital dynamics inc",
                  "Donations by title": 1
                },
                {
                  "index": 234,
                  "donor_title": "executive director - o'neill sea odyssey",
                  "Donations by title": 1
                },
                {
                  "index": 235,
                  "donor_title": "computer analyst - dba mark tarantino",
                  "Donations by title": 1
                },
                {
                  "index": 236,
                  "donor_title": "politician - city of watsonville",
                  "Donations by title": 1
                },
                {
                  "index": 237,
                  "donor_title": "consultant - self-employment",
                  "Donations by title": 1
                },
                {
                  "index": 238,
                  "donor_title": "development director - ucsc",
                  "Donations by title": 1
                },
                {
                  "index": 239,
                  "donor_title": "neonatologist - ebns",
                  "Donations by title": 1
                },
                {
                  "index": 240,
                  "donor_title": "leave assistant - ucsc",
                  "Donations by title": 1
                },
                {
                  "index": 241,
                  "donor_title": "professor - csumb",
                  "Donations by title": 1
                },
                {
                  "index": 242,
                  "donor_title": "county supervisor - santa cruz county",
                  "Donations by title": 1
                },
                {
                  "index": 243,
                  "donor_title": "executive director - el pajaro cdc",
                  "Donations by title": 1
                },
                {
                  "index": 244,
                  "donor_title": "executive vice president - bloom energy",
                  "Donations by title": 1
                },
                {
                  "index": 245,
                  "donor_title": "land use consultant - lawlor land use consulting",
                  "Donations by title": 1
                },
                {
                  "index": 246,
                  "donor_title": "accountant - pizza guys inc",
                  "Donations by title": 1
                },
                {
                  "index": 247,
                  "donor_title": "professor - san francisco state university",
                  "Donations by title": 1
                },
                {
                  "index": 248,
                  "donor_title": "environmental scientist emeritus - usgs",
                  "Donations by title": 1
                },
                {
                  "index": 249,
                  "donor_title": "landlord - william cook",
                  "Donations by title": 1
                },
                {
                  "index": 250,
                  "donor_title": "founder/ceo - erik's deli cafe, inc",
                  "Donations by title": 1
                },
                {
                  "index": 251,
                  "donor_title": "economist - us bureau of labor statistics",
                  "Donations by title": 1
                },
                {
                  "index": 252,
                  "donor_title": "owner - zoccoli's deli",
                  "Donations by title": 1
                },
                {
                  "index": 253,
                  "donor_title": "summer camp director - mountain camp",
                  "Donations by title": 1
                },
                {
                  "index": 254,
                  "donor_title": "ceo - sc beach boardwalk",
                  "Donations by title": 1
                },
                {
                  "index": 255,
                  "donor_title": "engineer - levig design group",
                  "Donations by title": 1
                },
                {
                  "index": 256,
                  "donor_title": "interior designer - hembuzz inc",
                  "Donations by title": 1
                },
                {
                  "index": 257,
                  "donor_title": "clinical lab scientist - dominican hospital",
                  "Donations by title": 1
                },
                {
                  "index": 258,
                  "donor_title": "engineer - google",
                  "Donations by title": 1
                },
                {
                  "index": 259,
                  "donor_title": "lawyer - techsea law",
                  "Donations by title": 1
                },
                {
                  "index": 260,
                  "donor_title": "construction - bogard consturction",
                  "Donations by title": 1
                },
                {
                  "index": 261,
                  "donor_title": "respiratory therapist - dominican hospital",
                  "Donations by title": 1
                },
                {
                  "index": 262,
                  "donor_title": "executive director - california certified organic farmers",
                  "Donations by title": 1
                },
                {
                  "index": 263,
                  "donor_title": "ceo - pgf inc",
                  "Donations by title": 1
                },
                {
                  "index": 264,
                  "donor_title": "owner - the summit store",
                  "Donations by title": 1
                },
                {
                  "index": 265,
                  "donor_title": "vp - adobe systems",
                  "Donations by title": 1
                },
                {
                  "index": 266,
                  "donor_title": "store owner - artisans & agency",
                  "Donations by title": 1
                },
                {
                  "index": 267,
                  "donor_title": "executive director - mobility fitness",
                  "Donations by title": 1
                },
                {
                  "index": 268,
                  "donor_title": "contractor - self employed",
                  "Donations by title": 1
                },
                {
                  "index": 269,
                  "donor_title": "consultant - management partners",
                  "Donations by title": 1
                },
                {
                  "index": 270,
                  "donor_title": "id# 1343208",
                  "Donations by title": 1
                },
                {
                  "index": 271,
                  "donor_title": "attorney - baskin and fowler",
                  "Donations by title": 1
                },
                {
                  "index": 272,
                  "donor_title": "legal manager - driscoll's inc",
                  "Donations by title": 1
                },
                {
                  "index": 273,
                  "donor_title": "retired and santa cruz city council member",
                  "Donations by title": 1
                },
                {
                  "index": 274,
                  "donor_title": "cfo - beauty solutions",
                  "Donations by title": 1
                },
                {
                  "index": 275,
                  "donor_title": "host - hsn",
                  "Donations by title": 1
                },
                {
                  "index": 276,
                  "donor_title": "executive director - valley churches united",
                  "Donations by title": 1
                },
                {
                  "index": 277,
                  "donor_title": "managing director - the claremont companies llc",
                  "Donations by title": 1
                },
                {
                  "index": 278,
                  "donor_title": "vp - sc beach boardwalk",
                  "Donations by title": 1
                },
                {
                  "index": 279,
                  "donor_title": "financial planner - money concepts capital corp",
                  "Donations by title": 1
                },
                {
                  "index": 280,
                  "donor_title": "admin assistant - scotts valley unified school district",
                  "Donations by title": 1
                },
                {
                  "index": 281,
                  "donor_title": "project engineer - devcon",
                  "Donations by title": 1
                },
                {
                  "index": 282,
                  "donor_title": "attorney - sc superior court",
                  "Donations by title": 1
                },
                {
                  "index": 283,
                  "donor_title": "executive - better place forests co",
                  "Donations by title": 1
                },
                {
                  "index": 284,
                  "donor_title": "canoe builder",
                  "Donations by title": 1
                },
                {
                  "index": 285,
                  "donor_title": "real estate broker - anderson christie real estate",
                  "Donations by title": 1
                },
                {
                  "index": 286,
                  "donor_title": "contractor - decvon construction",
                  "Donations by title": 1
                },
                {
                  "index": 287,
                  "donor_title": "strategy executive - driscoll's inc",
                  "Donations by title": 1
                },
                {
                  "index": 288,
                  "donor_title": "ceo - mbep",
                  "Donations by title": 1
                },
                {
                  "index": 289,
                  "donor_title": "vp operations - sanco pipelines",
                  "Donations by title": 1
                },
                {
                  "index": 290,
                  "donor_title": "buddhist priest - ocean gate zen center",
                  "Donations by title": 1
                },
                {
                  "index": 291,
                  "donor_title": "rabbi - temple beth el",
                  "Donations by title": 1
                },
                {
                  "index": 292,
                  "donor_title": "operations - santa cruz port district",
                  "Donations by title": 1
                },
                {
                  "index": 293,
                  "donor_title": "farmer - robson farms",
                  "Donations by title": 1
                },
                {
                  "index": 294,
                  "donor_title": "owner - culinary enterprises inc",
                  "Donations by title": 1
                },
                {
                  "index": 295,
                  "donor_title": "researcher- pw enterprises",
                  "Donations by title": 1
                },
                {
                  "index": 296,
                  "donor_title": "reference specialist isaacson miller",
                  "Donations by title": 1
                },
                {
                  "index": 297,
                  "donor_title": "managing director/cpa - portfolio diversification institute",
                  "Donations by title": 1
                },
                {
                  "index": 298,
                  "donor_title": "consultant - pinnacle strategies",
                  "Donations by title": 1
                },
                {
                  "index": 299,
                  "donor_title": "massage therapist",
                  "Donations by title": 1
                },
                {
                  "index": 300,
                  "donor_title": "research manager - driscoll's",
                  "Donations by title": 1
                },
                {
                  "index": 301,
                  "donor_title": "area manager - epic wine and spirits",
                  "Donations by title": 1
                },
                {
                  "index": 302,
                  "donor_title": "sales/owner - pv printing",
                  "Donations by title": 1
                },
                {
                  "index": 303,
                  "donor_title": "principal - landtitleguru.com",
                  "Donations by title": 1
                },
                {
                  "index": 304,
                  "donor_title": "general manager - salinas valley groundwater sustainability agency",
                  "Donations by title": 1
                },
                {
                  "index": 305,
                  "donor_title": "security director - aus",
                  "Donations by title": 1
                },
                {
                  "index": 306,
                  "donor_title": "public affairs director - monterey bay aquarium",
                  "Donations by title": 1
                },
                {
                  "index": 307,
                  "donor_title": "it manager - self-employed",
                  "Donations by title": 1
                },
                {
                  "index": 308,
                  "donor_title": "psychologist",
                  "Donations by title": 1
                },
                {
                  "index": 309,
                  "donor_title": "developer - s/e koraf corp",
                  "Donations by title": 1
                },
                {
                  "index": 310,
                  "donor_title": "attorney - rice, luxon & bolster - grant llp",
                  "Donations by title": 1
                },
                {
                  "index": 311,
                  "donor_title": "dentist - sc dental group",
                  "Donations by title": 1
                },
                {
                  "index": 312,
                  "donor_title": "business manager - astrograph software",
                  "Donations by title": 1
                },
                {
                  "index": 313,
                  "donor_title": "building plans checker - county of santa cruz",
                  "Donations by title": 1
                },
                {
                  "index": 314,
                  "donor_title": "owner - beachwood properties",
                  "Donations by title": 1
                },
                {
                  "index": 315,
                  "donor_title": "scientist - immunitybio",
                  "Donations by title": 1
                },
                {
                  "index": 316,
                  "donor_title": "real estate agent - lighthouse realty",
                  "Donations by title": 1
                },
                {
                  "index": 317,
                  "donor_title": "real estate - s/e ken carlson",
                  "Donations by title": 1
                },
                {
                  "index": 318,
                  "donor_title": "owner - hargis construction",
                  "Donations by title": 1
                },
                {
                  "index": 319,
                  "donor_title": "consultant - dba caitlin brune",
                  "Donations by title": 1
                },
                {
                  "index": 320,
                  "donor_title": "transportation systems - santa cruz regional transportation commission",
                  "Donations by title": 1
                },
                {
                  "index": 321,
                  "donor_title": "rn - community hospital of monterey peninsula",
                  "Donations by title": 1
                },
                {
                  "index": 322,
                  "donor_title": "payroll - ucsc",
                  "Donations by title": 1
                },
                {
                  "index": 323,
                  "donor_title": "property management - john stewart company",
                  "Donations by title": 1
                },
                {
                  "index": 324,
                  "donor_title": "owner - pacific cookie co.",
                  "Donations by title": 1
                },
                {
                  "index": 325,
                  "donor_title": "caregiver - state of ca",
                  "Donations by title": 1
                },
                {
                  "index": 326,
                  "donor_title": "tbd",
                  "Donations by title": 1
                },
                {
                  "index": 327,
                  "donor_title": "consultant - s/e peggy flynn",
                  "Donations by title": 1
                },
                {
                  "index": 328,
                  "donor_title": "broker",
                  "Donations by title": 1
                },
                {
                  "index": 329,
                  "donor_title": "copy editor - apple",
                  "Donations by title": 1
                },
                {
                  "index": 330,
                  "donor_title": "attorney - ptr law corp",
                  "Donations by title": 1
                },
                {
                  "index": 331,
                  "donor_title": "motion graphics designer - hogarth",
                  "Donations by title": 1
                },
                {
                  "index": 332,
                  "donor_title": "director - hope",
                  "Donations by title": 1
                },
                {
                  "index": 333,
                  "donor_title": "lead trainer - positive discipline association",
                  "Donations by title": 1
                },
                {
                  "index": 334,
                  "donor_title": "software engineer - broadridge",
                  "Donations by title": 1
                },
                {
                  "index": 335,
                  "donor_title": "retired and watsonville city council member",
                  "Donations by title": 1
                },
                {
                  "index": 336,
                  "donor_title": "senior project manager - bright green strategies",
                  "Donations by title": 1
                },
                {
                  "index": 337,
                  "donor_title": "professor/retired - ucsc",
                  "Donations by title": 1
                },
                {
                  "index": 338,
                  "donor_title": "it consultant - critical networks",
                  "Donations by title": 1
                },
                {
                  "index": 339,
                  "donor_title": "director of projects & customer experience epic workshop",
                  "Donations by title": 1
                },
                {
                  "index": 340,
                  "donor_title": "scotts valley city council member and self-employed - dilles financial consulting",
                  "Donations by title": 1
                },
                {
                  "index": 341,
                  "donor_title": "occupational therapist - dominican hospital",
                  "Donations by title": 1
                },
                {
                  "index": 342,
                  "donor_title": "analyst - county supervisor santa cruz county",
                  "Donations by title": 1
                },
                {
                  "index": 343,
                  "donor_title": "managing partner - halsen llc",
                  "Donations by title": 1
                },
                {
                  "index": 344,
                  "donor_title": "teacher - new canaan county school",
                  "Donations by title": 1
                },
                {
                  "index": 345,
                  "donor_title": "professor - stanford university",
                  "Donations by title": 1
                },
                {
                  "index": 346,
                  "donor_title": "director of e-commerce - essity",
                  "Donations by title": 1
                },
                {
                  "index": 347,
                  "donor_title": "registered dental hygienist - brian del core dds",
                  "Donations by title": 1
                },
                {
                  "index": 348,
                  "donor_title": "attorney - wittwer & parkin, llp",
                  "Donations by title": 1
                },
                {
                  "index": 349,
                  "donor_title": "consultant - intact, inc",
                  "Donations by title": 1
                },
                {
                  "index": 350,
                  "donor_title": "equipment engineer - veeco instruments",
                  "Donations by title": 1
                },
                {
                  "index": 351,
                  "donor_title": "founder/ceo - erik's delicafe",
                  "Donations by title": 1
                },
                {
                  "index": 352,
                  "donor_title": "attorney - tibco software inc",
                  "Donations by title": 1
                },
                {
                  "index": 353,
                  "donor_title": "insurance broker - kbk insurance",
                  "Donations by title": 1
                },
                {
                  "index": 354,
                  "donor_title": "real estate - wilson-meany",
                  "Donations by title": 1
                },
                {
                  "index": 355,
                  "donor_title": "attorney - scruggs, spini & fulton",
                  "Donations by title": 1
                },
                {
                  "index": 356,
                  "donor_title": "benefits representative - santa cruz county",
                  "Donations by title": 1
                },
                {
                  "index": 357,
                  "donor_title": "owner - bay plumbing supply",
                  "Donations by title": 1
                },
                {
                  "index": 358,
                  "donor_title": "case manager - bill wilson center",
                  "Donations by title": 1
                },
                {
                  "index": 359,
                  "donor_title": "founder - great guys",
                  "Donations by title": 1
                },
                {
                  "index": 360,
                  "donor_title": "id 1360850",
                  "Donations by title": 1
                },
                {
                  "index": 361,
                  "donor_title": "retail - pajaro valley golf course",
                  "Donations by title": 1
                },
                {
                  "index": 362,
                  "donor_title": "hr consultant - self employed",
                  "Donations by title": 1
                },
                {
                  "index": 363,
                  "donor_title": "software consultant - s/e nima bagheri",
                  "Donations by title": 1
                },
                {
                  "index": 364,
                  "donor_title": "real estate broker - montalvo homes & estates",
                  "Donations by title": 1
                },
                {
                  "index": 365,
                  "donor_title": "demand planner - apple",
                  "Donations by title": 1
                },
                {
                  "index": 366,
                  "donor_title": "mentor & advisor - s/e shige honjo",
                  "Donations by title": 1
                },
                {
                  "index": 367,
                  "donor_title": "manager - satellite centers",
                  "Donations by title": 1
                },
                {
                  "index": 368,
                  "donor_title": "manuel quiroz jr.",
                  "Donations by title": 1
                },
                {
                  "index": 369,
                  "donor_title": "business owner - sacramento european",
                  "Donations by title": 1
                },
                {
                  "index": 370,
                  "donor_title": "tv host - tegna",
                  "Donations by title": 1
                },
                {
                  "index": 371,
                  "donor_title": "ultrasound tech - mills peninsula medical center",
                  "Donations by title": 1
                },
                {
                  "index": 372,
                  "donor_title": "vp - santa cruz beach boardwalk",
                  "Donations by title": 1
                },
                {
                  "index": 373,
                  "donor_title": "wellness specialist - abode services",
                  "Donations by title": 1
                },
                {
                  "index": 374,
                  "donor_title": "consultant - lucien global",
                  "Donations by title": 1
                },
                {
                  "index": 375,
                  "donor_title": "researcher - department of veteran affairs",
                  "Donations by title": 1
                },
                {
                  "index": 376,
                  "donor_title": "engineer - riverbed inc",
                  "Donations by title": 1
                },
                {
                  "index": 377,
                  "donor_title": "cfo - healthy living institute",
                  "Donations by title": 1
                },
                {
                  "index": 378,
                  "donor_title": "teacher - santa clara unified school district",
                  "Donations by title": 1
                },
                {
                  "index": 379,
                  "donor_title": "senior software engineer - autonomic",
                  "Donations by title": 1
                },
                {
                  "index": 380,
                  "donor_title": "human resources - reiter affiliated companies",
                  "Donations by title": 1
                },
                {
                  "index": 381,
                  "donor_title": "rehab consultant - quality & outcome mgt",
                  "Donations by title": 1
                },
                {
                  "index": 382,
                  "donor_title": "professor - panetta public policy institute",
                  "Donations by title": 1
                },
                {
                  "index": 383,
                  "donor_title": "midwife - sutter health",
                  "Donations by title": 1
                },
                {
                  "index": 384,
                  "donor_title": "physican - self employed",
                  "Donations by title": 1
                },
                {
                  "index": 385,
                  "donor_title": "nonprofit - foodwhat",
                  "Donations by title": 1
                },
                {
                  "index": 386,
                  "donor_title": "county supervisor - monterey county",
                  "Donations by title": 1
                },
                {
                  "index": 387,
                  "donor_title": "acupuncturist",
                  "Donations by title": 1
                },
                {
                  "index": 388,
                  "donor_title": "owner - pizza guys inc",
                  "Donations by title": 1
                },
                {
                  "index": 389,
                  "donor_title": "exec - universal audio",
                  "Donations by title": 1
                },
                {
                  "index": 390,
                  "donor_title": "personal assistant - local family",
                  "Donations by title": 1
                },
                {
                  "index": 391,
                  "donor_title": "professor - notre dame de namur university",
                  "Donations by title": 1
                },
                {
                  "index": 392,
                  "donor_title": "computer scientist - intertrust technologies",
                  "Donations by title": 1
                },
                {
                  "index": 393,
                  "donor_title": "secretary - sc coe",
                  "Donations by title": 1
                },
                {
                  "index": 394,
                  "donor_title": "student leadership & engagement coordinator - santa cruz county office of education",
                  "Donations by title": 1
                },
                {
                  "index": 395,
                  "donor_title": "management - city. of santa cruz",
                  "Donations by title": 1
                },
                {
                  "index": 396,
                  "donor_title": "consultant - ro peereyera",
                  "Donations by title": 1
                },
                {
                  "index": 397,
                  "donor_title": "manager - city of san jose",
                  "Donations by title": 1
                },
                {
                  "index": 398,
                  "donor_title": "software engineer - machinezone",
                  "Donations by title": 1
                },
                {
                  "index": 399,
                  "donor_title": "engineer - city of watsonville",
                  "Donations by title": 1
                },
                {
                  "index": 400,
                  "donor_title": "land use consultant - s/e deidre hamilton",
                  "Donations by title": 1
                },
                {
                  "index": 401,
                  "donor_title": "ceo - spiraledge",
                  "Donations by title": 1
                },
                {
                  "index": 402,
                  "donor_title": "realtor/business mgr - bailey properties, inc",
                  "Donations by title": 1
                },
                {
                  "index": 403,
                  "donor_title": "rn - watsonville community hospital",
                  "Donations by title": 1
                },
                {
                  "index": 404,
                  "donor_title": "journalist - edible monterey bay",
                  "Donations by title": 1
                },
                {
                  "index": 405,
                  "donor_title": "candidate",
                  "Donations by title": 1
                },
                {
                  "index": 406,
                  "donor_title": "rn - county of santa cruz",
                  "Donations by title": 1
                },
                {
                  "index": 407,
                  "donor_title": "attorney",
                  "Donations by title": 1
                },
                {
                  "index": 408,
                  "donor_title": "farmer - miroyan brothers",
                  "Donations by title": 1
                },
                {
                  "index": 409,
                  "donor_title": "accountant - invensense inc",
                  "Donations by title": 1
                },
                {
                  "index": 410,
                  "donor_title": "product marketing manager - synopsys",
                  "Donations by title": 1
                },
                {
                  "index": 411,
                  "donor_title": "government relations - sutter health",
                  "Donations by title": 1
                },
                {
                  "index": 412,
                  "donor_title": "sr. agency producer - mekanism",
                  "Donations by title": 1
                },
                {
                  "index": 413,
                  "donor_title": "physician - palo alto medical foundation",
                  "Donations by title": 1
                },
                {
                  "index": 414,
                  "donor_title": "graduate student - stanford university",
                  "Donations by title": 1
                },
                {
                  "index": 415,
                  "donor_title": "senior director of office - r&d tri com/corfac int'l",
                  "Donations by title": 1
                },
                {
                  "index": 416,
                  "donor_title": "physician - dominican hospital",
                  "Donations by title": 1
                },
                {
                  "index": 417,
                  "donor_title": "owner/partner - rnm inc",
                  "Donations by title": 1
                },
                {
                  "index": 418,
                  "donor_title": "director of impact & partnerships - encompass community services",
                  "Donations by title": 1
                },
                {
                  "index": 419,
                  "donor_title": "president/chief trial attorney - the romero institute",
                  "Donations by title": 1
                },
                {
                  "index": 420,
                  "donor_title": "manager - ebcf",
                  "Donations by title": 1
                },
                {
                  "index": 421,
                  "donor_title": "vice president/hr - a&a organic farms",
                  "Donations by title": 1
                },
                {
                  "index": 422,
                  "donor_title": "ceo - sentinel printers",
                  "Donations by title": 1
                },
                {
                  "index": 423,
                  "donor_title": "supervisor - county of santa cruz",
                  "Donations by title": 1
                },
                {
                  "index": 424,
                  "donor_title": "coordinator - faith community shelter",
                  "Donations by title": 1
                },
                {
                  "index": 425,
                  "donor_title": "non-profit leadership - save our shores",
                  "Donations by title": 1
                },
                {
                  "index": 426,
                  "donor_title": "mechanical engineer - snapnrach",
                  "Donations by title": 1
                },
                {
                  "index": 427,
                  "donor_title": "attorney - superior court of calfironia",
                  "Donations by title": 1
                },
                {
                  "index": 428,
                  "donor_title": "real estate appraiser - warter and associates",
                  "Donations by title": 1
                },
                {
                  "index": 429,
                  "donor_title": "manager - havermawr, inc",
                  "Donations by title": 1
                },
                {
                  "index": 430,
                  "donor_title": "operations - santa cruz harbor",
                  "Donations by title": 1
                },
                {
                  "index": 431,
                  "donor_title": "publisher - mountain network news",
                  "Donations by title": 1
                },
                {
                  "index": 432,
                  "donor_title": "president - valledor holdings",
                  "Donations by title": 1
                },
                {
                  "index": 433,
                  "donor_title": "dental hygienist - brain del core dds",
                  "Donations by title": 1
                },
                {
                  "index": 434,
                  "donor_title": "paralegal - vista outdoor",
                  "Donations by title": 1
                },
                {
                  "index": 435,
                  "donor_title": "attorney - law office of eric john nelson",
                  "Donations by title": 1
                },
                {
                  "index": 436,
                  "donor_title": "financial advisor - wavecrest wealth mangement",
                  "Donations by title": 1
                },
                {
                  "index": 437,
                  "donor_title": "bodyworker - midline",
                  "Donations by title": 1
                },
                {
                  "index": 438,
                  "donor_title": "owner - a.l. lease company",
                  "Donations by title": 1
                },
                {
                  "index": 439,
                  "donor_title": "executive director - arts council santa cruz county",
                  "Donations by title": 1
                },
                {
                  "index": 440,
                  "donor_title": "business owner - pom pom projekt",
                  "Donations by title": 1
                },
                {
                  "index": 441,
                  "donor_title": "director - santa cruz bicycles",
                  "Donations by title": 1
                },
                {
                  "index": 442,
                  "donor_title": "architect - bcj",
                  "Donations by title": 1
                },
                {
                  "index": 443,
                  "donor_title": "communications - vmware",
                  "Donations by title": 1
                },
                {
                  "index": 444,
                  "donor_title": "unemployedf",
                  "Donations by title": 1
                },
                {
                  "index": 445,
                  "donor_title": "project manager - pgf inc",
                  "Donations by title": 1
                },
                {
                  "index": 446,
                  "donor_title": "contractor - devcon",
                  "Donations by title": 1
                },
                {
                  "index": 447,
                  "donor_title": "attorney - jack gordon",
                  "Donations by title": 1
                },
                {
                  "index": 448,
                  "donor_title": "data scientist - metis",
                  "Donations by title": 1
                },
                {
                  "index": 449,
                  "donor_title": "realtor/business mgr - bailey properties inc",
                  "Donations by title": 1
                },
                {
                  "index": 450,
                  "donor_title": "cpa - petrinovich pugh and co.",
                  "Donations by title": 1
                },
                {
                  "index": 451,
                  "donor_title": "marketing - sap",
                  "Donations by title": 1
                },
                {
                  "index": 452,
                  "donor_title": "publisher & editor - edible monterey bay",
                  "Donations by title": 1
                },
                {
                  "index": 453,
                  "donor_title": "lawyer - law office of emily buchbinder",
                  "Donations by title": 1
                },
                {
                  "index": 454,
                  "donor_title": "pilates instructor - kristina glavis",
                  "Donations by title": 1
                },
                {
                  "index": 455,
                  "donor_title": "visitor services aide - friends of santa cruz state parks",
                  "Donations by title": 1
                },
                {
                  "index": 456,
                  "donor_title": "mental health clinician - santa cruz county hsa",
                  "Donations by title": 1
                },
                {
                  "index": 457,
                  "donor_title": "attorney - galloway lucchese everson & picchi",
                  "Donations by title": 1
                },
                {
                  "index": 458,
                  "donor_title": "administrator - uc san diego",
                  "Donations by title": 1
                },
                {
                  "index": 459,
                  "donor_title": "administrator - scchc",
                  "Donations by title": 1
                },
                {
                  "index": 460,
                  "donor_title": "attorney - law office of mark johannessen",
                  "Donations by title": 1
                },
                {
                  "index": 461,
                  "donor_title": "principal insurance broker - los gatos insurance services",
                  "Donations by title": 1
                },
                {
                  "index": 462,
                  "donor_title": "counselor - encompass cs",
                  "Donations by title": 1
                },
                {
                  "index": 463,
                  "donor_title": "attorney - redwood city",
                  "Donations by title": 1
                },
                {
                  "index": 464,
                  "donor_title": "accounting - pizza guys",
                  "Donations by title": 1
                },
                {
                  "index": 465,
                  "donor_title": "teacher - pajaro unified school district",
                  "Donations by title": 1
                },
                {
                  "index": 466,
                  "donor_title": "consultant - intact inc",
                  "Donations by title": 1
                },
                {
                  "index": 467,
                  "donor_title": "professor - panetta institute",
                  "Donations by title": 1
                },
                {
                  "index": 468,
                  "donor_title": "consultant - pinnacle strategy llc",
                  "Donations by title": 1
                },
                {
                  "index": 469,
                  "donor_title": "broker - william brooks",
                  "Donations by title": 1
                },
                {
                  "index": 470,
                  "donor_title": "general counsel - silicon valley leadership group",
                  "Donations by title": 1
                },
                {
                  "index": 471,
                  "donor_title": "landscaper - the landscape company",
                  "Donations by title": 1
                },
                {
                  "index": 472,
                  "donor_title": "attorney - amazon",
                  "Donations by title": 1
                },
                {
                  "index": 473,
                  "donor_title": "product marketing - lattice semiconductor",
                  "Donations by title": 1
                },
                {
                  "index": 474,
                  "donor_title": "physician - dsmg",
                  "Donations by title": 1
                },
                {
                  "index": 475,
                  "donor_title": "attorney - self employed",
                  "Donations by title": 1
                },
                {
                  "index": 476,
                  "donor_title": "id# 1318200",
                  "Donations by title": 1
                },
                {
                  "index": 477,
                  "donor_title": "admin manager - ucsc",
                  "Donations by title": 1
                },
                {
                  "index": 478,
                  "donor_title": "president - pacific cookie company",
                  "Donations by title": 1
                },
                {
                  "index": 479,
                  "donor_title": "director - google",
                  "Donations by title": 1
                },
                {
                  "index": 480,
                  "donor_title": "director of partnerships - santa clara university",
                  "Donations by title": 1
                },
                {
                  "index": 481,
                  "donor_title": "glass maker/owner - annieglass",
                  "Donations by title": 1
                },
                {
                  "index": 482,
                  "donor_title": "artist",
                  "Donations by title": 1
                },
                {
                  "index": 483,
                  "donor_title": "ceo - hope",
                  "Donations by title": 1
                },
                {
                  "index": 484,
                  "donor_title": "non-profit leadership - community foundation for monterey county",
                  "Donations by title": 1
                },
                {
                  "index": 485,
                  "donor_title": "id# 1342624",
                  "Donations by title": 1
                },
                {
                  "index": 486,
                  "donor_title": "president - del mar food products crop",
                  "Donations by title": 1
                },
                {
                  "index": 487,
                  "donor_title": "teacher - sc coe",
                  "Donations by title": 1
                },
                {
                  "index": 488,
                  "donor_title": "city council member - city of santa cruz",
                  "Donations by title": 1
                },
                {
                  "index": 489,
                  "donor_title": "senior podcast producer - uc berkeley",
                  "Donations by title": 1
                },
                {
                  "index": 490,
                  "donor_title": "interior designer",
                  "Donations by title": 1
                },
                {
                  "index": 491,
                  "donor_title": "realtor - monterey bay properties",
                  "Donations by title": 1
                },
                {
                  "index": 492,
                  "donor_title": "teacher ucsc",
                  "Donations by title": 1
                },
                {
                  "index": 493,
                  "donor_title": "accountant - s/e manijeh behziz",
                  "Donations by title": 1
                },
                {
                  "index": 494,
                  "donor_title": "scientist - cal tech",
                  "Donations by title": 1
                },
                {
                  "index": 495,
                  "donor_title": "chairman - 5.11",
                  "Donations by title": 1
                },
                {
                  "index": 496,
                  "donor_title": "realtor - sotheby's international realty",
                  "Donations by title": 1
                },
                {
                  "index": 497,
                  "donor_title": "strategy - kci",
                  "Donations by title": 1
                },
                {
                  "index": 498,
                  "donor_title": "contractor",
                  "Donations by title": 1
                },
                {
                  "index": 499,
                  "donor_title": "sales - self-employed",
                  "Donations by title": 1
                },
                {
                  "index": 500,
                  "donor_title": "ceo - paige events",
                  "Donations by title": 1
                },
                {
                  "index": 501,
                  "donor_title": "consultant - clifton-doolin consulting",
                  "Donations by title": 1
                },
                {
                  "index": 502,
                  "donor_title": "owner - system usa inc",
                  "Donations by title": 1
                },
                {
                  "index": 503,
                  "donor_title": "real estate attorney - rodriguez wright llp",
                  "Donations by title": 1
                },
                {
                  "index": 504,
                  "donor_title": "coach - awesome institute",
                  "Donations by title": 1
                },
                {
                  "index": 505,
                  "donor_title": "teacher - berkeley unified schools",
                  "Donations by title": 1
                },
                {
                  "index": 506,
                  "donor_title": "supervisor's analyst - county of santa cruz",
                  "Donations by title": 1
                },
                {
                  "index": 507,
                  "donor_title": "executive and artistic director - early music now",
                  "Donations by title": 1
                },
                {
                  "index": 508,
                  "donor_title": "viticulturist - e & j gallo",
                  "Donations by title": 1
                },
                {
                  "index": 509,
                  "donor_title": "administrative assistant - santa cruz county",
                  "Donations by title": 1
                },
                {
                  "index": 510,
                  "donor_title": "business owner - shadowbrook restaurant",
                  "Donations by title": 1
                },
                {
                  "index": 511,
                  "donor_title": "chief of staff - google",
                  "Donations by title": 1
                },
                {
                  "index": 512,
                  "donor_title": "ucsc",
                  "Donations by title": 1
                },
                {
                  "index": 513,
                  "donor_title": "consultant - ceres group advisors",
                  "Donations by title": 1
                },
                {
                  "index": 514,
                  "donor_title": "cpa - sony interactive entertainment",
                  "Donations by title": 1
                },
                {
                  "index": 515,
                  "donor_title": "ceo - productops",
                  "Donations by title": 1
                },
                {
                  "index": 516,
                  "donor_title": "office manager - drummond masonry",
                  "Donations by title": 1
                },
                {
                  "index": 517,
                  "donor_title": "ceo - santa cruz county chamber of commerce",
                  "Donations by title": 1
                },
                {
                  "index": 518,
                  "donor_title": "graphic designer - linkedin",
                  "Donations by title": 1
                },
                {
                  "index": 519,
                  "donor_title": "attorney - mhb llp",
                  "Donations by title": 1
                },
                {
                  "index": 520,
                  "donor_title": "vp of market research - hirc",
                  "Donations by title": 1
                },
                {
                  "index": 521,
                  "donor_title": "quality assurance - sunopta",
                  "Donations by title": 1
                },
                {
                  "index": 522,
                  "donor_title": "intentional leaders business coach",
                  "Donations by title": 1
                },
                {
                  "index": 523,
                  "donor_title": "shopping broker - ship smart",
                  "Donations by title": 1
                },
                {
                  "index": 524,
                  "donor_title": "city council member - city of scotts valley",
                  "Donations by title": 1
                },
                {
                  "index": 525,
                  "donor_title": "id# 1278587",
                  "Donations by title": 1
                },
                {
                  "index": 526,
                  "donor_title": "cpa - petrinovich pugh & co",
                  "Donations by title": 1
                },
                {
                  "index": 527,
                  "donor_title": "vp, transportation and housing - silicon valley leadership group",
                  "Donations by title": 1
                },
                {
                  "index": 528,
                  "donor_title": "santa cruz city councilmember",
                  "Donations by title": 1
                },
                {
                  "index": 529,
                  "donor_title": "managing director - capital for founders llc",
                  "Donations by title": 1
                },
                {
                  "index": 530,
                  "donor_title": "lawyer - walsh guevara llp",
                  "Donations by title": 1
                },
                {
                  "index": 531,
                  "donor_title": "advisor - ex-trustee cloudsplitter foundation",
                  "Donations by title": 1
                },
                {
                  "index": 532,
                  "donor_title": "accounting - driscolls",
                  "Donations by title": 1
                },
                {
                  "index": 533,
                  "donor_title": "program manager - apple",
                  "Donations by title": 1
                },
                {
                  "index": 534,
                  "donor_title": "property manager - self-employed",
                  "Donations by title": 1
                },
                {
                  "index": 535,
                  "donor_title": "restaurateur",
                  "Donations by title": 1
                },
                {
                  "index": 536,
                  "donor_title": "inspector - self employed",
                  "Donations by title": 1
                },
                {
                  "index": 537,
                  "donor_title": "video: film fest production -self",
                  "Donations by title": 1
                },
                {
                  "index": 538,
                  "donor_title": "engineer - cascade engineering",
                  "Donations by title": 1
                },
                {
                  "index": 539,
                  "donor_title": "strategic planning navigator - s/e john dietz",
                  "Donations by title": 1
                },
                {
                  "index": 540,
                  "donor_title": "construction manager - blue water construction inc",
                  "Donations by title": 1
                },
                {
                  "index": 541,
                  "donor_title": "finance director - driscoll's",
                  "Donations by title": 1
                },
                {
                  "index": 542,
                  "donor_title": "administrator - usc",
                  "Donations by title": 1
                },
                {
                  "index": 543,
                  "donor_title": "partner/owner - dell williams jewelers",
                  "Donations by title": 1
                },
                {
                  "index": 544,
                  "donor_title": "general contractor - extraordinary doors",
                  "Donations by title": 1
                },
                {
                  "index": 545,
                  "donor_title": "bookkeeper - s/e hollie locatelli",
                  "Donations by title": 1
                },
                {
                  "index": 546,
                  "donor_title": "id# 1219354",
                  "Donations by title": 1
                },
                {
                  "index": 547,
                  "donor_title": "office manager - wiles & wiles, attorney at law, llp",
                  "Donations by title": 1
                },
                {
                  "index": 548,
                  "donor_title": "non-profit management - community action board",
                  "Donations by title": 1
                },
                {
                  "index": 549,
                  "donor_title": "consultant - monterey consulting",
                  "Donations by title": 1
                },
                {
                  "index": 550,
                  "donor_title": "insurance sales - arthur j gallagher & co.",
                  "Donations by title": 1
                },
                {
                  "index": 551,
                  "donor_title": "nonprofit consultant - s/e caitlin brune",
                  "Donations by title": 1
                },
                {
                  "index": 552,
                  "donor_title": "service line director - el camino hospital",
                  "Donations by title": 1
                },
                {
                  "index": 553,
                  "donor_title": "writer - dreamworks",
                  "Donations by title": 1
                },
                {
                  "index": 554,
                  "donor_title": "trade association executive - silicon valley leadership group",
                  "Donations by title": 1
                },
                {
                  "index": 555,
                  "donor_title": "teacher - santa cruz city",
                  "Donations by title": 1
                },
                {
                  "index": 556,
                  "donor_title": "manufacturing engineer - benchmark electronics",
                  "Donations by title": 1
                },
                {
                  "index": 557,
                  "donor_title": "ceo - eli strategy group inc",
                  "Donations by title": 1
                },
                {
                  "index": 558,
                  "donor_title": "physician - self employed",
                  "Donations by title": 1
                },
                {
                  "index": 559,
                  "donor_title": "project manager - cfy development",
                  "Donations by title": 1
                },
                {
                  "index": 560,
                  "donor_title": "massage therapist - self-employed",
                  "Donations by title": 1
                },
                {
                  "index": 561,
                  "donor_title": "realtor - time realty",
                  "Donations by title": 1
                },
                {
                  "index": 562,
                  "donor_title": "attorney - biggam christensen & minsloff",
                  "Donations by title": 1
                },
                {
                  "index": 563,
                  "donor_title": "castroville, ca",
                  "Donations by title": 1
                },
                {
                  "index": 564,
                  "donor_title": "foundation director - ccof",
                  "Donations by title": 1
                },
                {
                  "index": 565,
                  "donor_title": "pilates instructor",
                  "Donations by title": 1
                },
                {
                  "index": 566,
                  "donor_title": "consultant - mckinsey",
                  "Donations by title": 1
                },
                {
                  "index": 567,
                  "donor_title": "school superintendent - loma prieta joint union school district",
                  "Donations by title": 1
                },
                {
                  "index": 568,
                  "donor_title": "real estate - william ow",
                  "Donations by title": 1
                },
                {
                  "index": 569,
                  "donor_title": "professor - uc santa cruz",
                  "Donations by title": 1
                },
                {
                  "index": 570,
                  "donor_title": "daniel aguirre-garcia",
                  "Donations by title": 1
                },
                {
                  "index": 571,
                  "donor_title": "architect - shed seattle llc",
                  "Donations by title": 1
                },
                {
                  "index": 572,
                  "donor_title": "sr director of development - ucsc",
                  "Donations by title": 1
                },
                {
                  "index": 573,
                  "donor_title": "executive assistant - verily life sciences",
                  "Donations by title": 1
                },
                {
                  "index": 574,
                  "donor_title": "sales representative - grow west",
                  "Donations by title": 1
                },
                {
                  "index": 575,
                  "donor_title": "senior health services manager - county of santa cruz",
                  "Donations by title": 1
                },
                {
                  "index": 576,
                  "donor_title": "rn - self-employed",
                  "Donations by title": 1
                },
                {
                  "index": 577,
                  "donor_title": "software engineer - google",
                  "Donations by title": 1
                },
                {
                  "index": 578,
                  "donor_title": "development manager - city of santa cruz",
                  "Donations by title": 1
                },
                {
                  "index": 579,
                  "donor_title": "occupational therapist - sutter health",
                  "Donations by title": 1
                },
                {
                  "index": 580,
                  "donor_title": "attorney - sapia law firm",
                  "Donations by title": 1
                },
                {
                  "index": 581,
                  "donor_title": "board member - mitmover inc",
                  "Donations by title": 1
                },
                {
                  "index": 582,
                  "donor_title": "executive director - phytotherapies",
                  "Donations by title": 1
                },
                {
                  "index": 583,
                  "donor_title": "structural engineer - cascadia engineering inc",
                  "Donations by title": 1
                },
                {
                  "index": 584,
                  "donor_title": "life coach",
                  "Donations by title": 1
                },
                {
                  "index": 585,
                  "donor_title": "faculty - california state university",
                  "Donations by title": 1
                },
                {
                  "index": 586,
                  "donor_title": "ceo - downtown boulder partnership",
                  "Donations by title": 1
                },
                {
                  "index": 587,
                  "donor_title": "judge - superior court of ca-santa cruz",
                  "Donations by title": 1
                },
                {
                  "index": 588,
                  "donor_title": "social impact consultant - allison guevara consulting",
                  "Donations by title": 1
                },
                {
                  "index": 589,
                  "donor_title": "legislative aide - city and county of san francisco",
                  "Donations by title": 1
                },
                {
                  "index": 590,
                  "donor_title": "physician - kaiser",
                  "Donations by title": 1
                },
                {
                  "index": 591,
                  "donor_title": "insurance & farmer - adventure mexican insurance svcs/good farmer",
                  "Donations by title": 1
                },
                {
                  "index": 592,
                  "donor_title": "project manager - siemens",
                  "Donations by title": 1
                },
                {
                  "index": 593,
                  "donor_title": "project manager - sygenta flowers",
                  "Donations by title": 1
                },
                {
                  "index": 594,
                  "donor_title": "controller - threshold enterprises ltd",
                  "Donations by title": 1
                },
                {
                  "index": 595,
                  "donor_title": "school psychologist - santa cruz city school district",
                  "Donations by title": 1
                },
                {
                  "index": 596,
                  "donor_title": "rn - sutter maternity and surgery center",
                  "Donations by title": 1
                },
                {
                  "index": 597,
                  "donor_title": "stewardship project manager - land trust of santa cruz county",
                  "Donations by title": 1
                },
                {
                  "index": 598,
                  "donor_title": "sales - digital dynamics",
                  "Donations by title": 1
                },
                {
                  "index": 599,
                  "donor_title": "investor - self employed",
                  "Donations by title": 1
                },
                {
                  "index": 600,
                  "donor_title": "curator - self-employed",
                  "Donations by title": 1
                },
                {
                  "index": 601,
                  "donor_title": "executive director, monterey bay economic partnership",
                  "Donations by title": 1
                },
                {
                  "index": 602,
                  "donor_title": "registered dietitian - gardner health services",
                  "Donations by title": 1
                },
                {
                  "index": 603,
                  "donor_title": "housing advisor - ucsc",
                  "Donations by title": 1
                },
                {
                  "index": 604,
                  "donor_title": "president - sc seaside co",
                  "Donations by title": 1
                },
                {
                  "index": 605,
                  "donor_title": "institute director",
                  "Donations by title": 1
                },
                {
                  "index": 606,
                  "donor_title": "property manager ann vaudagna",
                  "Donations by title": 1
                },
                {
                  "index": 607,
                  "donor_title": "accounting - ship smart",
                  "Donations by title": 1
                },
                {
                  "index": 608,
                  "donor_title": "owner - lifeaid beverage",
                  "Donations by title": 1
                },
                {
                  "index": 609,
                  "donor_title": "business owner - printing and advertising",
                  "Donations by title": 1
                },
                {
                  "index": 610,
                  "donor_title": "realtor - coldwell banker realty",
                  "Donations by title": 1
                },
                {
                  "index": 611,
                  "donor_title": "customer sales manager - google",
                  "Donations by title": 1
                },
                {
                  "index": 612,
                  "donor_title": "telecommunications - infinera",
                  "Donations by title": 1
                },
                {
                  "index": 613,
                  "donor_title": "enumerator - us census",
                  "Donations by title": 1
                },
                {
                  "index": 614,
                  "donor_title": "ceo - state flower",
                  "Donations by title": 1
                },
                {
                  "index": 615,
                  "donor_title": "adjunct lecturer - santa clara university",
                  "Donations by title": 1
                },
                {
                  "index": 616,
                  "donor_title": "business owner - culinary enterprises inc",
                  "Donations by title": 1
                },
                {
                  "index": 617,
                  "donor_title": "accounting - county of santa cruz",
                  "Donations by title": 1
                },
                {
                  "index": 618,
                  "donor_title": "manager - santa cruz toyota",
                  "Donations by title": 1
                },
                {
                  "index": 619,
                  "donor_title": "cardiologist - pamfg",
                  "Donations by title": 1
                },
                {
                  "index": 620,
                  "donor_title": "organic farmer",
                  "Donations by title": 1
                },
                {
                  "index": 621,
                  "donor_title": "government relations - pg&e",
                  "Donations by title": 1
                },
                {
                  "index": 622,
                  "donor_title": "project manager - inoutsource",
                  "Donations by title": 1
                },
                {
                  "index": 623,
                  "donor_title": "analyst - sc county",
                  "Donations by title": 1
                },
                {
                  "index": 624,
                  "donor_title": "web developer - self",
                  "Donations by title": 1
                },
                {
                  "index": 625,
                  "donor_title": "president & ceo - o'neill wetsuits llc",
                  "Donations by title": 1
                },
                {
                  "index": 626,
                  "donor_title": "coo - b-yond, inc.",
                  "Donations by title": 1
                },
                {
                  "index": 627,
                  "donor_title": "director - genomics institute, ucsc",
                  "Donations by title": 1
                },
                {
                  "index": 628,
                  "donor_title": "id# 820082",
                  "Donations by title": 1
                },
                {
                  "index": 629,
                  "donor_title": "researcher - ipas",
                  "Donations by title": 1
                },
                {
                  "index": 630,
                  "donor_title": "attorney - thompson, kontz & brenner",
                  "Donations by title": 1
                },
                {
                  "index": 631,
                  "donor_title": "investor - guy vachon",
                  "Donations by title": 1
                },
                {
                  "index": 632,
                  "donor_title": "realtor - exp realty of california, inc",
                  "Donations by title": 1
                },
                {
                  "index": 633,
                  "donor_title": "management - spring education",
                  "Donations by title": 1
                },
                {
                  "index": 634,
                  "donor_title": "manager - santa cruz coffee",
                  "Donations by title": 1
                },
                {
                  "index": 635,
                  "donor_title": "president & ceo - gateway health management",
                  "Donations by title": 1
                },
                {
                  "index": 636,
                  "donor_title": "insurance broker - w. b. tubbs insurance agency",
                  "Donations by title": 1
                },
                {
                  "index": 637,
                  "donor_title": "pilot - united airlines",
                  "Donations by title": 1
                },
                {
                  "index": 638,
                  "donor_title": "math instructor - gavilan community college",
                  "Donations by title": 1
                },
                {
                  "index": 639,
                  "donor_title": "analyst - ucsc",
                  "Donations by title": 1
                },
                {
                  "index": 640,
                  "donor_title": "ceo - food revolution network",
                  "Donations by title": 1
                },
                {
                  "index": 641,
                  "donor_title": "vp of experience - sereno group",
                  "Donations by title": 1
                },
                {
                  "index": 642,
                  "donor_title": "cfo - devcon construction",
                  "Donations by title": 1
                },
                {
                  "index": 643,
                  "donor_title": "consultant.- intact, inc",
                  "Donations by title": 1
                },
                {
                  "index": 644,
                  "donor_title": "district manager - farmers insurance",
                  "Donations by title": 1
                },
                {
                  "index": 645,
                  "donor_title": "cto - venova",
                  "Donations by title": 1
                },
                {
                  "index": 646,
                  "donor_title": "ceo - santa cruz seaside company",
                  "Donations by title": 1
                },
                {
                  "index": 647,
                  "donor_title": "ceo - community bridges",
                  "Donations by title": 1
                },
                {
                  "index": 648,
                  "donor_title": "owner - fitz fresh mushrooms",
                  "Donations by title": 1
                },
                {
                  "index": 649,
                  "donor_title": "admin assistant - santa crux county regional transportation commission",
                  "Donations by title": 1
                },
                {
                  "index": 650,
                  "donor_title": "social impact consultant - s/e robyn mckeen",
                  "Donations by title": 1
                },
                {
                  "index": 651,
                  "donor_title": "real estate broker/owner - michael lavigne real estate",
                  "Donations by title": 1
                },
                {
                  "index": 652,
                  "donor_title": "affordable housing developer - envision housing",
                  "Donations by title": 1
                },
                {
                  "index": 653,
                  "donor_title": "non-profit foodwhat",
                  "Donations by title": 1
                },
                {
                  "index": 654,
                  "donor_title": "customer service - pathways alliance",
                  "Donations by title": 1
                },
                {
                  "index": 655,
                  "donor_title": "strategy executive - driscoll's",
                  "Donations by title": 1
                },
                {
                  "index": 656,
                  "donor_title": "civil engineer - mge engineering inc",
                  "Donations by title": 1
                },
                {
                  "index": 657,
                  "donor_title": "ceo - santa cruz beach boardwalk",
                  "Donations by title": 1
                },
                {
                  "index": 658,
                  "donor_title": "educator - san jose state university",
                  "Donations by title": 1
                },
                {
                  "index": 659,
                  "donor_title": "accountant - threshold enterprises",
                  "Donations by title": 1
                },
                {
                  "index": 660,
                  "donor_title": "analyst - county of santa cruz",
                  "Donations by title": 1
                },
                {
                  "index": 661,
                  "donor_title": "owner - imura japanese restaurant",
                  "Donations by title": 1
                }
              ]
            }
          },
          "metadata": {}
        }
      ],
      "execution_count": null,
      "metadata": {
        "dx": {
          "annotationsRulesByID": {
            "first-view": [],
            "transitory": {
              "first-view": []
            }
          },
          "dashboard": {
            "multiViews": []
          },
          "decoration": {},
          "fieldMetadata": {
            "Donation totals by title": {
              "columnPosition": 2
            },
            "Donations by title": {
              "columnPosition": 2
            },
            "donor_title": {
              "columnPosition": 3
            },
            "index": {
              "columnPosition": 1
            }
          },
          "mode": "exploration",
          "sampling": {
            "sampleSeed": 486133782193,
            "sampleSize": 10000,
            "sampleStrategy": "none"
          },
          "simpleTable": false,
          "styles": {
            "colors": []
          },
          "updated": 1655607448773,
          "views": [
            {
              "annotationRules": [],
              "chart": {
                "adjacencyList": "donor_title",
                "areaType": "hexbin",
                "barGrouping": "Clustered",
                "barProjection": "vertical",
                "barSubcategory": "none",
                "baseLayer": "world",
                "baseLayerFill": "#FFFFFF",
                "baseLayerStroke": "#000000",
                "bgColor": "none",
                "boundingSettings": {
                  "Donations by title": {
                    "lowerBoundingMetric": "none",
                    "upperBoundingMetric": "none"
                  },
                  "index": {
                    "lowerBoundingMetric": "none",
                    "upperBoundingMetric": "none"
                  }
                },
                "boundingType": "absolute",
                "boxplotOutliers": false,
                "candleClose": "Donations by title",
                "candleHigh": "Donations by title",
                "candleLow": "Donations by title",
                "candleOpen": "Donations by title",
                "candlestickMode": false,
                "combinationMode": "AVG",
                "deselectedKeysHash": {},
                "dim1": "index",
                "dim2": "donor_title",
                "dim3": "none",
                "edgeMode": "edge list",
                "facetMetrics": [],
                "filteredDataOnly": "All Data",
                "funnelData": "metric",
                "funnelMetricOrder": [
                  "index",
                  "Donations by title"
                ],
                "funnelMode": "bar",
                "hierarchyType": "dendrogram",
                "layerSettings": [
                  {
                    "color": "#000000",
                    "hoverOpts": {
                      "dims": [
                        "index",
                        "donor_title"
                      ],
                      "mets": [
                        "index",
                        "Donations by title"
                      ]
                    },
                    "id": "3a5b9960-06c2-42fa-8348-2856e110b1f5",
                    "latDim": "index",
                    "longDim": "Donations by title",
                    "pointSizeOpts": {
                      "max": 721,
                      "met": "index",
                      "min": 0,
                      "mode": "functional",
                      "scale": "Linear",
                      "size": 2,
                      "sizeMax": 10,
                      "sizeMin": 1
                    },
                    "size": 2,
                    "stroke": "#000000",
                    "strokeWidth": 1,
                    "transparency": 0.9,
                    "type": "point"
                  }
                ],
                "lineSmoothing": "none",
                "lineType": "line",
                "mapMode": "point",
                "mapZoom": "basemap",
                "marginalGraphics": "none",
                "metric1": "index",
                "metric2": "Donations by title",
                "metric3": "none",
                "metric4": "none",
                "networkLabel": "none",
                "networkType": "force",
                "parCoordsColor": "none",
                "pieceType": "bar",
                "pointBarMode": "bar",
                "primaryKey": [],
                "proBarMode": "Combined",
                "scatterplotColor": "none",
                "secondBarMetric": "none",
                "selectedDimensions": [
                  "index"
                ],
                "selectedMetrics": [],
                "showContours": false,
                "showTotal": true,
                "sortColumnsBy": "asc-val",
                "sparkchart": "none",
                "splitLinesBy": "none",
                "splomMode": "correlation",
                "summaryBins": 30,
                "summaryType": "violin",
                "surveyResponses": {
                  "negative": [],
                  "neutral": [],
                  "positive": []
                },
                "timeseriesSort": "none",
                "tokenMetric": "Donations by title",
                "trendLine": "none",
                "violinIQR": false
              },
              "chartMode": "grid",
              "decoration": {
                "footer": "",
                "subtitle": "",
                "title": "Table"
              },
              "filterSettings": {
                "SHOW_FILTER_PANEL": true,
                "filters": []
              },
              "id": "first-view",
              "isDefault": true,
              "type": "public",
              "userID": ""
            },
            {
              "annotationRules": [],
              "chart": {
                "adjacencyList": "donor_title",
                "areaType": "hexbin",
                "barGrouping": "Clustered",
                "barProjection": "vertical",
                "barSubcategory": "none",
                "baseLayer": "world",
                "baseLayerFill": "#FFFFFF",
                "baseLayerStroke": "#000000",
                "bgColor": "none",
                "boundingSettings": {
                  "Donations by title": {
                    "lowerBoundingMetric": "none",
                    "upperBoundingMetric": "none"
                  },
                  "index": {
                    "lowerBoundingMetric": "none",
                    "upperBoundingMetric": "none"
                  }
                },
                "boundingType": "absolute",
                "boxplotOutliers": false,
                "candleClose": "Donations by title",
                "candleHigh": "Donations by title",
                "candleLow": "Donations by title",
                "candleOpen": "Donations by title",
                "candlestickMode": false,
                "combinationMode": "AVG",
                "deselectedKeysHash": {},
                "dim1": "donor_title",
                "dim2": "donor_title",
                "dim3": "none",
                "edgeMode": "edge list",
                "facetMetrics": [],
                "filteredDataOnly": "All Data",
                "funnelData": "metric",
                "funnelMetricOrder": [
                  "index",
                  "Donations by title"
                ],
                "funnelMode": "bar",
                "hierarchyType": "dendrogram",
                "layerSettings": [
                  {
                    "color": "#000000",
                    "hoverOpts": {
                      "dims": [
                        "index",
                        "donor_title"
                      ],
                      "mets": [
                        "index",
                        "Donations by title"
                      ]
                    },
                    "id": "3a5b9960-06c2-42fa-8348-2856e110b1f5",
                    "latDim": "index",
                    "longDim": "Donations by title",
                    "pointSizeOpts": {
                      "max": 721,
                      "met": "index",
                      "min": 0,
                      "mode": "functional",
                      "scale": "Linear",
                      "size": 2,
                      "sizeMax": 10,
                      "sizeMin": 1
                    },
                    "size": 2,
                    "stroke": "#000000",
                    "strokeWidth": 1,
                    "transparency": 0.9,
                    "type": "point"
                  }
                ],
                "lineSmoothing": "none",
                "lineType": "line",
                "mapMode": "point",
                "mapZoom": "basemap",
                "marginalGraphics": "none",
                "metric1": "Donations by title",
                "metric2": "Donations by title",
                "metric3": "none",
                "metric4": "none",
                "networkLabel": "none",
                "networkType": "force",
                "parCoordsColor": "none",
                "pieceType": "bar",
                "pointBarMode": "bar",
                "primaryKey": [],
                "proBarMode": "Combined",
                "scatterplotColor": "none",
                "secondBarMetric": "none",
                "selectedDimensions": [
                  "index"
                ],
                "selectedMetrics": [],
                "showContours": false,
                "showTotal": true,
                "sortColumnsBy": "desc-val",
                "sparkchart": "none",
                "splitLinesBy": "none",
                "splomMode": "correlation",
                "summaryBins": 30,
                "summaryType": "scatter",
                "surveyResponses": {
                  "negative": [],
                  "neutral": [],
                  "positive": []
                },
                "timeseriesSort": "none",
                "tokenMetric": "Donations by title",
                "trendLine": "none",
                "violinIQR": false
              },
              "chartMode": "bar",
              "confoRules": [
                {
                  "colorOpts": {
                    "color": null,
                    "colorsHash": null,
                    "cond": null,
                    "gradient": "Turbo",
                    "max": 73460,
                    "min": 20,
                    "mode": "gradient",
                    "scale": "Linear",
                    "thresholdColors": null,
                    "thresholdValues": null
                  },
                  "columnType": "Metric",
                  "fieldName": "Donations by title",
                  "id": "0e72c4c1-8080-4f96-b729-a893c988c8c0",
                  "index": 0,
                  "name": ""
                },
                {
                  "colorOpts": {
                    "color": null,
                    "colorsHash": null,
                    "cond": null,
                    "gradient": "Turbo",
                    "max": 73460,
                    "min": 20,
                    "mode": "gradient",
                    "scale": "Linear",
                    "thresholdColors": null,
                    "thresholdValues": null
                  },
                  "columnType": "Metric",
                  "fieldName": "Donation totals by title",
                  "id": "41b84c4a-f8ab-4fe9-907a-7b130dc3e765",
                  "index": 1,
                  "name": ""
                },
                {
                  "colorOpts": {
                    "color": null,
                    "colorsHash": null,
                    "cond": null,
                    "gradient": "Turbo",
                    "max": 405,
                    "min": 1,
                    "mode": "gradient",
                    "scale": "Linear",
                    "thresholdColors": null,
                    "thresholdValues": null
                  },
                  "columnType": "Metric",
                  "fieldName": "Donations by title",
                  "id": "cb4455e9-d4d9-4e07-b30c-eb78ca553a7e",
                  "index": 2,
                  "name": ""
                }
              ],
              "decoration": {
                "footer": "",
                "subtitle": "",
                "title": "Table"
              },
              "filterSettings": {
                "SHOW_FILTER_PANEL": false,
                "filters": [
                  {
                    "column": "index",
                    "filterOrder": 1,
                    "predicate": "between",
                    "type": "METRIC_FILTER",
                    "value": [
                      0,
                      5
                    ]
                  }
                ]
              },
              "id": "first-view",
              "isComment": false,
              "isDefault": true,
              "isTransitory": true,
              "type": "public",
              "userID": ""
            }
          ]
        },
        "noteable": {
          "cell_type": "sql",
          "db_connection": "@2b38d1248d17413982b2e98f93c4c20e"
        },
        "jupyter": {
          "source_hidden": true
        }
      },
      "id": "fb545c68-6861-4d01-9c71-26ed4ec44454"
    },
    {
      "cell_type": "markdown",
      "source": [
        "# Out-of-state donations?"
      ],
      "metadata": {
        "noteable": {
          "cell_type": "markdown"
        }
      },
      "id": "17de8f02-98c3-4859-a7c0-cf0fae851746"
    },
    {
      "cell_type": "code",
      "source": [
        "%%sql @2b38d1248d17413982b2e98f93c4c20e\n",
        "select\n",
        "    race,\n",
        "    candidate,\n",
        "    sum(amount) as \"Total out of state donations\",\n",
        "    count(*) as \"Number out of state donations\"\n",
        "from\n",
        "    donations\n",
        "where donor_state != 'CA'\n",
        "group by 1, 2\n",
        "order by 3 desc"
      ],
      "outputs": [
        {
          "output_type": "execute_result",
          "execution_count": 49,
          "data": {
            "application/vnd.dataresource+json": {
              "schema": {
                "fields": [
                  {
                    "name": "index",
                    "type": "integer"
                  },
                  {
                    "name": "race",
                    "type": "string"
                  },
                  {
                    "name": "candidate",
                    "type": "string"
                  },
                  {
                    "name": "Total out of state donations",
                    "type": "number"
                  },
                  {
                    "name": "Number out of state donations",
                    "type": "integer"
                  }
                ],
                "primaryKey": [
                  "index"
                ],
                "pandas_version": "1.4.0"
              },
              "data": [
                {
                  "index": 0,
                  "race": "Santa Cruz City Council",
                  "candidate": "Kayla Kumar",
                  "Total out of state donations": 3420,
                  "Number out of state donations": 16
                },
                {
                  "index": 1,
                  "race": "County supervisor District 1",
                  "candidate": "Manu Koenig",
                  "Total out of state donations": 2100,
                  "Number out of state donations": 8
                },
                {
                  "index": 2,
                  "race": "County supervisor District 1",
                  "candidate": "John Leopold",
                  "Total out of state donations": 1550,
                  "Number out of state donations": 8
                },
                {
                  "index": 3,
                  "race": "Santa Cruz City Council",
                  "candidate": "Sonja Brunner",
                  "Total out of state donations": 1123.99,
                  "Number out of state donations": 5
                },
                {
                  "index": 4,
                  "race": "Santa Cruz City Council",
                  "candidate": "Martine Watkins",
                  "Total out of state donations": 1000,
                  "Number out of state donations": 6
                },
                {
                  "index": 5,
                  "race": "Santa Cruz City Council",
                  "candidate": "Sandy Brown",
                  "Total out of state donations": 700,
                  "Number out of state donations": 2
                },
                {
                  "index": 6,
                  "race": "Santa Cruz City Council",
                  "candidate": "Shebreh Kalantari-Johnson",
                  "Total out of state donations": 700,
                  "Number out of state donations": 2
                },
                {
                  "index": 7,
                  "race": "Capitola City Council",
                  "candidate": "Margaux Keiser",
                  "Total out of state donations": 600,
                  "Number out of state donations": 5
                },
                {
                  "index": 8,
                  "race": "Santa Cruz City Council",
                  "candidate": "Elizabeth Conlan",
                  "Total out of state donations": 500,
                  "Number out of state donations": 4
                },
                {
                  "index": 9,
                  "race": "Watsonville City Council",
                  "candidate": "Jimmy Dutra",
                  "Total out of state donations": 300,
                  "Number out of state donations": 3
                },
                {
                  "index": 10,
                  "race": "Scotts Valley City Council",
                  "candidate": "Donna Lind",
                  "Total out of state donations": 200,
                  "Number out of state donations": 2
                },
                {
                  "index": 11,
                  "race": "Scotts Valley City Council",
                  "candidate": "Jack Dilles",
                  "Total out of state donations": 200,
                  "Number out of state donations": 2
                },
                {
                  "index": 12,
                  "race": "Santa Cruz City Council",
                  "candidate": "Kelsey Hill",
                  "Total out of state donations": 100,
                  "Number out of state donations": 1
                },
                {
                  "index": 13,
                  "race": "Santa Cruz City Council",
                  "candidate": "Maria Cadenas",
                  "Total out of state donations": 100,
                  "Number out of state donations": 1
                }
              ]
            }
          },
          "metadata": {}
        }
      ],
      "execution_count": null,
      "metadata": {
        "dx": {
          "annotationsRulesByID": {
            "first-view": [],
            "transitory": {
              "first-view": []
            }
          },
          "dashboard": {
            "multiViews": []
          },
          "decoration": {},
          "fieldMetadata": {
            "Number out of state donations": {
              "columnPosition": 2
            },
            "Total out of state donations": {
              "columnPosition": 3
            },
            "candidate": {
              "columnPosition": 4
            },
            "index": {
              "columnPosition": 1
            },
            "race": {
              "columnPosition": 5
            }
          },
          "mode": "exploration",
          "sampling": {
            "sampleSeed": 8709512855,
            "sampleSize": 10000,
            "sampleStrategy": "none"
          },
          "simpleTable": false,
          "styles": {
            "colors": []
          },
          "updated": 1655607758000,
          "views": [
            {
              "annotationRules": [],
              "chart": {
                "adjacencyList": "race",
                "areaType": "hexbin",
                "barGrouping": "Clustered",
                "barProjection": "vertical",
                "barSubcategory": "none",
                "baseLayer": "world",
                "baseLayerFill": "#FFFFFF",
                "baseLayerStroke": "#000000",
                "bgColor": "none",
                "boundingSettings": {
                  "Number out of state donations": {
                    "lowerBoundingMetric": "none",
                    "upperBoundingMetric": "none"
                  },
                  "Total out of state donations": {
                    "lowerBoundingMetric": "none",
                    "upperBoundingMetric": "none"
                  },
                  "index": {
                    "lowerBoundingMetric": "none",
                    "upperBoundingMetric": "none"
                  }
                },
                "boundingType": "absolute",
                "boxplotOutliers": false,
                "candleClose": "Total out of state donations",
                "candleHigh": "Total out of state donations",
                "candleLow": "Total out of state donations",
                "candleOpen": "Total out of state donations",
                "candlestickMode": false,
                "combinationMode": "AVG",
                "deselectedKeysHash": {},
                "dim1": "index",
                "dim2": "race",
                "dim3": "none",
                "edgeMode": "edge list",
                "facetMetrics": [],
                "filteredDataOnly": "All Data",
                "funnelData": "metric",
                "funnelMetricOrder": [
                  "index",
                  "Total out of state donations",
                  "Number out of state donations"
                ],
                "funnelMode": "bar",
                "hierarchyType": "dendrogram",
                "layerSettings": [
                  {
                    "color": "#000000",
                    "hoverOpts": {
                      "dims": [
                        "index",
                        "race",
                        "candidate",
                        "Number out of state donations"
                      ],
                      "mets": [
                        "index",
                        "Total out of state donations",
                        "Number out of state donations"
                      ]
                    },
                    "id": "9e7c67c0-2494-4249-8bd3-c438ef07ad7c",
                    "latDim": "index",
                    "longDim": "Total out of state donations",
                    "pointSizeOpts": {
                      "max": 13,
                      "met": "index",
                      "min": 0,
                      "mode": "functional",
                      "scale": "Linear",
                      "size": 2,
                      "sizeMax": 10,
                      "sizeMin": 1
                    },
                    "size": 2,
                    "stroke": "#000000",
                    "strokeWidth": 1,
                    "transparency": 0.9,
                    "type": "point"
                  }
                ],
                "lineSmoothing": "none",
                "lineType": "line",
                "mapMode": "point",
                "mapZoom": "basemap",
                "marginalGraphics": "none",
                "metric1": "index",
                "metric2": "Total out of state donations",
                "metric3": "none",
                "metric4": "none",
                "networkLabel": "none",
                "networkType": "force",
                "parCoordsColor": "none",
                "pieceType": "bar",
                "pointBarMode": "bar",
                "primaryKey": [],
                "proBarMode": "Combined",
                "scatterplotColor": "none",
                "secondBarMetric": "none",
                "selectedDimensions": [
                  "race"
                ],
                "selectedMetrics": [],
                "showContours": false,
                "showTotal": true,
                "sortColumnsBy": "asc-val",
                "sparkchart": "none",
                "splitLinesBy": "none",
                "splomMode": "correlation",
                "summaryBins": 30,
                "summaryType": "violin",
                "surveyResponses": {
                  "negative": [],
                  "neutral": [],
                  "positive": []
                },
                "timeseriesSort": "none",
                "tokenMetric": "Total out of state donations",
                "trendLine": "none",
                "violinIQR": false
              },
              "chartMode": "grid",
              "decoration": {
                "footer": "",
                "subtitle": "",
                "title": "Table"
              },
              "filterSettings": {
                "SHOW_FILTER_PANEL": true,
                "filters": []
              },
              "id": "first-view",
              "isDefault": true,
              "type": "public",
              "userID": ""
            },
            {
              "annotationRules": [],
              "chart": {
                "adjacencyList": "race",
                "areaType": "hexbin",
                "barGrouping": "Clustered",
                "barProjection": "vertical",
                "barSubcategory": "none",
                "baseLayer": "world",
                "baseLayerFill": "#FFFFFF",
                "baseLayerStroke": "#000000",
                "bgColor": "none",
                "boundingSettings": {
                  "Number out of state donations": {
                    "lowerBoundingMetric": "none",
                    "upperBoundingMetric": "none"
                  },
                  "Total out of state donations": {
                    "lowerBoundingMetric": "none",
                    "upperBoundingMetric": "none"
                  },
                  "index": {
                    "lowerBoundingMetric": "none",
                    "upperBoundingMetric": "none"
                  }
                },
                "boundingType": "absolute",
                "boxplotOutliers": false,
                "candleClose": "Total out of state donations",
                "candleHigh": "Total out of state donations",
                "candleLow": "Total out of state donations",
                "candleOpen": "Total out of state donations",
                "candlestickMode": false,
                "combinationMode": "AVG",
                "deselectedKeysHash": {},
                "dim1": "candidate",
                "dim2": "race",
                "dim3": "none",
                "edgeMode": "edge list",
                "facetMetrics": [],
                "facets": [
                  {
                    "filtering": {
                      "filter": {
                        "column": "race",
                        "predicate": "in",
                        "type": "DIMENSION_FILTER",
                        "value": [
                          "Santa Cruz City Council"
                        ]
                      }
                    },
                    "name": "race",
                    "title": "race: Santa Cruz City Council"
                  },
                  {
                    "filtering": {
                      "filter": {
                        "column": "race",
                        "predicate": "in",
                        "type": "DIMENSION_FILTER",
                        "value": [
                          "County supervisor District 1"
                        ]
                      }
                    },
                    "name": "race",
                    "title": "race: County supervisor District 1"
                  },
                  {
                    "filtering": {
                      "filter": {
                        "column": "race",
                        "predicate": "in",
                        "type": "DIMENSION_FILTER",
                        "value": [
                          "Scotts Valley City Council"
                        ]
                      }
                    },
                    "name": "race",
                    "title": "race: Scotts Valley City Council"
                  },
                  {
                    "filtering": {
                      "filter": {
                        "column": "race",
                        "predicate": "in",
                        "type": "DIMENSION_FILTER",
                        "value": [
                          "Capitola City Council"
                        ]
                      }
                    },
                    "name": "race",
                    "title": "race: Capitola City Council"
                  },
                  {
                    "filtering": {
                      "filter": {
                        "column": "race",
                        "predicate": "in",
                        "type": "DIMENSION_FILTER",
                        "value": [
                          "Watsonville City Council"
                        ]
                      }
                    },
                    "name": "race",
                    "title": "race: Watsonville City Council"
                  }
                ],
                "filteredDataOnly": "All Data",
                "funnelData": "metric",
                "funnelMetricOrder": [
                  "index",
                  "Total out of state donations",
                  "Number out of state donations"
                ],
                "funnelMode": "bar",
                "hierarchyType": "dendrogram",
                "layerSettings": [
                  {
                    "color": "#000000",
                    "hoverOpts": {
                      "dims": [
                        "index",
                        "race",
                        "candidate",
                        "Number out of state donations"
                      ],
                      "mets": [
                        "index",
                        "Total out of state donations",
                        "Number out of state donations"
                      ]
                    },
                    "id": "9e7c67c0-2494-4249-8bd3-c438ef07ad7c",
                    "latDim": "index",
                    "longDim": "Total out of state donations",
                    "pointSizeOpts": {
                      "max": 13,
                      "met": "index",
                      "min": 0,
                      "mode": "functional",
                      "scale": "Linear",
                      "size": 2,
                      "sizeMax": 10,
                      "sizeMin": 1
                    },
                    "size": 2,
                    "stroke": "#000000",
                    "strokeWidth": 1,
                    "transparency": 0.9,
                    "type": "point"
                  }
                ],
                "lineSmoothing": "none",
                "lineType": "line",
                "mapMode": "point",
                "mapZoom": "basemap",
                "marginalGraphics": "none",
                "metric1": "Number out of state donations",
                "metric2": "Total out of state donations",
                "metric3": "none",
                "metric4": "none",
                "networkLabel": "none",
                "networkType": "force",
                "parCoordsColor": "none",
                "pieceType": "bar",
                "pointBarMode": "bar",
                "primaryKey": [],
                "proBarMode": "Combined",
                "scatterplotColor": "none",
                "secondBarMetric": "none",
                "selectedDimensions": [
                  "race"
                ],
                "selectedMetrics": [],
                "showContours": false,
                "showTotal": true,
                "sortColumnsBy": "desc-val",
                "sparkchart": "none",
                "splitLinesBy": "none",
                "splomMode": "correlation",
                "summaryBins": 30,
                "summaryType": "scatter",
                "surveyResponses": {
                  "negative": [],
                  "neutral": [],
                  "positive": []
                },
                "timeseriesSort": "none",
                "tokenMetric": "Total out of state donations",
                "trendLine": "none",
                "violinIQR": false
              },
              "chartMode": "bar",
              "confoRules": [
                {
                  "colorOpts": {
                    "color": null,
                    "colorsHash": null,
                    "cond": null,
                    "gradient": "Turbo",
                    "max": 3420,
                    "min": 100,
                    "mode": "gradient",
                    "scale": "Linear",
                    "thresholdColors": null,
                    "thresholdValues": null
                  },
                  "columnType": "Metric",
                  "fieldName": "Total out of state donations",
                  "id": "2defecf1-4605-41d8-8dd0-c6891257affe",
                  "index": 0,
                  "name": ""
                },
                {
                  "colorOpts": {
                    "color": null,
                    "colorsHash": null,
                    "cond": null,
                    "gradient": "Viridis",
                    "max": 16,
                    "min": 1,
                    "mode": "gradient",
                    "scale": "Linear",
                    "thresholdColors": null,
                    "thresholdValues": null
                  },
                  "columnType": "Metric",
                  "fieldName": "Number out of state donations",
                  "id": "2e4c8088-290c-4699-85a2-3f34c278e027",
                  "index": 1,
                  "name": ""
                }
              ],
              "decoration": {
                "footer": "",
                "subtitle": "",
                "title": "Table"
              },
              "filterSettings": {
                "SHOW_FILTER_PANEL": true,
                "filters": []
              },
              "id": "first-view",
              "isDefault": true,
              "isTransitory": true,
              "type": "public",
              "userID": ""
            }
          ]
        },
        "noteable": {
          "cell_type": "sql",
          "db_connection": "@2b38d1248d17413982b2e98f93c4c20e"
        },
        "jupyter": {
          "source_hidden": true,
          "outputs_hidden": false
        }
      },
      "id": "6635095a-b3db-46aa-bb35-df50308abebb"
    },
    {
      "cell_type": "code",
      "source": [
        "%%sql @2b38d1248d17413982b2e98f93c4c20e\n",
        "select\n",
        "    race,\n",
        "    candidate,\n",
        "    sum(amount) as \"Total out of state donations\",\n",
        "    count(*) as \"Number out of state donations\"\n",
        "from\n",
        "    donations\n",
        "where donor_state != 'CA'\n",
        "group by 1, 2\n",
        "order by 3 desc"
      ],
      "outputs": [
        {
          "output_type": "execute_result",
          "execution_count": 50,
          "data": {
            "application/vnd.dataresource+json": {
              "schema": {
                "fields": [
                  {
                    "name": "index",
                    "type": "integer"
                  },
                  {
                    "name": "race",
                    "type": "string"
                  },
                  {
                    "name": "candidate",
                    "type": "string"
                  },
                  {
                    "name": "Total out of state donations",
                    "type": "number"
                  },
                  {
                    "name": "Number out of state donations",
                    "type": "integer"
                  }
                ],
                "primaryKey": [
                  "index"
                ],
                "pandas_version": "1.4.0"
              },
              "data": [
                {
                  "index": 0,
                  "race": "Santa Cruz City Council",
                  "candidate": "Kayla Kumar",
                  "Total out of state donations": 3420,
                  "Number out of state donations": 16
                },
                {
                  "index": 1,
                  "race": "County supervisor District 1",
                  "candidate": "Manu Koenig",
                  "Total out of state donations": 2100,
                  "Number out of state donations": 8
                },
                {
                  "index": 2,
                  "race": "County supervisor District 1",
                  "candidate": "John Leopold",
                  "Total out of state donations": 1550,
                  "Number out of state donations": 8
                },
                {
                  "index": 3,
                  "race": "Santa Cruz City Council",
                  "candidate": "Sonja Brunner",
                  "Total out of state donations": 1123.99,
                  "Number out of state donations": 5
                },
                {
                  "index": 4,
                  "race": "Santa Cruz City Council",
                  "candidate": "Martine Watkins",
                  "Total out of state donations": 1000,
                  "Number out of state donations": 6
                },
                {
                  "index": 5,
                  "race": "Santa Cruz City Council",
                  "candidate": "Sandy Brown",
                  "Total out of state donations": 700,
                  "Number out of state donations": 2
                },
                {
                  "index": 6,
                  "race": "Santa Cruz City Council",
                  "candidate": "Shebreh Kalantari-Johnson",
                  "Total out of state donations": 700,
                  "Number out of state donations": 2
                },
                {
                  "index": 7,
                  "race": "Capitola City Council",
                  "candidate": "Margaux Keiser",
                  "Total out of state donations": 600,
                  "Number out of state donations": 5
                },
                {
                  "index": 8,
                  "race": "Santa Cruz City Council",
                  "candidate": "Elizabeth Conlan",
                  "Total out of state donations": 500,
                  "Number out of state donations": 4
                },
                {
                  "index": 9,
                  "race": "Watsonville City Council",
                  "candidate": "Jimmy Dutra",
                  "Total out of state donations": 300,
                  "Number out of state donations": 3
                },
                {
                  "index": 10,
                  "race": "Scotts Valley City Council",
                  "candidate": "Donna Lind",
                  "Total out of state donations": 200,
                  "Number out of state donations": 2
                },
                {
                  "index": 11,
                  "race": "Scotts Valley City Council",
                  "candidate": "Jack Dilles",
                  "Total out of state donations": 200,
                  "Number out of state donations": 2
                },
                {
                  "index": 12,
                  "race": "Santa Cruz City Council",
                  "candidate": "Kelsey Hill",
                  "Total out of state donations": 100,
                  "Number out of state donations": 1
                },
                {
                  "index": 13,
                  "race": "Santa Cruz City Council",
                  "candidate": "Maria Cadenas",
                  "Total out of state donations": 100,
                  "Number out of state donations": 1
                }
              ]
            }
          },
          "metadata": {}
        }
      ],
      "execution_count": null,
      "metadata": {
        "noteable": {
          "cell_type": "sql",
          "db_connection": "@2b38d1248d17413982b2e98f93c4c20e"
        },
        "dx": {
          "annotationsRulesByID": {
            "first-view": [],
            "transitory": {
              "first-view": []
            }
          },
          "dashboard": {
            "multiViews": []
          },
          "decoration": {},
          "fieldMetadata": {
            "Number out of state donations": {
              "columnPosition": 2
            },
            "Total out of state donations": {
              "columnPosition": 3
            },
            "candidate": {
              "columnPosition": 4
            },
            "index": {
              "columnPosition": 1
            },
            "race": {
              "columnPosition": 5
            }
          },
          "mode": "exploration",
          "sampling": {
            "sampleSeed": 8709512855,
            "sampleSize": 10000,
            "sampleStrategy": "none"
          },
          "simpleTable": false,
          "styles": {
            "colors": []
          },
          "updated": 1655607676345,
          "views": [
            {
              "chart": {
                "adjacencyList": "race",
                "areaType": "hexbin",
                "barGrouping": "Clustered",
                "barProjection": "vertical",
                "barSubcategory": "none",
                "baseLayer": "world",
                "baseLayerFill": "#FFFFFF",
                "baseLayerStroke": "#000000",
                "bgColor": "none",
                "boundingSettings": {
                  "Number out of state donations": {
                    "lowerBoundingMetric": "none",
                    "upperBoundingMetric": "none"
                  },
                  "Total out of state donations": {
                    "lowerBoundingMetric": "none",
                    "upperBoundingMetric": "none"
                  },
                  "index": {
                    "lowerBoundingMetric": "none",
                    "upperBoundingMetric": "none"
                  }
                },
                "boundingType": "absolute",
                "boxplotOutliers": false,
                "candleClose": "Total out of state donations",
                "candleHigh": "Total out of state donations",
                "candleLow": "Total out of state donations",
                "candleOpen": "Total out of state donations",
                "candlestickMode": false,
                "combinationMode": "AVG",
                "deselectedKeysHash": {},
                "dim1": "index",
                "dim2": "race",
                "dim3": "none",
                "edgeMode": "edge list",
                "facetMetrics": [],
                "filteredDataOnly": "All Data",
                "funnelData": "metric",
                "funnelMetricOrder": [
                  "index",
                  "Total out of state donations",
                  "Number out of state donations"
                ],
                "funnelMode": "bar",
                "hierarchyType": "dendrogram",
                "layerSettings": [
                  {
                    "color": "#000000",
                    "hoverOpts": {
                      "dims": [
                        "index",
                        "race",
                        "candidate",
                        "Number out of state donations"
                      ],
                      "mets": [
                        "index",
                        "Total out of state donations",
                        "Number out of state donations"
                      ]
                    },
                    "id": "9e7c67c0-2494-4249-8bd3-c438ef07ad7c",
                    "latDim": "index",
                    "longDim": "Total out of state donations",
                    "pointSizeOpts": {
                      "max": 13,
                      "met": "index",
                      "min": 0,
                      "mode": "functional",
                      "scale": "Linear",
                      "size": 2,
                      "sizeMax": 10,
                      "sizeMin": 1
                    },
                    "size": 2,
                    "stroke": "#000000",
                    "strokeWidth": 1,
                    "transparency": 0.9,
                    "type": "point"
                  }
                ],
                "lineSmoothing": "none",
                "lineType": "line",
                "mapMode": "point",
                "mapZoom": "basemap",
                "marginalGraphics": "none",
                "metric1": "index",
                "metric2": "Total out of state donations",
                "metric3": "none",
                "metric4": "none",
                "networkLabel": "none",
                "networkType": "force",
                "parCoordsColor": "none",
                "pieceType": "bar",
                "pointBarMode": "bar",
                "primaryKey": [],
                "proBarMode": "Combined",
                "scatterplotColor": "none",
                "secondBarMetric": "none",
                "selectedDimensions": [
                  "race"
                ],
                "selectedMetrics": [],
                "showContours": false,
                "showTotal": true,
                "sortColumnsBy": "asc-val",
                "sparkchart": "none",
                "splitLinesBy": "none",
                "splomMode": "correlation",
                "summaryBins": 30,
                "summaryType": "violin",
                "surveyResponses": {
                  "negative": [],
                  "neutral": [],
                  "positive": []
                },
                "timeseriesSort": "none",
                "tokenMetric": "Total out of state donations",
                "trendLine": "none",
                "violinIQR": false
              },
              "chartMode": "grid",
              "decoration": {
                "footer": "",
                "subtitle": "",
                "title": "Table"
              },
              "filterSettings": {
                "SHOW_FILTER_PANEL": true,
                "filters": []
              },
              "id": "first-view",
              "isDefault": true,
              "type": "public",
              "userID": ""
            },
            {
              "annotationRules": [],
              "chart": {
                "adjacencyList": "race",
                "areaType": "hexbin",
                "barGrouping": "Clustered",
                "barProjection": "vertical",
                "barSubcategory": "none",
                "baseLayer": "world",
                "baseLayerFill": "#FFFFFF",
                "baseLayerStroke": "#000000",
                "bgColor": "none",
                "boundingSettings": {
                  "Number out of state donations": {
                    "lowerBoundingMetric": "none",
                    "upperBoundingMetric": "none"
                  },
                  "Total out of state donations": {
                    "lowerBoundingMetric": "none",
                    "upperBoundingMetric": "none"
                  },
                  "index": {
                    "lowerBoundingMetric": "none",
                    "upperBoundingMetric": "none"
                  }
                },
                "boundingType": "absolute",
                "boxplotOutliers": false,
                "candleClose": "Total out of state donations",
                "candleHigh": "Total out of state donations",
                "candleLow": "Total out of state donations",
                "candleOpen": "Total out of state donations",
                "candlestickMode": false,
                "combinationMode": "AVG",
                "deselectedKeysHash": {},
                "dim1": "candidate",
                "dim2": "race",
                "dim3": "none",
                "edgeMode": "edge list",
                "facetMetrics": [],
                "facets": [
                  {
                    "filtering": {
                      "filter": {
                        "column": "race",
                        "predicate": "in",
                        "type": "DIMENSION_FILTER",
                        "value": [
                          "Santa Cruz City Council"
                        ]
                      }
                    },
                    "name": "race",
                    "title": "race: Santa Cruz City Council"
                  },
                  {
                    "filtering": {
                      "filter": {
                        "column": "race",
                        "predicate": "in",
                        "type": "DIMENSION_FILTER",
                        "value": [
                          "County supervisor District 1"
                        ]
                      }
                    },
                    "name": "race",
                    "title": "race: County supervisor District 1"
                  },
                  {
                    "filtering": {
                      "filter": {
                        "column": "race",
                        "predicate": "in",
                        "type": "DIMENSION_FILTER",
                        "value": [
                          "Scotts Valley City Council"
                        ]
                      }
                    },
                    "name": "race",
                    "title": "race: Scotts Valley City Council"
                  },
                  {
                    "filtering": {
                      "filter": {
                        "column": "race",
                        "predicate": "in",
                        "type": "DIMENSION_FILTER",
                        "value": [
                          "Capitola City Council"
                        ]
                      }
                    },
                    "name": "race",
                    "title": "race: Capitola City Council"
                  },
                  {
                    "filtering": {
                      "filter": {
                        "column": "race",
                        "predicate": "in",
                        "type": "DIMENSION_FILTER",
                        "value": [
                          "Watsonville City Council"
                        ]
                      }
                    },
                    "name": "race",
                    "title": "race: Watsonville City Council"
                  }
                ],
                "filteredDataOnly": "All Data",
                "funnelData": "metric",
                "funnelMetricOrder": [
                  "index",
                  "Total out of state donations",
                  "Number out of state donations"
                ],
                "funnelMode": "bar",
                "hierarchyType": "dendrogram",
                "layerSettings": [
                  {
                    "color": "#000000",
                    "hoverOpts": {
                      "dims": [
                        "index",
                        "race",
                        "candidate",
                        "Number out of state donations"
                      ],
                      "mets": [
                        "index",
                        "Total out of state donations",
                        "Number out of state donations"
                      ]
                    },
                    "id": "9e7c67c0-2494-4249-8bd3-c438ef07ad7c",
                    "latDim": "index",
                    "longDim": "Total out of state donations",
                    "pointSizeOpts": {
                      "max": 13,
                      "met": "index",
                      "min": 0,
                      "mode": "functional",
                      "scale": "Linear",
                      "size": 2,
                      "sizeMax": 10,
                      "sizeMin": 1
                    },
                    "size": 2,
                    "stroke": "#000000",
                    "strokeWidth": 1,
                    "transparency": 0.9,
                    "type": "point"
                  }
                ],
                "lineSmoothing": "none",
                "lineType": "line",
                "mapMode": "point",
                "mapZoom": "basemap",
                "marginalGraphics": "none",
                "metric1": "Total out of state donations",
                "metric2": "Total out of state donations",
                "metric3": "none",
                "metric4": "none",
                "networkLabel": "none",
                "networkType": "force",
                "parCoordsColor": "none",
                "pieceType": "bar",
                "pointBarMode": "bar",
                "primaryKey": [],
                "proBarMode": "Combined",
                "scatterplotColor": "none",
                "secondBarMetric": "none",
                "selectedDimensions": [
                  "race"
                ],
                "selectedMetrics": [],
                "showContours": false,
                "showTotal": true,
                "sortColumnsBy": "desc-val",
                "sparkchart": "none",
                "splitLinesBy": "none",
                "splomMode": "correlation",
                "summaryBins": 30,
                "summaryType": "scatter",
                "surveyResponses": {
                  "negative": [],
                  "neutral": [],
                  "positive": []
                },
                "timeseriesSort": "none",
                "tokenMetric": "Total out of state donations",
                "trendLine": "none",
                "violinIQR": false
              },
              "chartMode": "bar",
              "confoRules": [
                {
                  "colorOpts": {
                    "color": null,
                    "colorsHash": null,
                    "cond": null,
                    "gradient": "Turbo",
                    "max": 3420,
                    "min": 100,
                    "mode": "gradient",
                    "scale": "Linear",
                    "thresholdColors": null,
                    "thresholdValues": null
                  },
                  "columnType": "Metric",
                  "fieldName": "Total out of state donations",
                  "id": "2defecf1-4605-41d8-8dd0-c6891257affe",
                  "index": 0,
                  "name": ""
                }
              ],
              "decoration": {
                "footer": "",
                "subtitle": "",
                "title": "Table"
              },
              "filterSettings": {
                "SHOW_FILTER_PANEL": true,
                "filters": []
              },
              "id": "first-view",
              "isDefault": true,
              "isTransitory": true,
              "type": "public",
              "userID": ""
            }
          ]
        },
        "jupyter": {
          "source_hidden": false
        }
      },
      "id": "0207209e-971b-4ddc-ba66-76276621d44c"
    },
    {
      "cell_type": "code",
      "source": [
        "%%sql @2b38d1248d17413982b2e98f93c4c20e\n",
        "select * from donations where not donor_is_individual_person_or_family order by amount desc"
      ],
      "outputs": [
        {
          "output_type": "execute_result",
          "execution_count": 9,
          "data": {
            "application/vnd.dataresource+json": {
              "schema": {
                "fields": [
                  {
                    "name": "index",
                    "type": "integer"
                  },
                  {
                    "name": "donation_id",
                    "type": "integer"
                  },
                  {
                    "name": "donation_date",
                    "type": "string"
                  },
                  {
                    "name": "race",
                    "type": "string"
                  },
                  {
                    "name": "candidate",
                    "type": "string"
                  },
                  {
                    "name": "amount",
                    "type": "number"
                  },
                  {
                    "name": "donor",
                    "type": "string"
                  },
                  {
                    "name": "donor_title",
                    "type": "string"
                  },
                  {
                    "name": "donor_city",
                    "type": "string"
                  },
                  {
                    "name": "donor_state",
                    "type": "string"
                  },
                  {
                    "name": "donor_is_individual_person_or_family",
                    "type": "boolean"
                  },
                  {
                    "name": "notes",
                    "type": "string"
                  },
                  {
                    "name": "is_smart_union",
                    "type": "boolean"
                  },
                  {
                    "name": "candidate_last_name",
                    "type": "string"
                  },
                  {
                    "name": "donor_last_name",
                    "type": "string"
                  }
                ],
                "primaryKey": [
                  "index"
                ],
                "pandas_version": "1.4.0"
              },
              "data": [
                {
                  "index": 0,
                  "donation_id": 1474,
                  "donation_date": "2020-10-12T00:00:00.000Z",
                  "race": "Watsonville City Council",
                  "candidate": "Tony Gomez",
                  "amount": 1000,
                  "donor": "IBEW Local 234 PAC",
                  "donor_title": null,
                  "donor_city": "Vacaville",
                  "donor_state": "CA",
                  "donor_is_individual_person_or_family": false,
                  "notes": null,
                  "is_smart_union": false,
                  "candidate_last_name": "Gomez",
                  "donor_last_name": null
                },
                {
                  "index": 1,
                  "donation_id": 1229,
                  "donation_date": "2020-09-30T00:00:00.000Z",
                  "race": "County supervisor District 1",
                  "candidate": "John Leopold",
                  "amount": 1000,
                  "donor": "Political Action League forMonterey/Santa Cruz CountiesBuilding& Construction Trades Council",
                  "donor_title": "id# 850048",
                  "donor_city": "Castroville",
                  "donor_state": "CA",
                  "donor_is_individual_person_or_family": false,
                  "notes": null,
                  "is_smart_union": false,
                  "candidate_last_name": "Leopold",
                  "donor_last_name": null
                },
                {
                  "index": 2,
                  "donation_id": 966,
                  "donation_date": "2020-09-16T00:00:00.000Z",
                  "race": "County supervisor District 1",
                  "candidate": "John Leopold",
                  "amount": 1000,
                  "donor": "Re-Elect Fiona Ma for State Treasurer 2022",
                  "donor_title": "id# 1414254",
                  "donor_city": "Sacramento",
                  "donor_state": "CA",
                  "donor_is_individual_person_or_family": false,
                  "notes": null,
                  "is_smart_union": false,
                  "candidate_last_name": "Leopold",
                  "donor_last_name": null
                },
                {
                  "index": 3,
                  "donation_id": 967,
                  "donation_date": "2020-09-16T00:00:00.000Z",
                  "race": "County supervisor District 1",
                  "candidate": "John Leopold",
                  "amount": 1000,
                  "donor": "National UniCommittee of Healthcare Workers Candidate",
                  "donor_title": "id# 1318200",
                  "donor_city": "Sacramento",
                  "donor_state": "CA",
                  "donor_is_individual_person_or_family": false,
                  "notes": null,
                  "is_smart_union": false,
                  "candidate_last_name": "Leopold",
                  "donor_last_name": null
                },
                {
                  "index": 4,
                  "donation_id": 1120,
                  "donation_date": "2020-09-25T00:00:00.000Z",
                  "race": "Watsonville City Council",
                  "candidate": "Tony Gomez",
                  "amount": 500,
                  "donor": "Associated Builders and Contractors Northern CA Chapter PAC - All Purpose Account",
                  "donor_title": null,
                  "donor_city": "Livermore",
                  "donor_state": "CA",
                  "donor_is_individual_person_or_family": false,
                  "notes": null,
                  "is_smart_union": false,
                  "candidate_last_name": "Gomez",
                  "donor_last_name": null
                },
                {
                  "index": 5,
                  "donation_id": 1185,
                  "donation_date": "2020-09-28T00:00:00.000Z",
                  "race": "County supervisor District 1",
                  "candidate": "John Leopold",
                  "amount": 500,
                  "donor": "Pipe Trades District Council PAC #36",
                  "donor_title": "id# 910629",
                  "donor_city": "Fresno",
                  "donor_state": "CA",
                  "donor_is_individual_person_or_family": false,
                  "notes": null,
                  "is_smart_union": false,
                  "candidate_last_name": "Leopold",
                  "donor_last_name": null
                },
                {
                  "index": 6,
                  "donation_id": 1203,
                  "donation_date": "2020-09-29T00:00:00.000Z",
                  "race": "Watsonville City Council",
                  "candidate": "Jimmy Dutra",
                  "amount": 500,
                  "donor": "California Real Estate PAC (CREPAC)",
                  "donor_title": null,
                  "donor_city": "Los Angeles",
                  "donor_state": "CA",
                  "donor_is_individual_person_or_family": false,
                  "notes": null,
                  "is_smart_union": false,
                  "candidate_last_name": "Dutra",
                  "donor_last_name": null
                },
                {
                  "index": 7,
                  "donation_id": 500,
                  "donation_date": "2020-08-18T00:00:00.000Z",
                  "race": "Watsonville City Council",
                  "candidate": "Jimmy Dutra",
                  "amount": 500,
                  "donor": "HONOR PAC",
                  "donor_title": "id# 1278587",
                  "donor_city": "Long Beach",
                  "donor_state": "CA",
                  "donor_is_individual_person_or_family": false,
                  "notes": null,
                  "is_smart_union": false,
                  "candidate_last_name": "Dutra",
                  "donor_last_name": null
                },
                {
                  "index": 8,
                  "donation_id": 141,
                  "donation_date": "2020-07-23T00:00:00.000Z",
                  "race": "Santa Cruz City Council",
                  "candidate": "Sandy Brown",
                  "amount": 400,
                  "donor": "Political Action League for Monterey/Santa Cruz Building and Construction Trades Council",
                  "donor_title": "id# 850048",
                  "donor_city": "Santa Cruz",
                  "donor_state": "CA",
                  "donor_is_individual_person_or_family": false,
                  "notes": null,
                  "is_smart_union": false,
                  "candidate_last_name": "Brown",
                  "donor_last_name": null
                },
                {
                  "index": 9,
                  "donation_id": 1034,
                  "donation_date": "2020-09-19T00:00:00.000Z",
                  "race": "Santa Cruz City Council",
                  "candidate": "Kelsey Hill",
                  "amount": 400,
                  "donor": "Peoples Democratic Club of Santa Cruz",
                  "donor_title": "id# 1359198",
                  "donor_city": "Santa Cruz",
                  "donor_state": "CA",
                  "donor_is_individual_person_or_family": false,
                  "notes": null,
                  "is_smart_union": false,
                  "candidate_last_name": "Hill",
                  "donor_last_name": null
                },
                {
                  "index": 10,
                  "donation_id": 1095,
                  "donation_date": "2020-09-23T00:00:00.000Z",
                  "race": "Santa Cruz City Council",
                  "candidate": "Sandy Brown",
                  "amount": 400,
                  "donor": "Peoples Democratic Club of Santa Cruz",
                  "donor_title": "id# 1359198",
                  "donor_city": "Santa Cruz",
                  "donor_state": "CA",
                  "donor_is_individual_person_or_family": false,
                  "notes": null,
                  "is_smart_union": false,
                  "candidate_last_name": "Brown",
                  "donor_last_name": null
                },
                {
                  "index": 11,
                  "donation_id": 1148,
                  "donation_date": "2020-09-25T00:00:00.000Z",
                  "race": "Santa Cruz City Council",
                  "candidate": "Sonja Brunner",
                  "amount": 400,
                  "donor": "Democratic Womens Club of Santa Cruz County",
                  "donor_title": "id# 1306050",
                  "donor_city": "Santa Cruz",
                  "donor_state": "CA",
                  "donor_is_individual_person_or_family": false,
                  "notes": null,
                  "is_smart_union": false,
                  "candidate_last_name": "Brunner",
                  "donor_last_name": null
                },
                {
                  "index": 12,
                  "donation_id": 1122,
                  "donation_date": "2020-09-25T00:00:00.000Z",
                  "race": "Santa Cruz City Council",
                  "candidate": "Kayla Kumar",
                  "amount": 400,
                  "donor": "Pipe Trades District Council PAC #36",
                  "donor_title": "id# 1427239",
                  "donor_city": "Fresno",
                  "donor_state": "CA",
                  "donor_is_individual_person_or_family": false,
                  "notes": null,
                  "is_smart_union": false,
                  "candidate_last_name": "Kumar",
                  "donor_last_name": null
                },
                {
                  "index": 13,
                  "donation_id": 1204,
                  "donation_date": "2020-09-29T00:00:00.000Z",
                  "race": "Santa Cruz City Council",
                  "candidate": "Kayla Kumar",
                  "amount": 400,
                  "donor": "Sheet Mental Workers' International Association Local No. 104Political Action Committee",
                  "donor_title": "id# 850381",
                  "donor_city": "San Ramon",
                  "donor_state": "CA",
                  "donor_is_individual_person_or_family": false,
                  "notes": null,
                  "is_smart_union": false,
                  "candidate_last_name": "Kumar",
                  "donor_last_name": null
                },
                {
                  "index": 14,
                  "donation_id": 1233,
                  "donation_date": "2020-09-30T00:00:00.000Z",
                  "race": "Santa Cruz City Council",
                  "candidate": "Kelsey Hill",
                  "amount": 400,
                  "donor": "Northern California Carpenters Regional Council Small Contributor Committee",
                  "donor_title": "id# 972104",
                  "donor_city": "Oakland",
                  "donor_state": "CA",
                  "donor_is_individual_person_or_family": false,
                  "notes": null,
                  "is_smart_union": false,
                  "candidate_last_name": "Hill",
                  "donor_last_name": null
                },
                {
                  "index": 15,
                  "donation_id": 1231,
                  "donation_date": "2020-09-30T00:00:00.000Z",
                  "race": "Santa Cruz City Council",
                  "candidate": "Maria Cadenas",
                  "amount": 400,
                  "donor": "California Real Estate PAC (CREPAC)",
                  "donor_title": null,
                  "donor_city": "Los Angeles",
                  "donor_state": "CA",
                  "donor_is_individual_person_or_family": false,
                  "notes": null,
                  "is_smart_union": false,
                  "candidate_last_name": "Cadenas",
                  "donor_last_name": null
                },
                {
                  "index": 16,
                  "donation_id": 1277,
                  "donation_date": "2020-10-02T00:00:00.000Z",
                  "race": "Santa Cruz City Council",
                  "candidate": "Sandy Brown",
                  "amount": 400,
                  "donor": "Northern California Carpenters Regional Council Small Contributor Committee",
                  "donor_title": "id# 972104",
                  "donor_city": "Oakland",
                  "donor_state": "CA",
                  "donor_is_individual_person_or_family": false,
                  "notes": null,
                  "is_smart_union": false,
                  "candidate_last_name": "Brown",
                  "donor_last_name": null
                },
                {
                  "index": 17,
                  "donation_id": 1271,
                  "donation_date": "2020-10-02T00:00:00.000Z",
                  "race": "Santa Cruz City Council",
                  "candidate": "Sandy Brown",
                  "amount": 400,
                  "donor": "Pipe Trades District Council PAC #36",
                  "donor_title": "id# 910629",
                  "donor_city": "Fresno",
                  "donor_state": "CA",
                  "donor_is_individual_person_or_family": false,
                  "notes": null,
                  "is_smart_union": false,
                  "candidate_last_name": "Brown",
                  "donor_last_name": null
                },
                {
                  "index": 18,
                  "donation_id": 1378,
                  "donation_date": "2020-10-09T00:00:00.000Z",
                  "race": "Santa Cruz City Council",
                  "candidate": "Kayla Kumar",
                  "amount": 400,
                  "donor": "Northern California Carpenters Regional Council Small Contributor Committee",
                  "donor_title": "id# 1219354",
                  "donor_city": "Oakland",
                  "donor_state": "CA",
                  "donor_is_individual_person_or_family": false,
                  "notes": null,
                  "is_smart_union": false,
                  "candidate_last_name": "Kumar",
                  "donor_last_name": null
                },
                {
                  "index": 19,
                  "donation_id": 1372,
                  "donation_date": "2020-10-09T00:00:00.000Z",
                  "race": "Santa Cruz City Council",
                  "candidate": "Shebreh Kalantari-Johnson",
                  "amount": 400,
                  "donor": "California Real Estate PAC (CREPAC)",
                  "donor_title": "id# 890106",
                  "donor_city": "Los Angeles",
                  "donor_state": "CA",
                  "donor_is_individual_person_or_family": false,
                  "notes": null,
                  "is_smart_union": false,
                  "candidate_last_name": "Kalantari-Johnson",
                  "donor_last_name": null
                },
                {
                  "index": 20,
                  "donation_id": 1370,
                  "donation_date": "2020-10-09T00:00:00.000Z",
                  "race": "Santa Cruz City Council",
                  "candidate": "Kelsey Hill",
                  "amount": 400,
                  "donor": "Pipe Trades District Council PAC #36",
                  "donor_title": "id# 910629",
                  "donor_city": "Fresno",
                  "donor_state": "CA",
                  "donor_is_individual_person_or_family": false,
                  "notes": null,
                  "is_smart_union": false,
                  "candidate_last_name": "Hill",
                  "donor_last_name": null
                },
                {
                  "index": 21,
                  "donation_id": 1301,
                  "donation_date": "2020-10-05T00:00:00.000Z",
                  "race": "Santa Cruz City Council",
                  "candidate": "Martine Watkins",
                  "amount": 400,
                  "donor": "California Real Estate PAC (CREPAC)",
                  "donor_title": "id# 890106",
                  "donor_city": "Los Angeles",
                  "donor_state": "CA",
                  "donor_is_individual_person_or_family": false,
                  "notes": null,
                  "is_smart_union": false,
                  "candidate_last_name": "Watkins",
                  "donor_last_name": null
                },
                {
                  "index": 22,
                  "donation_id": 1505,
                  "donation_date": "2020-10-16T00:00:00.000Z",
                  "race": "Santa Cruz City Council",
                  "candidate": "Kelsey Hill",
                  "amount": 400,
                  "donor": "Kayla Kumar for City Council 2020",
                  "donor_title": "id# 1427239",
                  "donor_city": "Santa Cruz",
                  "donor_state": "CA",
                  "donor_is_individual_person_or_family": false,
                  "notes": null,
                  "is_smart_union": false,
                  "candidate_last_name": "Hill",
                  "donor_last_name": null
                },
                {
                  "index": 23,
                  "donation_id": 1506,
                  "donation_date": "2020-10-16T00:00:00.000Z",
                  "race": "Santa Cruz City Council",
                  "candidate": "Sandy Brown",
                  "amount": 400,
                  "donor": "Kayla Kumar for City Council 2020",
                  "donor_title": "id# 1427239",
                  "donor_city": "Santa Cruz",
                  "donor_state": "CA",
                  "donor_is_individual_person_or_family": false,
                  "notes": null,
                  "is_smart_union": false,
                  "candidate_last_name": "Brown",
                  "donor_last_name": null
                },
                {
                  "index": 24,
                  "donation_id": 1496,
                  "donation_date": "2020-10-15T00:00:00.000Z",
                  "race": "Santa Cruz City Council",
                  "candidate": "Kelsey Hill",
                  "amount": 400,
                  "donor": "Sheet Metal Workers International Association Local 104 PAC",
                  "donor_title": "id# 850381",
                  "donor_city": "San Ramon",
                  "donor_state": "CA",
                  "donor_is_individual_person_or_family": false,
                  "notes": null,
                  "is_smart_union": true,
                  "candidate_last_name": "Hill",
                  "donor_last_name": null
                },
                {
                  "index": 25,
                  "donation_id": 1132,
                  "donation_date": "2020-09-25T00:00:00.000Z",
                  "race": "Santa Cruz City Council",
                  "candidate": "Kelsey Hill",
                  "amount": 400,
                  "donor": "Political Action League for Monterey/Santa Cruz Counties Building & Construction Trades Council",
                  "donor_title": "id# 850048",
                  "donor_city": "Castroville",
                  "donor_state": "CA",
                  "donor_is_individual_person_or_family": false,
                  "notes": null,
                  "is_smart_union": false,
                  "candidate_last_name": "Hill",
                  "donor_last_name": null
                },
                {
                  "index": 26,
                  "donation_id": 1376,
                  "donation_date": "2020-10-09T00:00:00.000Z",
                  "race": "Santa Cruz City Council",
                  "candidate": "Kayla Kumar",
                  "amount": 400,
                  "donor": "Political Action League for Monterey/Santa Cruz Counties Building & Construction Trades Council",
                  "donor_title": "id# 850048",
                  "donor_city": "Castroville",
                  "donor_state": "CA",
                  "donor_is_individual_person_or_family": false,
                  "notes": null,
                  "is_smart_union": false,
                  "candidate_last_name": "Kumar",
                  "donor_last_name": null
                },
                {
                  "index": 27,
                  "donation_id": 1326,
                  "donation_date": "2020-10-06T00:00:00.000Z",
                  "race": "Santa Cruz City Council",
                  "candidate": "Sonja Brunner",
                  "amount": 400,
                  "donor": "California Real Estate PAC (CREPAC)",
                  "donor_title": null,
                  "donor_city": "Los Angeles",
                  "donor_state": "CA",
                  "donor_is_individual_person_or_family": false,
                  "notes": null,
                  "is_smart_union": false,
                  "candidate_last_name": "Brunner",
                  "donor_last_name": null
                },
                {
                  "index": 28,
                  "donation_id": 1009,
                  "donation_date": "2020-09-18T00:00:00.000Z",
                  "race": "Santa Cruz City Council",
                  "candidate": "Martine Watkins",
                  "amount": 400,
                  "donor": "Democratic Womens Club of Santa Cruz County",
                  "donor_title": "id# 1306050",
                  "donor_city": "Santa Cruz",
                  "donor_state": "CA",
                  "donor_is_individual_person_or_family": false,
                  "notes": null,
                  "is_smart_union": false,
                  "candidate_last_name": "Watkins",
                  "donor_last_name": null
                },
                {
                  "index": 29,
                  "donation_id": 1069,
                  "donation_date": "2020-09-22T00:00:00.000Z",
                  "race": "Santa Cruz City Council",
                  "candidate": "Shebreh Kalantari-Johnson",
                  "amount": 400,
                  "donor": "Democratic Womens Club of Santa Cruz County",
                  "donor_title": "id# 1306050",
                  "donor_city": "Santa Cruz",
                  "donor_state": "CA",
                  "donor_is_individual_person_or_family": false,
                  "notes": null,
                  "is_smart_union": false,
                  "candidate_last_name": "Kalantari-Johnson",
                  "donor_last_name": null
                },
                {
                  "index": 30,
                  "donation_id": 1045,
                  "donation_date": "2020-09-20T00:00:00.000Z",
                  "race": "Santa Cruz City Council",
                  "candidate": "Kayla Kumar",
                  "amount": 400,
                  "donor": "Peoples Democratic Club of Santa Cruz",
                  "donor_title": "id# 1427239",
                  "donor_city": "Santa Cruz",
                  "donor_state": "CA",
                  "donor_is_individual_person_or_family": false,
                  "notes": null,
                  "is_smart_union": false,
                  "candidate_last_name": "Kumar",
                  "donor_last_name": null
                },
                {
                  "index": 31,
                  "donation_id": 1507,
                  "donation_date": "2020-10-16T00:00:00.000Z",
                  "race": "Santa Cruz City Council",
                  "candidate": "Sandy Brown",
                  "amount": 400,
                  "donor": "Sheet Metal Workers International Association Local 104 PAC",
                  "donor_title": "id# 850381",
                  "donor_city": "Santa Cruz",
                  "donor_state": "CA",
                  "donor_is_individual_person_or_family": false,
                  "notes": null,
                  "is_smart_union": true,
                  "candidate_last_name": "Brown",
                  "donor_last_name": null
                },
                {
                  "index": 32,
                  "donation_id": 1287,
                  "donation_date": "2020-10-04T00:00:00.000Z",
                  "race": "Santa Cruz City Council",
                  "candidate": "Kelsey Hill",
                  "amount": 300,
                  "donor": "SMART TD Political Action Committee",
                  "donor_title": "id# c00001636",
                  "donor_city": "Sacramento",
                  "donor_state": "CA",
                  "donor_is_individual_person_or_family": false,
                  "notes": null,
                  "is_smart_union": true,
                  "candidate_last_name": "Hill",
                  "donor_last_name": null
                },
                {
                  "index": 33,
                  "donation_id": 483,
                  "donation_date": "2020-08-17T00:00:00.000Z",
                  "race": "Santa Cruz City Council",
                  "candidate": "Kayla Kumar",
                  "amount": 300,
                  "donor": "Smart TDPolitical Action Committee",
                  "donor_title": "id# c00001636",
                  "donor_city": "",
                  "donor_state": "",
                  "donor_is_individual_person_or_family": false,
                  "notes": null,
                  "is_smart_union": true,
                  "candidate_last_name": "Kumar",
                  "donor_last_name": null
                },
                {
                  "index": 34,
                  "donation_id": 535,
                  "donation_date": "2020-08-20T00:00:00.000Z",
                  "race": "Santa Cruz City Council",
                  "candidate": "Sandy Brown",
                  "amount": 300,
                  "donor": "Sheet Metal, Air, Rail Transportation Workers Transportation Division PAC (SMART TD PAC)",
                  "donor_title": null,
                  "donor_city": "N Olmsted",
                  "donor_state": "OH",
                  "donor_is_individual_person_or_family": false,
                  "notes": null,
                  "is_smart_union": true,
                  "candidate_last_name": "Brown",
                  "donor_last_name": null
                },
                {
                  "index": 35,
                  "donation_id": 160,
                  "donation_date": "2020-07-24T00:00:00.000Z",
                  "race": "Santa Cruz City Council",
                  "candidate": "Sonja Brunner",
                  "amount": 250,
                  "donor": "Coonerty for County Supervisor 2014",
                  "donor_title": "id# 1360850",
                  "donor_city": "Santa Cruz",
                  "donor_state": "CA",
                  "donor_is_individual_person_or_family": false,
                  "notes": null,
                  "is_smart_union": false,
                  "candidate_last_name": "Brunner",
                  "donor_last_name": null
                },
                {
                  "index": 36,
                  "donation_id": 184,
                  "donation_date": "2020-07-27T00:00:00.000Z",
                  "race": "Santa Cruz City Council",
                  "candidate": "Martine Watkins",
                  "amount": 250,
                  "donor": "Coonerty for County Supervisor 2014",
                  "donor_title": "id 1360850",
                  "donor_city": "Santa Cruz",
                  "donor_state": "CA",
                  "donor_is_individual_person_or_family": false,
                  "notes": null,
                  "is_smart_union": false,
                  "candidate_last_name": "Watkins",
                  "donor_last_name": null
                },
                {
                  "index": 37,
                  "donation_id": 1198,
                  "donation_date": "2020-09-29T00:00:00.000Z",
                  "race": "Watsonville City Council",
                  "candidate": "Aurelio Gonzalez",
                  "amount": 250,
                  "donor": "California Real Estate PAC (CREPAC)",
                  "donor_title": null,
                  "donor_city": "Los Angeles",
                  "donor_state": "CA",
                  "donor_is_individual_person_or_family": false,
                  "notes": null,
                  "is_smart_union": false,
                  "candidate_last_name": "Gonzalez",
                  "donor_last_name": null
                },
                {
                  "index": 38,
                  "donation_id": 1222,
                  "donation_date": "2020-09-29T00:00:00.000Z",
                  "race": "Watsonville City Council",
                  "candidate": "Vanessa Quiroz-Carter",
                  "amount": 250,
                  "donor": "California Real Estate PAC (CREPAC)",
                  "donor_title": null,
                  "donor_city": "Los Angeles",
                  "donor_state": "CA",
                  "donor_is_individual_person_or_family": false,
                  "notes": null,
                  "is_smart_union": false,
                  "candidate_last_name": "Quiroz-Carter",
                  "donor_last_name": null
                },
                {
                  "index": 39,
                  "donation_id": 150,
                  "donation_date": "2020-07-24T00:00:00.000Z",
                  "race": "Santa Cruz City Council",
                  "candidate": "Maria Cadenas",
                  "amount": 250,
                  "donor": "Coonerty for County Supervisor 2014",
                  "donor_title": "id# 1360850",
                  "donor_city": "Santa Cruz",
                  "donor_state": "CA",
                  "donor_is_individual_person_or_family": false,
                  "notes": null,
                  "is_smart_union": false,
                  "candidate_last_name": "Cadenas",
                  "donor_last_name": null
                },
                {
                  "index": 40,
                  "donation_id": 1173,
                  "donation_date": "2020-09-28T00:00:00.000Z",
                  "race": "County supervisor District 1",
                  "candidate": "John Leopold",
                  "amount": 250,
                  "donor": "Democratic Womens Club of Santa Cruz County",
                  "donor_title": null,
                  "donor_city": "Santa Cruz",
                  "donor_state": "CA",
                  "donor_is_individual_person_or_family": false,
                  "notes": null,
                  "is_smart_union": false,
                  "candidate_last_name": "Leopold",
                  "donor_last_name": null
                },
                {
                  "index": 41,
                  "donation_id": 1492,
                  "donation_date": "2020-10-14T00:00:00.000Z",
                  "race": "County supervisor District 1",
                  "candidate": "John Leopold",
                  "amount": 234,
                  "donor": "IBEW Local 234 PAC",
                  "donor_title": "id# 1342624",
                  "donor_city": "Castroville",
                  "donor_state": "CA",
                  "donor_is_individual_person_or_family": false,
                  "notes": null,
                  "is_smart_union": false,
                  "candidate_last_name": "Leopold",
                  "donor_last_name": null
                },
                {
                  "index": 42,
                  "donation_id": 1362,
                  "donation_date": "2020-10-08T00:00:00.000Z",
                  "race": "Watsonville City Council",
                  "candidate": "Aurelio Gonzalez",
                  "amount": 234,
                  "donor": "IBEW LOCAL 234",
                  "donor_title": "castroville, ca",
                  "donor_city": "Castroville",
                  "donor_state": "CA",
                  "donor_is_individual_person_or_family": false,
                  "notes": null,
                  "is_smart_union": false,
                  "candidate_last_name": "Gonzalez",
                  "donor_last_name": null
                },
                {
                  "index": 43,
                  "donation_id": 1354,
                  "donation_date": "2020-10-08T00:00:00.000Z",
                  "race": "Watsonville City Council",
                  "candidate": "Tony Gomez",
                  "amount": 234,
                  "donor": "IBEW Local 234 PAC",
                  "donor_title": null,
                  "donor_city": "Castroville",
                  "donor_state": "CA",
                  "donor_is_individual_person_or_family": false,
                  "notes": null,
                  "is_smart_union": false,
                  "candidate_last_name": "Gomez",
                  "donor_last_name": null
                },
                {
                  "index": 44,
                  "donation_id": 1253,
                  "donation_date": "2020-10-01T00:00:00.000Z",
                  "race": "Capitola City Council",
                  "candidate": "Anthony Rovai",
                  "amount": 200,
                  "donor": "Lincoln Club of Northern California",
                  "donor_title": null,
                  "donor_city": "Sacramento",
                  "donor_state": "CA",
                  "donor_is_individual_person_or_family": false,
                  "notes": null,
                  "is_smart_union": false,
                  "candidate_last_name": "Rovai",
                  "donor_last_name": null
                },
                {
                  "index": 45,
                  "donation_id": 1252,
                  "donation_date": "2020-10-01T00:00:00.000Z",
                  "race": "Capitola City Council",
                  "candidate": "Anthony Rovai",
                  "amount": 200,
                  "donor": "California Real Estate PAC (CREPAC)",
                  "donor_title": null,
                  "donor_city": "Los Angeles",
                  "donor_state": "CA",
                  "donor_is_individual_person_or_family": false,
                  "notes": null,
                  "is_smart_union": false,
                  "candidate_last_name": "Rovai",
                  "donor_last_name": null
                },
                {
                  "index": 46,
                  "donation_id": 349,
                  "donation_date": "2020-08-10T00:00:00.000Z",
                  "race": "Santa Cruz City Council",
                  "candidate": "Martine Watkins",
                  "amount": 200,
                  "donor": "McPherson for Supervisor 2020",
                  "donor_title": "id# 1343208",
                  "donor_city": "Felton",
                  "donor_state": "CA",
                  "donor_is_individual_person_or_family": false,
                  "notes": null,
                  "is_smart_union": false,
                  "candidate_last_name": "Watkins",
                  "donor_last_name": null
                },
                {
                  "index": 47,
                  "donation_id": 1274,
                  "donation_date": "2020-10-02T00:00:00.000Z",
                  "race": "Santa Cruz City Council",
                  "candidate": "Kayla Kumar",
                  "amount": 200,
                  "donor": "SEIU Healthcare Workers West PAC",
                  "donor_title": "id# 747285",
                  "donor_city": "Los Angeles",
                  "donor_state": "CA",
                  "donor_is_individual_person_or_family": false,
                  "notes": null,
                  "is_smart_union": false,
                  "candidate_last_name": "Kumar",
                  "donor_last_name": null
                },
                {
                  "index": 48,
                  "donation_id": 1298,
                  "donation_date": "2020-10-05T00:00:00.000Z",
                  "race": "Santa Cruz City Council",
                  "candidate": "Sandy Brown",
                  "amount": 200,
                  "donor": "SEIU Healthcare Workers West PAC",
                  "donor_title": "id# 747285",
                  "donor_city": "Los Angeles",
                  "donor_state": "CA",
                  "donor_is_individual_person_or_family": false,
                  "notes": null,
                  "is_smart_union": false,
                  "candidate_last_name": "Brown",
                  "donor_last_name": null
                },
                {
                  "index": 49,
                  "donation_id": 1418,
                  "donation_date": "2020-10-09T00:00:00.000Z",
                  "race": "County supervisor District 1",
                  "candidate": "John Leopold",
                  "amount": 200,
                  "donor": "SEIU Healthcare Workers West PAC",
                  "donor_title": "id# 747285",
                  "donor_city": "Los Angeles",
                  "donor_state": "CA",
                  "donor_is_individual_person_or_family": false,
                  "notes": null,
                  "is_smart_union": false,
                  "candidate_last_name": "Leopold",
                  "donor_last_name": null
                },
                {
                  "index": 50,
                  "donation_id": 924,
                  "donation_date": "2020-09-14T00:00:00.000Z",
                  "race": "Santa Cruz City Council",
                  "candidate": "Sandy Brown",
                  "amount": 178,
                  "donor": "Santa Cruz for Bernie PAC",
                  "donor_title": "id# 1390568",
                  "donor_city": "Santa Cruz",
                  "donor_state": "CA",
                  "donor_is_individual_person_or_family": false,
                  "notes": null,
                  "is_smart_union": false,
                  "candidate_last_name": "Brown",
                  "donor_last_name": null
                },
                {
                  "index": 51,
                  "donation_id": 917,
                  "donation_date": "2020-09-14T00:00:00.000Z",
                  "race": "Santa Cruz City Council",
                  "candidate": "Kayla Kumar",
                  "amount": 178,
                  "donor": "Santa Cruz for Bernie PAC",
                  "donor_title": "id# 1390568",
                  "donor_city": "Santa Cruz",
                  "donor_state": "CA",
                  "donor_is_individual_person_or_family": false,
                  "notes": "nonmonetary contribution: printing of slate flyer",
                  "is_smart_union": false,
                  "candidate_last_name": "Kumar",
                  "donor_last_name": null
                },
                {
                  "index": 52,
                  "donation_id": 927,
                  "donation_date": "2020-09-14T00:00:00.000Z",
                  "race": "Santa Cruz City Council",
                  "candidate": "Kelsey Hill",
                  "amount": 178,
                  "donor": "Santa Cruz for Bernie PAC",
                  "donor_title": "id# 1390568",
                  "donor_city": "Santa Cruz",
                  "donor_state": "CA",
                  "donor_is_individual_person_or_family": false,
                  "notes": "Nonmonetary contribution: printing of slate flyers",
                  "is_smart_union": false,
                  "candidate_last_name": "Hill",
                  "donor_last_name": null
                },
                {
                  "index": 53,
                  "donation_id": 1133,
                  "donation_date": "2020-09-25T00:00:00.000Z",
                  "race": "Santa Cruz City Council",
                  "candidate": "Kelsey Hill",
                  "amount": 150,
                  "donor": "Bricklayers & Allied Craftworkers Local #3 PAC",
                  "donor_title": "id# 1244975",
                  "donor_city": "San Leandro",
                  "donor_state": "CA",
                  "donor_is_individual_person_or_family": false,
                  "notes": null,
                  "is_smart_union": false,
                  "candidate_last_name": "Hill",
                  "donor_last_name": null
                },
                {
                  "index": 54,
                  "donation_id": 1380,
                  "donation_date": "2020-10-09T00:00:00.000Z",
                  "race": "Santa Cruz City Council",
                  "candidate": "Kayla Kumar",
                  "amount": 150,
                  "donor": "Bricklayers & Allied Craftworkers Local #3 PAC",
                  "donor_title": "id# 1244975",
                  "donor_city": "San Leandro",
                  "donor_state": "CA",
                  "donor_is_individual_person_or_family": false,
                  "notes": null,
                  "is_smart_union": false,
                  "candidate_last_name": "Kumar",
                  "donor_last_name": null
                },
                {
                  "index": 55,
                  "donation_id": 570,
                  "donation_date": "2020-08-24T00:00:00.000Z",
                  "race": "Santa Cruz City Council",
                  "candidate": "Sonja Brunner",
                  "amount": 150,
                  "donor": "Donna Meyers for Santa Cruz City Council 2018",
                  "donor_title": "id# 1406545",
                  "donor_city": "Santa Cruz",
                  "donor_state": "CA",
                  "donor_is_individual_person_or_family": false,
                  "notes": null,
                  "is_smart_union": false,
                  "candidate_last_name": "Brunner",
                  "donor_last_name": null
                },
                {
                  "index": 56,
                  "donation_id": 1512,
                  "donation_date": "2020-10-16T00:00:00.000Z",
                  "race": "Santa Cruz City Council",
                  "candidate": "Sonja Brunner",
                  "amount": 143.57,
                  "donor": "Friends of Justin Cummings for City Council 2018",
                  "donor_title": "id# 1407266",
                  "donor_city": "Santa Cruz",
                  "donor_state": "CA",
                  "donor_is_individual_person_or_family": false,
                  "notes": null,
                  "is_smart_union": false,
                  "candidate_last_name": "Brunner",
                  "donor_last_name": null
                },
                {
                  "index": 57,
                  "donation_id": 1063,
                  "donation_date": "2020-09-21T00:00:00.000Z",
                  "race": "Scotts Valley City Council",
                  "candidate": "Jack Dilles",
                  "amount": 100,
                  "donor": "Fresh Pasta Products Distributors, Inc DBA Santa Cruz Pasta Factory",
                  "donor_title": null,
                  "donor_city": "Scotts Valley",
                  "donor_state": "CA",
                  "donor_is_individual_person_or_family": false,
                  "notes": null,
                  "is_smart_union": false,
                  "candidate_last_name": "Dilles",
                  "donor_last_name": null
                },
                {
                  "index": 58,
                  "donation_id": 1171,
                  "donation_date": "2020-09-28T00:00:00.000Z",
                  "race": "Scotts Valley City Council",
                  "candidate": "Donna Lind",
                  "amount": 100,
                  "donor": "Lincoln Club of Northern California",
                  "donor_title": "id# 820082",
                  "donor_city": "Sacramento",
                  "donor_state": "CA",
                  "donor_is_individual_person_or_family": false,
                  "notes": null,
                  "is_smart_union": false,
                  "candidate_last_name": "Lind",
                  "donor_last_name": null
                },
                {
                  "index": 59,
                  "donation_id": 1205,
                  "donation_date": "2020-09-29T00:00:00.000Z",
                  "race": "Scotts Valley City Council",
                  "candidate": "Randy Johnson",
                  "amount": 100,
                  "donor": "California Real Estate PAC (CREPAC)",
                  "donor_title": "id# 890106",
                  "donor_city": "Los Angeles",
                  "donor_state": "CA",
                  "donor_is_individual_person_or_family": false,
                  "notes": null,
                  "is_smart_union": false,
                  "candidate_last_name": "Johnson",
                  "donor_last_name": null
                },
                {
                  "index": 60,
                  "donation_id": 1174,
                  "donation_date": "2020-09-28T00:00:00.000Z",
                  "race": "Scotts Valley City Council",
                  "candidate": "Randy Johnson",
                  "amount": 100,
                  "donor": "Stephen D Walpole Trust",
                  "donor_title": "retired",
                  "donor_city": "Scotts Valley",
                  "donor_state": "CA",
                  "donor_is_individual_person_or_family": false,
                  "notes": null,
                  "is_smart_union": false,
                  "candidate_last_name": "Johnson",
                  "donor_last_name": null
                },
                {
                  "index": 61,
                  "donation_id": 1196,
                  "donation_date": "2020-09-29T00:00:00.000Z",
                  "race": "Scotts Valley City Council",
                  "candidate": "Donna Lind",
                  "amount": 100,
                  "donor": "California Real Estate PAC (CREPAC)",
                  "donor_title": "id# 890106",
                  "donor_city": "Los Angeles",
                  "donor_state": "CA",
                  "donor_is_individual_person_or_family": false,
                  "notes": null,
                  "is_smart_union": false,
                  "candidate_last_name": "Lind",
                  "donor_last_name": null
                },
                {
                  "index": 62,
                  "donation_id": 601,
                  "donation_date": "2020-08-26T00:00:00.000Z",
                  "race": "Santa Cruz City Council",
                  "candidate": "Martine Watkins",
                  "amount": 100,
                  "donor": "Renee Golder for City Council",
                  "donor_title": "id# 1423339",
                  "donor_city": "Santa Cruz",
                  "donor_state": "CA",
                  "donor_is_individual_person_or_family": false,
                  "notes": null,
                  "is_smart_union": false,
                  "candidate_last_name": "Watkins",
                  "donor_last_name": null
                },
                {
                  "index": 63,
                  "donation_id": 1330,
                  "donation_date": "2020-10-06T00:00:00.000Z",
                  "race": "Scotts Valley City Council",
                  "candidate": "Jack Dilles",
                  "amount": 100,
                  "donor": "SMART Transportation Division California State Legislative Board",
                  "donor_title": "id# e00315",
                  "donor_city": "Sacramento",
                  "donor_state": "CA",
                  "donor_is_individual_person_or_family": false,
                  "notes": null,
                  "is_smart_union": true,
                  "candidate_last_name": "Dilles",
                  "donor_last_name": null
                },
                {
                  "index": 64,
                  "donation_id": 939,
                  "donation_date": "2020-09-15T00:00:00.000Z",
                  "race": "Watsonville City Council",
                  "candidate": "Jimmy Dutra",
                  "amount": 100,
                  "donor": "Democratic Womens Club of Santa Cruz County",
                  "donor_title": null,
                  "donor_city": "Santa Cruz",
                  "donor_state": "CA",
                  "donor_is_individual_person_or_family": false,
                  "notes": null,
                  "is_smart_union": false,
                  "candidate_last_name": "Dutra",
                  "donor_last_name": null
                },
                {
                  "index": 65,
                  "donation_id": 986,
                  "donation_date": "2020-09-17T00:00:00.000Z",
                  "race": "Capitola City Council",
                  "candidate": "Kristen Petersen",
                  "amount": 100,
                  "donor": "Democratic Womens Club of Santa Cruz County",
                  "donor_title": null,
                  "donor_city": "Santa Cruz",
                  "donor_state": "CA",
                  "donor_is_individual_person_or_family": false,
                  "notes": null,
                  "is_smart_union": false,
                  "candidate_last_name": "Petersen",
                  "donor_last_name": null
                },
                {
                  "index": 66,
                  "donation_id": 1236,
                  "donation_date": "2020-10-01T00:00:00.000Z",
                  "race": "Scotts Valley City Council",
                  "candidate": "Jack Dilles",
                  "amount": 100,
                  "donor": "Northern California Carpenters Regional Council Small Contributor Committee",
                  "donor_title": "id# 972104",
                  "donor_city": "Oakland",
                  "donor_state": "CA",
                  "donor_is_individual_person_or_family": false,
                  "notes": null,
                  "is_smart_union": false,
                  "candidate_last_name": "Dilles",
                  "donor_last_name": null
                },
                {
                  "index": 67,
                  "donation_id": 569,
                  "donation_date": "2020-08-24T00:00:00.000Z",
                  "race": "Santa Cruz City Council",
                  "candidate": "Sonja Brunner",
                  "amount": 100,
                  "donor": "Renee Golder for City Council",
                  "donor_title": "id# 1423339",
                  "donor_city": "Santa Cruz",
                  "donor_state": "CA",
                  "donor_is_individual_person_or_family": false,
                  "notes": null,
                  "is_smart_union": false,
                  "candidate_last_name": "Brunner",
                  "donor_last_name": null
                }
              ]
            }
          },
          "metadata": {}
        }
      ],
      "execution_count": null,
      "metadata": {
        "noteable": {
          "cell_type": "sql",
          "db_connection": "@2b38d1248d17413982b2e98f93c4c20e"
        },
        "dx": {
          "simpleTable": true,
          "simpleTableExpanded": true
        }
      },
      "id": "15ec1596-7138-4b4d-9718-1d9cd7726bdc"
    },
    {
      "cell_type": "code",
      "source": [],
      "outputs": [],
      "execution_count": null,
      "metadata": {
        "jupyter": {
          "outputs_hidden": false,
          "source_hidden": false
        },
        "noteable": {
          "cell_type": "code"
        }
      },
      "id": "bbca1736-ea50-4379-ba6a-188dd3d71a54"
    },
    {
      "cell_type": "code",
      "source": [],
      "outputs": [],
      "execution_count": null,
      "metadata": {
        "jupyter": {
          "outputs_hidden": false,
          "source_hidden": false
        },
        "noteable": {
          "cell_type": "code"
        }
      },
      "id": "fe29b2e1-ea11-4f46-97ef-09ddf1265904"
    },
    {
      "cell_type": "code",
      "source": [],
      "outputs": [],
      "execution_count": null,
      "metadata": {
        "jupyter": {
          "outputs_hidden": false,
          "source_hidden": false
        },
        "noteable": {
          "cell_type": "code"
        }
      },
      "id": "2cfe346e-e5fc-47b7-9593-b3879dac7a63"
    },
    {
      "cell_type": "code",
      "source": [],
      "outputs": [],
      "execution_count": null,
      "metadata": {
        "jupyter": {
          "outputs_hidden": false,
          "source_hidden": false
        },
        "noteable": {
          "cell_type": "code"
        }
      },
      "id": "064e00fa-9721-4b74-a8a7-0e5fdab89b05"
    },
    {
      "cell_type": "code",
      "source": [],
      "outputs": [],
      "execution_count": null,
      "metadata": {
        "jupyter": {
          "outputs_hidden": false,
          "source_hidden": false
        },
        "noteable": {
          "cell_type": "code"
        }
      },
      "id": "1cd2fa58-9796-483c-9b78-4f4834248db4"
    }
  ],
  "metadata": {
    "noteable": {
      "db_connection": "@2b38d1248d17413982b2e98f93c4c20e",
      "last_delta_id": "1ead9490-f760-4b33-9773-def354ca21c1",
      "last_transaction_id": "dcb94cfc-394f-44c8-b508-94f721bd4673"
    },
    "selected_hardware_size": "xlarge",
    "display_mode": "fullwidth",
    "nteract": {
      "version": "noteable@2.9.0"
    }
  },
  "nbformat": 4,
  "nbformat_minor": 5
}
